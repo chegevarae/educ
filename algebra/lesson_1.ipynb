{
 "cells": [
  {
   "cell_type": "markdown",
   "metadata": {},
   "source": [
    "# ДЗ 1. Линейное пространство"
   ]
  },
  {
   "cell_type": "markdown",
   "metadata": {},
   "source": [
    "## Часть 1"
   ]
  },
  {
   "cell_type": "markdown",
   "metadata": {},
   "source": [
    "### Исследовать на линейную зависимость"
   ]
  },
  {
   "cell_type": "markdown",
   "metadata": {},
   "source": [
    "$f_{1}(x)=e^{x}, f_{2}(x)=1, f_{3}(x)=x+1, f_{4}(x)=x-e^{x}.$\n",
    "\n",
    "$\\alpha_{1}(e^{x}) + \\alpha_{2}(1) + \\alpha_{3}(x + 1) + \\alpha_{4}(x - e^{x})= 0$\n",
    "\n",
    "$f_{4} = f_{3} - f_{2} - f_{1}$ линейно зависимы."
   ]
  },
  {
   "cell_type": "markdown",
   "metadata": {},
   "source": [
    "### Исследовать на линейную зависимость"
   ]
  },
  {
   "cell_type": "markdown",
   "metadata": {},
   "source": [
    "$f_{1}(x)=2, f_{2}(x)=x, f_{3}(x)=x^{2}, f_{4}(x)=(x+1)^{2}.$\n",
    "\n",
    "$f_{4} = x^2 + 2x + 1$  \n",
    "\n",
    "$f_{4} = f_{3} + 2 \\cdot f_{2} + \\frac{1}{2} \\cdot f_{1}$ линейно зависимы.  "
   ]
  },
  {
   "cell_type": "markdown",
   "metadata": {},
   "source": [
    "### Найти координаты вектора"
   ]
  },
  {
   "cell_type": "markdown",
   "metadata": {},
   "source": [
    "$x = (2, 3, 5)\\in \\mathbb{R}^{3}$ в базисе $b_{1}=(0, 0, 10)$, $b_{2}=(2, 0, 0)$, $b_{3}=(0, 1, 0)$.  \n",
    "\n",
    "$x = \\alpha_{1}b_1 + \\alpha_{2}b_2 + \\alpha_{3}b_3$\n",
    "\n",
    "$(2, 3, 5) = (0\\alpha_1 + 2\\alpha_2 + 0\\alpha_3, 0\\alpha_1 + 0\\alpha_2 + 1\\alpha_3, 10\\alpha_1 + 0\\alpha_2 + 0\\alpha_3)$  \n",
    "\n",
    "$\\begin{cases}\n",
    "    0\\alpha_1 + 2\\alpha_2 + 0\\alpha_3 = 2 \\\\\n",
    "    0\\alpha_1 + 0\\alpha_2 + 1\\alpha_3 = 3 \\\\\n",
    "    10\\alpha_1 + 0\\alpha_2 + 0\\alpha_3) = 5\n",
    "\\end{cases}$\n",
    "\n",
    "$\\begin{cases}\n",
    "    \\alpha_1 = \\frac{1}{2} \\\\\n",
    "    \\alpha_2 = 1 \\\\\n",
    "    \\alpha_3 = 3\n",
    "\\end{cases}$\n",
    "\n",
    "Координаты вектора $x = \\left(\\frac{1}{2} , 1, 3 \\right)\\in \\mathbb{R}^{3}$ в базисе $b_{1}=(0, 0, 10)$, $b_{2}=(2, 0, 0)$, $b_{3}=(0, 1, 0)$"
   ]
  },
  {
   "cell_type": "markdown",
   "metadata": {},
   "source": [
    "### Найти координаты вектора"
   ]
  },
  {
   "cell_type": "markdown",
   "metadata": {},
   "source": [
    "$3x^{2}-2x+2\\in\\mathbb{R}^{3}[x]$:  \n",
    "\n",
    "а) в базисе $1$, $x$, $x^{2}$;  \n",
    "б) в базисе $x^{2}$, $x-1$, $1$.  \n",
    "\n",
    "a) $(2, -2, 3)$  \n",
    "б) $(3, -2, 0 )$"
   ]
  },
  {
   "cell_type": "markdown",
   "metadata": {},
   "source": [
    "### Установить, является ли линейным подпространством"
   ]
  },
  {
   "cell_type": "markdown",
   "metadata": {},
   "source": [
    "а) совокупность всех векторов трехмерного пространства, у которых по крайней мере одна из первых двух координат равна нулю;\n",
    "\n",
    "б) все векторы, являющиеся линейными комбинациями данных векторов $\\{u_{1}, u_{2}, \\dots, u_{n}\\}$.  \n",
    "\n",
    "a) $(a, 0, b) + (0, c, d) = (a, c, b + d)$  не oбразуют линейного пространства.\n",
    "\n",
    "б) Cовокупность всех линейных комбинаций векторов $\\{u_{1}, u_{2}, \\dots , u_{n}\\}$ oбразует некоторое подпространство исходного линейного пространства. "
   ]
  },
  {
   "cell_type": "markdown",
   "metadata": {},
   "source": [
    "## Часть 2"
   ]
  },
  {
   "cell_type": "markdown",
   "metadata": {},
   "source": [
    "### Найти скалярное произведение векторов "
   ]
  },
  {
   "cell_type": "markdown",
   "metadata": {},
   "source": [
    "$x, y \\in \\mathbb{R}$\n",
    "\n",
    "а) $x=(0,-3, 6), y=(-4, 7, 9);$  \n",
    "б) $x=(7, -4, 0, 1),~y=(-3, 1, 11, 2).$\n",
    "\n",
    "a) $(x, y) = 0 \\cdot (-4) + (-3) \\cdot 7 + 6 \\cdot 9 = 33$  \n",
    "б) $(x, y) = 7 \\cdot (-3) +(-4) \\cdot 1 + 0 \\cdot 11 + 1 \\cdot\\ 2 = -23$  "
   ]
  },
  {
   "cell_type": "markdown",
   "metadata": {},
   "source": [
    "### Найти нормы векторов $(4, 2, 4)$ и $(12, 3, 4)$ и угол между ними"
   ]
  },
  {
   "cell_type": "markdown",
   "metadata": {},
   "source": [
    "$x = (4, 2, 4)$  \n",
    "$y = (12, 3, 4)$  \n",
    "$(x, y) = 4 \\cdot 12 + 2 \\cdot 3 + 4 \\cdot 4 = 70$  \n",
    "\n",
    "$\\left\\|x\\right\\|_{1} = |4| + |2| + |4| = 10$\n",
    "\n",
    "$\\left\\|y\\right\\|_{1} = |12| + |3| + |4| = 19$\n",
    "\n",
    "$\\cos{\\varphi} = \\frac{x, y}{\\left \\|x\\right \\|\\cdot\\left \\|y\\right \\|} = \\frac{70}{10 \\cdot 19} = 0.3684$\n",
    "\n",
    "$\\varphi = \\frac{0.3684}{\\pi} \\cdot 180 = 21.10^{\\circ }$\n",
    "\n",
    "\n",
    "$\\left\\|x\\right\\|_{2} = \\sqrt{4^2 + 2^2 + 4^2} = 6$\n",
    "\n",
    "$\\left\\|y\\right\\|_{2} = \\sqrt{12^2 + 3^2 + 4^2} = 13$\n",
    "\n",
    "$\\cos{\\varphi} = \\frac{x, y}{\\left \\|x\\right \\|\\cdot\\left \\|y\\right \\|} = \\frac{70}{6 \\cdot 13} = 0.8974$\n",
    "\n",
    "$\\varphi = \\frac{0.8974}{\\pi} \\cdot 180 = 51.42^{\\circ }$"
   ]
  },
  {
   "cell_type": "markdown",
   "metadata": {},
   "source": [
    "### Будет ли линейное пространство евклидовым"
   ]
  },
  {
   "cell_type": "markdown",
   "metadata": {},
   "source": [
    "Будет ли линейное пространство евклидовым, если за скалярное произведение принять:\n",
    "\n",
    "а) произведение длин векторов;  \n",
    "б) утроенное обычное скалярное произведение векторов?\n",
    "\n",
    "а) Нет  \n",
    "$(x_{1}+x_{2},y) \\neq (x_{1},y)+(x_{2},y);$\n",
    "    \n",
    "б) Да  "
   ]
  },
  {
   "cell_type": "markdown",
   "metadata": {},
   "source": [
    "### Ортонормированный базис в линейном пространстве"
   ]
  },
  {
   "cell_type": "markdown",
   "metadata": {},
   "source": [
    "Какие из нижеперечисленных векторов образуют ортонормированный базис в линейном пространстве $\\mathbb{R}^{3}$  \n",
    "\n",
    "а) $(1,0,0),(0,0,1)$  \n",
    "б) $\\left(\\frac{1}{\\sqrt{2}},-\\frac{1}{\\sqrt{2}},0\\right),\\left(\\frac{1}{\\sqrt{2}},\\frac{1}{\\sqrt{2}},0\\right), (0,0,1);$  \n",
    "в) $\\left(\\frac{1}{2}, -\\frac{1}{2}, 0\\right), \\left(0, \\frac{1}{2}, \\frac{1}{2}\\right), (0,0,1);$  \n",
    "г) $(1,0,0),(0,1,0),(0,0,1)?$ \n",
    "\n",
    "Если скалярное произведение векторов равно нулю и равно единице при совпадающем индексе, то вектора образуют ортонормированный базис.\n",
    "\n",
    "а) $1 \\cdot 0 + 0 \\cdot 0 + 0 \\cdot 1 = 0$  \n",
    "$|x_1| = 1$  \n",
    "$|x_2| = 1$  \n",
    "Вектора $(1,0,0), (0,0,1)$ - образуют ортонормированный базис  \n",
    "\n",
    "б) $\\frac{1}{\\sqrt{2}} \\cdot  \\frac{1}{\\sqrt{2}} + \\left(-\\frac{1}{\\sqrt{2}}\\right) \\cdot  \\frac{1}{\\sqrt{2}} + 0 \\cdot 0 = 0$\n",
    "\n",
    "$|x_1| = \\sqrt{\\frac{1}{\\sqrt{2}}^2 + \\left(-\\frac{1}{\\sqrt{2}}\\right)^2 + 0^2} = 1$  \n",
    "$|x_2| = \\sqrt{\\frac{1}{\\sqrt{2}}^2 + \\frac{1}{\\sqrt{2}}^2 + 0^2} = 1$  \n",
    "$|x_3| = 1$\n",
    "\n",
    "Вектора  $\\left(\\frac{1}{\\sqrt{2}},-\\frac{1}{\\sqrt{2}},0\\right),\\left(\\frac{1}{\\sqrt{2}},\\frac{1}{\\sqrt{2}},0\\right), (0,0,1)$ - не образуют ортонормированный базис  \n",
    "\n",
    "в) $\\frac{1}{2} \\cdot \\frac{1}{2} + \\left(-\\frac{1}{2} \\cdot -\\frac{1}{2}\\right) + 0 \\cdot 0 = 0.5$  \n",
    "Вектора  $\\left(\\frac{1}{2}, -\\frac{1}{2}, 0\\right), \\left(0, \\frac{1}{2}, \\frac{1}{2}\\right), (0,0,1)$ - не образуют ортонормированный базис  \n",
    "\n",
    "г) Вектора  $(1,0,0),(0,1,0),(0,0,1)$ - образуют ортонормированный базис  "
   ]
  },
  {
   "cell_type": "code",
   "execution_count": null,
   "metadata": {},
   "outputs": [],
   "source": []
  }
 ],
 "metadata": {
  "hide_input": false,
  "kernelspec": {
   "display_name": "Python 3",
   "language": "python",
   "name": "python3"
  },
  "language_info": {
   "codemirror_mode": {
    "name": "ipython",
    "version": 3
   },
   "file_extension": ".py",
   "mimetype": "text/x-python",
   "name": "python",
   "nbconvert_exporter": "python",
   "pygments_lexer": "ipython3",
   "version": "3.8.3"
  },
  "toc": {
   "base_numbering": 1,
   "nav_menu": {},
   "number_sections": true,
   "sideBar": true,
   "skip_h1_title": false,
   "title_cell": "Table of Contents",
   "title_sidebar": "Contents",
   "toc_cell": false,
   "toc_position": {},
   "toc_section_display": true,
   "toc_window_display": false
  }
 },
 "nbformat": 4,
 "nbformat_minor": 4
}
