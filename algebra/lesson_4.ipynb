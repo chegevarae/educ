{
 "cells": [
  {
   "cell_type": "markdown",
   "metadata": {},
   "source": [
    "# ДЗ 4. Системы линейных уравнений"
   ]
  },
  {
   "cell_type": "code",
   "execution_count": 1,
   "metadata": {},
   "outputs": [],
   "source": [
    "import numpy as np\n",
    "from scipy import linalg"
   ]
  },
  {
   "cell_type": "markdown",
   "metadata": {},
   "source": [
    "## Часть 1"
   ]
  },
  {
   "cell_type": "markdown",
   "metadata": {},
   "source": [
    "### Метод Гаусса"
   ]
  },
  {
   "cell_type": "markdown",
   "metadata": {},
   "source": [
    "Решить систему уравнений методом Гаусса:\n",
    "\n",
    "$\\begin{cases}\n",
    "x_{1}+x_{2}-x_{3}-2x_{4}=0, \\\\\n",
    "2x_{1}+x_{2}-x_{3}+x_{4}=-2, \\\\\n",
    "x_{1}+x_{2}-3x_{3}+x_{4}=4.\n",
    "\\end{cases}$\n",
    "\n",
    "---"
   ]
  },
  {
   "cell_type": "markdown",
   "metadata": {},
   "source": [
    "$\\begin{pmatrix}\n",
    "\\left.\\begin{matrix}\n",
    "1 & 1 & -1 & -2 \\\\ \n",
    "2 & 1 & -1 & 1 \\\\ \n",
    "1 & 1 & -3 & 1\n",
    "\\end{matrix}\\right|\n",
    "\\begin{matrix}\n",
    "0\\\\ \n",
    "-2\\\\\n",
    "4\n",
    "\\end{matrix}\n",
    "\\end{pmatrix}$\n",
    "\n",
    "$\\begin{pmatrix}\n",
    "\\left.\\begin{matrix}\n",
    "1 & 1 & -1 & -2 \\\\ \n",
    "2 & 1 & -1 & 1 \\\\ \n",
    "1 & 1 & -3 & 1\n",
    "\\end{matrix}\\right|\n",
    "\\begin{matrix}\n",
    "0\\\\ \n",
    "-2\\\\\n",
    "4\n",
    "\\end{matrix}\n",
    "\\end{pmatrix}$\n",
    "\n",
    "$\\begin{pmatrix}\n",
    "\\left.\\begin{matrix}\n",
    "2 & 1 & -1 & 1 \\\\ \n",
    "1 & 1 & -1 & -2 \\\\ \n",
    "1 & 1 & -3 & 1\n",
    "\\end{matrix}\\right|\n",
    "\\begin{matrix}\n",
    "-2\\\\\n",
    "0\\\\ \n",
    "4\n",
    "\\end{matrix}\n",
    "\\end{pmatrix}$\n",
    "\n",
    "$\\begin{pmatrix}\n",
    "\\left.\\begin{matrix}\n",
    "2 & 1 & -1 & 1 \\\\ \n",
    "1 & 1 & -1 & -2 \\\\ \n",
    "0 & 0 & -2 & 3\n",
    "\\end{matrix}\\right|\n",
    "\\begin{matrix}\n",
    "-2\\\\\n",
    "0\\\\ \n",
    "4\n",
    "\\end{matrix}\n",
    "\\end{pmatrix}$\n",
    "\n",
    "$\\begin{pmatrix}\n",
    "\\left.\\begin{matrix}\n",
    "2 & 1 & -1 & 1 \\\\ \n",
    "0 & \\frac{1}{2} & -\\frac{1}{2} & -\\frac{5}{2} \\\\ \n",
    "0 & 0 & -2 & 3\n",
    "\\end{matrix}\\right|\n",
    "\\begin{matrix}\n",
    "-2\\\\\n",
    "1\\\\ \n",
    "4\n",
    "\\end{matrix}\n",
    "\\end{pmatrix}$\n",
    "\n",
    "$\\begin{pmatrix}\n",
    "\\left.\\begin{matrix}\n",
    "1 & \\frac{1}{2} & -\\frac{1}{2} & \\frac{1}{2} \\\\ \n",
    "0 & 1 & -1 & -5 \\\\ \n",
    "0 & 0 & 1 & -\\frac{3}{2}\n",
    "\\end{matrix}\\right|\n",
    "\\begin{matrix}\n",
    "-1\\\\\n",
    "2\\\\ \n",
    "-2\n",
    "\\end{matrix}\n",
    "\\end{pmatrix}$\n",
    "\n",
    "$\\begin{cases}\n",
    "    x_1 + \\frac{1}{2} x_2 - \\frac{1}{2} x_3 + \\frac{1}{2} x_4 = -1 \\\\\n",
    "    x_2 - x_3 - 5 x_4 = 2 \\\\\n",
    "    x_3 - \\frac{3}{2} x_4 = -2\n",
    "\\end{cases}$\n",
    "\n",
    "$\\begin{cases}\n",
    "    x_1 = -1 - \\frac{1}{2} x_2 + \\frac{1}{2} x_3 - \\frac{1}{2} x_4\\\\\n",
    "    x_2  = 2 + x_3 + 5 x_4 \\\\\n",
    "    x_3 = -2 + \\frac{3}{2} x_4\n",
    "\\end{cases}$\n",
    "\n",
    "$x_4 = c \\\\\n",
    "x_3 = -2 +\\frac{3}{2} c \\\\\n",
    "x_2 = \\frac{13}{2} c \\\\\n",
    "x_1 = -2 - 3c$"
   ]
  },
  {
   "cell_type": "markdown",
   "metadata": {},
   "source": [
    "### Проверка на совместность"
   ]
  },
  {
   "cell_type": "markdown",
   "metadata": {},
   "source": [
    "Проверить на совместность и выяснить, сколько решений будет иметь система линейных уравнений:\n",
    "\n",
    "а) $\\begin{cases}\n",
    "3x_{1}-x_{2}+x_{3}=4, \\\\\n",
    "2x_{1}-5x_{2}-3x_{3}=-17, \\\\\n",
    "x_{1}+x_{2}-x_{3}=0;\n",
    "\\end{cases}$\n",
    "    \n",
    "б) $\\begin{cases}\n",
    "2x_{1}-4x_{2}+6x_{3}=1, \\\\\n",
    "x_{1}-2x_{2}+3x_{3}=-2, \\\\\n",
    "3x_{1}-6x_{2}+9x_{3}=5;\n",
    "\\end{cases}$\n",
    "    \n",
    "в) $\\begin{cases}\n",
    "x_{1}+2x_{2}+5x_{3}=4, \\\\\n",
    "3x_{1}+x_{2}-8x_{3}=-2. \n",
    "\\end{cases}$\n",
    "\n",
    "---"
   ]
  },
  {
   "cell_type": "markdown",
   "metadata": {},
   "source": [
    "а) $\\begin{cases}\n",
    "3x_{1}-x_{2}+x_{3}=4, \\\\\n",
    "2x_{1}-5x_{2}-3x_{3}=-17, \\\\\n",
    "x_{1}+x_{2}-x_{3}=0;\n",
    "\\end{cases}$"
   ]
  },
  {
   "cell_type": "code",
   "execution_count": 2,
   "metadata": {},
   "outputs": [],
   "source": [
    "x = np.array([[3, -1, 1], [2, -5, -3], [1, 1, -1]])\n",
    "b = np.array([[4, -17, 0]])"
   ]
  },
  {
   "cell_type": "code",
   "execution_count": 3,
   "metadata": {},
   "outputs": [],
   "source": [
    "A = np.append(x, b.T, axis=1)"
   ]
  },
  {
   "cell_type": "code",
   "execution_count": 4,
   "metadata": {},
   "outputs": [
    {
     "data": {
      "text/plain": [
       "3"
      ]
     },
     "execution_count": 4,
     "metadata": {},
     "output_type": "execute_result"
    }
   ],
   "source": [
    "np.linalg.matrix_rank(x)"
   ]
  },
  {
   "cell_type": "code",
   "execution_count": 5,
   "metadata": {},
   "outputs": [
    {
     "data": {
      "text/plain": [
       "3"
      ]
     },
     "execution_count": 5,
     "metadata": {},
     "output_type": "execute_result"
    }
   ],
   "source": [
    "np.linalg.matrix_rank(A)"
   ]
  },
  {
   "cell_type": "markdown",
   "metadata": {},
   "source": [
    "$rankA=rank \\tilde A=3$, система определена, т. е. имеет единственное решение"
   ]
  },
  {
   "cell_type": "code",
   "execution_count": 6,
   "metadata": {},
   "outputs": [
    {
     "data": {
      "text/plain": [
       "array([1., 2., 3.])"
      ]
     },
     "execution_count": 6,
     "metadata": {},
     "output_type": "execute_result"
    }
   ],
   "source": [
    "np.linalg.solve(x, b[0])"
   ]
  },
  {
   "cell_type": "markdown",
   "metadata": {},
   "source": [
    "б) $\\begin{cases}\n",
    "2x_{1}-4x_{2}+6x_{3}=1, \\\\\n",
    "x_{1}-2x_{2}+3x_{3}=-2, \\\\\n",
    "3x_{1}-6x_{2}+9x_{3}=5;\n",
    "\\end{cases}$"
   ]
  },
  {
   "cell_type": "code",
   "execution_count": 7,
   "metadata": {},
   "outputs": [],
   "source": [
    "x = np.array([[2, -4, 6], [1, -2, 3], [3, -6, 9]])\n",
    "b = np.array([[1, -2, 5]])"
   ]
  },
  {
   "cell_type": "code",
   "execution_count": 8,
   "metadata": {},
   "outputs": [],
   "source": [
    "A = np.append(x, b.T, axis=1)"
   ]
  },
  {
   "cell_type": "code",
   "execution_count": 9,
   "metadata": {},
   "outputs": [
    {
     "data": {
      "text/plain": [
       "1"
      ]
     },
     "execution_count": 9,
     "metadata": {},
     "output_type": "execute_result"
    }
   ],
   "source": [
    "np.linalg.matrix_rank(x)"
   ]
  },
  {
   "cell_type": "code",
   "execution_count": 10,
   "metadata": {},
   "outputs": [
    {
     "data": {
      "text/plain": [
       "2"
      ]
     },
     "execution_count": 10,
     "metadata": {},
     "output_type": "execute_result"
    }
   ],
   "source": [
    "np.linalg.matrix_rank(A)"
   ]
  },
  {
   "cell_type": "markdown",
   "metadata": {},
   "source": [
    "$rankA<rank \\tilde A$, то система несовместна."
   ]
  },
  {
   "cell_type": "code",
   "execution_count": 11,
   "metadata": {},
   "outputs": [
    {
     "name": "stdout",
     "output_type": "stream",
     "text": [
      "Система несовместна.\n"
     ]
    }
   ],
   "source": [
    "try:\n",
    "    np.linalg.solve(x, b[0])\n",
    "except np.linalg.LinAlgError:\n",
    "    print('Система несовместна.')"
   ]
  },
  {
   "cell_type": "markdown",
   "metadata": {},
   "source": [
    "в) $\\begin{cases}\n",
    "x_{1}+2x_{2}+5x_{3}=4, \\\\\n",
    "3x_{1}+x_{2}-8x_{3}=-2. \n",
    "\\end{cases}$"
   ]
  },
  {
   "cell_type": "code",
   "execution_count": 12,
   "metadata": {},
   "outputs": [],
   "source": [
    "x = np.array([[1, 2, 5], [3, 1, -8]])\n",
    "b = np.array([[4, -2]])"
   ]
  },
  {
   "cell_type": "code",
   "execution_count": 13,
   "metadata": {},
   "outputs": [],
   "source": [
    "A = np.append(x, b.T, axis=1)"
   ]
  },
  {
   "cell_type": "code",
   "execution_count": 14,
   "metadata": {},
   "outputs": [
    {
     "data": {
      "text/plain": [
       "2"
      ]
     },
     "execution_count": 14,
     "metadata": {},
     "output_type": "execute_result"
    }
   ],
   "source": [
    "np.linalg.matrix_rank(x)"
   ]
  },
  {
   "cell_type": "code",
   "execution_count": 15,
   "metadata": {},
   "outputs": [
    {
     "data": {
      "text/plain": [
       "2"
      ]
     },
     "execution_count": 15,
     "metadata": {},
     "output_type": "execute_result"
    }
   ],
   "source": [
    "np.linalg.matrix_rank(A)"
   ]
  },
  {
   "cell_type": "markdown",
   "metadata": {},
   "source": [
    "$rankA=rank \\tilde A<3$, система имеет бесконечное количество решений"
   ]
  },
  {
   "cell_type": "markdown",
   "metadata": {},
   "source": [
    "### Проверка на совместность"
   ]
  },
  {
   "cell_type": "markdown",
   "metadata": {},
   "source": [
    "Проверить на совместность и выяснить, сколько решений будет иметь система линейных уравнений, заданная расширенной матрицей:\n",
    "\n",
    "$\\tilde{A}=\\begin{pmatrix}\n",
    "\\left.\\begin{matrix}\n",
    "1 & 3 & -2 & 4\\\\ \n",
    "0 & 5 & 0 & 1\\\\ \n",
    "0 & 0 & 3 & 0\\\\ \n",
    "0 & 0 & 0 & 2\n",
    "\\end{matrix}\\right|\n",
    "\\begin{matrix}\n",
    "3\\\\ \n",
    "2\\\\\n",
    "4\\\\\n",
    "1\n",
    "\\end{matrix}\n",
    "\\end{pmatrix}.$"
   ]
  },
  {
   "cell_type": "code",
   "execution_count": 16,
   "metadata": {},
   "outputs": [],
   "source": [
    "x = np.array([[1, 3, -2, 4], [0, 5, 0, 1], [0, 0, 3, 0], [0, 0, 0, 2]])\n",
    "b = np.array([[3, 2, 4, 1]])"
   ]
  },
  {
   "cell_type": "code",
   "execution_count": 17,
   "metadata": {},
   "outputs": [],
   "source": [
    "A = np.append(x, b.T, axis=1)"
   ]
  },
  {
   "cell_type": "code",
   "execution_count": 18,
   "metadata": {},
   "outputs": [
    {
     "data": {
      "text/plain": [
       "4"
      ]
     },
     "execution_count": 18,
     "metadata": {},
     "output_type": "execute_result"
    }
   ],
   "source": [
    "np.linalg.matrix_rank(x)"
   ]
  },
  {
   "cell_type": "code",
   "execution_count": 19,
   "metadata": {},
   "outputs": [
    {
     "data": {
      "text/plain": [
       "4"
      ]
     },
     "execution_count": 19,
     "metadata": {},
     "output_type": "execute_result"
    }
   ],
   "source": [
    "np.linalg.matrix_rank(A)"
   ]
  },
  {
   "cell_type": "code",
   "execution_count": 20,
   "metadata": {},
   "outputs": [
    {
     "data": {
      "text/plain": [
       "array([2.76666667, 0.3       , 1.33333333, 0.5       ])"
      ]
     },
     "execution_count": 20,
     "metadata": {},
     "output_type": "execute_result"
    }
   ],
   "source": [
    "np.linalg.solve(x, b[0])"
   ]
  },
  {
   "cell_type": "markdown",
   "metadata": {},
   "source": [
    "### Соотношение между параметрами"
   ]
  },
  {
   "cell_type": "markdown",
   "metadata": {},
   "source": [
    "Дана система линейных уравнений, заданная расширенной матрицей:\n",
    "\n",
    "$\\tilde{A}=\\begin{pmatrix}\n",
    "\\left.\\begin{matrix}\n",
    "1 & 2 & 3\\\\ \n",
    "4 & 5 & 6\\\\ \n",
    "7 & 8 & 9\n",
    "\\end{matrix}\\right|\n",
    "\\begin{matrix}\n",
    "a\\\\ \n",
    "b\\\\\n",
    "c\n",
    "\\end{matrix}\n",
    "\\end{pmatrix}.$\n",
    "\n",
    "Найти соотношение между параметрами $a$, $b$ и $c$, при которых система является несовместной."
   ]
  },
  {
   "cell_type": "markdown",
   "metadata": {},
   "source": [
    "$|A| = \\begin{vmatrix}\n",
    "1 & 2 & 3\\\\ \n",
    "4 & 5 & 6\\\\ \n",
    "7 & 8 & 9\n",
    "\\end{vmatrix} = 2$\n",
    "\n",
    "$\\begin{vmatrix}\n",
    "\\left.\\begin{matrix}\n",
    "1 & 2 & 3\\\\ \n",
    "4 & 5 & 6\\\\ \n",
    "7 & 8 & 9\n",
    "\\end{matrix}\\right|\n",
    "\\begin{matrix}\n",
    "a\\\\ \n",
    "b\\\\\n",
    "c\n",
    "\\end{matrix}\n",
    "\\end{vmatrix} =\n",
    "a \\begin{vmatrix}\n",
    "4 & 5 \\\\\n",
    "7 & 8\n",
    "\\end{vmatrix} - b \\begin{vmatrix}\n",
    "1 & 2 \\\\\n",
    "7 & 8\n",
    "\\end{vmatrix} + c \\begin{vmatrix}\n",
    "1 & 2 \\\\\n",
    "4 & 5\n",
    "\\end{vmatrix} = -3a + 6b -3c = -a + 2b - c$\n",
    "\n",
    "$-a + 2b - c = 0$  \n",
    "$c = 2b - a$\n",
    "\n",
    "При любых соотношений $a$, $b$ и $c$, кроме $c = 2b - a$ $rankA<rank \\tilde A$ система несовместна."
   ]
  },
  {
   "cell_type": "markdown",
   "metadata": {},
   "source": [
    "## Часть 2"
   ]
  },
  {
   "cell_type": "markdown",
   "metadata": {},
   "source": [
    "### Метод Крамера"
   ]
  },
  {
   "cell_type": "markdown",
   "metadata": {},
   "source": [
    "Решить систему уравнений методом Крамера:\n",
    "\n",
    "а) $\\begin{cases}\n",
    "x_{1}-2x_{2}=1 \\\\\n",
    "3x_{1}-4x_{2}=7\n",
    "\\end{cases}$\n",
    "    \n",
    "б) $\\begin{cases}\n",
    "2x_{1}-x_{2}+5x_{3}=10 \\\\\n",
    "x_{1}+x_{2}-3x_{3}=-2 \\\\\n",
    "2x_{1}+4x_{2}+x_{3}=1\n",
    "\\end{cases}$\n",
    "\n",
    "---"
   ]
  },
  {
   "cell_type": "markdown",
   "metadata": {},
   "source": [
    "а) $\\begin{cases}\n",
    "x_{1}-2x_{2}=1 \\\\\n",
    "3x_{1}-4x_{2}=7\n",
    "\\end{cases}$\n",
    "\n",
    "$detA=\\begin{vmatrix}\n",
    "1 & -2 \\\\ \n",
    "3 & -4\n",
    "\\end{vmatrix} = 2 \\neq 0$\n",
    "\n",
    "$detA_{1}=\\begin{vmatrix}\n",
    "1 & -2 \\\\\n",
    "7 & -4\n",
    "\\end{vmatrix} = 10$\n",
    "\n",
    "$detA_{2}=\\begin{vmatrix}\n",
    "1 & 1 \\\\ \n",
    "3 & 7\n",
    "\\end{vmatrix} = 4$\n",
    "\n",
    "$x_{1} = \\frac{detA_{1}}{detA} = \\frac{10}{2}=5$\n",
    "\n",
    "$x_{2} = \\frac{detA_{2}}{detA} = \\frac{4}{2}=2$"
   ]
  },
  {
   "cell_type": "code",
   "execution_count": 21,
   "metadata": {},
   "outputs": [],
   "source": [
    "x = np.array([[1, -2], [3, -4]])\n",
    "b = np.array([[1, 7]])"
   ]
  },
  {
   "cell_type": "code",
   "execution_count": 22,
   "metadata": {},
   "outputs": [],
   "source": [
    "A = np.round(np.linalg.det(x))"
   ]
  },
  {
   "cell_type": "code",
   "execution_count": 23,
   "metadata": {},
   "outputs": [],
   "source": [
    "x_1 = x.copy()\n",
    "x_1[:,0] = b"
   ]
  },
  {
   "cell_type": "code",
   "execution_count": 24,
   "metadata": {},
   "outputs": [],
   "source": [
    "A_1 = np.round(np.linalg.det(x_1))"
   ]
  },
  {
   "cell_type": "code",
   "execution_count": 25,
   "metadata": {},
   "outputs": [],
   "source": [
    "x_2 = x.copy()\n",
    "x_2[:,1] = b"
   ]
  },
  {
   "cell_type": "code",
   "execution_count": 26,
   "metadata": {},
   "outputs": [],
   "source": [
    "A_2 = np.round(np.linalg.det(x_2))"
   ]
  },
  {
   "cell_type": "code",
   "execution_count": 27,
   "metadata": {},
   "outputs": [
    {
     "data": {
      "text/plain": [
       "5.0"
      ]
     },
     "execution_count": 27,
     "metadata": {},
     "output_type": "execute_result"
    }
   ],
   "source": [
    "A_1 / A"
   ]
  },
  {
   "cell_type": "code",
   "execution_count": 28,
   "metadata": {},
   "outputs": [
    {
     "data": {
      "text/plain": [
       "2.0"
      ]
     },
     "execution_count": 28,
     "metadata": {},
     "output_type": "execute_result"
    }
   ],
   "source": [
    "A_2 / A"
   ]
  },
  {
   "cell_type": "markdown",
   "metadata": {},
   "source": [
    "б) $\\begin{cases}\n",
    "2x_{1}-x_{2}+5x_{3}=10 \\\\\n",
    "x_{1}+x_{2}-3x_{3}=-2 \\\\\n",
    "2x_{1}+4x_{2}+x_{3}=1\n",
    "\\end{cases}$\n",
    "\n",
    "$detA=\\begin{vmatrix}\n",
    "2 & -1 & 5 \\\\ \n",
    "1 & 1 & -3 \\\\\n",
    "2 & 4 & 1\n",
    "\\end{vmatrix} = 43 \\neq 0$\n",
    "\n",
    "$detA_{1}=\\begin{vmatrix}\n",
    "10 & -1 & 5 \\\\ \n",
    "-2 & 1 & -3 \\\\\n",
    "1 & 4 & 1\n",
    "\\end{vmatrix} = 86$\n",
    "\n",
    "$detA_{2}=\\begin{vmatrix}\n",
    "2 & 10 & 5 \\\\ \n",
    "1 & -2 & -3 \\\\\n",
    "2 & 1 & 1\n",
    "\\end{vmatrix} = -43$\n",
    "\n",
    "$detA_{3}=\\begin{vmatrix}\n",
    "2 & -1 & 10 \\\\ \n",
    "1 & 1 & -2 \\\\\n",
    "2 & 4 & 1\n",
    "\\end{vmatrix} = 43$\n",
    "\n",
    "$x_{1} = \\frac{detA_{1}}{detA} = \\frac{86}{43}=2$\n",
    "\n",
    "$x_{2} = \\frac{detA_{2}}{detA} = \\frac{-43}{43}=-1$\n",
    "\n",
    "$x_{3} = \\frac{detA_{3}}{detA} = \\frac{43}{43}=1$"
   ]
  },
  {
   "cell_type": "code",
   "execution_count": 29,
   "metadata": {},
   "outputs": [],
   "source": [
    "x = np.array([[2, -1, 5], [1, 1, -3], [2, 4, 1]])\n",
    "b = np.array([[10, -2, 1]])"
   ]
  },
  {
   "cell_type": "code",
   "execution_count": 30,
   "metadata": {},
   "outputs": [],
   "source": [
    "A = np.round(np.linalg.det(x))"
   ]
  },
  {
   "cell_type": "code",
   "execution_count": 31,
   "metadata": {},
   "outputs": [],
   "source": [
    "x_1 = x.copy()\n",
    "x_1[:,0] = b"
   ]
  },
  {
   "cell_type": "code",
   "execution_count": 32,
   "metadata": {},
   "outputs": [],
   "source": [
    "A_1 = np.round(np.linalg.det(x_1))"
   ]
  },
  {
   "cell_type": "code",
   "execution_count": 33,
   "metadata": {},
   "outputs": [],
   "source": [
    "x_2 = x.copy()\n",
    "x_2[:,1] = b"
   ]
  },
  {
   "cell_type": "code",
   "execution_count": 34,
   "metadata": {},
   "outputs": [],
   "source": [
    "A_2 = np.round(np.linalg.det(x_2))"
   ]
  },
  {
   "cell_type": "code",
   "execution_count": 35,
   "metadata": {},
   "outputs": [],
   "source": [
    "x_3 = x.copy()\n",
    "x_3[:,2] = b"
   ]
  },
  {
   "cell_type": "code",
   "execution_count": 36,
   "metadata": {},
   "outputs": [],
   "source": [
    "A_3 = np.round(np.linalg.det(x_3))"
   ]
  },
  {
   "cell_type": "code",
   "execution_count": 37,
   "metadata": {},
   "outputs": [
    {
     "data": {
      "text/plain": [
       "2.0"
      ]
     },
     "execution_count": 37,
     "metadata": {},
     "output_type": "execute_result"
    }
   ],
   "source": [
    "A_1 / A"
   ]
  },
  {
   "cell_type": "code",
   "execution_count": 38,
   "metadata": {},
   "outputs": [
    {
     "data": {
      "text/plain": [
       "-1.0"
      ]
     },
     "execution_count": 38,
     "metadata": {},
     "output_type": "execute_result"
    }
   ],
   "source": [
    "A_2 / A"
   ]
  },
  {
   "cell_type": "code",
   "execution_count": 39,
   "metadata": {},
   "outputs": [
    {
     "data": {
      "text/plain": [
       "1.0"
      ]
     },
     "execution_count": 39,
     "metadata": {},
     "output_type": "execute_result"
    }
   ],
   "source": [
    "A_3 / A"
   ]
  },
  {
   "cell_type": "markdown",
   "metadata": {},
   "source": [
    "### 𝐿 - матрица 𝐿𝑈 - разложения"
   ]
  },
  {
   "cell_type": "markdown",
   "metadata": {},
   "source": [
    "Найти $L$-матрицу $LU$-разложения для матрицы коэффициентов:\n",
    "\n",
    "а)$\\begin{pmatrix}\n",
    "1 & 2 & 4 \\\\ \n",
    "2 & 9 & 12 \\\\ \n",
    "3 & 26 & 30\n",
    "\\end{pmatrix}$\n",
    "    \n",
    "б)$\\begin{pmatrix}\n",
    "1 & 1 & 2 & 4\\\\ \n",
    "2 & 5 & 8 & 9\\\\ \n",
    "3 & 18 & 29 & 18\\\\\n",
    "4 & 22 & 53 & 33\n",
    "\\end{pmatrix}$\n",
    "\n",
    "---"
   ]
  },
  {
   "cell_type": "markdown",
   "metadata": {},
   "source": [
    "а)$\\begin{pmatrix}\n",
    "1 & 2 & 4 \\\\ \n",
    "2 & 9 & 12 \\\\ \n",
    "3 & 26 & 30\n",
    "\\end{pmatrix}$"
   ]
  },
  {
   "cell_type": "markdown",
   "metadata": {},
   "source": [
    "$U = \\begin{pmatrix}\n",
    "3 & 26 & 30 \\\\\n",
    "2 & 9 & 12 \\\\ \n",
    "1 & 2 & 4 \\\\ \n",
    "\\end{pmatrix}$\n",
    "\n",
    "$L = \\begin{pmatrix} \n",
    "1 & 0 & 0 \\\\\n",
    "0 & 1 & 0 \\\\\n",
    "0 & 0 & 1\n",
    "\\end{pmatrix}$\n",
    "\n",
    "$U = \\begin{pmatrix}\n",
    "3 & 26 & 30 \\\\\n",
    "0 & - \\frac{25}{3} & -8 \\\\ \n",
    "0 & -\\frac{20}{3} & -6 \\\\ \n",
    "\\end{pmatrix}$\n",
    "\n",
    "$U = \\begin{pmatrix}\n",
    "3 & 26 & 30 \\\\\n",
    "0 & -8 \\frac{1}{3} & -8 \\\\ \n",
    "0 & 0 & \\frac{2}{5} \\\\ \n",
    "\\end{pmatrix}$\n",
    "\n",
    "$L = \\begin{pmatrix} \n",
    "1 & 0 & 0 \\\\\n",
    "\\frac{2}{3} & 1 & 0 \\\\\n",
    "\\frac{1}{3} & \\frac{4}{5} & 1\n",
    "\\end{pmatrix}$"
   ]
  },
  {
   "cell_type": "code",
   "execution_count": 40,
   "metadata": {},
   "outputs": [],
   "source": [
    "A = np.array([[1, 2, 4], [2, 9, 12], [3, 26, 30]])"
   ]
  },
  {
   "cell_type": "code",
   "execution_count": 41,
   "metadata": {},
   "outputs": [],
   "source": [
    "P, L, U = linalg.lu(A)"
   ]
  },
  {
   "cell_type": "code",
   "execution_count": 42,
   "metadata": {},
   "outputs": [
    {
     "name": "stdout",
     "output_type": "stream",
     "text": [
      "U =\n",
      " [[ 3.         26.         30.        ]\n",
      " [ 0.         -8.33333333 -8.        ]\n",
      " [ 0.          0.          0.4       ]]\n",
      "L =\n",
      " [[1.         0.         0.        ]\n",
      " [0.66666667 1.         0.        ]\n",
      " [0.33333333 0.8        1.        ]]\n"
     ]
    }
   ],
   "source": [
    "print(f'U =\\n {U}')\n",
    "print(f'L =\\n {L}')"
   ]
  },
  {
   "cell_type": "markdown",
   "metadata": {},
   "source": [
    "б)$\\begin{pmatrix}\n",
    "1 & 1 & 2 & 4\\\\ \n",
    "2 & 5 & 8 & 9\\\\ \n",
    "3 & 18 & 29 & 18\\\\\n",
    "4 & 22 & 53 & 33\n",
    "\\end{pmatrix}$\n",
    "\n",
    "$U = \\begin{pmatrix}\n",
    "4 & 22 & 53 & 33 \\\\\n",
    "2 & 5 & 8 & 9 \\\\ \n",
    "3 & 18 & 29 & 18 \\\\\n",
    "1 & 1 & 2 & 4\n",
    "\\end{pmatrix}$\n",
    "\n",
    "$U = \\begin{pmatrix}\n",
    "4 & 22 & 53 & 33 \\\\\n",
    "0 & -6 & -18 \\frac{1}{2} & -7 \\frac{1}{2} \\\\ \n",
    "0 & 1 \\frac{1}{2} & -10 \\frac{3}{4} & -6 \\frac{3}{4} \\\\\n",
    "0 & -4 \\frac{1}{2} & -11 \\frac{1}{4} & -4 \\frac{1}{4} \n",
    "\\end{pmatrix}$\n",
    "\n",
    "$U = \\begin{pmatrix}\n",
    "4 & 22 & 53 & 33 \\\\\n",
    "0 & -6 & -18 \\frac{1}{2} & -7 \\frac{1}{2} \\\\ \n",
    "0 & 1 \\frac{1}{2} & -10 \\frac{3}{4} & -6 \\frac{3}{4} \\\\\n",
    "0 & -4 \\frac{1}{2} & -11 \\frac{1}{4} & -4 \\frac{1}{4} \n",
    "\\end{pmatrix}$\n",
    "\n",
    "$U = \\begin{pmatrix}\n",
    "4 & 22 & 53 & 33 \\\\\n",
    "0 & -6 & -18 \\frac{1}{2} & -7 \\frac{1}{2} \\\\ \n",
    "0 & 0 & -15 \\frac{3}{8} & -8 \\frac{5}{8} \\\\\n",
    "0 & 0 & 2 \\frac{5}{8} & 1 \\frac{3}{8} \n",
    "\\end{pmatrix}$\n",
    "\n",
    "$U = \\begin{pmatrix}\n",
    "4 & 22 & 53 & 33 \\\\\n",
    "0 & -6 & -18 \\frac{1}{2} & -7 \\frac{1}{2} \\\\ \n",
    "0 & 0 & -15 \\frac{3}{8} & -8 \\frac{5}{8} \\\\\n",
    "0 & 0 & 0 & - \\frac{4}{41}\n",
    "\\end{pmatrix}$\n",
    "\n",
    "$L = \\begin{pmatrix} \n",
    "1 & 0 & 0 & 0 \\\\\n",
    "\\frac{1}{2} & 1 & 0 & 0 \\\\\n",
    "\\frac{3}{4} & -\\frac{1}{4} & 1 & 0 \\\\\n",
    "\\frac{1}{4} & \\frac{3}{4} & - \\frac{7}{41} & 1\n",
    "\\end{pmatrix}$\n"
   ]
  },
  {
   "cell_type": "code",
   "execution_count": 43,
   "metadata": {},
   "outputs": [],
   "source": [
    "A = np.array([[1, 1, 2, 4], [2, 5, 8, 9], [3, 18, 29, 18], [4, 22, 53, 33]])"
   ]
  },
  {
   "cell_type": "code",
   "execution_count": 44,
   "metadata": {},
   "outputs": [],
   "source": [
    "P, L, U = linalg.lu(A)"
   ]
  },
  {
   "cell_type": "code",
   "execution_count": 45,
   "metadata": {},
   "outputs": [
    {
     "name": "stdout",
     "output_type": "stream",
     "text": [
      "U =\n",
      " [[  4.          22.          53.          33.        ]\n",
      " [  0.          -6.         -18.5         -7.5       ]\n",
      " [  0.           0.         -15.375       -8.625     ]\n",
      " [  0.           0.           0.          -0.09756098]]\n",
      "L =\n",
      " [[ 1.          0.          0.          0.        ]\n",
      " [ 0.5         1.          0.          0.        ]\n",
      " [ 0.75       -0.25        1.          0.        ]\n",
      " [ 0.25        0.75       -0.17073171  1.        ]]\n"
     ]
    }
   ],
   "source": [
    "print(f'U =\\n {U}')\n",
    "print(f'L =\\n {L}')"
   ]
  },
  {
   "cell_type": "markdown",
   "metadata": {},
   "source": [
    "### Метод  𝐿𝑈 - разложения"
   ]
  },
  {
   "cell_type": "markdown",
   "metadata": {},
   "source": [
    "Решить систему линейных уравнений методом $LU$-разложения:\n",
    "\n",
    "$\\begin{cases}\n",
    "2x_{1}+x_{2}+3x_{3}=1 \\\\\n",
    "11x_{1}+7x_{2}+5x_{3}=-6 \\\\\n",
    "9x_{1}+8x_{2}+4x_{3}=-5\n",
    "\\end{cases}$\n",
    "\n",
    "---"
   ]
  },
  {
   "cell_type": "markdown",
   "metadata": {},
   "source": [
    "$U = \\begin{pmatrix}\n",
    "11 & 7 & 5 \\\\\n",
    "9 & 8 & 4 \\\\\n",
    "2 & 1 & 3\n",
    "\\end{pmatrix}$\n",
    "\n",
    "$U = \\begin{pmatrix}\n",
    "11 & 7 & 5 \\\\\n",
    "0 & \\frac{25}{11} & - \\frac{1}{11} \\\\\n",
    "0 & - \\frac{3}{11} & \\frac{23}{11}  \n",
    "\\end{pmatrix}$\n",
    "\n",
    "$U = \\begin{pmatrix}\n",
    "11 & 7 & 5 \\\\\n",
    "0 & \\frac{25}{11} & - \\frac{1}{11} \\\\\n",
    "0 & 0 & \\frac{52}{25}  \n",
    "\\end{pmatrix}$\n",
    "\n",
    "$L = \\begin{pmatrix} \n",
    "1 & 0 & 0 \\\\\n",
    "\\frac{9}{11} & 1 & 0 \\\\\n",
    "\\frac{2}{11} & - \\frac{3}{25} & 1\n",
    "\\end{pmatrix} $\n",
    "\n",
    "$\\begin{cases}\n",
    "y_{1} = -6, \\\\\n",
    "\\frac{9}{11} y_{1} + y_{2} =-5, \\\\\n",
    "\\frac{2}{11}y_{1} - \\frac{3}{25} y_{2} + y_{3} = 1.\n",
    "\\end{cases}$\n",
    "\n",
    "$y_{1} = -6$\n",
    "$y_{2} = -\\frac{1}{11}$\n",
    "$y_{3} = \\frac{52}{25}$\n",
    "\n",
    "$Ux=y:$\n",
    "\n",
    "$\\begin{cases}\n",
    "11x_{1} + 7x_{2} + 5x_{3} = -6, \\\\\n",
    "\\frac{25}{11} x_{2} - \\frac{1}{11} x_{3}= - \\frac{1}{11}, \\\\\n",
    "\\frac{52}{25} x_{3} = \\frac{52}{25}\n",
    "\\end{cases}$\n",
    "\n",
    "$x_{1} = -1$  \n",
    "$x_{2} = 0$  \n",
    "$x_{3} = 1$  \n",
    "\n",
    "$2 \\cdot (-1) + 0 + 3 \\cdot 1 = 1$  \n",
    "$11 \\cdot (-1) + 7 \\cdot 0 + 5 \\cdot 1 = -6$  \n",
    "$9 \\cdot (-1) + 8 \\cdot 0 + 4 \\cdot 1 = -5$  "
   ]
  },
  {
   "cell_type": "code",
   "execution_count": 46,
   "metadata": {},
   "outputs": [],
   "source": [
    "A = np.array([[2, 1, 3], [11, 7, 5], [9, 8, 4]])\n",
    "b = np.array([1, -6, -5])"
   ]
  },
  {
   "cell_type": "code",
   "execution_count": 47,
   "metadata": {},
   "outputs": [],
   "source": [
    "P, L, U = linalg.lu(A)"
   ]
  },
  {
   "cell_type": "code",
   "execution_count": 48,
   "metadata": {},
   "outputs": [
    {
     "name": "stdout",
     "output_type": "stream",
     "text": [
      "U =\n",
      " [[11.          7.          5.        ]\n",
      " [ 0.          2.27272727 -0.09090909]\n",
      " [ 0.          0.          2.08      ]]\n",
      "L =\n",
      " [[ 1.          0.          0.        ]\n",
      " [ 0.81818182  1.          0.        ]\n",
      " [ 0.18181818 -0.12        1.        ]]\n"
     ]
    }
   ],
   "source": [
    "print(f'U =\\n {U}')\n",
    "print(f'L =\\n {L}')"
   ]
  },
  {
   "cell_type": "code",
   "execution_count": 49,
   "metadata": {},
   "outputs": [],
   "source": [
    "lu, piv = linalg.lu_factor(A)\n",
    "x = linalg.lu_solve((lu, piv), b)"
   ]
  },
  {
   "cell_type": "code",
   "execution_count": 50,
   "metadata": {},
   "outputs": [
    {
     "name": "stdout",
     "output_type": "stream",
     "text": [
      " x_1 = -1.0\n",
      " x_2 = 0.0\n",
      " x_3 = 1.0\n"
     ]
    }
   ],
   "source": [
    "print(f' x_1 = {x[0]}\\n x_2 = {x[1]}\\n x_3 = {x[2]}')"
   ]
  },
  {
   "cell_type": "markdown",
   "metadata": {},
   "source": [
    "### Метод Холецкого"
   ]
  },
  {
   "cell_type": "markdown",
   "metadata": {},
   "source": [
    "Решить систему линейных уравнений методом Холецкого:\n",
    "\n",
    "$\\begin{cases}\n",
    "81x_{1}-45x_{2}+45x_{3}=531 \\\\\n",
    "-45x_{1}+50x_{2}-15x_{3}=-460 \\\\\n",
    "45x_{1}-15x_{2}+38x_{3}=193\n",
    "\\end{cases}$\n",
    "\n",
    "---"
   ]
  },
  {
   "cell_type": "markdown",
   "metadata": {},
   "source": [
    "$\\begin{pmatrix}\n",
    "81 & -45 & 45 \\\\\n",
    "-45 & 50 & -15 \\\\\n",
    "45 & -15 & 38\n",
    "\\end{pmatrix}$\n",
    "\n",
    "$l_{11} =\\sqrt{a_{11}} = \\sqrt{81} = 9$  \n",
    "$l_{21} =\\frac{a_{21}}{l_{11}} = \\frac{-45}{9} = -5$  \n",
    "$l_{31} =\\frac{a_{31}}{l_{11}} = \\frac{45}{9} = 5$  \n",
    "\n",
    "$l_{22} = \\sqrt{a_{22}-l_{21}^{2}} = \\sqrt{50 - (-5)^2} = 5$  \n",
    "$l_{32} = \\frac{1}{l_{22}}\\left ( a_{32}-l_{21}l_{31} \\right) = \\frac{1}{5}(-15 - (-5) \\cdot 5) = 2$\n",
    "\n",
    "$l_{33} = \\sqrt{a_{33}-l_{32}^{2}-l_{31}^{2}} = \\sqrt{38 - 2^2 - 5^2} = 3$\n",
    "\n",
    "$L = \\begin{pmatrix}\n",
    "9 & 0 & 0 \\\\ \n",
    "-5 & 5 & 0 \\\\ \n",
    "5 & 2 & 3\n",
    "\\end{pmatrix}, \n",
    "\\; \\; \n",
    "L^{T} = \\begin{pmatrix}\n",
    "9 & -5 & 5 \\\\ \n",
    "0 & 5 & 2\\\\ \n",
    "0 & 0 & 3\n",
    "\\end{pmatrix}.$\n",
    "\n",
    "$Ly=b:$\n",
    "\n",
    "$\\begin{cases}\n",
    "    9 y_1 = 531 \\\\\n",
    "    -5 y_1 + 5 y_2 = -460 \\\\\n",
    "    5 y_1 + 2 y_2 + 3 y_3 = 193\n",
    "\\end{cases}$\n",
    "\n",
    "$y_1 = 59$  \n",
    "$y_2 = -33$  \n",
    "$y_3 = -12$  \n",
    "\n",
    "$L^{T}x=y:$\n",
    "\n",
    "$\\begin{cases}\n",
    "    9 x_1 - 5 x_2 + 5 x_3 = 59 \\\\\n",
    "    5 x_2 + 2 x_3 = -33 \\\\\n",
    "    3 x_3 = -12\n",
    "\\end{cases}$\n",
    "\n",
    "$x_1 = 6$  \n",
    "$x_2 = -5$  \n",
    "$x_3 = -4$  \n",
    "\n",
    "$\\begin{cases}\n",
    "    81 \\cdot 6 - 45 \\cdot (-5) + 45 \\cdot (-4) = 531 \\\\\n",
    "    -45 \\cdot 6 + 50 \\cdot (-5) - 15 \\cdot (-4) = -460 \\\\\n",
    "    45 \\cdot 6 - 15 \\cdot (-5) + 38 \\cdot (-4) = 193\n",
    "\\end{cases}$"
   ]
  },
  {
   "cell_type": "code",
   "execution_count": 51,
   "metadata": {},
   "outputs": [
    {
     "name": "stdout",
     "output_type": "stream",
     "text": [
      "L=\n",
      "[[ 9.  0.  0.]\n",
      " [-5.  5.  0.]\n",
      " [ 5.  2.  3.]] \n",
      " L.T=\n",
      "[[ 9. -5.  5.]\n",
      " [ 0.  5.  2.]\n",
      " [ 0.  0.  3.]]\n"
     ]
    }
   ],
   "source": [
    "A = np.array([[81, -45, 45], [-45, 50, -15], [45, -15, 38]])\n",
    "L = np.linalg.cholesky(A)\n",
    "print(f'L=\\n{L} \\n L.T=\\n{L.T}')"
   ]
  },
  {
   "cell_type": "markdown",
   "metadata": {},
   "source": [
    "### Python скрипт"
   ]
  },
  {
   "cell_type": "markdown",
   "metadata": {},
   "source": [
    "Написать на Python программу с реализацией одного из изученных алгоритмов решения СЛАУ."
   ]
  },
  {
   "cell_type": "code",
   "execution_count": null,
   "metadata": {},
   "outputs": [],
   "source": []
  }
 ],
 "metadata": {
  "hide_input": false,
  "kernelspec": {
   "display_name": "Python 3",
   "language": "python",
   "name": "python3"
  },
  "language_info": {
   "codemirror_mode": {
    "name": "ipython",
    "version": 3
   },
   "file_extension": ".py",
   "mimetype": "text/x-python",
   "name": "python",
   "nbconvert_exporter": "python",
   "pygments_lexer": "ipython3",
   "version": "3.8.3"
  },
  "toc": {
   "base_numbering": 1,
   "nav_menu": {},
   "number_sections": true,
   "sideBar": true,
   "skip_h1_title": false,
   "title_cell": "Table of Contents",
   "title_sidebar": "Contents",
   "toc_cell": false,
   "toc_position": {},
   "toc_section_display": true,
   "toc_window_display": false
  }
 },
 "nbformat": 4,
 "nbformat_minor": 4
}
