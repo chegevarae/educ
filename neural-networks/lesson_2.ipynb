{
 "cells": [
  {
   "cell_type": "markdown",
   "id": "promotional-chrome",
   "metadata": {},
   "source": [
    "# ДЗ 2. Keras"
   ]
  },
  {
   "cell_type": "markdown",
   "id": "average-canvas",
   "metadata": {},
   "source": [
    "Используя файл Web2.ipynb (он в полезных ссылках):  \n",
    "\n",
    "Возьмите набор примеров fashion-MNIST  \n",
    "\n",
    "1. Опишите - какой результат нейросети получен в зависимости от:  \n",
    "    a. числа нейронов в слое (для 2-х слойной сети),  \n",
    "    b. числа слоев (2, 3, 5, 10) при близких размерах сети (близкое число тренируемых параметров).  \n",
    "    c. фиксируйте для тренировочного и тестового набора метрики accuracy.  \n",
    "\n",
    "2. Проверьте работу разных оптимизаторов (SGD, Adam, RMSProp) для одной из моделей п.1. Фиксируйте для тренировочного и тестового набора метрики accuracy.  \n",
    "\n",
    "3. Сделайте вывод - что помогло вам улучшить качество классификации в нейросети на тестовом наборе?  \n",
    "\n",
    "4. Для одного варианта сети сформируйте матрицу ошибок по классам. Оцените качество модели по каждому классу отдельно (полнота, точность)."
   ]
  },
  {
   "cell_type": "code",
   "execution_count": 1,
   "id": "curious-alpha",
   "metadata": {},
   "outputs": [],
   "source": [
    "import numpy as np\n",
    "import pandas as pd\n",
    "import matplotlib.pyplot as plt\n",
    "\n",
    "from sklearn.metrics import confusion_matrix\n",
    "from sklearn.metrics import classification_report\n",
    "\n",
    "import keras\n",
    "from keras.layers import Dense\n",
    "from keras.models import Sequential\n",
    "from keras.utils import to_categorical\n",
    "from keras.datasets import fashion_mnist\n",
    "from keras.models import load_model\n",
    "\n",
    "import tensorflow as tf"
   ]
  },
  {
   "cell_type": "code",
   "execution_count": 2,
   "id": "sought-medline",
   "metadata": {},
   "outputs": [
    {
     "name": "stdout",
     "output_type": "stream",
     "text": [
      "(60000, 28, 28) (10000, 28, 28)\n",
      "(60000,)\n"
     ]
    }
   ],
   "source": [
    "# Загружаем набор примеров fashion-MNIST\n",
    "(X_train, y_train_labels), (X_test, y_test_labels) = fashion_mnist.load_data()\n",
    "print(X_train.shape, X_test.shape)\n",
    "print(y_train_labels.shape)"
   ]
  },
  {
   "cell_type": "code",
   "execution_count": 3,
   "id": "occasional-entity",
   "metadata": {},
   "outputs": [
    {
     "name": "stdout",
     "output_type": "stream",
     "text": [
      "Label is 3\n"
     ]
    },
    {
     "data": {
      "image/png": "[encoded data removed]",
      "text/plain": [
       "<Figure size 432x288 with 1 Axes>"
      ]
     },
     "metadata": {
      "needs_background": "light"
     },
     "output_type": "display_data"
    }
   ],
   "source": [
    "ind = np.random.randint(0, X_train.shape[0])\n",
    "plt.imshow(X_train[ind], cmap='gray')\n",
    "print(f'Label is {y_train_labels[ind]}')"
   ]
  },
  {
   "cell_type": "code",
   "execution_count": 4,
   "id": "hairy-logan",
   "metadata": {},
   "outputs": [
    {
     "data": {
      "text/plain": [
       "(0, 255)"
      ]
     },
     "execution_count": 4,
     "metadata": {},
     "output_type": "execute_result"
    }
   ],
   "source": [
    "X_train.min(), X_train.max()"
   ]
  },
  {
   "cell_type": "code",
   "execution_count": 5,
   "id": "spread-sudan",
   "metadata": {},
   "outputs": [
    {
     "data": {
      "text/plain": [
       "(0.0, 1.0)"
      ]
     },
     "execution_count": 5,
     "metadata": {},
     "output_type": "execute_result"
    }
   ],
   "source": [
    "# Нормировка\n",
    "X_train = X_train / 255.0\n",
    "X_test = X_test / 255.0\n",
    "X_train.min(), X_train.max()"
   ]
  },
  {
   "cell_type": "code",
   "execution_count": 6,
   "id": "decimal-pharmaceutical",
   "metadata": {},
   "outputs": [
    {
     "data": {
      "text/plain": [
       "((60000, 784), (10000, 784))"
      ]
     },
     "execution_count": 6,
     "metadata": {},
     "output_type": "execute_result"
    }
   ],
   "source": [
    "# Вытягивание признаков\n",
    "X_train = X_train.reshape((-1, 28 * 28))\n",
    "X_test = X_test.reshape((-1, 28 * 28))\n",
    "\n",
    "X_train.shape, X_test.shape"
   ]
  },
  {
   "cell_type": "code",
   "execution_count": 7,
   "id": "crazy-march",
   "metadata": {},
   "outputs": [
    {
     "data": {
      "text/plain": [
       "array([[0., 0., 0., 0., 0., 0., 0., 0., 0., 1.],\n",
       "       [1., 0., 0., 0., 0., 0., 0., 0., 0., 0.],\n",
       "       [1., 0., 0., 0., 0., 0., 0., 0., 0., 0.],\n",
       "       [0., 0., 0., 1., 0., 0., 0., 0., 0., 0.],\n",
       "       [1., 0., 0., 0., 0., 0., 0., 0., 0., 0.]], dtype=float32)"
      ]
     },
     "execution_count": 7,
     "metadata": {},
     "output_type": "execute_result"
    }
   ],
   "source": [
    "# Передача данных для обучения нейросети\n",
    "y_train = to_categorical(y_train_labels)\n",
    "y_test = to_categorical(y_test_labels)\n",
    "\n",
    "y_train[:5]"
   ]
  },
  {
   "cell_type": "markdown",
   "id": "moderate-myrtle",
   "metadata": {},
   "source": [
    "## Результат нейросети"
   ]
  },
  {
   "cell_type": "markdown",
   "id": "speaking-surgery",
   "metadata": {},
   "source": [
    "Опишите - какой результат нейросети получен в зависимости от:  \n",
    "a. числа нейронов в слое (для 2-х слойной сети),  \n",
    "b. числа слоев (2, 3, 5, 10) при близких размерах сети (близкое число тренируемых параметров).  \n",
    "c. фиксируйте для тренировочного и тестового набора метрики accuracy.  "
   ]
  },
  {
   "cell_type": "markdown",
   "id": "diagnostic-baltimore",
   "metadata": {},
   "source": [
    "**Двухслойная модель**"
   ]
  },
  {
   "cell_type": "code",
   "execution_count": 8,
   "id": "emerging-clothing",
   "metadata": {},
   "outputs": [
    {
     "name": "stdout",
     "output_type": "stream",
     "text": [
      "Model: \"sequential\"\n",
      "_________________________________________________________________\n",
      "Layer (type)                 Output Shape              Param #   \n",
      "=================================================================\n",
      "dense (Dense)                (None, 64)                50240     \n",
      "_________________________________________________________________\n",
      "dense_1 (Dense)              (None, 10)                650       \n",
      "=================================================================\n",
      "Total params: 50,890\n",
      "Trainable params: 50,890\n",
      "Non-trainable params: 0\n",
      "_________________________________________________________________\n"
     ]
    }
   ],
   "source": [
    "model = Sequential()\n",
    "model.add(Dense(64, input_shape=(28 * 28,), activation='relu'))\n",
    "model.add(Dense(10, activation='sigmoid'))\n",
    "\n",
    "model.summary()"
   ]
  },
  {
   "cell_type": "code",
   "execution_count": 9,
   "id": "capital-trail",
   "metadata": {},
   "outputs": [],
   "source": [
    "model.compile(loss='categorical_crossentropy', optimizer='SGD', metrics=['accuracy'])"
   ]
  },
  {
   "cell_type": "code",
   "execution_count": 10,
   "id": "metallic-details",
   "metadata": {},
   "outputs": [
    {
     "name": "stdout",
     "output_type": "stream",
     "text": [
      "Epoch 1/5\n",
      "4800/4800 [==============================] - 2s 479us/step - loss: 0.8259 - accuracy: 0.7312 - val_loss: 0.5276 - val_accuracy: 0.8213\n",
      "Epoch 2/5\n",
      "4800/4800 [==============================] - 2s 433us/step - loss: 0.4829 - accuracy: 0.8317 - val_loss: 0.4501 - val_accuracy: 0.8432\n",
      "Epoch 3/5\n",
      "4800/4800 [==============================] - 2s 438us/step - loss: 0.4385 - accuracy: 0.8468 - val_loss: 0.4274 - val_accuracy: 0.8498\n",
      "Epoch 4/5\n",
      "4800/4800 [==============================] - 2s 442us/step - loss: 0.4053 - accuracy: 0.8573 - val_loss: 0.4255 - val_accuracy: 0.8525\n",
      "Epoch 5/5\n",
      "4800/4800 [==============================] - 2s 442us/step - loss: 0.3953 - accuracy: 0.8625 - val_loss: 0.4162 - val_accuracy: 0.8550\n"
     ]
    }
   ],
   "source": [
    "history = model.fit(X_train, y_train,\n",
    "                    epochs=5,\n",
    "                    batch_size=10, \n",
    "                    verbose=1, \n",
    "                    validation_split=0.2)"
   ]
  },
  {
   "cell_type": "code",
   "execution_count": 11,
   "id": "comprehensive-paradise",
   "metadata": {},
   "outputs": [
    {
     "name": "stdout",
     "output_type": "stream",
     "text": [
      "79/79 [==============================] - 0s 632us/step - loss: 0.4345 - accuracy: 0.8431\n"
     ]
    },
    {
     "data": {
      "text/plain": [
       "(0.4345167577266693, 0.8431000113487244)"
      ]
     },
     "execution_count": 11,
     "metadata": {},
     "output_type": "execute_result"
    }
   ],
   "source": [
    "loss, metric = model.evaluate(X_test, y_test, batch_size=128)\n",
    "loss, metric"
   ]
  },
  {
   "cell_type": "code",
   "execution_count": 12,
   "id": "latin-happiness",
   "metadata": {},
   "outputs": [
    {
     "data": {
      "image/png": "[encoded data removed]",
      "text/plain": [
       "<Figure size 432x288 with 1 Axes>"
      ]
     },
     "metadata": {
      "needs_background": "light"
     },
     "output_type": "display_data"
    }
   ],
   "source": [
    "train_acc = history.history['accuracy']\n",
    "val_acc = history.history['val_accuracy']\n",
    "\n",
    "plt.plot(train_acc, label='train')\n",
    "plt.plot(val_acc, label='val')\n",
    "plt.legend();"
   ]
  },
  {
   "cell_type": "markdown",
   "id": "filled-tender",
   "metadata": {},
   "source": [
    "**Трехслойная модель**"
   ]
  },
  {
   "cell_type": "code",
   "execution_count": 13,
   "id": "bottom-sherman",
   "metadata": {},
   "outputs": [
    {
     "name": "stdout",
     "output_type": "stream",
     "text": [
      "Model: \"sequential_1\"\n",
      "_________________________________________________________________\n",
      "Layer (type)                 Output Shape              Param #   \n",
      "=================================================================\n",
      "dense_2 (Dense)              (None, 64)                50240     \n",
      "_________________________________________________________________\n",
      "dense_3 (Dense)              (None, 32)                2080      \n",
      "_________________________________________________________________\n",
      "dense_4 (Dense)              (None, 10)                330       \n",
      "=================================================================\n",
      "Total params: 52,650\n",
      "Trainable params: 52,650\n",
      "Non-trainable params: 0\n",
      "_________________________________________________________________\n"
     ]
    }
   ],
   "source": [
    "model = Sequential()\n",
    "model.add(Dense(64, input_shape=(28 * 28,), activation='relu'))\n",
    "model.add(Dense(32, activation='relu'))\n",
    "model.add(Dense(10, activation='sigmoid'))\n",
    "\n",
    "model.summary()"
   ]
  },
  {
   "cell_type": "code",
   "execution_count": 14,
   "id": "architectural-grave",
   "metadata": {},
   "outputs": [],
   "source": [
    "model.compile(loss='categorical_crossentropy', optimizer='SGD', metrics=['accuracy'])"
   ]
  },
  {
   "cell_type": "code",
   "execution_count": 15,
   "id": "professional-istanbul",
   "metadata": {},
   "outputs": [
    {
     "name": "stdout",
     "output_type": "stream",
     "text": [
      "Epoch 1/5\n",
      "4800/4800 [==============================] - 2s 474us/step - loss: 0.8708 - accuracy: 0.7034 - val_loss: 0.4797 - val_accuracy: 0.8321\n",
      "Epoch 2/5\n",
      "4800/4800 [==============================] - 2s 442us/step - loss: 0.4608 - accuracy: 0.8371 - val_loss: 0.4291 - val_accuracy: 0.8523\n",
      "Epoch 3/5\n",
      "4800/4800 [==============================] - 2s 442us/step - loss: 0.4051 - accuracy: 0.8576 - val_loss: 0.4089 - val_accuracy: 0.8567\n",
      "Epoch 4/5\n",
      "4800/4800 [==============================] - 2s 444us/step - loss: 0.3868 - accuracy: 0.8619 - val_loss: 0.4243 - val_accuracy: 0.8504\n",
      "Epoch 5/5\n",
      "4800/4800 [==============================] - 2s 447us/step - loss: 0.3521 - accuracy: 0.8732 - val_loss: 0.3871 - val_accuracy: 0.8612\n"
     ]
    }
   ],
   "source": [
    "history = model.fit(X_train, y_train,\n",
    "                    epochs=5,\n",
    "                    batch_size=10, \n",
    "                    verbose=1, \n",
    "                    validation_split=0.2)"
   ]
  },
  {
   "cell_type": "code",
   "execution_count": 16,
   "id": "commercial-emission",
   "metadata": {},
   "outputs": [
    {
     "name": "stdout",
     "output_type": "stream",
     "text": [
      "79/79 [==============================] - 0s 678us/step - loss: 0.4072 - accuracy: 0.8513\n"
     ]
    },
    {
     "data": {
      "text/plain": [
       "(0.4072488248348236, 0.8513000011444092)"
      ]
     },
     "execution_count": 16,
     "metadata": {},
     "output_type": "execute_result"
    }
   ],
   "source": [
    "loss, metric = model.evaluate(X_test, y_test, batch_size=128)\n",
    "loss, metric"
   ]
  },
  {
   "cell_type": "code",
   "execution_count": 17,
   "id": "figured-valuation",
   "metadata": {},
   "outputs": [
    {
     "data": {
      "image/png": "[encoded data removed]",
      "text/plain": [
       "<Figure size 432x288 with 1 Axes>"
      ]
     },
     "metadata": {
      "needs_background": "light"
     },
     "output_type": "display_data"
    }
   ],
   "source": [
    "train_acc = history.history['accuracy']\n",
    "val_acc = history.history['val_accuracy']\n",
    "\n",
    "plt.plot(train_acc, label='train')\n",
    "plt.plot(val_acc, label='val')\n",
    "plt.legend();"
   ]
  },
  {
   "cell_type": "markdown",
   "id": "artificial-pathology",
   "metadata": {},
   "source": [
    "**Пятислойная модель**"
   ]
  },
  {
   "cell_type": "code",
   "execution_count": 18,
   "id": "nervous-demand",
   "metadata": {},
   "outputs": [
    {
     "name": "stdout",
     "output_type": "stream",
     "text": [
      "Model: \"sequential_2\"\n",
      "_________________________________________________________________\n",
      "Layer (type)                 Output Shape              Param #   \n",
      "=================================================================\n",
      "dense_5 (Dense)              (None, 64)                50240     \n",
      "_________________________________________________________________\n",
      "dense_6 (Dense)              (None, 32)                2080      \n",
      "_________________________________________________________________\n",
      "dense_7 (Dense)              (None, 32)                1056      \n",
      "_________________________________________________________________\n",
      "dense_8 (Dense)              (None, 32)                1056      \n",
      "_________________________________________________________________\n",
      "dense_9 (Dense)              (None, 10)                330       \n",
      "=================================================================\n",
      "Total params: 54,762\n",
      "Trainable params: 54,762\n",
      "Non-trainable params: 0\n",
      "_________________________________________________________________\n"
     ]
    }
   ],
   "source": [
    "model = Sequential()\n",
    "model.add(Dense(64, input_shape=(28 * 28,), activation='relu'))\n",
    "model.add(Dense(32, activation='relu'))\n",
    "model.add(Dense(32, activation='relu'))\n",
    "model.add(Dense(32, activation='relu'))\n",
    "model.add(Dense(10, activation='sigmoid'))\n",
    "\n",
    "model.summary()"
   ]
  },
  {
   "cell_type": "code",
   "execution_count": 19,
   "id": "eligible-medline",
   "metadata": {},
   "outputs": [],
   "source": [
    "model.compile(loss='categorical_crossentropy', optimizer='SGD', metrics=['accuracy'])"
   ]
  },
  {
   "cell_type": "code",
   "execution_count": 20,
   "id": "continent-bloom",
   "metadata": {},
   "outputs": [
    {
     "name": "stdout",
     "output_type": "stream",
     "text": [
      "Epoch 1/5\n",
      "4800/4800 [==============================] - 3s 490us/step - loss: 1.0674 - accuracy: 0.6326 - val_loss: 0.4772 - val_accuracy: 0.8329\n",
      "Epoch 2/5\n",
      "4800/4800 [==============================] - 2s 474us/step - loss: 0.4762 - accuracy: 0.8272 - val_loss: 0.4294 - val_accuracy: 0.8456\n",
      "Epoch 3/5\n",
      "4800/4800 [==============================] - 2s 467us/step - loss: 0.4117 - accuracy: 0.8514 - val_loss: 0.3832 - val_accuracy: 0.8607\n",
      "Epoch 4/5\n",
      "4800/4800 [==============================] - 2s 469us/step - loss: 0.3820 - accuracy: 0.8602 - val_loss: 0.3836 - val_accuracy: 0.8619\n",
      "Epoch 5/5\n",
      "4800/4800 [==============================] - 2s 463us/step - loss: 0.3576 - accuracy: 0.8698 - val_loss: 0.3580 - val_accuracy: 0.8684\n"
     ]
    }
   ],
   "source": [
    "history = model.fit(X_train, y_train,\n",
    "                    epochs=5,\n",
    "                    batch_size=10, \n",
    "                    verbose=1, \n",
    "                    validation_split=0.2)"
   ]
  },
  {
   "cell_type": "code",
   "execution_count": 21,
   "id": "varied-pendant",
   "metadata": {},
   "outputs": [
    {
     "name": "stdout",
     "output_type": "stream",
     "text": [
      "79/79 [==============================] - 0s 665us/step - loss: 0.3896 - accuracy: 0.8614\n"
     ]
    },
    {
     "data": {
      "text/plain": [
       "(0.38956815004348755, 0.8614000082015991)"
      ]
     },
     "execution_count": 21,
     "metadata": {},
     "output_type": "execute_result"
    }
   ],
   "source": [
    "loss, metric = model.evaluate(X_test, y_test, batch_size=128)\n",
    "loss, metric"
   ]
  },
  {
   "cell_type": "code",
   "execution_count": 22,
   "id": "environmental-pound",
   "metadata": {},
   "outputs": [
    {
     "data": {
      "image/png": "[encoded data removed]",
      "text/plain": [
       "<Figure size 432x288 with 1 Axes>"
      ]
     },
     "metadata": {
      "needs_background": "light"
     },
     "output_type": "display_data"
    }
   ],
   "source": [
    "train_acc = history.history['accuracy']\n",
    "val_acc = history.history['val_accuracy']\n",
    "\n",
    "plt.plot(train_acc, label='train')\n",
    "plt.plot(val_acc, label='val')\n",
    "plt.legend();"
   ]
  },
  {
   "cell_type": "markdown",
   "id": "commercial-construction",
   "metadata": {},
   "source": [
    "**Десятислойная модель**"
   ]
  },
  {
   "cell_type": "code",
   "execution_count": 23,
   "id": "authentic-board",
   "metadata": {},
   "outputs": [
    {
     "name": "stdout",
     "output_type": "stream",
     "text": [
      "Model: \"sequential_3\"\n",
      "_________________________________________________________________\n",
      "Layer (type)                 Output Shape              Param #   \n",
      "=================================================================\n",
      "dense_10 (Dense)             (None, 64)                50240     \n",
      "_________________________________________________________________\n",
      "dense_11 (Dense)             (None, 32)                2080      \n",
      "_________________________________________________________________\n",
      "dense_12 (Dense)             (None, 32)                1056      \n",
      "_________________________________________________________________\n",
      "dense_13 (Dense)             (None, 32)                1056      \n",
      "_________________________________________________________________\n",
      "dense_14 (Dense)             (None, 32)                1056      \n",
      "_________________________________________________________________\n",
      "dense_15 (Dense)             (None, 32)                1056      \n",
      "_________________________________________________________________\n",
      "dense_16 (Dense)             (None, 32)                1056      \n",
      "_________________________________________________________________\n",
      "dense_17 (Dense)             (None, 32)                1056      \n",
      "_________________________________________________________________\n",
      "dense_18 (Dense)             (None, 32)                1056      \n",
      "_________________________________________________________________\n",
      "dense_19 (Dense)             (None, 10)                330       \n",
      "=================================================================\n",
      "Total params: 60,042\n",
      "Trainable params: 60,042\n",
      "Non-trainable params: 0\n",
      "_________________________________________________________________\n"
     ]
    }
   ],
   "source": [
    "model = Sequential()\n",
    "model.add(Dense(64, input_shape=(28 * 28,), activation='relu'))\n",
    "model.add(Dense(32, activation='relu'))\n",
    "model.add(Dense(32, activation='relu'))\n",
    "model.add(Dense(32, activation='relu'))\n",
    "model.add(Dense(32, activation='relu'))\n",
    "model.add(Dense(32, activation='relu'))\n",
    "model.add(Dense(32, activation='relu'))\n",
    "model.add(Dense(32, activation='relu'))\n",
    "model.add(Dense(32, activation='relu'))\n",
    "model.add(Dense(10, activation='sigmoid'))\n",
    "\n",
    "model.summary()"
   ]
  },
  {
   "cell_type": "code",
   "execution_count": 24,
   "id": "electoral-equivalent",
   "metadata": {},
   "outputs": [],
   "source": [
    "model.compile(loss='categorical_crossentropy', optimizer='SGD', metrics=['accuracy'])"
   ]
  },
  {
   "cell_type": "code",
   "execution_count": 25,
   "id": "applicable-activity",
   "metadata": {},
   "outputs": [
    {
     "name": "stdout",
     "output_type": "stream",
     "text": [
      "Epoch 1/5\n",
      "4800/4800 [==============================] - 3s 549us/step - loss: 1.4419 - accuracy: 0.4804 - val_loss: 0.5949 - val_accuracy: 0.7912\n",
      "Epoch 2/5\n",
      "4800/4800 [==============================] - 2s 519us/step - loss: 0.5084 - accuracy: 0.8167 - val_loss: 0.4501 - val_accuracy: 0.8398\n",
      "Epoch 3/5\n",
      "4800/4800 [==============================] - 2s 521us/step - loss: 0.4343 - accuracy: 0.8437 - val_loss: 0.4392 - val_accuracy: 0.8417\n",
      "Epoch 4/5\n",
      "4800/4800 [==============================] - 2s 518us/step - loss: 0.4142 - accuracy: 0.8531 - val_loss: 0.3768 - val_accuracy: 0.8668\n",
      "Epoch 5/5\n",
      "4800/4800 [==============================] - 2s 515us/step - loss: 0.3741 - accuracy: 0.8641 - val_loss: 0.3910 - val_accuracy: 0.8588\n"
     ]
    }
   ],
   "source": [
    "history = model.fit(X_train, y_train,\n",
    "                    epochs=5,\n",
    "                    batch_size=10, \n",
    "                    verbose=1, \n",
    "                    validation_split=0.2)"
   ]
  },
  {
   "cell_type": "code",
   "execution_count": 26,
   "id": "orange-connectivity",
   "metadata": {},
   "outputs": [
    {
     "name": "stdout",
     "output_type": "stream",
     "text": [
      "79/79 [==============================] - 0s 712us/step - loss: 0.4258 - accuracy: 0.8472\n"
     ]
    },
    {
     "data": {
      "text/plain": [
       "(0.4257580041885376, 0.8471999764442444)"
      ]
     },
     "execution_count": 26,
     "metadata": {},
     "output_type": "execute_result"
    }
   ],
   "source": [
    "loss, metric = model.evaluate(X_test, y_test, batch_size=128)\n",
    "loss, metric"
   ]
  },
  {
   "cell_type": "code",
   "execution_count": 27,
   "id": "hidden-cooking",
   "metadata": {},
   "outputs": [
    {
     "data": {
      "image/png": "[encoded data removed]",
      "text/plain": [
       "<Figure size 432x288 with 1 Axes>"
      ]
     },
     "metadata": {
      "needs_background": "light"
     },
     "output_type": "display_data"
    }
   ],
   "source": [
    "train_acc = history.history['accuracy']\n",
    "val_acc = history.history['val_accuracy']\n",
    "\n",
    "plt.plot(train_acc, label='train')\n",
    "plt.plot(val_acc, label='val')\n",
    "plt.legend();"
   ]
  },
  {
   "cell_type": "markdown",
   "id": "medium-artist",
   "metadata": {},
   "source": [
    "**Выводы**  \n",
    "- Увеличение количества нейронов в сети улучшает качество лишь до определенного момента  \n",
    "- Оптимальный результат показала пятислойная модель  "
   ]
  },
  {
   "cell_type": "markdown",
   "id": "retired-particle",
   "metadata": {},
   "source": [
    "## Оптимизаторы SGD, Adam, RMSProp"
   ]
  },
  {
   "cell_type": "markdown",
   "id": "german-villa",
   "metadata": {},
   "source": [
    "Проверьте работу разных оптимизаторов (SGD, Adam, RMSProp) для одной из моделей п.1. Фиксируйте для тренировочного и тестового набора метрики accuracy."
   ]
  },
  {
   "cell_type": "code",
   "execution_count": 29,
   "id": "regional-infrastructure",
   "metadata": {},
   "outputs": [
    {
     "name": "stdout",
     "output_type": "stream",
     "text": [
      "Epoch 1/5\n",
      "1875/1875 [==============================] - 1s 576us/step - loss: 0.9258 - accuracy: 0.6700 - val_loss: 0.5892 - val_accuracy: 0.7826\n",
      "Epoch 2/5\n",
      "1875/1875 [==============================] - 1s 550us/step - loss: 0.5218 - accuracy: 0.8149 - val_loss: 0.5164 - val_accuracy: 0.8093\n",
      "Epoch 3/5\n",
      "1875/1875 [==============================] - 1s 553us/step - loss: 0.4650 - accuracy: 0.8376 - val_loss: 0.4707 - val_accuracy: 0.8336\n",
      "Epoch 4/5\n",
      "1875/1875 [==============================] - 1s 555us/step - loss: 0.4302 - accuracy: 0.8482 - val_loss: 0.4556 - val_accuracy: 0.8367\n",
      "Epoch 5/5\n",
      "1875/1875 [==============================] - 1s 552us/step - loss: 0.4061 - accuracy: 0.8558 - val_loss: 0.4388 - val_accuracy: 0.8466\n",
      "Epoch 1/5\n",
      "1875/1875 [==============================] - 2s 643us/step - loss: 0.5574 - accuracy: 0.7998 - val_loss: 0.5042 - val_accuracy: 0.8212\n",
      "Epoch 2/5\n",
      "1875/1875 [==============================] - 1s 620us/step - loss: 0.3992 - accuracy: 0.8559 - val_loss: 0.4103 - val_accuracy: 0.8537\n",
      "Epoch 3/5\n",
      "1875/1875 [==============================] - 1s 618us/step - loss: 0.3678 - accuracy: 0.8677 - val_loss: 0.3828 - val_accuracy: 0.8663\n",
      "Epoch 4/5\n",
      "1875/1875 [==============================] - 1s 620us/step - loss: 0.3503 - accuracy: 0.8751 - val_loss: 0.3856 - val_accuracy: 0.8650\n",
      "Epoch 5/5\n",
      "1875/1875 [==============================] - 1s 621us/step - loss: 0.3396 - accuracy: 0.8797 - val_loss: 0.3812 - val_accuracy: 0.8657\n",
      "Epoch 1/5\n",
      "1875/1875 [==============================] - 1s 647us/step - loss: 0.5491 - accuracy: 0.8045 - val_loss: 0.4756 - val_accuracy: 0.8263\n",
      "Epoch 2/5\n",
      "1875/1875 [==============================] - 1s 623us/step - loss: 0.3937 - accuracy: 0.8570 - val_loss: 0.4053 - val_accuracy: 0.8504\n",
      "Epoch 3/5\n",
      "1875/1875 [==============================] - 1s 630us/step - loss: 0.3572 - accuracy: 0.8692 - val_loss: 0.3838 - val_accuracy: 0.8621\n",
      "Epoch 4/5\n",
      "1875/1875 [==============================] - 1s 619us/step - loss: 0.3359 - accuracy: 0.8768 - val_loss: 0.3824 - val_accuracy: 0.8620\n",
      "Epoch 5/5\n",
      "1875/1875 [==============================] - 1s 622us/step - loss: 0.3219 - accuracy: 0.8809 - val_loss: 0.3611 - val_accuracy: 0.8687\n"
     ]
    },
    {
     "data": {
      "image/png": "[encoded data removed]",
      "text/plain": [
       "<Figure size 1152x504 with 1 Axes>"
      ]
     },
     "metadata": {
      "needs_background": "light"
     },
     "output_type": "display_data"
    },
    {
     "name": "stdout",
     "output_type": "stream",
     "text": [
      "Wall time: 21.3 s\n"
     ]
    }
   ],
   "source": [
    "%%time\n",
    "\n",
    "# создаем модель model\n",
    "model = Sequential([\n",
    "    Dense(64, activation='relu', input_shape=(784,)),\n",
    "    Dense(32, activation='relu'),\n",
    "    Dense(32, activation='relu'),\n",
    "    Dense(32, activation='relu'),\n",
    "    Dense(10, activation='sigmoid'),\n",
    "])\n",
    "\n",
    "# сохраняем ее веса (это начальная точка) model.save_weights('model.h5')\n",
    "model.save_weights('model_weights.h5')\n",
    "\n",
    "# будем сохранять модели в словарь\n",
    "models = {}\n",
    "\n",
    "\n",
    "plt.figure(figsize=(16, 7))\n",
    "colors = ['g', 'b', 'r', 'y']\n",
    "\n",
    "num_epochs = 5\n",
    "batch_size = 32\n",
    "\n",
    "# вектор для вывода результатов\n",
    "epoch = np.arange(num_epochs+1)\n",
    "\n",
    "# будем изменять оптимизаторы\n",
    "for i, i_optim in enumerate([keras.optimizers.SGD(),\n",
    "                             keras.optimizers.RMSprop(),\n",
    "                             keras.optimizers.Adam()]):\n",
    "    \n",
    "    # создаем рабочую модель  model_i, куда будем загружать эти веса (она должна быть идентичной структуры)\n",
    "    model_i = Sequential([\n",
    "        Dense(64, activation='relu', input_shape=(784,)),\n",
    "        Dense(32, activation='relu'),\n",
    "        Dense(32, activation='relu'),\n",
    "        Dense(32, activation='relu'),\n",
    "        Dense(10, activation='sigmoid'),\n",
    "    ])\n",
    "    \n",
    "    # загружаем веса model_i.load_weights('model.h5')\n",
    "    model_i.load_weights('model_weights.h5')\n",
    "    \n",
    "    # компилируем model_i с одним из оптимизаторов\n",
    "    model_i.compile(\n",
    "        optimizer=i_optim,\n",
    "        loss='categorical_crossentropy',\n",
    "        metrics=['accuracy'],\n",
    "        )\n",
    "    \n",
    "    # вычисляем ошибку для modeli без обучения\n",
    "    h0_train = model_i.evaluate(X_train, y_train, verbose=0)\n",
    "    h0_val = model_i.evaluate(X_test, y_test, verbose=0)\n",
    "\n",
    "    # проводим обучение модели \n",
    "    h = model_i.fit(X_train, y_train,\n",
    "                    epochs=num_epochs,\n",
    "                    batch_size=batch_size,\n",
    "                    validation_data=(X_test, y_test),\n",
    "                    verbose=1)\n",
    "    \n",
    "    # записываем обученную модель в словарь\n",
    "    models[i_optim.get_config()['name']] = model_i\n",
    "\n",
    "    # картинки\n",
    "    plt.plot(epoch, np.log([h0_train[0]] + h.history['loss']),\n",
    "             '-', c=colors[i],\n",
    "             label=model_i.optimizer.get_config()['name'] + ' train')\n",
    "    plt.plot(epoch, np.log([h0_val[0]] + h.history['val_loss']),\n",
    "             '--', c=colors[i],\n",
    "             label=model_i.optimizer.get_config()['name'] + ' val')\n",
    "\n",
    "plt.legend()\n",
    "plt.title('нейросети от оптимизатора log(loss)')\n",
    "plt.xlabel('epoch')\n",
    "plt.ylabel('log(loss)')\n",
    "plt.show()"
   ]
  },
  {
   "cell_type": "markdown",
   "id": "central-memorial",
   "metadata": {},
   "source": [
    "**Вывод:** наилучшее качество для выбранной пятислойной модели дает применение оптимизатора Adam"
   ]
  },
  {
   "cell_type": "markdown",
   "id": "closing-chuck",
   "metadata": {},
   "source": [
    "## Вывод. Качество классификации"
   ]
  },
  {
   "cell_type": "markdown",
   "id": "entire-african",
   "metadata": {},
   "source": [
    "Лучшее качество классификации мы смогли получить на патислойной модели с использованием оптимизатора:  \n",
    "- 5-ти слойная модель - accuracy: 0.86  \n",
    "- Оптимизатор: Adam"
   ]
  },
  {
   "cell_type": "markdown",
   "id": "third-brazilian",
   "metadata": {},
   "source": [
    "## Матрица ошибок"
   ]
  },
  {
   "cell_type": "markdown",
   "id": "powered-cancer",
   "metadata": {},
   "source": [
    "Не разобрался как тут сделать..."
   ]
  },
  {
   "cell_type": "code",
   "execution_count": null,
   "id": "employed-makeup",
   "metadata": {},
   "outputs": [],
   "source": []
  }
 ],
 "metadata": {
  "hide_input": false,
  "kernelspec": {
   "display_name": "Python 3",
   "language": "python",
   "name": "python3"
  },
  "language_info": {
   "codemirror_mode": {
    "name": "ipython",
    "version": 3
   },
   "file_extension": ".py",
   "mimetype": "text/x-python",
   "name": "python",
   "nbconvert_exporter": "python",
   "pygments_lexer": "ipython3",
   "version": "3.7.9"
  },
  "toc": {
   "base_numbering": 1,
   "nav_menu": {},
   "number_sections": true,
   "sideBar": true,
   "skip_h1_title": false,
   "title_cell": "Содержание",
   "title_sidebar": "Содержание",
   "toc_cell": false,
   "toc_position": {},
   "toc_section_display": true,
   "toc_window_display": false
  }
 },
 "nbformat": 4,
 "nbformat_minor": 5
}
