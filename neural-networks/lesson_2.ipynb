{
 "cells": [
  {
   "cell_type": "markdown",
   "id": "promotional-chrome",
   "metadata": {},
   "source": [
    "# LP 2. Keras"
   ]
  },
  {
   "cell_type": "markdown",
   "id": "average-canvas",
   "metadata": {},
   "source": [
    "Используя файл Web2.ipynb (он в полезных ссылках):  \n",
    "\n",
    "Возьмите набор примеров fashion-MNIST  \n",
    "\n",
    "1. Опишите - какой результат нейросети получен в зависимости от:  \n",
    "    a. числа нейронов в слое (для 2-х слойной сети),  \n",
    "    b. числа слоев (2, 3, 5, 10) при близких размерах сети (близкое число тренируемых параметров).  \n",
    "    c. фиксируйте для тренировочного и тестового набора метрики accuracy.  \n",
    "\n",
    "2. Проверьте работу разных оптимизаторов (SGD, Adam, RMSProp) для одной из моделей п.1. Фиксируйте для тренировочного и тестового набора метрики accuracy.  \n",
    "\n",
    "3. Сделайте вывод - что помогло вам улучшить качество классификации в нейросети на тестовом наборе?  \n",
    "\n",
    "4. Для одного варианта сети сформируйте матрицу ошибок по классам. Оцените качество модели по каждому классу отдельно (полнота, точность)."
   ]
  },
  {
   "cell_type": "markdown",
   "id": "moderate-myrtle",
   "metadata": {},
   "source": [
    "## В процессе выполнения..."
   ]
  },
  {
   "cell_type": "code",
   "execution_count": null,
   "id": "sought-medline",
   "metadata": {},
   "outputs": [],
   "source": []
  }
 ],
 "metadata": {
  "hide_input": false,
  "kernelspec": {
   "display_name": "Python 3",
   "language": "python",
   "name": "python3"
  },
  "language_info": {
   "codemirror_mode": {
    "name": "ipython",
    "version": 3
   },
   "file_extension": ".py",
   "mimetype": "text/x-python",
   "name": "python",
   "nbconvert_exporter": "python",
   "pygments_lexer": "ipython3",
   "version": "3.7.9"
  },
  "toc": {
   "base_numbering": 1,
   "nav_menu": {},
   "number_sections": true,
   "sideBar": true,
   "skip_h1_title": false,
   "title_cell": "Содержание",
   "title_sidebar": "Содержание",
   "toc_cell": false,
   "toc_position": {},
   "toc_section_display": true,
   "toc_window_display": false
  }
 },
 "nbformat": 4,
 "nbformat_minor": 5
}
