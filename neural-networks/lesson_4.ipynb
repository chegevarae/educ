{
 "cells": [
  {
   "cell_type": "markdown",
   "id": "tracked-browser",
   "metadata": {},
   "source": [
    "# ДЗ 4. Сверточные нейронные сети"
   ]
  },
  {
   "cell_type": "markdown",
   "id": "determined-gender",
   "metadata": {},
   "source": [
    "- обучить рукописную сверточную нейронную сеть (с падением размера ядра свертки и последовательностью блоков свертка-пулинг (conv-pool)-(conv-pool)-...) на датасете cifar-10  \n",
    "- оценить рост точности при увеличении ширины сети (больше фильтров)  \n",
    "- оценить рост точности при увеличении глубины сети (больше слоев)  \n",
    "- сравнить с точностью полносвязной сети для этой выборки  "
   ]
  },
  {
   "cell_type": "code",
   "execution_count": 55,
   "id": "laughing-lingerie",
   "metadata": {},
   "outputs": [],
   "source": [
    "import numpy as np\n",
    "import pandas as pd\n",
    "import matplotlib.pyplot as plt\n",
    "import tensorflow as tf\n",
    "\n",
    "from tensorflow.keras.models import Model\n",
    "from tensorflow.keras.datasets import cifar10\n",
    "from tensorflow.keras.preprocessing.image import ImageDataGenerator\n",
    "from tensorflow.keras.utils import to_categorical\n",
    "from tensorflow.keras.models import Sequential\n",
    "from tensorflow.keras.layers import Input, Dense, Dropout, Activation, Flatten\n",
    "from tensorflow.keras.layers import Conv2D, MaxPooling2D"
   ]
  },
  {
   "cell_type": "code",
   "execution_count": 58,
   "id": "decent-nashville",
   "metadata": {},
   "outputs": [
    {
     "data": {
      "text/plain": [
       "[name: \"/device:CPU:0\"\n",
       " device_type: \"CPU\"\n",
       " memory_limit: 268435456\n",
       " locality {\n",
       " }\n",
       " incarnation: 3090415267864137026]"
      ]
     },
     "execution_count": 58,
     "metadata": {},
     "output_type": "execute_result"
    }
   ],
   "source": [
    "from tensorflow.python.client import device_lib\n",
    "device_lib.list_local_devices()"
   ]
  },
  {
   "cell_type": "markdown",
   "id": "expensive-stage",
   "metadata": {},
   "source": [
    "**Загрузим данные и разобьем их на трейн и тест**"
   ]
  },
  {
   "cell_type": "code",
   "execution_count": 3,
   "id": "starting-release",
   "metadata": {},
   "outputs": [
    {
     "name": "stdout",
     "output_type": "stream",
     "text": [
      "Downloading data from https://www.cs.toronto.edu/~kriz/cifar-10-python.tar.gz\n",
      "170500096/170498071 [==============================] - 116s 1us/step\n",
      "X_train shape: (50000, 32, 32, 3)\n",
      "50000 тренировочные примеры\n",
      "10000 тестовые примеры\n"
     ]
    }
   ],
   "source": [
    "classes = ['самолет', 'автомобиль', 'птица', 'кот', 'олень', 'собака', 'лягушка', 'лошадь', 'корабль', 'грузовик']\n",
    "\n",
    "# разделение тренировочной и тестовой выборки\n",
    "(X_train, y_train), (X_test, y_test) = cifar10.load_data()\n",
    "print('X_train shape:', X_train.shape)\n",
    "print(X_train.shape[0], 'тренировочные примеры')\n",
    "print(X_test.shape[0], 'тестовые примеры')\n",
    "\n",
    "# преобразование матрицы чисел 0-9 в бинарную матрицу чисел 0-1\n",
    "y_train = to_categorical(y_train, 10)\n",
    "y_test = to_categorical(y_test, 10)\n",
    "\n",
    "X_train = X_train / 255.0\n",
    "X_test = X_test / 255.0"
   ]
  },
  {
   "cell_type": "code",
   "execution_count": 6,
   "id": "amber-iceland",
   "metadata": {},
   "outputs": [
    {
     "data": {
      "image/png": "[encoded data removed]",
      "text/plain": [
       "<Figure size 432x288 with 1 Axes>"
      ]
     },
     "metadata": {
      "needs_background": "light"
     },
     "output_type": "display_data"
    }
   ],
   "source": [
    "N = 1\n",
    "\n",
    "plt.imshow(X_test[N])\n",
    "plt.title(classes[np.argmax(y_test[N,:])])\n",
    "plt.show()"
   ]
  },
  {
   "cell_type": "code",
   "execution_count": 24,
   "id": "strategic-operator",
   "metadata": {},
   "outputs": [],
   "source": [
    "# установка параметров нейросети\n",
    "result = pd.DataFrame(columns=['Model', 'Train', 'Test', 'Test loss', 'Test accuracy'])\n",
    "batch_size = 512\n",
    "epochs = 10"
   ]
  },
  {
   "cell_type": "code",
   "execution_count": 12,
   "id": "complicated-screen",
   "metadata": {},
   "outputs": [
    {
     "name": "stdout",
     "output_type": "stream",
     "text": [
      "Model: \"sequential_1\"\n",
      "_________________________________________________________________\n",
      "Layer (type)                 Output Shape              Param #   \n",
      "=================================================================\n",
      "conv2d_4 (Conv2D)            (None, 32, 32, 32)        896       \n",
      "_________________________________________________________________\n",
      "conv2d_5 (Conv2D)            (None, 30, 30, 32)        9248      \n",
      "_________________________________________________________________\n",
      "max_pooling2d_2 (MaxPooling2 (None, 15, 15, 32)        0         \n",
      "_________________________________________________________________\n",
      "conv2d_6 (Conv2D)            (None, 15, 15, 64)        18496     \n",
      "_________________________________________________________________\n",
      "conv2d_7 (Conv2D)            (None, 13, 13, 64)        36928     \n",
      "_________________________________________________________________\n",
      "max_pooling2d_3 (MaxPooling2 (None, 6, 6, 64)          0         \n",
      "_________________________________________________________________\n",
      "flatten_1 (Flatten)          (None, 2304)              0         \n",
      "_________________________________________________________________\n",
      "dense_2 (Dense)              (None, 512)               1180160   \n",
      "_________________________________________________________________\n",
      "dense_3 (Dense)              (None, 10)                5130      \n",
      "=================================================================\n",
      "Total params: 1,250,858\n",
      "Trainable params: 1,250,858\n",
      "Non-trainable params: 0\n",
      "_________________________________________________________________\n"
     ]
    }
   ],
   "source": [
    "# конфигурирование слоев нейросети\n",
    "model = Sequential()\n",
    "\n",
    "# слои нейросети отвественные за свертку и max-pooling\n",
    "model.add(Conv2D(32, (3, 3), activation='relu', padding='same', input_shape=X_train.shape[1:]))\n",
    "model.add(Conv2D(32, (3, 3), activation='relu'))\n",
    "model.add(MaxPooling2D(pool_size=(2, 2)))\n",
    "\n",
    "model.add(Conv2D(64, (3, 3), activation='relu', padding='same'))\n",
    "model.add(Conv2D(64, (3, 3), activation='relu'))\n",
    "model.add(MaxPooling2D(pool_size=(2, 2)))\n",
    "\n",
    "# полносвязные слои нейронной сети\n",
    "model.add(Flatten())\n",
    "model.add(Dense(512, activation='relu'))\n",
    "model.add(Dense(10, activation='softmax'))\n",
    "\n",
    "model.summary()"
   ]
  },
  {
   "cell_type": "code",
   "execution_count": 13,
   "id": "unauthorized-queens",
   "metadata": {},
   "outputs": [],
   "source": [
    "# компиляция модели\n",
    "model.compile(loss='categorical_crossentropy',\n",
    "              optimizer='SGD',\n",
    "              metrics=['accuracy'])"
   ]
  },
  {
   "cell_type": "code",
   "execution_count": 14,
   "id": "precious-deviation",
   "metadata": {},
   "outputs": [
    {
     "name": "stdout",
     "output_type": "stream",
     "text": [
      "Epoch 1/10\n",
      "98/98 [==============================] - 63s 643ms/step - loss: 2.3000 - accuracy: 0.1165 - val_loss: 2.2869 - val_accuracy: 0.1377\n",
      "Epoch 2/10\n",
      "98/98 [==============================] - 64s 651ms/step - loss: 2.2806 - accuracy: 0.1429 - val_loss: 2.2506 - val_accuracy: 0.1622\n",
      "Epoch 3/10\n",
      "98/98 [==============================] - 63s 645ms/step - loss: 2.2281 - accuracy: 0.1967 - val_loss: 2.1107 - val_accuracy: 0.2645\n",
      "Epoch 4/10\n",
      "98/98 [==============================] - 64s 649ms/step - loss: 2.0861 - accuracy: 0.2627 - val_loss: 1.9973 - val_accuracy: 0.2952\n",
      "Epoch 5/10\n",
      "98/98 [==============================] - 64s 649ms/step - loss: 2.0136 - accuracy: 0.2832 - val_loss: 1.9600 - val_accuracy: 0.2979\n",
      "Epoch 6/10\n",
      "98/98 [==============================] - 62s 638ms/step - loss: 1.9700 - accuracy: 0.2976 - val_loss: 1.9179 - val_accuracy: 0.3238\n",
      "Epoch 7/10\n",
      "98/98 [==============================] - 62s 637ms/step - loss: 1.9142 - accuracy: 0.3182 - val_loss: 1.8872 - val_accuracy: 0.3298\n",
      "Epoch 8/10\n",
      "98/98 [==============================] - 62s 636ms/step - loss: 1.8700 - accuracy: 0.3417 - val_loss: 1.8061 - val_accuracy: 0.3646\n",
      "Epoch 9/10\n",
      "98/98 [==============================] - 62s 637ms/step - loss: 1.8190 - accuracy: 0.3598 - val_loss: 1.7902 - val_accuracy: 0.3643\n",
      "Epoch 10/10\n",
      "98/98 [==============================] - 62s 635ms/step - loss: 1.7683 - accuracy: 0.3707 - val_loss: 1.7273 - val_accuracy: 0.3886\n"
     ]
    },
    {
     "data": {
      "text/plain": [
       "<tensorflow.python.keras.callbacks.History at 0x1d4c1601888>"
      ]
     },
     "execution_count": 14,
     "metadata": {},
     "output_type": "execute_result"
    }
   ],
   "source": [
    "# обучение модели\n",
    "model.fit(X_train, y_train,\n",
    "              batch_size=batch_size,\n",
    "              epochs=epochs,\n",
    "              validation_data=(X_test, y_test),\n",
    "              shuffle=True)"
   ]
  },
  {
   "cell_type": "code",
   "execution_count": 15,
   "id": "public-durham",
   "metadata": {},
   "outputs": [
    {
     "name": "stdout",
     "output_type": "stream",
     "text": [
      "1563/1563 - 8s - loss: 1.7229 - accuracy: 0.3935\n",
      "313/313 - 2s - loss: 1.7273 - accuracy: 0.3886\n",
      "train_loss: 1.7228589057922363, train_accuracy: 0.3934600055217743\n",
      "test_loss: 1.7272597551345825, test_accuracy: 0.3885999917984009\n"
     ]
    }
   ],
   "source": [
    "# метрики\n",
    "train_loss, train_accuracy = model.evaluate(X_train, y_train, verbose=2)\n",
    "test_loss, test_accuracy = model.evaluate(X_test, y_test, verbose=2)\n",
    "print(f'train_loss: {train_loss}, train_accuracy: {train_accuracy}')\n",
    "print(f'test_loss: {test_loss}, test_accuracy: {test_accuracy}')"
   ]
  },
  {
   "cell_type": "code",
   "execution_count": 25,
   "id": "legal-medicine",
   "metadata": {},
   "outputs": [],
   "source": [
    "# добавим в таблицу сравнения\n",
    "y_p = model.predict(X_test[N:N+1])\n",
    "y_t = np.argmax(y_test[N:N+1], axis = 1 )\n",
    "y_i = np.argmax(y_p, axis = 1 )\n",
    "\n",
    "new_row = {'Model':'CNN базовая', 'Train':classes[y_t[0]], 'Test': classes[y_i[0]], \\\n",
    "           'Test loss':round(test_loss, 3), 'Test accuracy':round(test_accuracy, 3)}\n",
    "\n",
    "result = result.append(new_row, ignore_index=True)"
   ]
  },
  {
   "cell_type": "code",
   "execution_count": 26,
   "id": "divided-order",
   "metadata": {},
   "outputs": [
    {
     "data": {
      "text/html": [
       "<div>\n",
       "<style scoped>\n",
       "    .dataframe tbody tr th:only-of-type {\n",
       "        vertical-align: middle;\n",
       "    }\n",
       "\n",
       "    .dataframe tbody tr th {\n",
       "        vertical-align: top;\n",
       "    }\n",
       "\n",
       "    .dataframe thead th {\n",
       "        text-align: right;\n",
       "    }\n",
       "</style>\n",
       "<table border=\"1\" class=\"dataframe\">\n",
       "  <thead>\n",
       "    <tr style=\"text-align: right;\">\n",
       "      <th></th>\n",
       "      <th>Model</th>\n",
       "      <th>Train</th>\n",
       "      <th>Test</th>\n",
       "      <th>Test loss</th>\n",
       "      <th>Test accuracy</th>\n",
       "    </tr>\n",
       "  </thead>\n",
       "  <tbody>\n",
       "    <tr>\n",
       "      <th>0</th>\n",
       "      <td>CNN базовая</td>\n",
       "      <td>корабль</td>\n",
       "      <td>корабль</td>\n",
       "      <td>1.727</td>\n",
       "      <td>0.389</td>\n",
       "    </tr>\n",
       "  </tbody>\n",
       "</table>\n",
       "</div>"
      ],
      "text/plain": [
       "         Model    Train     Test  Test loss  Test accuracy\n",
       "0  CNN базовая  корабль  корабль      1.727          0.389"
      ]
     },
     "execution_count": 26,
     "metadata": {},
     "output_type": "execute_result"
    }
   ],
   "source": [
    "result"
   ]
  },
  {
   "cell_type": "code",
   "execution_count": 40,
   "id": "modular-thirty",
   "metadata": {},
   "outputs": [
    {
     "data": {
      "image/png": "[encoded data removed]",
      "text/plain": [
       "<Figure size 432x288 with 1 Axes>"
      ]
     },
     "metadata": {
      "needs_background": "light"
     },
     "output_type": "display_data"
    }
   ],
   "source": [
    "plt.imshow(X_test[N])\n",
    "plt.title(f'это : {classes[y_t[0]]} - опознан как : {classes[y_i[0]]}')\n",
    "plt.show()"
   ]
  },
  {
   "cell_type": "markdown",
   "id": "western-result",
   "metadata": {},
   "source": [
    "**Оценить рост точности при увеличении ширины сети (больше фильтров)**"
   ]
  },
  {
   "cell_type": "code",
   "execution_count": 27,
   "id": "connected-pizza",
   "metadata": {},
   "outputs": [
    {
     "name": "stdout",
     "output_type": "stream",
     "text": [
      "Model: \"sequential_2\"\n",
      "_________________________________________________________________\n",
      "Layer (type)                 Output Shape              Param #   \n",
      "=================================================================\n",
      "conv2d_8 (Conv2D)            (None, 32, 32, 32)        896       \n",
      "_________________________________________________________________\n",
      "conv2d_9 (Conv2D)            (None, 30, 30, 32)        9248      \n",
      "_________________________________________________________________\n",
      "max_pooling2d_4 (MaxPooling2 (None, 15, 15, 32)        0         \n",
      "_________________________________________________________________\n",
      "conv2d_10 (Conv2D)           (None, 15, 15, 128)       36992     \n",
      "_________________________________________________________________\n",
      "conv2d_11 (Conv2D)           (None, 13, 13, 128)       147584    \n",
      "_________________________________________________________________\n",
      "max_pooling2d_5 (MaxPooling2 (None, 6, 6, 128)         0         \n",
      "_________________________________________________________________\n",
      "flatten_2 (Flatten)          (None, 4608)              0         \n",
      "_________________________________________________________________\n",
      "dense_4 (Dense)              (None, 512)               2359808   \n",
      "_________________________________________________________________\n",
      "dense_5 (Dense)              (None, 10)                5130      \n",
      "=================================================================\n",
      "Total params: 2,559,658\n",
      "Trainable params: 2,559,658\n",
      "Non-trainable params: 0\n",
      "_________________________________________________________________\n"
     ]
    }
   ],
   "source": [
    "# конфигурирование слоев нейросети\n",
    "model1 = Sequential()\n",
    "\n",
    "# слои нейросети отвественные за свертку и max-pooling\n",
    "model1.add(Conv2D(32, (3, 3), activation='relu', padding='same', input_shape=X_train.shape[1:]))\n",
    "model1.add(Conv2D(32, (3, 3), activation='relu'))\n",
    "model1.add(MaxPooling2D(pool_size=(2, 2)))\n",
    "\n",
    "model1.add(Conv2D(128, (3, 3), activation='relu', padding='same'))\n",
    "model1.add(Conv2D(128, (3, 3), activation='relu'))\n",
    "model1.add(MaxPooling2D(pool_size=(2, 2)))\n",
    "\n",
    "# полносвязные слои нейронной сети\n",
    "model1.add(Flatten())\n",
    "model1.add(Dense(512, activation='relu'))\n",
    "model1.add(Dense(10, activation='softmax'))\n",
    "\n",
    "model1.summary()"
   ]
  },
  {
   "cell_type": "code",
   "execution_count": 29,
   "id": "efficient-tragedy",
   "metadata": {},
   "outputs": [],
   "source": [
    "# компиляция модели\n",
    "model1.compile(loss='categorical_crossentropy',\n",
    "              optimizer='SGD',\n",
    "              metrics=['accuracy'])"
   ]
  },
  {
   "cell_type": "code",
   "execution_count": 30,
   "id": "lucky-concentration",
   "metadata": {},
   "outputs": [
    {
     "name": "stdout",
     "output_type": "stream",
     "text": [
      "Epoch 1/10\n",
      "98/98 [==============================] - 86s 871ms/step - loss: 2.2997 - accuracy: 0.1269 - val_loss: 2.2875 - val_accuracy: 0.1565\n",
      "Epoch 2/10\n",
      "98/98 [==============================] - 86s 881ms/step - loss: 2.2819 - accuracy: 0.1689 - val_loss: 2.2522 - val_accuracy: 0.1759\n",
      "Epoch 3/10\n",
      "98/98 [==============================] - 86s 878ms/step - loss: 2.2292 - accuracy: 0.1979 - val_loss: 2.1275 - val_accuracy: 0.2130\n",
      "Epoch 4/10\n",
      "98/98 [==============================] - 85s 866ms/step - loss: 2.1052 - accuracy: 0.2432 - val_loss: 2.1199 - val_accuracy: 0.2331\n",
      "Epoch 5/10\n",
      "98/98 [==============================] - 85s 869ms/step - loss: 2.0369 - accuracy: 0.2677 - val_loss: 2.0188 - val_accuracy: 0.2813\n",
      "Epoch 6/10\n",
      "98/98 [==============================] - 88s 899ms/step - loss: 1.9845 - accuracy: 0.2940 - val_loss: 1.9581 - val_accuracy: 0.3032\n",
      "Epoch 7/10\n",
      "98/98 [==============================] - 85s 870ms/step - loss: 1.9175 - accuracy: 0.3188 - val_loss: 1.9143 - val_accuracy: 0.3261\n",
      "Epoch 8/10\n",
      "98/98 [==============================] - 85s 868ms/step - loss: 1.8745 - accuracy: 0.3374 - val_loss: 1.8075 - val_accuracy: 0.3675\n",
      "Epoch 9/10\n",
      "98/98 [==============================] - 85s 867ms/step - loss: 1.8233 - accuracy: 0.3517 - val_loss: 1.7879 - val_accuracy: 0.3678\n",
      "Epoch 10/10\n",
      "98/98 [==============================] - 85s 864ms/step - loss: 1.7871 - accuracy: 0.3673 - val_loss: 1.8315 - val_accuracy: 0.3614\n"
     ]
    },
    {
     "data": {
      "text/plain": [
       "<tensorflow.python.keras.callbacks.History at 0x1d4c17d6888>"
      ]
     },
     "execution_count": 30,
     "metadata": {},
     "output_type": "execute_result"
    }
   ],
   "source": [
    "# обучение модели\n",
    "model1.fit(X_train, y_train,\n",
    "              batch_size=batch_size,\n",
    "              epochs=epochs,\n",
    "              validation_data=(X_test, y_test),\n",
    "              shuffle=True)"
   ]
  },
  {
   "cell_type": "code",
   "execution_count": 34,
   "id": "verified-maximum",
   "metadata": {},
   "outputs": [
    {
     "name": "stdout",
     "output_type": "stream",
     "text": [
      "1563/1563 - 12s - loss: 1.8238 - accuracy: 0.3631\n",
      "313/313 - 2s - loss: 1.8315 - accuracy: 0.3614\n",
      "train_loss: 1.823795199394226, train_accuracy: 0.3631199896335602\n",
      "test_loss: 1.8314781188964844, test_accuracy: 0.3614000082015991\n"
     ]
    }
   ],
   "source": [
    "# метрики\n",
    "train_loss, train_accuracy = model1.evaluate(X_train, y_train, verbose=2)\n",
    "test_loss, test_accuracy = model1.evaluate(X_test, y_test, verbose=2)\n",
    "print(f'train_loss: {train_loss}, train_accuracy: {train_accuracy}')\n",
    "print(f'test_loss: {test_loss}, test_accuracy: {test_accuracy}')"
   ]
  },
  {
   "cell_type": "code",
   "execution_count": 66,
   "id": "simplified-minister",
   "metadata": {},
   "outputs": [],
   "source": [
    "# result = result.drop(index=[1])"
   ]
  },
  {
   "cell_type": "code",
   "execution_count": 46,
   "id": "monthly-amendment",
   "metadata": {},
   "outputs": [],
   "source": [
    "# добавим в таблицу сравнения\n",
    "y_p = model1.predict(X_test[N:N+1])\n",
    "y_t = np.argmax(y_test[N:N+1], axis = 1 )\n",
    "y_i = np.argmax(y_p, axis = 1 )\n",
    "\n",
    "new_row = {'Model':'CNN c увеличением каналов', 'Train':classes[y_t[0]], 'Test': classes[y_i[0]], \\\n",
    "           'Test loss':round(test_loss, 3), 'Test accuracy':round(test_accuracy, 3)}\n",
    "\n",
    "result = result.append(new_row, ignore_index=True)"
   ]
  },
  {
   "cell_type": "code",
   "execution_count": 47,
   "id": "certified-norfolk",
   "metadata": {},
   "outputs": [
    {
     "data": {
      "text/html": [
       "<div>\n",
       "<style scoped>\n",
       "    .dataframe tbody tr th:only-of-type {\n",
       "        vertical-align: middle;\n",
       "    }\n",
       "\n",
       "    .dataframe tbody tr th {\n",
       "        vertical-align: top;\n",
       "    }\n",
       "\n",
       "    .dataframe thead th {\n",
       "        text-align: right;\n",
       "    }\n",
       "</style>\n",
       "<table border=\"1\" class=\"dataframe\">\n",
       "  <thead>\n",
       "    <tr style=\"text-align: right;\">\n",
       "      <th></th>\n",
       "      <th>Model</th>\n",
       "      <th>Train</th>\n",
       "      <th>Test</th>\n",
       "      <th>Test loss</th>\n",
       "      <th>Test accuracy</th>\n",
       "    </tr>\n",
       "  </thead>\n",
       "  <tbody>\n",
       "    <tr>\n",
       "      <th>0</th>\n",
       "      <td>CNN базовая</td>\n",
       "      <td>корабль</td>\n",
       "      <td>корабль</td>\n",
       "      <td>1.727</td>\n",
       "      <td>0.389</td>\n",
       "    </tr>\n",
       "    <tr>\n",
       "      <th>1</th>\n",
       "      <td>CNN c увеличением каналов</td>\n",
       "      <td>корабль</td>\n",
       "      <td>корабль</td>\n",
       "      <td>1.831</td>\n",
       "      <td>0.361</td>\n",
       "    </tr>\n",
       "  </tbody>\n",
       "</table>\n",
       "</div>"
      ],
      "text/plain": [
       "                       Model    Train     Test  Test loss  Test accuracy\n",
       "0                CNN базовая  корабль  корабль      1.727          0.389\n",
       "1  CNN c увеличением каналов  корабль  корабль      1.831          0.361"
      ]
     },
     "execution_count": 47,
     "metadata": {},
     "output_type": "execute_result"
    }
   ],
   "source": [
    "result"
   ]
  },
  {
   "cell_type": "code",
   "execution_count": 48,
   "id": "further-separation",
   "metadata": {},
   "outputs": [
    {
     "data": {
      "image/png": "[encoded data removed]",
      "text/plain": [
       "<Figure size 432x288 with 1 Axes>"
      ]
     },
     "metadata": {
      "needs_background": "light"
     },
     "output_type": "display_data"
    }
   ],
   "source": [
    "plt.imshow(X_test[N])\n",
    "plt.title(f'это : {classes[y_t[0]]} - опознан как : {classes[y_i[0]]}')\n",
    "plt.show()"
   ]
  },
  {
   "cell_type": "markdown",
   "id": "tested-editing",
   "metadata": {},
   "source": [
    "**Оценить рост точности при увеличении глубины сети (больше слоев)**"
   ]
  },
  {
   "cell_type": "code",
   "execution_count": 41,
   "id": "touched-opposition",
   "metadata": {},
   "outputs": [
    {
     "name": "stdout",
     "output_type": "stream",
     "text": [
      "Model: \"sequential_3\"\n",
      "_________________________________________________________________\n",
      "Layer (type)                 Output Shape              Param #   \n",
      "=================================================================\n",
      "conv2d_12 (Conv2D)           (None, 32, 32, 32)        896       \n",
      "_________________________________________________________________\n",
      "conv2d_13 (Conv2D)           (None, 30, 30, 32)        9248      \n",
      "_________________________________________________________________\n",
      "max_pooling2d_6 (MaxPooling2 (None, 15, 15, 32)        0         \n",
      "_________________________________________________________________\n",
      "conv2d_14 (Conv2D)           (None, 15, 15, 64)        18496     \n",
      "_________________________________________________________________\n",
      "conv2d_15 (Conv2D)           (None, 13, 13, 64)        36928     \n",
      "_________________________________________________________________\n",
      "max_pooling2d_7 (MaxPooling2 (None, 6, 6, 64)          0         \n",
      "_________________________________________________________________\n",
      "conv2d_16 (Conv2D)           (None, 6, 6, 128)         73856     \n",
      "_________________________________________________________________\n",
      "conv2d_17 (Conv2D)           (None, 4, 4, 128)         147584    \n",
      "_________________________________________________________________\n",
      "max_pooling2d_8 (MaxPooling2 (None, 2, 2, 128)         0         \n",
      "_________________________________________________________________\n",
      "flatten_3 (Flatten)          (None, 512)               0         \n",
      "_________________________________________________________________\n",
      "dense_6 (Dense)              (None, 512)               262656    \n",
      "_________________________________________________________________\n",
      "dense_7 (Dense)              (None, 10)                5130      \n",
      "=================================================================\n",
      "Total params: 554,794\n",
      "Trainable params: 554,794\n",
      "Non-trainable params: 0\n",
      "_________________________________________________________________\n"
     ]
    }
   ],
   "source": [
    "# конфигурирование слоев нейросети\n",
    "model2 = Sequential()\n",
    "\n",
    "# слои нейросети отвественные за свертку и max-pooling\n",
    "model2.add(Conv2D(32, (3, 3), activation='relu', padding='same', input_shape=X_train.shape[1:]))\n",
    "model2.add(Conv2D(32, (3, 3), activation='relu'))\n",
    "model2.add(MaxPooling2D(pool_size=(2, 2)))\n",
    "\n",
    "model2.add(Conv2D(64, (3, 3), activation='relu', padding='same'))\n",
    "model2.add(Conv2D(64, (3, 3), activation='relu'))\n",
    "model2.add(MaxPooling2D(pool_size=(2, 2)))\n",
    "\n",
    "model2.add(Conv2D(128, (3, 3), activation='relu', padding='same'))\n",
    "model2.add(Conv2D(128, (3, 3), activation='relu'))\n",
    "model2.add(MaxPooling2D(pool_size=(2, 2)))\n",
    "\n",
    "# полносвязные слои нейронной сети\n",
    "model2.add(Flatten())\n",
    "model2.add(Dense(512, activation='relu'))\n",
    "model2.add(Dense(10, activation='softmax'))\n",
    "\n",
    "model2.summary()"
   ]
  },
  {
   "cell_type": "code",
   "execution_count": 43,
   "id": "marine-affairs",
   "metadata": {},
   "outputs": [],
   "source": [
    "# компиляция модели\n",
    "model2.compile(loss='categorical_crossentropy',\n",
    "              optimizer='SGD',\n",
    "              metrics=['accuracy'])"
   ]
  },
  {
   "cell_type": "code",
   "execution_count": 44,
   "id": "unknown-switzerland",
   "metadata": {},
   "outputs": [
    {
     "name": "stdout",
     "output_type": "stream",
     "text": [
      "Epoch 1/10\n",
      "98/98 [==============================] - 67s 684ms/step - loss: 2.3014 - accuracy: 0.1039 - val_loss: 2.2984 - val_accuracy: 0.1131\n",
      "Epoch 2/10\n",
      "98/98 [==============================] - 68s 688ms/step - loss: 2.2971 - accuracy: 0.1433 - val_loss: 2.2922 - val_accuracy: 0.1824\n",
      "Epoch 3/10\n",
      "98/98 [==============================] - 67s 683ms/step - loss: 2.2897 - accuracy: 0.1810 - val_loss: 2.2775 - val_accuracy: 0.1794\n",
      "Epoch 4/10\n",
      "98/98 [==============================] - 69s 703ms/step - loss: 2.2693 - accuracy: 0.1813 - val_loss: 2.2225 - val_accuracy: 0.2010\n",
      "Epoch 5/10\n",
      "98/98 [==============================] - 69s 700ms/step - loss: 2.1976 - accuracy: 0.2086 - val_loss: 2.0870 - val_accuracy: 0.2443\n",
      "Epoch 6/10\n",
      "98/98 [==============================] - 68s 691ms/step - loss: 2.1162 - accuracy: 0.2240 - val_loss: 2.0411 - val_accuracy: 0.2383\n",
      "Epoch 7/10\n",
      "98/98 [==============================] - 68s 698ms/step - loss: 2.0646 - accuracy: 0.2406 - val_loss: 2.0720 - val_accuracy: 0.2337\n",
      "Epoch 8/10\n",
      "98/98 [==============================] - 68s 696ms/step - loss: 2.0192 - accuracy: 0.2600 - val_loss: 1.9506 - val_accuracy: 0.2860\n",
      "Epoch 9/10\n",
      "98/98 [==============================] - 69s 707ms/step - loss: 1.9757 - accuracy: 0.2805 - val_loss: 1.9326 - val_accuracy: 0.3072\n",
      "Epoch 10/10\n",
      "98/98 [==============================] - 67s 684ms/step - loss: 1.9502 - accuracy: 0.2983 - val_loss: 1.9867 - val_accuracy: 0.2799\n"
     ]
    },
    {
     "data": {
      "text/plain": [
       "<tensorflow.python.keras.callbacks.History at 0x1d4c1aac8c8>"
      ]
     },
     "execution_count": 44,
     "metadata": {},
     "output_type": "execute_result"
    }
   ],
   "source": [
    "# обучение модели\n",
    "model2.fit(X_train, y_train,\n",
    "              batch_size=batch_size,\n",
    "              epochs=epochs,\n",
    "              validation_data=(X_test, y_test),\n",
    "              shuffle=True)"
   ]
  },
  {
   "cell_type": "code",
   "execution_count": 49,
   "id": "permanent-cursor",
   "metadata": {},
   "outputs": [
    {
     "name": "stdout",
     "output_type": "stream",
     "text": [
      "1563/1563 - 9s - loss: 1.9965 - accuracy: 0.2736\n",
      "313/313 - 2s - loss: 1.9867 - accuracy: 0.2799\n",
      "train_loss: 1.996517300605774, train_accuracy: 0.27362000942230225\n",
      "test_loss: 1.9867222309112549, test_accuracy: 0.2799000144004822\n"
     ]
    }
   ],
   "source": [
    "# метрики\n",
    "train_loss, train_accuracy = model2.evaluate(X_train, y_train, verbose=2)\n",
    "test_loss, test_accuracy = model2.evaluate(X_test, y_test, verbose=2)\n",
    "print(f'train_loss: {train_loss}, train_accuracy: {train_accuracy}')\n",
    "print(f'test_loss: {test_loss}, test_accuracy: {test_accuracy}')"
   ]
  },
  {
   "cell_type": "code",
   "execution_count": 50,
   "id": "closing-subject",
   "metadata": {},
   "outputs": [],
   "source": [
    "# добавим в таблицу сравнения\n",
    "y_p = model2.predict(X_test[N:N+1])\n",
    "y_t = np.argmax(y_test[N:N+1], axis = 1 )\n",
    "y_i = np.argmax(y_p, axis = 1 )\n",
    "\n",
    "new_row = {'Model':'CNN c увеличением слоев', 'Train':classes[y_t[0]], 'Test': classes[y_i[0]], \\\n",
    "           'Test loss':round(test_loss, 3), 'Test accuracy':round(test_accuracy, 3)}\n",
    "\n",
    "result = result.append(new_row, ignore_index=True)"
   ]
  },
  {
   "cell_type": "code",
   "execution_count": 51,
   "id": "banned-galaxy",
   "metadata": {},
   "outputs": [
    {
     "data": {
      "text/html": [
       "<div>\n",
       "<style scoped>\n",
       "    .dataframe tbody tr th:only-of-type {\n",
       "        vertical-align: middle;\n",
       "    }\n",
       "\n",
       "    .dataframe tbody tr th {\n",
       "        vertical-align: top;\n",
       "    }\n",
       "\n",
       "    .dataframe thead th {\n",
       "        text-align: right;\n",
       "    }\n",
       "</style>\n",
       "<table border=\"1\" class=\"dataframe\">\n",
       "  <thead>\n",
       "    <tr style=\"text-align: right;\">\n",
       "      <th></th>\n",
       "      <th>Model</th>\n",
       "      <th>Train</th>\n",
       "      <th>Test</th>\n",
       "      <th>Test loss</th>\n",
       "      <th>Test accuracy</th>\n",
       "    </tr>\n",
       "  </thead>\n",
       "  <tbody>\n",
       "    <tr>\n",
       "      <th>0</th>\n",
       "      <td>CNN базовая</td>\n",
       "      <td>корабль</td>\n",
       "      <td>корабль</td>\n",
       "      <td>1.727</td>\n",
       "      <td>0.389</td>\n",
       "    </tr>\n",
       "    <tr>\n",
       "      <th>1</th>\n",
       "      <td>CNN c увеличением каналов</td>\n",
       "      <td>корабль</td>\n",
       "      <td>корабль</td>\n",
       "      <td>1.831</td>\n",
       "      <td>0.361</td>\n",
       "    </tr>\n",
       "    <tr>\n",
       "      <th>2</th>\n",
       "      <td>CNN c увеличением слоев</td>\n",
       "      <td>корабль</td>\n",
       "      <td>автомобиль</td>\n",
       "      <td>1.987</td>\n",
       "      <td>0.280</td>\n",
       "    </tr>\n",
       "  </tbody>\n",
       "</table>\n",
       "</div>"
      ],
      "text/plain": [
       "                       Model    Train        Test  Test loss  Test accuracy\n",
       "0                CNN базовая  корабль     корабль      1.727          0.389\n",
       "1  CNN c увеличением каналов  корабль     корабль      1.831          0.361\n",
       "2    CNN c увеличением слоев  корабль  автомобиль      1.987          0.280"
      ]
     },
     "execution_count": 51,
     "metadata": {},
     "output_type": "execute_result"
    }
   ],
   "source": [
    "result"
   ]
  },
  {
   "cell_type": "code",
   "execution_count": 52,
   "id": "meaning-purpose",
   "metadata": {},
   "outputs": [
    {
     "data": {
      "image/png": "[encoded data removed]",
      "text/plain": [
       "<Figure size 432x288 with 1 Axes>"
      ]
     },
     "metadata": {
      "needs_background": "light"
     },
     "output_type": "display_data"
    }
   ],
   "source": [
    "plt.imshow(X_test[N])\n",
    "plt.title(f'это : {classes[y_t[0]]} - опознан как : {classes[y_i[0]]}')\n",
    "plt.show()"
   ]
  },
  {
   "cell_type": "markdown",
   "id": "vietnamese-pregnancy",
   "metadata": {},
   "source": [
    "**Сравнить с точностью полносвязной сети для этой выборки**"
   ]
  },
  {
   "cell_type": "code",
   "execution_count": 59,
   "id": "occasional-disney",
   "metadata": {},
   "outputs": [
    {
     "name": "stdout",
     "output_type": "stream",
     "text": [
      "Model: \"model\"\n",
      "_________________________________________________________________\n",
      "Layer (type)                 Output Shape              Param #   \n",
      "=================================================================\n",
      "input_1 (InputLayer)         [(None, 32, 32, 3)]       0         \n",
      "_________________________________________________________________\n",
      "flatten_4 (Flatten)          (None, 3072)              0         \n",
      "_________________________________________________________________\n",
      "dense_8 (Dense)              (None, 512)               1573376   \n",
      "_________________________________________________________________\n",
      "dense_9 (Dense)              (None, 256)               131328    \n",
      "_________________________________________________________________\n",
      "dense_10 (Dense)             (None, 128)               32896     \n",
      "_________________________________________________________________\n",
      "dense_11 (Dense)             (None, 32)                4128      \n",
      "_________________________________________________________________\n",
      "dense_12 (Dense)             (None, 10)                330       \n",
      "=================================================================\n",
      "Total params: 1,742,058\n",
      "Trainable params: 1,742,058\n",
      "Non-trainable params: 0\n",
      "_________________________________________________________________\n"
     ]
    }
   ],
   "source": [
    "# полносвязная сеть\n",
    "inputs = Input(shape=(32, 32, 3))\n",
    "x = Flatten()(inputs)\n",
    "x_1 = Dense(512, activation='relu')(x)\n",
    "x_2 = Dense(256, activation='relu')(x_1)\n",
    "x_3 = Dense(128, activation='relu')(x_2)\n",
    "x_4 = Dense(32, activation='relu')(x_3)\n",
    "outputs = Dense(10)(x_4)\n",
    "    \n",
    "model3 = Model(inputs, outputs)\n",
    "model3.summary()"
   ]
  },
  {
   "cell_type": "code",
   "execution_count": 61,
   "id": "nonprofit-shopper",
   "metadata": {},
   "outputs": [],
   "source": [
    "# компиляция модели\n",
    "model3.compile(loss='categorical_crossentropy',\n",
    "              optimizer='SGD',\n",
    "              metrics=['accuracy'])"
   ]
  },
  {
   "cell_type": "code",
   "execution_count": 62,
   "id": "retired-ticket",
   "metadata": {},
   "outputs": [
    {
     "name": "stdout",
     "output_type": "stream",
     "text": [
      "Epoch 1/10\n",
      "98/98 [==============================] - 2s 15ms/step - loss: 8.0076 - accuracy: 0.0992 - val_loss: 8.1606 - val_accuracy: 0.1000\n",
      "Epoch 2/10\n",
      "98/98 [==============================] - 1s 14ms/step - loss: 8.1024 - accuracy: 0.1018 - val_loss: 8.1510 - val_accuracy: 0.1000\n",
      "Epoch 3/10\n",
      "98/98 [==============================] - 1s 14ms/step - loss: 8.1050 - accuracy: 0.0993 - val_loss: 8.2042 - val_accuracy: 0.1000\n",
      "Epoch 4/10\n",
      "98/98 [==============================] - 1s 15ms/step - loss: 8.0919 - accuracy: 0.0986 - val_loss: 8.1864 - val_accuracy: 0.1000\n",
      "Epoch 5/10\n",
      "98/98 [==============================] - 1s 14ms/step - loss: 8.0855 - accuracy: 0.0989 - val_loss: 8.2171 - val_accuracy: 0.1000\n",
      "Epoch 6/10\n",
      "98/98 [==============================] - 1s 15ms/step - loss: 8.1212 - accuracy: 0.1024 - val_loss: 8.2171 - val_accuracy: 0.1000\n",
      "Epoch 7/10\n",
      "98/98 [==============================] - 1s 13ms/step - loss: 8.0887 - accuracy: 0.0989 - val_loss: 8.2171 - val_accuracy: 0.1000\n",
      "Epoch 8/10\n",
      "98/98 [==============================] - 2s 16ms/step - loss: 8.1115 - accuracy: 0.0984 - val_loss: 8.2171 - val_accuracy: 0.1000\n",
      "Epoch 9/10\n",
      "98/98 [==============================] - 1s 14ms/step - loss: 8.1235 - accuracy: 0.0990 - val_loss: 8.2171 - val_accuracy: 0.1000\n",
      "Epoch 10/10\n",
      "98/98 [==============================] - 1s 14ms/step - loss: 8.1592 - accuracy: 0.0991 - val_loss: 8.2171 - val_accuracy: 0.1000\n"
     ]
    },
    {
     "data": {
      "text/plain": [
       "<tensorflow.python.keras.callbacks.History at 0x1d4c1ca5b08>"
      ]
     },
     "execution_count": 62,
     "metadata": {},
     "output_type": "execute_result"
    }
   ],
   "source": [
    "# обучение модели\n",
    "model3.fit(X_train, y_train,\n",
    "              batch_size=batch_size,\n",
    "              epochs=epochs,\n",
    "              validation_data=(X_test, y_test),\n",
    "              shuffle=True)"
   ]
  },
  {
   "cell_type": "code",
   "execution_count": 63,
   "id": "incident-interstate",
   "metadata": {},
   "outputs": [
    {
     "name": "stdout",
     "output_type": "stream",
     "text": [
      "1563/1563 - 2s - loss: 8.1316 - accuracy: 0.1000\n",
      "313/313 - 0s - loss: 8.2171 - accuracy: 0.1000\n",
      "train_loss: 8.131561279296875, train_accuracy: 0.10000000149011612\n",
      "test_loss: 8.217060089111328, test_accuracy: 0.10000000149011612\n"
     ]
    }
   ],
   "source": [
    "# метрики\n",
    "train_loss, train_accuracy = model3.evaluate(X_train, y_train, verbose=2)\n",
    "test_loss, test_accuracy = model3.evaluate(X_test, y_test, verbose=2)\n",
    "print(f'train_loss: {train_loss}, train_accuracy: {train_accuracy}')\n",
    "print(f'test_loss: {test_loss}, test_accuracy: {test_accuracy}')"
   ]
  },
  {
   "cell_type": "code",
   "execution_count": 67,
   "id": "blind-timothy",
   "metadata": {},
   "outputs": [],
   "source": [
    "# добавим в таблицу сравнения\n",
    "y_p = model3.predict(X_test[N:N+1])\n",
    "y_t = np.argmax(y_test[N:N+1], axis = 1 )\n",
    "y_i = np.argmax(y_p, axis = 1 )\n",
    "\n",
    "new_row = {'Model':'Полносвязная сеть', 'Train':classes[y_t[0]], 'Test': classes[y_i[0]], \\\n",
    "           'Test loss':round(test_loss, 3), 'Test accuracy':round(test_accuracy, 3)}\n",
    "\n",
    "result = result.append(new_row, ignore_index=True)"
   ]
  },
  {
   "cell_type": "code",
   "execution_count": 68,
   "id": "toxic-extraction",
   "metadata": {},
   "outputs": [
    {
     "data": {
      "text/html": [
       "<div>\n",
       "<style scoped>\n",
       "    .dataframe tbody tr th:only-of-type {\n",
       "        vertical-align: middle;\n",
       "    }\n",
       "\n",
       "    .dataframe tbody tr th {\n",
       "        vertical-align: top;\n",
       "    }\n",
       "\n",
       "    .dataframe thead th {\n",
       "        text-align: right;\n",
       "    }\n",
       "</style>\n",
       "<table border=\"1\" class=\"dataframe\">\n",
       "  <thead>\n",
       "    <tr style=\"text-align: right;\">\n",
       "      <th></th>\n",
       "      <th>Model</th>\n",
       "      <th>Train</th>\n",
       "      <th>Test</th>\n",
       "      <th>Test loss</th>\n",
       "      <th>Test accuracy</th>\n",
       "    </tr>\n",
       "  </thead>\n",
       "  <tbody>\n",
       "    <tr>\n",
       "      <th>0</th>\n",
       "      <td>CNN базовая</td>\n",
       "      <td>корабль</td>\n",
       "      <td>корабль</td>\n",
       "      <td>1.727</td>\n",
       "      <td>0.389</td>\n",
       "    </tr>\n",
       "    <tr>\n",
       "      <th>1</th>\n",
       "      <td>CNN c увеличением каналов</td>\n",
       "      <td>корабль</td>\n",
       "      <td>корабль</td>\n",
       "      <td>1.831</td>\n",
       "      <td>0.361</td>\n",
       "    </tr>\n",
       "    <tr>\n",
       "      <th>2</th>\n",
       "      <td>CNN c увеличением слоев</td>\n",
       "      <td>корабль</td>\n",
       "      <td>автомобиль</td>\n",
       "      <td>1.987</td>\n",
       "      <td>0.280</td>\n",
       "    </tr>\n",
       "    <tr>\n",
       "      <th>3</th>\n",
       "      <td>Полносвязная сеть</td>\n",
       "      <td>корабль</td>\n",
       "      <td>самолет</td>\n",
       "      <td>8.217</td>\n",
       "      <td>0.100</td>\n",
       "    </tr>\n",
       "  </tbody>\n",
       "</table>\n",
       "</div>"
      ],
      "text/plain": [
       "                       Model    Train        Test  Test loss  Test accuracy\n",
       "0                CNN базовая  корабль     корабль      1.727          0.389\n",
       "1  CNN c увеличением каналов  корабль     корабль      1.831          0.361\n",
       "2    CNN c увеличением слоев  корабль  автомобиль      1.987          0.280\n",
       "3          Полносвязная сеть  корабль     самолет      8.217          0.100"
      ]
     },
     "execution_count": 68,
     "metadata": {},
     "output_type": "execute_result"
    }
   ],
   "source": [
    "result"
   ]
  },
  {
   "cell_type": "code",
   "execution_count": 69,
   "id": "sharp-radius",
   "metadata": {},
   "outputs": [
    {
     "data": {
      "image/png": "[encoded data removed]",
      "text/plain": [
       "<Figure size 432x288 with 1 Axes>"
      ]
     },
     "metadata": {
      "needs_background": "light"
     },
     "output_type": "display_data"
    }
   ],
   "source": [
    "plt.imshow(X_test[N])\n",
    "plt.title(f'это : {classes[y_t[0]]} - опознан как : {classes[y_i[0]]}')\n",
    "plt.show()"
   ]
  },
  {
   "cell_type": "markdown",
   "id": "thorough-creativity",
   "metadata": {},
   "source": [
    "**Выводы:**  \n",
    "\n",
    "- С увеличением количества каналов, наблюдаем падение метрики и увеличение потерь  \n",
    "- С увеличением количества слоев наблюдаем еще большее падение метрики и увеличение потерь  \n",
    "- Полносвязная сеть показывает качество вообще плохое, хуже чем у базовой модели со сверточными слоями  "
   ]
  },
  {
   "cell_type": "code",
   "execution_count": null,
   "id": "collected-trainer",
   "metadata": {},
   "outputs": [],
   "source": []
  }
 ],
 "metadata": {
  "hide_input": false,
  "kernelspec": {
   "display_name": "Python 3",
   "language": "python",
   "name": "python3"
  },
  "language_info": {
   "codemirror_mode": {
    "name": "ipython",
    "version": 3
   },
   "file_extension": ".py",
   "mimetype": "text/x-python",
   "name": "python",
   "nbconvert_exporter": "python",
   "pygments_lexer": "ipython3",
   "version": "3.7.9"
  },
  "toc": {
   "base_numbering": 1,
   "nav_menu": {},
   "number_sections": true,
   "sideBar": true,
   "skip_h1_title": false,
   "title_cell": "Содержание",
   "title_sidebar": "Содержание",
   "toc_cell": false,
   "toc_position": {},
   "toc_section_display": true,
   "toc_window_display": false
  }
 },
 "nbformat": 4,
 "nbformat_minor": 5
}
