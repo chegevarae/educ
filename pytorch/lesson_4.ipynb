{
 "cells": [
  {
   "cell_type": "markdown",
   "id": "numerous-gregory",
   "metadata": {},
   "source": [
    "# ДЗ 4. Generative adversarial networks"
   ]
  },
  {
   "cell_type": "markdown",
   "id": "lasting-confusion",
   "metadata": {},
   "source": [
    "Используя файл Web4.ipynb нужно обучить генератор создавать точки, которые будут лежать на графике функции\n",
    "y = sin(x)/x - x/10  \n",
    "При выполнении данного задания структура GAN остается той же, но Вам нужно:  \n",
    "\n",
    "- Сгенерировать настоящие данные  \n",
    "- Изменить архитектуру дискриминатора и генератора  \n",
    "- Построить графики  "
   ]
  },
  {
   "cell_type": "markdown",
   "id": "persistent-mystery",
   "metadata": {},
   "source": [
    "## Библиотеки и скрипты"
   ]
  },
  {
   "cell_type": "code",
   "execution_count": 1,
   "id": "south-finland",
   "metadata": {},
   "outputs": [],
   "source": [
    "import numpy as np\n",
    "import os, math\n",
    "\n",
    "import torch\n",
    "import torch.nn as nn\n",
    "from torch.utils.data import DataLoader\n",
    "import torchvision.transforms as transforms\n",
    "from torchvision import datasets\n",
    "from torch.autograd import Variable\n",
    "\n",
    "from IPython import display\n",
    "from torchvision.utils import save_image, make_grid\n",
    "\n",
    "import matplotlib.patches as mpatches\n",
    "import matplotlib.pyplot as plt"
   ]
  },
  {
   "cell_type": "code",
   "execution_count": 2,
   "id": "alleged-flour",
   "metadata": {},
   "outputs": [
    {
     "data": {
      "text/plain": [
       "'cpu'"
      ]
     },
     "execution_count": 2,
     "metadata": {},
     "output_type": "execute_result"
    }
   ],
   "source": [
    "device = 'cuda' if torch.cuda.is_available() else 'cpu'\n",
    "device"
   ]
  },
  {
   "cell_type": "code",
   "execution_count": 3,
   "id": "sought-workstation",
   "metadata": {},
   "outputs": [],
   "source": [
    "class Generator(nn.Module):\n",
    "    def __init__(self):\n",
    "        super().__init__()\n",
    "        \n",
    "        def block(in_feat, out_feat, normalize=True): #activation='relu'\n",
    "            layers = [nn.Linear(in_feat, out_feat)]\n",
    "            if normalize:\n",
    "                layers.append(nn.BatchNorm1d(out_feat, 0.8))\n",
    "            layers.append(nn.LeakyReLU(0.2, inplace=True))\n",
    "            \n",
    "            return layers\n",
    "\n",
    "        self.model = nn.Sequential(\n",
    "            # input 64x2\n",
    "            *block(latent_dim, 128, normalize=False),\n",
    "            *block(128, 256),\n",
    "            *block(256, 512),\n",
    "            *block(512, 1024),\n",
    "            nn.Linear(1024, 2)\n",
    "        )\n",
    "\n",
    "    def forward(self, z):\n",
    "        pred = self.model(z)\n",
    "        return pred\n",
    "    \n",
    "class CustomLinearLayer(nn.Module):\n",
    "    def __init__(self, size_in, size_out):\n",
    "        super().__init__()\n",
    "        self.size_in, self.size_out = size_in, size_out\n",
    "        \n",
    "        weights = torch.Tensor(size_out, size_in)\n",
    "        self.weights = nn.Parameter(weights) \n",
    "\n",
    "        bias = torch.Tensor(size_out)\n",
    "        self.bias = nn.Parameter(bias)\n",
    "        \n",
    "        nn.init.uniform_(self.weights, -0.5, 0.5) \n",
    "        nn.init.uniform_(self.bias, -0.5, 0.5)  \n",
    "\n",
    "    def forward(self, x):\n",
    "        w_times_x = torch.mm(x, self.weights.t())\n",
    "        return torch.add(w_times_x, self.bias)\n",
    "    \n",
    "class Discriminator(nn.Module):\n",
    "    def __init__(self):\n",
    "        super().__init__()\n",
    "\n",
    "        self.model = nn.Sequential(\n",
    "            CustomLinearLayer(2, 512),\n",
    "            nn.LeakyReLU(0.2, inplace=True),\n",
    "            CustomLinearLayer(512, 256),\n",
    "            nn.LeakyReLU(0.2, inplace=True),\n",
    "            CustomLinearLayer(256, 1),\n",
    "            nn.Sigmoid(),\n",
    "        )\n",
    "\n",
    "    def forward(self, pred):\n",
    "        validity = self.model(pred)\n",
    "\n",
    "        return validity"
   ]
  },
  {
   "cell_type": "markdown",
   "id": "automatic-benefit",
   "metadata": {},
   "source": [
    "## Генерируем данные"
   ]
  },
  {
   "cell_type": "code",
   "execution_count": 4,
   "id": "compliant-status",
   "metadata": {},
   "outputs": [],
   "source": [
    "x = torch.linspace(-30, 30, 1000)\n",
    "def func_y(x):\n",
    "    return np.sin(x)/x - x/10"
   ]
  },
  {
   "cell_type": "code",
   "execution_count": 5,
   "id": "opponent-rental",
   "metadata": {},
   "outputs": [
    {
     "data": {
      "image/png": "[encoded data removed]",
      "text/plain": [
       "<Figure size 432x288 with 1 Axes>"
      ]
     },
     "metadata": {
      "needs_background": "light"
     },
     "output_type": "display_data"
    }
   ],
   "source": [
    "plt.plot(x, func_y(x))\n",
    "plt.show()"
   ]
  },
  {
   "cell_type": "markdown",
   "id": "passive-vacation",
   "metadata": {},
   "source": [
    "## Обучаем генератор и дискриминатор"
   ]
  },
  {
   "cell_type": "code",
   "execution_count": 6,
   "id": "breathing-casino",
   "metadata": {},
   "outputs": [],
   "source": [
    "n_epochs = 35\n",
    "batch_size = 32\n",
    "lr = 0.0005\n",
    "\n",
    "b1 = 0.5\n",
    "b2 = 0.999\n",
    "\n",
    "latent_dim = 1000\n",
    "\n",
    "n_classes = 10\n",
    "img_size = 28\n",
    "channels = 1\n",
    "sample_interval = 25"
   ]
  },
  {
   "cell_type": "code",
   "execution_count": 7,
   "id": "configured-trading",
   "metadata": {},
   "outputs": [],
   "source": [
    "x_y_data = np.array([(x_i, func_y(x_i)) for x_i in x])\n",
    "\n",
    "real_data = torch.utils.data.DataLoader(\n",
    "    x_y_data,\n",
    "    batch_size=batch_size,\n",
    "    shuffle=True)\n",
    "\n",
    "generator = Generator().to(device)\n",
    "discriminator = Discriminator().to(device)\n",
    "\n",
    "optimizer_G = torch.optim.Adam(generator.parameters(), lr=lr, betas=(b1, b2))\n",
    "optimizer_D = torch.optim.Adam(discriminator.parameters(), lr=lr, betas=(b1, b2))\n",
    "\n",
    "adversarial_loss = torch.nn.BCELoss()\n",
    "\n",
    "red_patch = mpatches.Patch(color='red', label='D loss')\n",
    "green_patch = mpatches.Patch(color='green', label='G loss')"
   ]
  },
  {
   "cell_type": "code",
   "execution_count": 8,
   "id": "ecological-hormone",
   "metadata": {},
   "outputs": [
    {
     "name": "stdout",
     "output_type": "stream",
     "text": [
      "[Epoch 34/35] [Batch 12/32] [D loss: 0.772115] [G loss: 1.336214]\n"
     ]
    },
    {
     "data": {
      "text/plain": [
       "<Figure size 432x288 with 0 Axes>"
      ]
     },
     "metadata": {},
     "output_type": "display_data"
    },
    {
     "data": {
      "image/png": "[encoded data removed]",
      "text/plain": [
       "<Figure size 432x288 with 1 Axes>"
      ]
     },
     "metadata": {
      "needs_background": "light"
     },
     "output_type": "display_data"
    }
   ],
   "source": [
    "d_loss_history = []\n",
    "g_loss_history = []\n",
    "\n",
    "for epoch in range(n_epochs):\n",
    "    for i, data in enumerate(real_data):\n",
    "        \n",
    "        cur_batch_size = len(data)\n",
    "\n",
    "##################### Лейблы для данных: 1 - настоящие, 0 - сгенерированные ########\n",
    "        valid = Variable(torch.FloatTensor(cur_batch_size, 1).fill_(1.0), requires_grad=False).to(device)\n",
    "        fake = Variable(torch.FloatTensor(cur_batch_size, 1).fill_(0.0), requires_grad=False).to(device)\n",
    "\n",
    "        real_ex = Variable(data.type(torch.FloatTensor)).to(device)\n",
    "\n",
    "\n",
    "######################  Тренировка генератора    ##########################\n",
    "\n",
    "        optimizer_G.zero_grad()\n",
    "    \n",
    "        #генерация шума (нормальное распределение тут не подойдёт)\n",
    "        z = Variable(torch.FloatTensor(np.random.uniform(-50, 50, (cur_batch_size, latent_dim)))).to(device)\n",
    "\n",
    "        gen_ex = generator(z)\n",
    "\n",
    "        validity = discriminator(gen_ex)\n",
    "        g_loss = adversarial_loss(validity, valid)\n",
    "        \n",
    "        g_loss.backward()\n",
    "        optimizer_G.step()\n",
    "\n",
    "######################  Тренировка дискриминатора    ##########################\n",
    "\n",
    "        optimizer_D.zero_grad()\n",
    "\n",
    "        real_pred = discriminator(real_ex)\n",
    "        d_real_loss = adversarial_loss(real_pred, valid)\n",
    "\n",
    "        fake_pred = discriminator(gen_ex.detach())\n",
    "        d_fake_loss = adversarial_loss(fake_pred, fake)\n",
    "\n",
    "        d_loss = (d_real_loss + d_fake_loss) / 2\n",
    "\n",
    "        d_loss.backward()\n",
    "        optimizer_D.step()\n",
    "        \n",
    "######## Отображение процесса обучения и вывод функций потерь ############\n",
    "        batches_done = epoch * len(real_data) + i\n",
    "    \n",
    "        if batches_done % sample_interval == 0:\n",
    "            plt.clf()\n",
    "            \n",
    "            display.clear_output(wait=False)\n",
    "            print(\"[Epoch %d/%d] [Batch %d/%d] [D loss: %f] [G loss: %f]\"% (epoch, n_epochs, i, len(real_data), d_loss.item(), g_loss.item()) ) \n",
    "\n",
    "            \n",
    "            display.display(plt.gcf())\n",
    "\n",
    "            d_loss_history.append(d_loss)\n",
    "            g_loss_history.append(g_loss)\n",
    "\n",
    "            plt.plot(np.log(np.array(d_loss_history)), label='D loss', color = 'red')\n",
    "            plt.plot(np.log(np.array(g_loss_history)), label='G loss', color = 'green')\n",
    "            plt.legend(handles=[red_patch, green_patch])\n",
    "            plt.show()"
   ]
  },
  {
   "cell_type": "code",
   "execution_count": 9,
   "id": "curious-cause",
   "metadata": {},
   "outputs": [],
   "source": [
    "generator.eval()\n",
    "\n",
    "test_z = Variable(torch.from_numpy(np.random.uniform(-30, 30, (64, latent_dim)).astype(np.float64)).float()).to(device)\n",
    "\n",
    "with torch.no_grad():\n",
    "    test_pred = generator(test_z)"
   ]
  },
  {
   "cell_type": "code",
   "execution_count": 10,
   "id": "serial-stranger",
   "metadata": {},
   "outputs": [
    {
     "name": "stdout",
     "output_type": "stream",
     "text": [
      "Mean error: 0.1116531715\n"
     ]
    }
   ],
   "source": [
    "cnt = 0\n",
    "error = 0.0\n",
    "count = 0\n",
    "for i in range(len(test_pred)):\n",
    "    x = test_pred[i][0]\n",
    "    y_real = func_y(x)  \n",
    "    y_pred = test_pred[i][1]  \n",
    "    count +=1\n",
    "    error += abs(y_real - y_pred)\n",
    "\n",
    "print(\"Mean error: %.10f\" % (error/count))"
   ]
  },
  {
   "cell_type": "code",
   "execution_count": 11,
   "id": "accepted-external",
   "metadata": {},
   "outputs": [
    {
     "data": {
      "image/png": "[encoded data removed]",
      "text/plain": [
       "<Figure size 432x288 with 1 Axes>"
      ]
     },
     "metadata": {
      "needs_background": "light"
     },
     "output_type": "display_data"
    }
   ],
   "source": [
    "plt.figure()\n",
    "\n",
    "x = np.linspace(-30, 30, 1000)\n",
    "plt.plot(x, func_y(x), label='y', color = 'red')\n",
    "\n",
    "p = test_pred[:,0].argsort()\n",
    "plt.plot(test_pred[:,0][p], test_pred[:, 1][p], label='y pred', color = 'green')\n",
    "\n",
    "\n",
    "plt.legend()\n",
    "plt.show()"
   ]
  },
  {
   "cell_type": "code",
   "execution_count": null,
   "id": "sudden-block",
   "metadata": {},
   "outputs": [],
   "source": []
  }
 ],
 "metadata": {
  "hide_input": false,
  "kernelspec": {
   "display_name": "Python 3",
   "language": "python",
   "name": "python3"
  },
  "language_info": {
   "codemirror_mode": {
    "name": "ipython",
    "version": 3
   },
   "file_extension": ".py",
   "mimetype": "text/x-python",
   "name": "python",
   "nbconvert_exporter": "python",
   "pygments_lexer": "ipython3",
   "version": "3.7.9"
  },
  "toc": {
   "base_numbering": 1,
   "nav_menu": {},
   "number_sections": true,
   "sideBar": true,
   "skip_h1_title": false,
   "title_cell": "Содержание",
   "title_sidebar": "Содержание",
   "toc_cell": false,
   "toc_position": {},
   "toc_section_display": true,
   "toc_window_display": true
  }
 },
 "nbformat": 4,
 "nbformat_minor": 5
}
