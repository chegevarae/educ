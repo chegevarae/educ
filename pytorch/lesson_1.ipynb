{
 "cells": [
  {
   "cell_type": "markdown",
   "id": "opposed-arcade",
   "metadata": {},
   "source": [
    "# Урок 1. Введение в PyTorch"
   ]
  },
  {
   "cell_type": "markdown",
   "id": "invisible-possession",
   "metadata": {},
   "source": [
    "Используя файл Web1.ipynb добиться хорошего результата от модели, собранной на занятии (6 угаданныx картинок из 8 предложенных).  \n",
    "\n",
    "Варианты изменений:  \n",
    "- изменение слоёв и их количества;  \n",
    "-  изменение метода оптимизации;  \n",
    "-  изменение процесса обучения"
   ]
  },
  {
   "cell_type": "code",
   "execution_count": 1,
   "id": "intended-participation",
   "metadata": {},
   "outputs": [],
   "source": [
    "from IPython import display\n",
    "import numpy as np\n",
    "import random\n",
    "\n",
    "import torch\n",
    "import torchvision\n",
    "from torch import nn \n",
    "from torch import optim\n",
    "import torch.nn.functional as F\n",
    "import torchvision.transforms as transforms\n",
    "import matplotlib.pyplot as plt"
   ]
  },
  {
   "cell_type": "code",
   "execution_count": 2,
   "id": "adapted-cincinnati",
   "metadata": {},
   "outputs": [],
   "source": [
    "device = torch.device(\"cuda:0\" if torch.cuda.is_available() else \"cpu\")"
   ]
  },
  {
   "cell_type": "markdown",
   "id": "illegal-adobe",
   "metadata": {},
   "source": [
    "**Загрузка данных**"
   ]
  },
  {
   "cell_type": "code",
   "execution_count": 3,
   "id": "bigger-termination",
   "metadata": {},
   "outputs": [
    {
     "name": "stdout",
     "output_type": "stream",
     "text": [
      "Files already downloaded and verified\n",
      "torch.Size([3, 32, 32])\n",
      "6\n"
     ]
    }
   ],
   "source": [
    "# Загрузка данных train_dataset\n",
    "train_dataset = torchvision.datasets.CIFAR10(\n",
    "    root='data/',  # путь, куда будут скачиваться данные(если download=true), \n",
    "                   # или где лежат данные(dowload=False)\n",
    "    train=True,    # говорим что используем датасет для обучения  \n",
    "    transform=transforms.ToTensor(), # преобразуем данные в формат тензоров\n",
    "    download=True\n",
    ")\n",
    "\n",
    "\n",
    "image, label = train_dataset[0]\n",
    "print(image.shape)\n",
    "print(label)"
   ]
  },
  {
   "cell_type": "code",
   "execution_count": 4,
   "id": "congressional-kentucky",
   "metadata": {},
   "outputs": [],
   "source": [
    "classes = ['plane', 'car', 'bird', 'cat','deer', 'dog', 'frog', 'horse', 'ship', 'truck']"
   ]
  },
  {
   "cell_type": "code",
   "execution_count": 5,
   "id": "looking-paradise",
   "metadata": {},
   "outputs": [
    {
     "data": {
      "text/plain": [
       "torch.Size([32, 32, 3])"
      ]
     },
     "execution_count": 5,
     "metadata": {},
     "output_type": "execute_result"
    }
   ],
   "source": [
    "image.permute(1, 2, 0).shape"
   ]
  },
  {
   "cell_type": "code",
   "execution_count": 6,
   "id": "adopted-spencer",
   "metadata": {},
   "outputs": [
    {
     "data": {
      "text/plain": [
       "<matplotlib.image.AxesImage at 0x179820d6e08>"
      ]
     },
     "execution_count": 6,
     "metadata": {},
     "output_type": "execute_result"
    },
    {
     "data": {
      "image/png": "[encoded data removed]",
      "text/plain": [
       "<Figure size 432x288 with 1 Axes>"
      ]
     },
     "metadata": {
      "needs_background": "light"
     },
     "output_type": "display_data"
    }
   ],
   "source": [
    "plt.imshow(image.permute(1, 2, 0))"
   ]
  },
  {
   "cell_type": "code",
   "execution_count": 7,
   "id": "declared-croatia",
   "metadata": {},
   "outputs": [],
   "source": [
    "# Даталоадер\n",
    "train_loader = torch.utils.data.DataLoader(\n",
    "    dataset=train_dataset,\n",
    "    batch_size=64, \n",
    "    shuffle=True\n",
    ")"
   ]
  },
  {
   "cell_type": "code",
   "execution_count": 8,
   "id": "valuable-taiwan",
   "metadata": {},
   "outputs": [
    {
     "name": "stdout",
     "output_type": "stream",
     "text": [
      "torch.Size([64, 3, 32, 32]) torch.Size([64])\n",
      "car\n"
     ]
    },
    {
     "data": {
      "image/png": "[encoded data removed]",
      "text/plain": [
       "<Figure size 432x288 with 1 Axes>"
      ]
     },
     "metadata": {
      "needs_background": "light"
     },
     "output_type": "display_data"
    }
   ],
   "source": [
    "for imgs, labels in train_loader:\n",
    "    print(imgs.shape, labels.shape)\n",
    "    print(classes[labels[0]])\n",
    "    plt.imshow(imgs[0].permute(1, 2, 0))\n",
    "    break"
   ]
  },
  {
   "cell_type": "code",
   "execution_count": 9,
   "id": "helpful-chase",
   "metadata": {},
   "outputs": [
    {
     "name": "stdout",
     "output_type": "stream",
     "text": [
      "Files already downloaded and verified\n"
     ]
    }
   ],
   "source": [
    "# Загрузка данных test_dataset\n",
    "test_dataset = torchvision.datasets.CIFAR10(\n",
    "    root='./data',\n",
    "    train=False,\n",
    "    download=True,\n",
    "    transform=transforms.ToTensor()\n",
    ")\n",
    "\n",
    "test_loader = torch.utils.data.DataLoader(\n",
    "    test_dataset,\n",
    "    batch_size=8,\n",
    "    shuffle=False\n",
    ")"
   ]
  },
  {
   "cell_type": "markdown",
   "id": "viral-generator",
   "metadata": {},
   "source": [
    "**Реализация классификационной сети**"
   ]
  },
  {
   "cell_type": "code",
   "execution_count": 10,
   "id": "unsigned-championship",
   "metadata": {},
   "outputs": [],
   "source": [
    "# Определим модель\n",
    "\n",
    "class Net(nn.Module):\n",
    "    def __init__(self):\n",
    "        super().__init__()\n",
    "        self.conv1 = nn.Conv2d(in_channels=3,\n",
    "                               out_channels=6,\n",
    "                               kernel_size=3) # < --- ИЗМЕНЕН KERNEL_SIZE\n",
    "        self.pool = nn.MaxPool2d(kernel_size=2,\n",
    "                                 stride=2)\n",
    "        self.conv2 = nn.Conv2d(in_channels=6,\n",
    "                               out_channels=16,\n",
    "                               kernel_size=3) # < --- ИЗМЕНЕН KERNEL_SIZE\n",
    "        # --- ИЗМЕНЕНО КОЛ-ВО СЛОЕВ ---\n",
    "        self.conv3 = nn.Conv2d(in_channels=16,\n",
    "                       out_channels=32,\n",
    "                       kernel_size=3)\n",
    "        self.fc1 = nn.Linear(in_features=32 * 2 * 2,\n",
    "                             out_features=120)\n",
    "        \n",
    "        self.fc2 = nn.Linear(in_features=120,\n",
    "                             out_features=60)\n",
    "        self.fc3 = nn.Linear(in_features=60,\n",
    "                             out_features=30)\n",
    "\n",
    "    def forward(self, x):\n",
    "        x = self.pool(F.relu(self.conv1(x)))\n",
    "        x = self.pool(F.relu(self.conv2(x)))\n",
    "        x = self.pool(F.relu(self.conv3(x)))\n",
    "        x = x.reshape(-1, 32 * 2 * 2)\n",
    "        x = F.relu(self.fc1(x))\n",
    "        x = F.relu(self.fc2(x))\n",
    "        x = self.fc3(x)\n",
    "        return x\n",
    "\n",
    "#     class Net(nn.Module):\n",
    "#     def __init__(self):\n",
    "#         super().__init__()\n",
    "#         self.conv1 = nn.Conv2d(in_channels=3,\n",
    "#                                out_channels=6,\n",
    "#                                kernel_size=5)\n",
    "#         self.pool = nn.MaxPool2d(kernel_size=2,\n",
    "#                                  stride=2)\n",
    "#         self.conv2 = nn.Conv2d(in_channels=6,\n",
    "#                                out_channels=16,\n",
    "#                                kernel_size=5)\n",
    "#         self.fc1 = nn.Linear(in_features=16 * 5 * 5,\n",
    "#                              out_features=120)\n",
    "#         self.fc2 = nn.Linear(in_features=120,\n",
    "#                              out_features=84)\n",
    "#         self.fc3 = nn.Linear(in_features=84,\n",
    "#                              out_features=10)\n",
    "\n",
    "#     def forward(self, x):\n",
    "#         x = self.pool(F.relu(self.conv1(x)))\n",
    "#         x = self.pool(F.relu(self.conv2(x)))\n",
    "#         x = x.reshape(-1, 16 * 5 * 5)\n",
    "#         x = F.relu(self.fc1(x))\n",
    "#         x = F.relu(self.fc2(x))\n",
    "#         x = self.fc3(x)\n",
    "#         return x\n",
    "    \n",
    "net = Net()"
   ]
  },
  {
   "cell_type": "code",
   "execution_count": 11,
   "id": "invalid-catch",
   "metadata": {},
   "outputs": [
    {
     "data": {
      "text/plain": [
       "Net(\n",
       "  (conv1): Conv2d(3, 6, kernel_size=(3, 3), stride=(1, 1))\n",
       "  (pool): MaxPool2d(kernel_size=2, stride=2, padding=0, dilation=1, ceil_mode=False)\n",
       "  (conv2): Conv2d(6, 16, kernel_size=(3, 3), stride=(1, 1))\n",
       "  (conv3): Conv2d(16, 32, kernel_size=(3, 3), stride=(1, 1))\n",
       "  (fc1): Linear(in_features=128, out_features=120, bias=True)\n",
       "  (fc2): Linear(in_features=120, out_features=60, bias=True)\n",
       "  (fc3): Linear(in_features=60, out_features=30, bias=True)\n",
       ")"
      ]
     },
     "execution_count": 11,
     "metadata": {},
     "output_type": "execute_result"
    }
   ],
   "source": [
    "net"
   ]
  },
  {
   "cell_type": "code",
   "execution_count": 12,
   "id": "asian-yeast",
   "metadata": {},
   "outputs": [],
   "source": [
    "# Метод оптимизации\n",
    "criterion = nn.CrossEntropyLoss()\n",
    "optimizer = optim.Adam(net.parameters(), lr=0.001) # <--- ИЗМЕНЕН МЕТОД ОПТИМИЗАЦИИ"
   ]
  },
  {
   "cell_type": "code",
   "execution_count": 13,
   "id": "sorted-istanbul",
   "metadata": {},
   "outputs": [
    {
     "name": "stderr",
     "output_type": "stream",
     "text": [
      "c:\\users\\vlad\\appdata\\local\\programs\\python\\python37\\lib\\site-packages\\torch\\nn\\functional.py:718: UserWarning: Named tensors and all their associated APIs are an experimental feature and subject to change. Please do not use them for anything important until they are released as stable. (Triggered internally at  ..\\c10/core/TensorImpl.h:1156.)\n",
      "  return torch.max_pool2d(input, kernel_size, stride, padding, dilation, ceil_mode)\n"
     ]
    },
    {
     "name": "stdout",
     "output_type": "stream",
     "text": [
      "Epoch [1/15]. Step [1/782]. Loss: 0.053\n",
      "Epoch [1/15]. Step [301/782]. Loss: 0.036\n",
      "Epoch [1/15]. Step [601/782]. Loss: 0.031\n",
      "Epoch [2/15]. Step [1/782]. Loss: 0.027\n",
      "Epoch [2/15]. Step [301/782]. Loss: 0.027\n",
      "Epoch [2/15]. Step [601/782]. Loss: 0.025\n",
      "Epoch [3/15]. Step [1/782]. Loss: 0.021\n",
      "Epoch [3/15]. Step [301/782]. Loss: 0.024\n",
      "Epoch [3/15]. Step [601/782]. Loss: 0.023\n",
      "Epoch [4/15]. Step [1/782]. Loss: 0.024\n",
      "Epoch [4/15]. Step [301/782]. Loss: 0.022\n",
      "Epoch [4/15]. Step [601/782]. Loss: 0.022\n",
      "Epoch [5/15]. Step [1/782]. Loss: 0.019\n",
      "Epoch [5/15]. Step [301/782]. Loss: 0.021\n",
      "Epoch [5/15]. Step [601/782]. Loss: 0.021\n",
      "Epoch [6/15]. Step [1/782]. Loss: 0.022\n",
      "Epoch [6/15]. Step [301/782]. Loss: 0.020\n",
      "Epoch [6/15]. Step [601/782]. Loss: 0.020\n",
      "Epoch [7/15]. Step [1/782]. Loss: 0.017\n",
      "Epoch [7/15]. Step [301/782]. Loss: 0.020\n",
      "Epoch [7/15]. Step [601/782]. Loss: 0.020\n",
      "Epoch [8/15]. Step [1/782]. Loss: 0.021\n",
      "Epoch [8/15]. Step [301/782]. Loss: 0.019\n",
      "Epoch [8/15]. Step [601/782]. Loss: 0.019\n",
      "Epoch [9/15]. Step [1/782]. Loss: 0.017\n",
      "Epoch [9/15]. Step [301/782]. Loss: 0.019\n",
      "Epoch [9/15]. Step [601/782]. Loss: 0.019\n",
      "Epoch [10/15]. Step [1/782]. Loss: 0.017\n",
      "Epoch [10/15]. Step [301/782]. Loss: 0.018\n",
      "Epoch [10/15]. Step [601/782]. Loss: 0.018\n",
      "Epoch [11/15]. Step [1/782]. Loss: 0.017\n",
      "Epoch [11/15]. Step [301/782]. Loss: 0.018\n",
      "Epoch [11/15]. Step [601/782]. Loss: 0.018\n",
      "Epoch [12/15]. Step [1/782]. Loss: 0.017\n",
      "Epoch [12/15]. Step [301/782]. Loss: 0.017\n",
      "Epoch [12/15]. Step [601/782]. Loss: 0.017\n",
      "Epoch [13/15]. Step [1/782]. Loss: 0.019\n",
      "Epoch [13/15]. Step [301/782]. Loss: 0.017\n",
      "Epoch [13/15]. Step [601/782]. Loss: 0.017\n",
      "Epoch [14/15]. Step [1/782]. Loss: 0.018\n",
      "Epoch [14/15]. Step [301/782]. Loss: 0.017\n",
      "Epoch [14/15]. Step [601/782]. Loss: 0.017\n",
      "Epoch [15/15]. Step [1/782]. Loss: 0.017\n",
      "Epoch [15/15]. Step [301/782]. Loss: 0.016\n",
      "Epoch [15/15]. Step [601/782]. Loss: 0.016\n",
      "Training is finished!\n",
      "Wall time: 2min 16s\n"
     ]
    }
   ],
   "source": [
    "%%time\n",
    "num_epochs = 15 # < --- ИЗМЕНЕНО КОЛ-ВО ЭПОХ\n",
    "\n",
    "for epoch in range(num_epochs):\n",
    "    running_loss = 0.0  # Для вывода процесса обучения\n",
    "    running_items = 0.0\n",
    "\n",
    "    for i, data in enumerate(train_loader):\n",
    "        inputs, labels = data[0].to(device), data[1].to(device)\n",
    "\n",
    "        # Обнуляем градиент\n",
    "        optimizer.zero_grad()\n",
    "        # Делаем предсказание\n",
    "        outputs = net(inputs)\n",
    "        # Рассчитываем лосс-функцию\n",
    "        loss = criterion(outputs, labels)\n",
    "        # Делаем шаг назад по лоссу\n",
    "        loss.backward()\n",
    "        # Делаем шаг нашего оптимайзера\n",
    "        optimizer.step()\n",
    "\n",
    "        # выводим статистику о процессе обучения\n",
    "        running_loss += loss.item()\n",
    "        running_items += len(labels)\n",
    "        if i % 300 == 0:    # печатаем каждые 300\n",
    "            print(f'Epoch [{epoch + 1}/{num_epochs}]. ' \\\n",
    "                  f'Step [{i + 1}/{len(train_loader)}]. ' \\\n",
    "                  f'Loss: {running_loss / running_items:.3f}')\n",
    "            running_loss, running_items = 0.0, 0.0\n",
    "\n",
    "print('Training is finished!')"
   ]
  },
  {
   "cell_type": "markdown",
   "id": "environmental-drill",
   "metadata": {},
   "source": [
    "**Сохранение модели**"
   ]
  },
  {
   "cell_type": "code",
   "execution_count": 14,
   "id": "searching-broad",
   "metadata": {},
   "outputs": [],
   "source": [
    "PATH_WEIGHTS = './data/cifar_net_test_version_weights.pth'\n",
    "torch.save(net.state_dict(), PATH_WEIGHTS)"
   ]
  },
  {
   "cell_type": "code",
   "execution_count": 15,
   "id": "thrown-belgium",
   "metadata": {},
   "outputs": [
    {
     "name": "stdout",
     "output_type": "stream",
     "text": [
      "Model state_dict: \n",
      "conv1.weight \t torch.Size([6, 3, 3, 3])\n",
      "conv1.bias \t torch.Size([6])\n",
      "conv2.weight \t torch.Size([16, 6, 3, 3])\n",
      "conv2.bias \t torch.Size([16])\n",
      "conv3.weight \t torch.Size([32, 16, 3, 3])\n",
      "conv3.bias \t torch.Size([32])\n",
      "fc1.weight \t torch.Size([120, 128])\n",
      "fc1.bias \t torch.Size([120])\n",
      "fc2.weight \t torch.Size([60, 120])\n",
      "fc2.bias \t torch.Size([60])\n",
      "fc3.weight \t torch.Size([30, 60])\n",
      "fc3.bias \t torch.Size([30])\n"
     ]
    }
   ],
   "source": [
    "print(\"Model state_dict: \")\n",
    "for param in net.state_dict():\n",
    "    print(param, \"\\t\", net.state_dict()[param].size())"
   ]
  },
  {
   "cell_type": "code",
   "execution_count": 16,
   "id": "initial-cornell",
   "metadata": {},
   "outputs": [],
   "source": [
    "PATH_MODEL = './data/cifar_net_test_version_model.pth'\n",
    "torch.save(net, PATH_MODEL)"
   ]
  },
  {
   "cell_type": "markdown",
   "id": "surrounded-belle",
   "metadata": {},
   "source": [
    "**Загрузка модели**"
   ]
  },
  {
   "cell_type": "code",
   "execution_count": 17,
   "id": "eleven-hypothesis",
   "metadata": {},
   "outputs": [
    {
     "data": {
      "text/plain": [
       "Net(\n",
       "  (conv1): Conv2d(3, 6, kernel_size=(3, 3), stride=(1, 1))\n",
       "  (pool): MaxPool2d(kernel_size=2, stride=2, padding=0, dilation=1, ceil_mode=False)\n",
       "  (conv2): Conv2d(6, 16, kernel_size=(3, 3), stride=(1, 1))\n",
       "  (conv3): Conv2d(16, 32, kernel_size=(3, 3), stride=(1, 1))\n",
       "  (fc1): Linear(in_features=128, out_features=120, bias=True)\n",
       "  (fc2): Linear(in_features=120, out_features=60, bias=True)\n",
       "  (fc3): Linear(in_features=60, out_features=30, bias=True)\n",
       ")"
      ]
     },
     "execution_count": 17,
     "metadata": {},
     "output_type": "execute_result"
    }
   ],
   "source": [
    "net = Net()\n",
    "net.load_state_dict(torch.load(PATH_WEIGHTS))\n",
    "net"
   ]
  },
  {
   "cell_type": "code",
   "execution_count": 18,
   "id": "administrative-african",
   "metadata": {},
   "outputs": [
    {
     "data": {
      "text/plain": [
       "Net(\n",
       "  (conv1): Conv2d(3, 6, kernel_size=(3, 3), stride=(1, 1))\n",
       "  (pool): MaxPool2d(kernel_size=2, stride=2, padding=0, dilation=1, ceil_mode=False)\n",
       "  (conv2): Conv2d(6, 16, kernel_size=(3, 3), stride=(1, 1))\n",
       "  (conv3): Conv2d(16, 32, kernel_size=(3, 3), stride=(1, 1))\n",
       "  (fc1): Linear(in_features=128, out_features=120, bias=True)\n",
       "  (fc2): Linear(in_features=120, out_features=60, bias=True)\n",
       "  (fc3): Linear(in_features=60, out_features=30, bias=True)\n",
       ")"
      ]
     },
     "execution_count": 18,
     "metadata": {},
     "output_type": "execute_result"
    }
   ],
   "source": [
    "net = torch.load(PATH_MODEL)\n",
    "net.to('cpu')"
   ]
  },
  {
   "cell_type": "code",
   "execution_count": 19,
   "id": "aggregate-familiar",
   "metadata": {},
   "outputs": [],
   "source": [
    "data_iter = iter(test_loader)\n",
    "images, labels = data_iter.next()"
   ]
  },
  {
   "cell_type": "code",
   "execution_count": 20,
   "id": "improving-integrity",
   "metadata": {},
   "outputs": [
    {
     "name": "stdout",
     "output_type": "stream",
     "text": [
      "GroundTruth:  cat ship ship plane frog frog car frog\n"
     ]
    },
    {
     "data": {
      "image/png": "[encoded data removed]",
      "text/plain": [
       "<Figure size 720x360 with 1 Axes>"
      ]
     },
     "metadata": {
      "needs_background": "light"
     },
     "output_type": "display_data"
    }
   ],
   "source": [
    "outputs = net(images)\n",
    "imgs = torchvision.utils.make_grid(images)\n",
    "plt.figure(figsize=(10, 5))\n",
    "plt.imshow(imgs.permute(1, 2, 0).numpy())\n",
    "print('GroundTruth: ', ' '.join(classes[labels[j]] for j in range(len(labels))))"
   ]
  },
  {
   "cell_type": "code",
   "execution_count": 21,
   "id": "stock-stomach",
   "metadata": {},
   "outputs": [
    {
     "name": "stdout",
     "output_type": "stream",
     "text": [
      "tensor([[ -1.9593,  -2.0003,   0.5104,   4.3758,   0.6674,   2.2235,   1.3327,\n",
      "           0.3940,   2.1842,  -1.9554, -15.2855, -14.8410, -15.9320, -15.0322,\n",
      "         -15.4690, -15.0913, -16.0697, -13.7544, -15.0243, -15.0149, -14.2323,\n",
      "         -15.3682, -15.6978, -14.1212, -15.3969, -15.3588, -15.4389, -15.3595,\n",
      "         -15.7360, -15.0507],\n",
      "        [  4.4882,   6.3959,  -3.3493,  -2.8817,  -2.4841,  -3.8858,  -4.8986,\n",
      "          -4.2451,   7.9928,   4.9391, -40.1046, -39.6222, -41.3615, -41.4342,\n",
      "         -41.6116, -38.8875, -40.5439, -36.2846, -41.1049, -39.7506, -37.9056,\n",
      "         -37.9276, -43.8678, -39.1682, -40.2232, -41.3279, -42.2016, -39.3645,\n",
      "         -39.9622, -40.2828],\n",
      "        [  2.5383,   3.0296,  -1.1585,  -0.9325,  -1.1118,  -2.2160,  -2.6723,\n",
      "          -1.5723,   3.8394,   2.6559, -22.0821, -21.9620, -22.6456, -22.9188,\n",
      "         -22.8560, -21.5803, -22.4347, -20.1331, -22.4551, -22.0771, -20.7994,\n",
      "         -20.9910, -23.9790, -21.4286, -22.2128, -22.9365, -23.1592, -21.5646,\n",
      "         -22.1071, -22.1412],\n",
      "        [  3.7182,   1.9078,  -0.2200,  -1.1343,  -0.9791,  -2.5710,  -1.5647,\n",
      "          -1.9482,   2.7300,   1.4144, -21.4734, -21.2510, -21.7439, -22.1068,\n",
      "         -21.7996, -21.3475, -21.4006, -19.9925, -21.9347, -21.2992, -20.4706,\n",
      "         -20.2410, -22.7861, -21.3158, -21.3483, -22.1340, -22.3030, -20.7439,\n",
      "         -21.3943, -21.5961],\n",
      "        [ -3.1952,  -3.2382,   1.7844,   2.9287,   4.8454,   2.2546,   3.2321,\n",
      "           0.6372,  -2.8273,  -3.8135, -14.1736, -14.0975, -14.7267, -14.6037,\n",
      "         -14.7973, -13.8054, -14.8375, -12.7098, -14.2348, -14.0852, -13.7400,\n",
      "         -14.0075, -15.2354, -13.4219, -14.3378, -14.6901, -14.8741, -14.8288,\n",
      "         -14.6281, -14.5181],\n",
      "        [ -0.8399,  -1.4620,   0.7262,   2.6720,   1.7390,   2.2005,   2.6008,\n",
      "           1.0247,  -2.2088,   0.5428, -14.9528, -15.2541, -16.2805, -15.5073,\n",
      "         -15.7763, -15.4599, -16.2127, -13.6458, -15.3618, -15.0764, -14.6581,\n",
      "         -14.8572, -16.9340, -14.1052, -15.5658, -15.5860, -16.3007, -15.2685,\n",
      "         -15.7613, -15.7731],\n",
      "        [  0.9211,   4.9767,   2.3504,   3.7598,  -3.2032,   3.2585,   0.7384,\n",
      "          -0.6267,  -0.8877,   2.4157, -24.9706, -26.1486, -26.5722, -26.3367,\n",
      "         -25.7747, -25.0491, -26.9206, -23.5663, -24.9774, -26.1020, -25.1562,\n",
      "         -24.8334, -27.6040, -24.7330, -26.0650, -25.4244, -26.6455, -24.6607,\n",
      "         -25.1170, -24.9104],\n",
      "        [ -0.0701,  -2.3895,   3.5752,   1.7413,   2.0973,  -0.1077,   5.3340,\n",
      "          -2.5586,  -0.4479,  -1.6926, -17.4787, -17.1736, -18.1441, -17.6759,\n",
      "         -17.7350, -18.4096, -17.9672, -16.0897, -17.5923, -17.7341, -16.8483,\n",
      "         -17.0483, -18.7304, -16.9175, -17.3644, -18.0144, -18.7077, -17.1222,\n",
      "         -18.0023, -17.8650]], grad_fn=<AddmmBackward>)\n"
     ]
    }
   ],
   "source": [
    "print(outputs)"
   ]
  },
  {
   "cell_type": "code",
   "execution_count": 22,
   "id": "premier-champagne",
   "metadata": {},
   "outputs": [
    {
     "data": {
      "text/plain": [
       "tensor([3, 8, 8, 0, 4, 3, 1, 6])"
      ]
     },
     "execution_count": 22,
     "metadata": {},
     "output_type": "execute_result"
    }
   ],
   "source": [
    "_, predicted = torch.max(outputs, 1)\n",
    "\n",
    "predicted"
   ]
  },
  {
   "cell_type": "code",
   "execution_count": 23,
   "id": "lucky-coast",
   "metadata": {},
   "outputs": [
    {
     "name": "stdout",
     "output_type": "stream",
     "text": [
      "Predicted:  cat ship ship plane deer cat car frog\n"
     ]
    }
   ],
   "source": [
    "print('Predicted: ', ' '.join(classes[predicted[j]] for j in range(len(labels))))"
   ]
  },
  {
   "cell_type": "code",
   "execution_count": 24,
   "id": "special-space",
   "metadata": {},
   "outputs": [
    {
     "name": "stdout",
     "output_type": "stream",
     "text": [
      "['cat' 'ship' 'ship' 'plane' 'frog' 'frog' 'car' 'frog']\n",
      "['cat' 'ship' 'ship' 'plane' 'deer' 'cat' 'car' 'frog']\n",
      "Accuracy is 0.75\n"
     ]
    }
   ],
   "source": [
    "gt = np.array([classes[labels[j]] for j in range(len(labels))])\n",
    "pred = np.array([classes[predicted[j]] for j in range(len(labels))])\n",
    "\n",
    "print(gt)\n",
    "print(pred)\n",
    "print(f'Accuracy is {(gt == pred).sum() / len(gt)}')"
   ]
  },
  {
   "cell_type": "code",
   "execution_count": null,
   "id": "supported-scoop",
   "metadata": {},
   "outputs": [],
   "source": []
  }
 ],
 "metadata": {
  "hide_input": false,
  "kernelspec": {
   "display_name": "Python 3",
   "language": "python",
   "name": "python3"
  },
  "language_info": {
   "codemirror_mode": {
    "name": "ipython",
    "version": 3
   },
   "file_extension": ".py",
   "mimetype": "text/x-python",
   "name": "python",
   "nbconvert_exporter": "python",
   "pygments_lexer": "ipython3",
   "version": "3.7.9"
  },
  "toc": {
   "base_numbering": 1,
   "nav_menu": {},
   "number_sections": true,
   "sideBar": true,
   "skip_h1_title": false,
   "title_cell": "Содержание",
   "title_sidebar": "Содержание",
   "toc_cell": false,
   "toc_position": {},
   "toc_section_display": true,
   "toc_window_display": false
  }
 },
 "nbformat": 4,
 "nbformat_minor": 5
}
