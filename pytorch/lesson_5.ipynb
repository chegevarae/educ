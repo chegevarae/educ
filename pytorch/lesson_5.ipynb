{
 "cells": [
  {
   "cell_type": "markdown",
   "metadata": {},
   "source": [
    "# ДЗ 5. LSTM"
   ]
  },
  {
   "cell_type": "markdown",
   "metadata": {},
   "source": [
    "Приложен ноутбук, в котором реализованы функции для генерации из большого датасета в меньшую его копию.  \n",
    "Вам нужно сделать следующее:  \n",
    "\n",
    "- Сгенерировать меньший датасет из 8-10 классов движения  \n",
    "- Обучить уже существующую модель (предварительно проанализировав, какие параметры модели нужно изменить)  \n",
    "- Изменить модель: посмотреть зависимость от количества LSTM модулей в модели  \n",
    "- *Сгенерировать другой датасет с меньшим количеством “кадров” в серии и сравнить улучшилось или ухудшилось качество предсказания. Провести несколько таких итераций, дать свою оценку уменьшению и увеличению кадров, назвать оптимальное, на ваш взгляд, их количество."
   ]
  },
  {
   "cell_type": "code",
   "execution_count": 1,
   "metadata": {},
   "outputs": [],
   "source": [
    "import os\n",
    "import numpy as np\n",
    "import pandas as pd\n",
    "\n",
    "import torch\n",
    "from torch import nn\n",
    "from torch.utils.data import DataLoader, Dataset\n",
    "\n",
    "from torch import optim\n",
    "import time, math\n",
    "\n",
    "import matplotlib.pyplot as plt"
   ]
  },
  {
   "cell_type": "code",
   "execution_count": 2,
   "metadata": {},
   "outputs": [
    {
     "data": {
      "text/plain": [
       "device(type='cpu')"
      ]
     },
     "execution_count": 2,
     "metadata": {},
     "output_type": "execute_result"
    }
   ],
   "source": [
    "device = torch.device('cuda') if torch.cuda.is_available() else torch.device('cpu')\n",
    "device"
   ]
  },
  {
   "cell_type": "markdown",
   "metadata": {
    "id": "rjRjjXrVGEEN"
   },
   "source": [
    "## Подготовка данных"
   ]
  },
  {
   "cell_type": "markdown",
   "metadata": {
    "id": "yiufimGeGEEP"
   },
   "source": [
    "Изначальный датасет довольно избыточный, поэтому для проведения задания мы пользуемся этим ноутбуком, чтобы взять только нужную часть"
   ]
  },
  {
   "cell_type": "markdown",
   "metadata": {
    "id": "E8oUkDThGEER"
   },
   "source": [
    "Скачать весь датасет (~5 Гб) можно по этой ссылке: https://drive.google.com/file/d/1CUZnBtYwifVXS21yVg62T-vrPVayso5H/view\n",
    "\n",
    "Файл с отсутствующими скелетами можно скачать из репозитория либо с google диска wget: https://github.com/shahroudy/NTURGB-D/blob/master/Matlab/NTU_RGBD_samples_with_missing_skeletons.txt"
   ]
  },
  {
   "cell_type": "code",
   "execution_count": 3,
   "metadata": {
    "id": "a51_D8pCGEES"
   },
   "outputs": [],
   "source": [
    "data_path = \"./data/nturgb_skeletons/\"\n",
    "# список отсутсвующих элементов\n",
    "broken_files_path = \"./data/missed_action_rec.txt\""
   ]
  },
  {
   "cell_type": "code",
   "execution_count": 4,
   "metadata": {
    "id": "k2qtw3I4GEET"
   },
   "outputs": [],
   "source": [
    "training_classes = [8, 10, 22, 23, 27] # классы которые будем использовать \n",
    "# для обучения, полный список представлен тут https://github.com/shahroudy/NTURGB-D\n",
    "\n",
    "training_cameras = [1, 2, 3] \n",
    "\n",
    "amount_of_samples = 120\n",
    "num_joint = 25\n",
    "max_frame = 45  # Длина отрезка которую мы достаем из датасета"
   ]
  },
  {
   "cell_type": "markdown",
   "metadata": {
    "id": "W1xJJWBCGEEU"
   },
   "source": [
    "Есть функция, которая позволяет нам считать данные для каждого класса. "
   ]
  },
  {
   "cell_type": "code",
   "execution_count": 5,
   "metadata": {
    "id": "cvUyrLPzGEEU"
   },
   "outputs": [],
   "source": [
    "def read_data(data_path, broken_files_path):\n",
    "    labels = []\n",
    "    files = []\n",
    "    action_classes = {}\n",
    "    counter = 0\n",
    "    files_counter = {}\n",
    "              \n",
    "    with open(broken_files_path, 'r') as f:\n",
    "        broken_files = f.read().split(\"\\n\")\n",
    "\n",
    "    raw_files = os.listdir(data_path)\n",
    "    num_frames = 0\n",
    "\n",
    "    for filename in raw_files:\n",
    "        if filename not in broken_files:\n",
    "            action_class = int(filename[filename.find('A') + 1:filename.find('A') + 4])\n",
    "            camera_id = int(filename[filename.find('C') + 1:filename.find('C') + 4])\n",
    "            \n",
    "            if action_class in training_classes and camera_id in training_cameras:\n",
    "                if action_class in action_classes:\n",
    "                    if files_counter[action_class] < amount_of_samples:\n",
    "                        files.append([filename, action_classes[action_class]])\n",
    "                        files_counter[action_class] = files_counter[action_class] + 1\n",
    "                else:\n",
    "                    action_classes.update({action_class : counter})\n",
    "                    files_counter.update({action_class : 1})\n",
    "                    counter += 1\n",
    "                    files.append([filename, action_classes[action_class]])\n",
    "\n",
    "    print(\"action classes: \", action_classes)\n",
    "    print(\"action files: \", files_counter)\n",
    "    \n",
    "    return files, action_classes"
   ]
  },
  {
   "cell_type": "code",
   "execution_count": 6,
   "metadata": {
    "id": "Asdm5d3CGEEW"
   },
   "outputs": [],
   "source": [
    "# Функция фильтр для того, что бы найти только координаты x, y, z (т.к. в датасете\n",
    "# хранится на порядок больше информации, нежели только координаты x,y,z)\n",
    "# (Остальные данные нам и не нужны, т.к. у нас нет ик-камер)\n",
    "def read_skeleton_filter(file):\n",
    "    with open(file, 'r') as f:\n",
    "        skeleton_sequence = {}\n",
    "        skeleton_sequence['numFrame'] = int(f.readline())\n",
    "        skeleton_sequence['frameInfo'] = []\n",
    "\n",
    "        for t in range(skeleton_sequence['numFrame']):\n",
    "            frame_info = {}\n",
    "            frame_info['numBody'] = int(f.readline())\n",
    "            frame_info['bodyInfo'] = []\n",
    "\n",
    "            for m in range(frame_info['numBody']):\n",
    "                body_info = {}\n",
    "                body_info_key = [\n",
    "                    'bodyID', 'clipedEdges', 'handLeftConfidence',\n",
    "                    'handLeftState', 'handRightConfidence', 'handRightState',\n",
    "                    'isResticted', 'leanX', 'leanY', 'trackingState'\n",
    "                ]\n",
    "                body_info = {\n",
    "                    k: float(v)\n",
    "                    for k, v in zip(body_info_key, f.readline().split())\n",
    "                }\n",
    "                body_info['numJoint'] = int(f.readline())\n",
    "                body_info['jointInfo'] = []\n",
    "                for v in range(body_info['numJoint']):\n",
    "                    joint_info_key = [\n",
    "                        'x', 'y', 'z', 'depthX', 'depthY', 'colorX', 'colorY',\n",
    "                        'orientationW', 'orientationX', 'orientationY',\n",
    "                        'orientationZ', 'trackingState'\n",
    "                    ]\n",
    "                    joint_info = {\n",
    "                        k: float(v)\n",
    "                        for k, v in zip(joint_info_key, f.readline().split())\n",
    "                    }\n",
    "                    body_info['jointInfo'].append(joint_info)\n",
    "                frame_info['bodyInfo'].append(body_info)\n",
    "            skeleton_sequence['frameInfo'].append(frame_info)\n",
    "\n",
    "    return skeleton_sequence\n",
    "\n",
    "def read_xyz(file, max_body=1, num_joint=25):\n",
    "    seq_info = read_skeleton_filter(file)\n",
    "    data = np.zeros((max_body, seq_info['numFrame'], num_joint, 3))\n",
    "    for n, f in enumerate(seq_info['frameInfo']):\n",
    "        for m, b in enumerate(f['bodyInfo']):\n",
    "            for j, v in enumerate(b['jointInfo']):\n",
    "                if m < max_body and j < num_joint:\n",
    "                    data[m, n, j, :] = [v['x'], v['y'], v['z']]\n",
    "\n",
    "    return data"
   ]
  },
  {
   "cell_type": "markdown",
   "metadata": {
    "id": "Ngsgp9F5GEEY"
   },
   "source": [
    "**В этой функции меняем количество фреймов подаваемых на вход модели**\n",
    "\n",
    "В задании нужно пронаблюдать зависимость качества обучения модели от количества кадров, которые мы подаем в модель. Т.е. то, cколько кадров у нас отведено на один блок.\n",
    "\n",
    "По хорошему функцию ниже нужно прописать внутри определения датасета."
   ]
  },
  {
   "cell_type": "code",
   "execution_count": 7,
   "metadata": {
    "id": "-n3QlyycGEEa"
   },
   "outputs": [],
   "source": [
    "def create_coords_blocks(data, chunk_len=45):   \n",
    "    frame_counter = 0\n",
    "    new_labels = []\n",
    "    new_frames = []\n",
    "    blocks = []\n",
    "    \n",
    "    test_frames = read_xyz(data_path + data[0])[0]\n",
    "    label = data[1]\n",
    "    slice_len = chunk_len * int(len(test_frames)/chunk_len)\n",
    "\n",
    "\n",
    "    for index in range(len(test_frames[:slice_len])):\n",
    "        frame_counter += 1\n",
    "        new_frames.append(test_frames[index].flatten())\n",
    "        if frame_counter == chunk_len:\n",
    "            frame_counter = 0\n",
    "            blocks.append(np.array(new_frames))\n",
    "            new_labels = new_labels + [label]\n",
    "            new_frames = []\n",
    "       \n",
    "            \n",
    "    return blocks, new_labels"
   ]
  },
  {
   "cell_type": "code",
   "execution_count": 8,
   "metadata": {
    "colab": {
     "base_uri": "https://localhost:8080/"
    },
    "id": "CRgRvgEzGEEb",
    "outputId": "503507d2-4bbe-41d6-d62d-4801361669da"
   },
   "outputs": [
    {
     "name": "stdout",
     "output_type": "stream",
     "text": [
      "action classes:  {8: 0, 10: 1, 22: 2, 23: 3, 27: 4}\n",
      "action files:  {8: 120, 10: 120, 22: 120, 23: 120, 27: 120}\n"
     ]
    }
   ],
   "source": [
    "# список файлов с лейблами на каждый файл \n",
    "working_files_with_labels, action_classes = read_data(data_path, broken_files_path)"
   ]
  },
  {
   "cell_type": "code",
   "execution_count": 9,
   "metadata": {
    "id": "oeDl5Hr7GEEc"
   },
   "outputs": [],
   "source": [
    "LABELS = {v: k for k, v in action_classes.items()}"
   ]
  },
  {
   "cell_type": "markdown",
   "metadata": {
    "id": "1_JkOsmfGEEc"
   },
   "source": [
    "Здесь выносится сгенерированный список лейблов с номером класса."
   ]
  },
  {
   "cell_type": "code",
   "execution_count": 10,
   "metadata": {
    "colab": {
     "base_uri": "https://localhost:8080/"
    },
    "id": "t9QdC61uGEEd",
    "outputId": "ef1552db-378b-42e4-96ab-0720efb65168"
   },
   "outputs": [
    {
     "data": {
      "text/plain": [
       "{0: 8, 1: 10, 2: 22, 3: 23, 4: 27}"
      ]
     },
     "execution_count": 10,
     "metadata": {},
     "output_type": "execute_result"
    }
   ],
   "source": [
    "LABELS"
   ]
  },
  {
   "cell_type": "code",
   "execution_count": 11,
   "metadata": {
    "colab": {
     "base_uri": "https://localhost:8080/"
    },
    "id": "_4ftLRC9jd7a",
    "outputId": "4c053cb0-7c7f-4138-b785-932c74e10330"
   },
   "outputs": [
    {
     "data": {
      "text/plain": [
       "[['S001C001P001R001A008.skeleton', 0],\n",
       " ['S001C001P001R001A010.skeleton', 1],\n",
       " ['S001C001P001R001A022.skeleton', 2],\n",
       " ['S001C001P001R001A023.skeleton', 3],\n",
       " ['S001C001P001R001A027.skeleton', 4],\n",
       " ['S001C001P001R002A008.skeleton', 0],\n",
       " ['S001C001P001R002A010.skeleton', 1],\n",
       " ['S001C001P001R002A022.skeleton', 2],\n",
       " ['S001C001P001R002A023.skeleton', 3],\n",
       " ['S001C001P001R002A027.skeleton', 4]]"
      ]
     },
     "execution_count": 11,
     "metadata": {},
     "output_type": "execute_result"
    }
   ],
   "source": [
    "working_files_with_labels[:10]"
   ]
  },
  {
   "cell_type": "code",
   "execution_count": 12,
   "metadata": {
    "colab": {
     "base_uri": "https://localhost:8080/"
    },
    "id": "4ZERVIauGEEd",
    "outputId": "8fcf3ba2-5553-415b-e8c5-3c6d5b25aee7"
   },
   "outputs": [
    {
     "data": {
      "text/plain": [
       "600"
      ]
     },
     "execution_count": 12,
     "metadata": {},
     "output_type": "execute_result"
    }
   ],
   "source": [
    "len(working_files_with_labels)"
   ]
  },
  {
   "cell_type": "code",
   "execution_count": 13,
   "metadata": {
    "id": "RM0Kn71AGEEd"
   },
   "outputs": [],
   "source": [
    "data = []\n",
    "labels = []\n",
    "numbers = {0: 0, 1 : 0, 2 : 0, 3 : 0, 4 :0}\n",
    "for file_label in working_files_with_labels:\n",
    "    frames_blocks, label = create_coords_blocks(file_label, chunk_len=max_frame)\n",
    "    \n",
    "    if label != [] and numbers[label[0]] < amount_of_samples:\n",
    "        numbers[label[0]] = numbers[label[0]] + len(label)\n",
    "        data = data + frames_blocks\n",
    "        labels = labels + label\n",
    "\n",
    "\n",
    "data_np = np.asarray(data)\n",
    "labels_np = np.asarray(labels)\n",
    "\n",
    "data_sq = data_np.reshape(len(data_np), -1)\n",
    "test_data = pd.DataFrame(data_sq)\n",
    "test_labels = pd.DataFrame(labels_np)\n",
    "test_data['labels'] = test_labels"
   ]
  },
  {
   "cell_type": "code",
   "execution_count": 14,
   "metadata": {
    "colab": {
     "base_uri": "https://localhost:8080/"
    },
    "id": "ceYkLWPekx0v",
    "outputId": "51f1a9e2-6c58-4815-909d-46a218030b32"
   },
   "outputs": [
    {
     "data": {
      "text/plain": [
       "{0: 120, 1: 120, 2: 120, 3: 120, 4: 120}"
      ]
     },
     "execution_count": 14,
     "metadata": {},
     "output_type": "execute_result"
    }
   ],
   "source": [
    "numbers"
   ]
  },
  {
   "cell_type": "code",
   "execution_count": 15,
   "metadata": {
    "colab": {
     "base_uri": "https://localhost:8080/",
     "height": 442
    },
    "id": "wllf6_TBjXH1",
    "outputId": "6d49c618-7326-425c-e26f-866d34a1c336"
   },
   "outputs": [
    {
     "data": {
      "text/html": [
       "<div>\n",
       "<style scoped>\n",
       "    .dataframe tbody tr th:only-of-type {\n",
       "        vertical-align: middle;\n",
       "    }\n",
       "\n",
       "    .dataframe tbody tr th {\n",
       "        vertical-align: top;\n",
       "    }\n",
       "\n",
       "    .dataframe thead th {\n",
       "        text-align: right;\n",
       "    }\n",
       "</style>\n",
       "<table border=\"1\" class=\"dataframe\">\n",
       "  <thead>\n",
       "    <tr style=\"text-align: right;\">\n",
       "      <th></th>\n",
       "      <th>0</th>\n",
       "      <th>1</th>\n",
       "      <th>2</th>\n",
       "      <th>3</th>\n",
       "      <th>4</th>\n",
       "      <th>5</th>\n",
       "      <th>6</th>\n",
       "      <th>7</th>\n",
       "      <th>8</th>\n",
       "      <th>9</th>\n",
       "      <th>...</th>\n",
       "      <th>3366</th>\n",
       "      <th>3367</th>\n",
       "      <th>3368</th>\n",
       "      <th>3369</th>\n",
       "      <th>3370</th>\n",
       "      <th>3371</th>\n",
       "      <th>3372</th>\n",
       "      <th>3373</th>\n",
       "      <th>3374</th>\n",
       "      <th>labels</th>\n",
       "    </tr>\n",
       "  </thead>\n",
       "  <tbody>\n",
       "    <tr>\n",
       "      <th>0</th>\n",
       "      <td>-0.080141</td>\n",
       "      <td>0.135073</td>\n",
       "      <td>3.691227</td>\n",
       "      <td>-0.058513</td>\n",
       "      <td>0.396866</td>\n",
       "      <td>3.606265</td>\n",
       "      <td>-0.037811</td>\n",
       "      <td>0.652906</td>\n",
       "      <td>3.509790</td>\n",
       "      <td>-0.066903</td>\n",
       "      <td>...</td>\n",
       "      <td>-0.066586</td>\n",
       "      <td>-0.194186</td>\n",
       "      <td>3.880914</td>\n",
       "      <td>0.103226</td>\n",
       "      <td>-0.183070</td>\n",
       "      <td>3.717531</td>\n",
       "      <td>0.180819</td>\n",
       "      <td>-0.130425</td>\n",
       "      <td>3.724300</td>\n",
       "      <td>0</td>\n",
       "    </tr>\n",
       "    <tr>\n",
       "      <th>1</th>\n",
       "      <td>-0.035358</td>\n",
       "      <td>0.192430</td>\n",
       "      <td>3.681518</td>\n",
       "      <td>-0.021036</td>\n",
       "      <td>0.422171</td>\n",
       "      <td>3.606487</td>\n",
       "      <td>-0.007186</td>\n",
       "      <td>0.646429</td>\n",
       "      <td>3.520689</td>\n",
       "      <td>-0.042399</td>\n",
       "      <td>...</td>\n",
       "      <td>-0.247820</td>\n",
       "      <td>0.496547</td>\n",
       "      <td>3.406900</td>\n",
       "      <td>-0.056666</td>\n",
       "      <td>0.495373</td>\n",
       "      <td>3.269386</td>\n",
       "      <td>-0.050549</td>\n",
       "      <td>0.490788</td>\n",
       "      <td>3.258667</td>\n",
       "      <td>1</td>\n",
       "    </tr>\n",
       "    <tr>\n",
       "      <th>2</th>\n",
       "      <td>0.399282</td>\n",
       "      <td>-0.026338</td>\n",
       "      <td>4.099298</td>\n",
       "      <td>0.382165</td>\n",
       "      <td>0.177244</td>\n",
       "      <td>4.002089</td>\n",
       "      <td>0.359935</td>\n",
       "      <td>0.376536</td>\n",
       "      <td>3.893836</td>\n",
       "      <td>0.338453</td>\n",
       "      <td>...</td>\n",
       "      <td>0.300487</td>\n",
       "      <td>0.700893</td>\n",
       "      <td>3.694455</td>\n",
       "      <td>0.535627</td>\n",
       "      <td>0.814146</td>\n",
       "      <td>3.868758</td>\n",
       "      <td>0.530421</td>\n",
       "      <td>0.797046</td>\n",
       "      <td>3.864750</td>\n",
       "      <td>2</td>\n",
       "    </tr>\n",
       "    <tr>\n",
       "      <th>3</th>\n",
       "      <td>0.449151</td>\n",
       "      <td>0.001842</td>\n",
       "      <td>4.170505</td>\n",
       "      <td>0.412885</td>\n",
       "      <td>0.192257</td>\n",
       "      <td>4.103466</td>\n",
       "      <td>0.375976</td>\n",
       "      <td>0.379683</td>\n",
       "      <td>4.026225</td>\n",
       "      <td>0.401664</td>\n",
       "      <td>...</td>\n",
       "      <td>0.723439</td>\n",
       "      <td>0.436599</td>\n",
       "      <td>4.077281</td>\n",
       "      <td>0.535588</td>\n",
       "      <td>0.585105</td>\n",
       "      <td>4.202623</td>\n",
       "      <td>0.536817</td>\n",
       "      <td>0.559229</td>\n",
       "      <td>4.186821</td>\n",
       "      <td>2</td>\n",
       "    </tr>\n",
       "    <tr>\n",
       "      <th>4</th>\n",
       "      <td>0.424387</td>\n",
       "      <td>0.040135</td>\n",
       "      <td>4.204897</td>\n",
       "      <td>0.398431</td>\n",
       "      <td>0.244353</td>\n",
       "      <td>4.116918</td>\n",
       "      <td>0.373611</td>\n",
       "      <td>0.444495</td>\n",
       "      <td>4.016130</td>\n",
       "      <td>0.355235</td>\n",
       "      <td>...</td>\n",
       "      <td>0.183856</td>\n",
       "      <td>-0.074939</td>\n",
       "      <td>3.937576</td>\n",
       "      <td>0.369532</td>\n",
       "      <td>0.690305</td>\n",
       "      <td>3.718855</td>\n",
       "      <td>0.411135</td>\n",
       "      <td>0.633985</td>\n",
       "      <td>3.657250</td>\n",
       "      <td>3</td>\n",
       "    </tr>\n",
       "    <tr>\n",
       "      <th>...</th>\n",
       "      <td>...</td>\n",
       "      <td>...</td>\n",
       "      <td>...</td>\n",
       "      <td>...</td>\n",
       "      <td>...</td>\n",
       "      <td>...</td>\n",
       "      <td>...</td>\n",
       "      <td>...</td>\n",
       "      <td>...</td>\n",
       "      <td>...</td>\n",
       "      <td>...</td>\n",
       "      <td>...</td>\n",
       "      <td>...</td>\n",
       "      <td>...</td>\n",
       "      <td>...</td>\n",
       "      <td>...</td>\n",
       "      <td>...</td>\n",
       "      <td>...</td>\n",
       "      <td>...</td>\n",
       "      <td>...</td>\n",
       "      <td>...</td>\n",
       "    </tr>\n",
       "    <tr>\n",
       "      <th>595</th>\n",
       "      <td>0.312087</td>\n",
       "      <td>-0.378863</td>\n",
       "      <td>2.409601</td>\n",
       "      <td>0.295692</td>\n",
       "      <td>-0.109126</td>\n",
       "      <td>2.398817</td>\n",
       "      <td>0.279025</td>\n",
       "      <td>0.154661</td>\n",
       "      <td>2.375042</td>\n",
       "      <td>0.315696</td>\n",
       "      <td>...</td>\n",
       "      <td>-0.041539</td>\n",
       "      <td>-0.395008</td>\n",
       "      <td>2.447000</td>\n",
       "      <td>0.033147</td>\n",
       "      <td>-0.290463</td>\n",
       "      <td>2.392946</td>\n",
       "      <td>0.066328</td>\n",
       "      <td>-0.222162</td>\n",
       "      <td>2.368111</td>\n",
       "      <td>4</td>\n",
       "    </tr>\n",
       "    <tr>\n",
       "      <th>596</th>\n",
       "      <td>0.055381</td>\n",
       "      <td>-0.403415</td>\n",
       "      <td>2.414510</td>\n",
       "      <td>0.088547</td>\n",
       "      <td>-0.115163</td>\n",
       "      <td>2.372648</td>\n",
       "      <td>0.119760</td>\n",
       "      <td>0.166645</td>\n",
       "      <td>2.319130</td>\n",
       "      <td>0.087869</td>\n",
       "      <td>...</td>\n",
       "      <td>-0.242477</td>\n",
       "      <td>-0.399028</td>\n",
       "      <td>2.528000</td>\n",
       "      <td>0.213002</td>\n",
       "      <td>-0.448657</td>\n",
       "      <td>2.234374</td>\n",
       "      <td>0.133678</td>\n",
       "      <td>-0.386051</td>\n",
       "      <td>2.252850</td>\n",
       "      <td>4</td>\n",
       "    </tr>\n",
       "    <tr>\n",
       "      <th>597</th>\n",
       "      <td>0.363812</td>\n",
       "      <td>-0.355993</td>\n",
       "      <td>2.818562</td>\n",
       "      <td>0.343356</td>\n",
       "      <td>-0.071970</td>\n",
       "      <td>2.788012</td>\n",
       "      <td>0.321898</td>\n",
       "      <td>0.206311</td>\n",
       "      <td>2.745456</td>\n",
       "      <td>0.383024</td>\n",
       "      <td>...</td>\n",
       "      <td>0.202132</td>\n",
       "      <td>-0.510219</td>\n",
       "      <td>2.547600</td>\n",
       "      <td>0.477901</td>\n",
       "      <td>-0.429105</td>\n",
       "      <td>2.738215</td>\n",
       "      <td>0.471565</td>\n",
       "      <td>-0.400574</td>\n",
       "      <td>2.726966</td>\n",
       "      <td>4</td>\n",
       "    </tr>\n",
       "    <tr>\n",
       "      <th>598</th>\n",
       "      <td>-0.122613</td>\n",
       "      <td>-0.347504</td>\n",
       "      <td>2.336779</td>\n",
       "      <td>-0.103212</td>\n",
       "      <td>-0.024744</td>\n",
       "      <td>2.325490</td>\n",
       "      <td>-0.083856</td>\n",
       "      <td>0.289711</td>\n",
       "      <td>2.301086</td>\n",
       "      <td>-0.109478</td>\n",
       "      <td>...</td>\n",
       "      <td>-0.303258</td>\n",
       "      <td>-0.395508</td>\n",
       "      <td>2.220500</td>\n",
       "      <td>0.067754</td>\n",
       "      <td>-0.509684</td>\n",
       "      <td>2.099763</td>\n",
       "      <td>0.061477</td>\n",
       "      <td>-0.418800</td>\n",
       "      <td>2.100650</td>\n",
       "      <td>4</td>\n",
       "    </tr>\n",
       "    <tr>\n",
       "      <th>599</th>\n",
       "      <td>0.414431</td>\n",
       "      <td>-0.326491</td>\n",
       "      <td>2.385624</td>\n",
       "      <td>0.396842</td>\n",
       "      <td>-0.007564</td>\n",
       "      <td>2.376236</td>\n",
       "      <td>0.377614</td>\n",
       "      <td>0.302697</td>\n",
       "      <td>2.352159</td>\n",
       "      <td>0.432733</td>\n",
       "      <td>...</td>\n",
       "      <td>0.236991</td>\n",
       "      <td>-0.367621</td>\n",
       "      <td>2.096158</td>\n",
       "      <td>0.741195</td>\n",
       "      <td>-0.287015</td>\n",
       "      <td>2.280734</td>\n",
       "      <td>0.743311</td>\n",
       "      <td>-0.234719</td>\n",
       "      <td>2.287000</td>\n",
       "      <td>4</td>\n",
       "    </tr>\n",
       "  </tbody>\n",
       "</table>\n",
       "<p>600 rows × 3376 columns</p>\n",
       "</div>"
      ],
      "text/plain": [
       "            0         1         2         3         4         5         6  \\\n",
       "0   -0.080141  0.135073  3.691227 -0.058513  0.396866  3.606265 -0.037811   \n",
       "1   -0.035358  0.192430  3.681518 -0.021036  0.422171  3.606487 -0.007186   \n",
       "2    0.399282 -0.026338  4.099298  0.382165  0.177244  4.002089  0.359935   \n",
       "3    0.449151  0.001842  4.170505  0.412885  0.192257  4.103466  0.375976   \n",
       "4    0.424387  0.040135  4.204897  0.398431  0.244353  4.116918  0.373611   \n",
       "..        ...       ...       ...       ...       ...       ...       ...   \n",
       "595  0.312087 -0.378863  2.409601  0.295692 -0.109126  2.398817  0.279025   \n",
       "596  0.055381 -0.403415  2.414510  0.088547 -0.115163  2.372648  0.119760   \n",
       "597  0.363812 -0.355993  2.818562  0.343356 -0.071970  2.788012  0.321898   \n",
       "598 -0.122613 -0.347504  2.336779 -0.103212 -0.024744  2.325490 -0.083856   \n",
       "599  0.414431 -0.326491  2.385624  0.396842 -0.007564  2.376236  0.377614   \n",
       "\n",
       "            7         8         9  ...      3366      3367      3368  \\\n",
       "0    0.652906  3.509790 -0.066903  ... -0.066586 -0.194186  3.880914   \n",
       "1    0.646429  3.520689 -0.042399  ... -0.247820  0.496547  3.406900   \n",
       "2    0.376536  3.893836  0.338453  ...  0.300487  0.700893  3.694455   \n",
       "3    0.379683  4.026225  0.401664  ...  0.723439  0.436599  4.077281   \n",
       "4    0.444495  4.016130  0.355235  ...  0.183856 -0.074939  3.937576   \n",
       "..        ...       ...       ...  ...       ...       ...       ...   \n",
       "595  0.154661  2.375042  0.315696  ... -0.041539 -0.395008  2.447000   \n",
       "596  0.166645  2.319130  0.087869  ... -0.242477 -0.399028  2.528000   \n",
       "597  0.206311  2.745456  0.383024  ...  0.202132 -0.510219  2.547600   \n",
       "598  0.289711  2.301086 -0.109478  ... -0.303258 -0.395508  2.220500   \n",
       "599  0.302697  2.352159  0.432733  ...  0.236991 -0.367621  2.096158   \n",
       "\n",
       "         3369      3370      3371      3372      3373      3374  labels  \n",
       "0    0.103226 -0.183070  3.717531  0.180819 -0.130425  3.724300       0  \n",
       "1   -0.056666  0.495373  3.269386 -0.050549  0.490788  3.258667       1  \n",
       "2    0.535627  0.814146  3.868758  0.530421  0.797046  3.864750       2  \n",
       "3    0.535588  0.585105  4.202623  0.536817  0.559229  4.186821       2  \n",
       "4    0.369532  0.690305  3.718855  0.411135  0.633985  3.657250       3  \n",
       "..        ...       ...       ...       ...       ...       ...     ...  \n",
       "595  0.033147 -0.290463  2.392946  0.066328 -0.222162  2.368111       4  \n",
       "596  0.213002 -0.448657  2.234374  0.133678 -0.386051  2.252850       4  \n",
       "597  0.477901 -0.429105  2.738215  0.471565 -0.400574  2.726966       4  \n",
       "598  0.067754 -0.509684  2.099763  0.061477 -0.418800  2.100650       4  \n",
       "599  0.741195 -0.287015  2.280734  0.743311 -0.234719  2.287000       4  \n",
       "\n",
       "[600 rows x 3376 columns]"
      ]
     },
     "execution_count": 15,
     "metadata": {},
     "output_type": "execute_result"
    }
   ],
   "source": [
    "test_data"
   ]
  },
  {
   "cell_type": "markdown",
   "metadata": {
    "id": "hVqMn1WhGEEe"
   },
   "source": [
    "**Ваш итоговый файл**"
   ]
  },
  {
   "cell_type": "code",
   "execution_count": 16,
   "metadata": {
    "id": "0jGhjKYLGEEe"
   },
   "outputs": [],
   "source": [
    "test_data.to_csv(\"./data/new_skels.csv\", index=False)"
   ]
  },
  {
   "cell_type": "markdown",
   "metadata": {},
   "source": [
    "## LSTM"
   ]
  },
  {
   "cell_type": "code",
   "execution_count": 17,
   "metadata": {
    "id": "3Zy8CEIztjVh"
   },
   "outputs": [],
   "source": [
    "# class LSTM\n",
    "class LSTM(nn.Module):\n",
    "    def __init__(self, input_dim,hidden_dim, output_layer, layer_num):\n",
    "        super().__init__()\n",
    "        self.hidden_layer = hidden_layer\n",
    "        self.output_layer = output_layer\n",
    "        self.lstm = torch.nn.LSTM(input_dim, hidden_layer, layer_num, batch_first=True)\n",
    "        self.dr = torch.nn.Dropout2d(0.1)\n",
    "        self.fc = torch.nn.Linear(hidden_layer, output_layer)\n",
    "        \n",
    "    def forward(self, inputs):\n",
    "        lstm_out, (hn, cn) = self.lstm(inputs)\n",
    "        out = self.fc(lstm_out[:,-1,:])\n",
    "        return out"
   ]
  },
  {
   "cell_type": "code",
   "execution_count": 18,
   "metadata": {
    "id": "BEb-khaKuZqY"
   },
   "outputs": [],
   "source": [
    "# class Skeleton_Dataset\n",
    "class Skeleton_Dataset(Dataset):\n",
    "    def __init__(self, file_path, transform=None):\n",
    "        self.data = pd.read_csv(file_path)\n",
    "        self.transform = transform\n",
    "        self.labels = self.data.iloc[:,-1]\n",
    "\n",
    "    def __len__(self):\n",
    "        return len(self.data)     \n",
    "\n",
    "    def __getitem__(self, idx):\n",
    "        item = np.asarray(self.data.iloc[idx,:-1]).reshape(45,25*3)\n",
    "        label = self.labels[idx]\n",
    "        if self.transform != None:\n",
    "            item = transform(item)\n",
    "\n",
    "        return (item, label)"
   ]
  },
  {
   "cell_type": "code",
   "execution_count": 19,
   "metadata": {
    "id": "bi0rp2KSujBc"
   },
   "outputs": [],
   "source": [
    "dataset = Skeleton_Dataset(file_path = \"./data/new_skels.csv\", transform=None)"
   ]
  },
  {
   "cell_type": "code",
   "execution_count": 20,
   "metadata": {
    "colab": {
     "base_uri": "https://localhost:8080/"
    },
    "id": "yYIubUkkuj75",
    "outputId": "fc3023ee-687c-47bd-d876-09d0a1005382"
   },
   "outputs": [
    {
     "data": {
      "text/plain": [
       "(0,\n",
       " array([[ 2.309268e-01,  1.717751e-01,  3.468707e+00, ...,  4.021195e-01,\n",
       "          7.886114e-02,  3.567400e+00],\n",
       "        [ 2.294275e-01,  1.719450e-01,  3.467602e+00, ...,  3.972856e-01,\n",
       "          7.944696e-02,  3.556462e+00],\n",
       "        [ 2.284752e-01,  1.717147e-01,  3.468061e+00, ...,  3.986419e-01,\n",
       "          7.899660e-02,  3.544917e+00],\n",
       "        ...,\n",
       "        [ 8.144868e-02,  1.062899e-03,  3.780097e+00, ...,  2.479305e-01,\n",
       "         -1.786295e-01,  3.657214e+00],\n",
       "        [ 7.967783e-02, -5.694121e-02,  3.788587e+00, ...,  2.457043e-01,\n",
       "         -1.772014e-01,  3.660200e+00],\n",
       "        [ 7.463989e-02, -1.510391e-01,  3.899477e+00, ...,  2.137840e-01,\n",
       "         -1.745473e-01,  3.685313e+00]]))"
      ]
     },
     "execution_count": 20,
     "metadata": {},
     "output_type": "execute_result"
    }
   ],
   "source": [
    "skeleton, label = dataset[41]\n",
    "label, skeleton"
   ]
  },
  {
   "cell_type": "code",
   "execution_count": 21,
   "metadata": {
    "colab": {
     "base_uri": "https://localhost:8080/"
    },
    "id": "cqX3Vv2xu8rc",
    "outputId": "895ca55f-48fc-4194-d20e-6a582a40c248"
   },
   "outputs": [
    {
     "data": {
      "text/plain": [
       "(8, (45, 75))"
      ]
     },
     "execution_count": 21,
     "metadata": {},
     "output_type": "execute_result"
    }
   ],
   "source": [
    "LABELS[label], skeleton.shape"
   ]
  },
  {
   "cell_type": "code",
   "execution_count": 22,
   "metadata": {
    "id": "9Y81YDCJvFBQ"
   },
   "outputs": [],
   "source": [
    "train_shape = 0.7\n",
    "train_len = int(train_shape * len(dataset))\n",
    "train_dataset, test_dataset = torch.utils.data.random_split(dataset, [train_len, len(dataset) - train_len])\n",
    "train_loader = DataLoader(train_dataset, batch_size = 16, shuffle=True)\n",
    "test_loader = DataLoader(test_dataset, batch_size = 1, shuffle=True)"
   ]
  },
  {
   "cell_type": "code",
   "execution_count": 23,
   "metadata": {
    "colab": {
     "base_uri": "https://localhost:8080/"
    },
    "id": "WJTin6ozvI7A",
    "outputId": "46da707f-8c8d-4aa3-db8d-9ecb94d6187e"
   },
   "outputs": [
    {
     "data": {
      "text/plain": [
       "LSTM(\n",
       "  (lstm): LSTM(75, 128, num_layers=2, batch_first=True)\n",
       "  (dr): Dropout2d(p=0.1, inplace=False)\n",
       "  (fc): Linear(in_features=128, out_features=5, bias=True)\n",
       ")"
      ]
     },
     "execution_count": 23,
     "metadata": {},
     "output_type": "execute_result"
    }
   ],
   "source": [
    "input_layer = 25 * 3\n",
    "hidden_layer = 128\n",
    "output_layer = len(LABELS)\n",
    "layer_num = 2\n",
    "model = LSTM(\n",
    "    input_layer, \n",
    "    hidden_layer, \n",
    "    output_layer, \n",
    "    layer_num)\n",
    "model.to(device)"
   ]
  },
  {
   "cell_type": "code",
   "execution_count": 24,
   "metadata": {
    "id": "0P356uuwwM73"
   },
   "outputs": [],
   "source": [
    "def get_target_from_output(output):\n",
    "    top_n, top_i = output.topk(1)\n",
    "    category_i = top_i[0].item()\n",
    "    return LABELS[category_i], category_i\n",
    "\n",
    "def time_since(since):\n",
    "    now = time.time()\n",
    "    s = now - since\n",
    "    m = math.floor(s / 60)\n",
    "    s -= m * 60\n",
    "    return '%dm %ds' % (m, s)"
   ]
  },
  {
   "cell_type": "code",
   "execution_count": 25,
   "metadata": {
    "colab": {
     "base_uri": "https://localhost:8080/"
    },
    "id": "M2oCMLtzwWGz",
    "outputId": "671f9109-681d-48dd-9d62-f35ab9738e1b"
   },
   "outputs": [
    {
     "name": "stdout",
     "output_type": "stream",
     "text": [
      "Epoch 0 iteration: 0 (0m 0s) 3.2036  / 22 ✓\n",
      "Epoch 18 iteration: 14 (0m 26s) 2.2281  / 22 ✓\n",
      "Epoch 37 iteration: 1 (0m 52s) 2.4839  / 8 ✗ (27)\n",
      "Epoch 55 iteration: 15 (1m 17s) 1.6081  / 8 ✓\n",
      "Epoch 74 iteration: 2 (1m 43s) 1.6289  / 23 ✓\n",
      "Epoch 92 iteration: 16 (2m 8s) 2.4100  / 23 ✓\n",
      "Epoch 111 iteration: 3 (2m 34s) 1.2048  / 8 ✓\n",
      "Epoch 129 iteration: 17 (2m 59s) 0.4747  / 10 ✓\n",
      "Epoch 148 iteration: 4 (3m 23s) 0.9909  / 23 ✓\n",
      "Epoch 166 iteration: 18 (3m 48s) 1.6953  / 8 ✓\n",
      "Epoch 185 iteration: 5 (4m 13s) 0.7398  / 23 ✗ (10)\n",
      "Epoch 203 iteration: 19 (4m 39s) 0.4739  / 27 ✓\n",
      "Epoch 222 iteration: 6 (5m 4s) 0.3346  / 10 ✓\n",
      "Epoch 240 iteration: 20 (5m 30s) 0.9267  / 22 ✓\n",
      "Epoch 259 iteration: 7 (5m 55s) 0.3232  / 27 ✓\n",
      "Epoch 277 iteration: 21 (6m 20s) 0.3471  / 8 ✓\n",
      "Epoch 296 iteration: 8 (6m 45s) 0.4483  / 10 ✓\n",
      "Epoch 314 iteration: 22 (7m 11s) 0.7564  / 22 ✓\n",
      "Epoch 333 iteration: 9 (7m 37s) 0.4154  / 23 ✓\n",
      "Epoch 351 iteration: 23 (8m 2s) 0.0262  / 10 ✓\n",
      "Epoch 370 iteration: 10 (8m 27s) 0.3797  / 23 ✓\n",
      "Epoch 388 iteration: 24 (8m 53s) 0.0251  / 8 ✓\n",
      "Epoch 407 iteration: 11 (9m 18s) 0.0706  / 10 ✓\n",
      "Epoch 425 iteration: 25 (9m 44s) 0.0163  / 27 ✓\n",
      "Epoch 444 iteration: 12 (10m 9s) 0.0080  / 10 ✓\n",
      "Epoch 462 iteration: 26 (10m 35s) 0.0079  / 23 ✓\n",
      "Epoch 481 iteration: 13 (11m 0s) 0.0119  / 10 ✓\n"
     ]
    }
   ],
   "source": [
    "# Обучаем модель\n",
    "criterion = nn.CrossEntropyLoss()\n",
    "learning_rate = 0.0009\n",
    "momentum = 0.95\n",
    "\n",
    "optimizer = optim.SGD(\n",
    "    model.parameters(), \n",
    "    lr=learning_rate, \n",
    "    momentum=momentum\n",
    ")\n",
    "\n",
    "losses = []\n",
    "start = time.time()\n",
    "counter = 0\n",
    "\n",
    "for epoch in range(500):  \n",
    "    loss = 0\n",
    "\n",
    "    for i, data in enumerate(train_loader, 0):\n",
    "        inputs = data[0].to(device)\n",
    "        labels = data[1].to(device)\n",
    "\n",
    "        optimizer.zero_grad()\n",
    "        output = model(inputs.float())\n",
    "        loss = criterion(output, labels)\n",
    "        loss.backward()        \n",
    "        optimizer.step() \n",
    "        loss += loss.item()\n",
    "        category = LABELS[int(labels[0])]\n",
    "\n",
    "        if counter % 500 == 0:\n",
    "            guess, guess_i = get_target_from_output(output)\n",
    "            correct = '✓' if guess == category else '✗ (%s)' % category\n",
    "            print('Epoch %d iteration: %d (%s) %.4f  / %s %s' % (epoch, i, time_since(start), loss, guess, correct))\n",
    "\n",
    "        counter = counter + 1\n",
    "        \n",
    "    if counter % 100 == 0:\n",
    "        losses.append(loss / 25)\n",
    "        loss = 0"
   ]
  },
  {
   "cell_type": "code",
   "execution_count": 26,
   "metadata": {
    "colab": {
     "base_uri": "https://localhost:8080/",
     "height": 265
    },
    "id": "4UNf-IS2xx9O",
    "outputId": "12625e84-d580-4543-c096-3654cb00ff56"
   },
   "outputs": [
    {
     "data": {
      "image/png": "[encoded data removed]",
      "text/plain": [
       "<Figure size 432x288 with 1 Axes>"
      ]
     },
     "metadata": {
      "needs_background": "light"
     },
     "output_type": "display_data"
    }
   ],
   "source": [
    "plt.plot(list(range(0, len(losses))), losses)\n",
    "plt.show()"
   ]
  },
  {
   "cell_type": "code",
   "execution_count": null,
   "metadata": {},
   "outputs": [],
   "source": []
  }
 ],
 "metadata": {
  "colab": {
   "collapsed_sections": [],
   "name": "homework5.ipynb",
   "provenance": [],
   "toc_visible": true
  },
  "hide_input": false,
  "kernelspec": {
   "display_name": "Python 3",
   "language": "python",
   "name": "python3"
  },
  "language_info": {
   "codemirror_mode": {
    "name": "ipython",
    "version": 3
   },
   "file_extension": ".py",
   "mimetype": "text/x-python",
   "name": "python",
   "nbconvert_exporter": "python",
   "pygments_lexer": "ipython3",
   "version": "3.7.9"
  },
  "toc": {
   "base_numbering": 1,
   "nav_menu": {},
   "number_sections": true,
   "sideBar": true,
   "skip_h1_title": false,
   "title_cell": "Содержание",
   "title_sidebar": "Содержание",
   "toc_cell": false,
   "toc_position": {
    "height": "calc(100% - 180px)",
    "left": "10px",
    "top": "150px",
    "width": "349.091px"
   },
   "toc_section_display": true,
   "toc_window_display": true
  }
 },
 "nbformat": 4,
 "nbformat_minor": 1
}
