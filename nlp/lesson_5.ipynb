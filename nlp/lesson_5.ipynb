{
 "cells": [
  {
   "cell_type": "markdown",
   "metadata": {},
   "source": [
    "# ДЗ 5. Part-of-Speech разметка, NER, извлечение отношений"
   ]
  },
  {
   "cell_type": "markdown",
   "metadata": {},
   "source": [
    "## Библиотеки"
   ]
  },
  {
   "cell_type": "code",
   "execution_count": 1,
   "metadata": {},
   "outputs": [],
   "source": [
    "import pandas as pd\n",
    "import re\n",
    "import string\n",
    "\n",
    "from sklearn.preprocessing import LabelEncoder\n",
    "from sklearn.feature_extraction.text import CountVectorizer, HashingVectorizer, TfidfVectorizer\n",
    "from sklearn.linear_model import LogisticRegression\n",
    "from sklearn.metrics import accuracy_score\n",
    "\n",
    "import pyconll\n",
    "import nltk\n",
    "from nltk.tag import DefaultTagger, UnigramTagger, BigramTagger, TrigramTagger\n",
    "\n",
    "import warnings\n",
    "warnings.filterwarnings(\"ignore\")"
   ]
  },
  {
   "cell_type": "markdown",
   "metadata": {
    "id": "IkpcHsV8RWHA"
   },
   "source": [
    "## Задание 1"
   ]
  },
  {
   "cell_type": "markdown",
   "metadata": {
    "id": "aAQBOJRARev7"
   },
   "source": [
    "**Написать теггер на данных с руским языком**\n",
    "1. проверить UnigramTagger, BigramTagger, TrigramTagger и их комбмнации\n",
    "2. написать свой теггер как на занятии, попробовать разные векторайзеры, добавить знание не только букв но и слов\n",
    "3. сравнить все реализованные методы сделать выводы\n"
   ]
  },
  {
   "cell_type": "markdown",
   "metadata": {
    "id": "_16J0ER8WOJx"
   },
   "source": [
    "### Загрузка данных"
   ]
  },
  {
   "cell_type": "code",
   "execution_count": 2,
   "metadata": {
    "id": "Oymo30RBWjjl"
   },
   "outputs": [],
   "source": [
    "full_train = pyconll.load_from_file('data/pyconll/ru_syntagrus-ud-train.conllu')\n",
    "full_test = pyconll.load_from_file('data/pyconll/ru_syntagrus-ud-dev.conllu')"
   ]
  },
  {
   "cell_type": "code",
   "execution_count": 3,
   "metadata": {
    "colab": {
     "base_uri": "https://localhost:8080/"
    },
    "id": "XBzFe82cXGNK",
    "outputId": "3c13d3e6-498a-47bc-e729-d2f953cddfb6"
   },
   "outputs": [
    {
     "name": "stdout",
     "output_type": "stream",
     "text": [
      "Анкета NOUN\n",
      ". PUNCT\n",
      "\n",
      "Начальник NOUN\n",
      "областного ADJ\n",
      "управления NOUN\n",
      "связи NOUN\n",
      "Семен PROPN\n",
      "Еремеевич PROPN\n",
      "был AUX\n",
      "человек NOUN\n",
      "простой ADJ\n",
      ", PUNCT\n",
      "приходил VERB\n",
      "на ADP\n",
      "работу NOUN\n",
      "всегда ADV\n",
      "вовремя ADV\n",
      ", PUNCT\n",
      "здоровался VERB\n",
      "с ADP\n",
      "секретаршей NOUN\n",
      "за ADP\n",
      "руку NOUN\n",
      "и CCONJ\n",
      "иногда ADV\n",
      "даже PART\n",
      "писал VERB\n",
      "в ADP\n",
      "стенгазету NOUN\n",
      "заметки NOUN\n",
      "под ADP\n",
      "псевдонимом NOUN\n",
      "\" PUNCT\n",
      "Муха NOUN\n",
      "\" PUNCT\n",
      ". PUNCT\n",
      "\n"
     ]
    }
   ],
   "source": [
    "for sent in full_train[:2]:\n",
    "    for token in sent:\n",
    "        print(token.form, token.upos)\n",
    "    print()"
   ]
  },
  {
   "cell_type": "code",
   "execution_count": 4,
   "metadata": {
    "id": "OshO48XLXQar"
   },
   "outputs": [],
   "source": [
    "# Создадим датафрейм для сравнения теггеров\n",
    "info = pd.DataFrame(columns=['accuracy'])"
   ]
  },
  {
   "cell_type": "code",
   "execution_count": 5,
   "metadata": {
    "id": "dj4tV8ytXTry"
   },
   "outputs": [],
   "source": [
    "# Заполним данными\n",
    "df_train = []\n",
    "for sent in full_train[:]:\n",
    "    df_train.append([(token.form, token.upos) for token in sent])\n",
    "    \n",
    "df_test = []\n",
    "for sent in full_test[:]:\n",
    "    df_test.append([(token.form, token.upos) for token in sent])\n",
    "    \n",
    "df_sent = []\n",
    "for sent in full_test[:]:\n",
    "    df_sent.append([token.form for token in sent])"
   ]
  },
  {
   "cell_type": "markdown",
   "metadata": {},
   "source": [
    "**Проверим UnigramTagger, BigramTagger, TrigramTagger и их комбинации**"
   ]
  },
  {
   "cell_type": "code",
   "execution_count": 7,
   "metadata": {},
   "outputs": [],
   "source": [
    "taggers = [UnigramTagger, BigramTagger, TrigramTagger]\n",
    "\n",
    "for tagg in taggers:\n",
    "    tagger = tagg(df_train)\n",
    "    name_tag = ''.join([ch for ch in list(re.split('\\.', str(tagg))[-1] ) if ch not in string.punctuation])\n",
    "    info.loc[name_tag, 'accuracy'] = tagger.evaluate(df_test)"
   ]
  },
  {
   "cell_type": "code",
   "execution_count": 8,
   "metadata": {},
   "outputs": [],
   "source": [
    "def backoff_tagger(train_sents, tagger_classes, backoff=None):\n",
    "    for cls in tagger_classes:\n",
    "        backoff = cls(train_sents, backoff=backoff)\n",
    "    return backoff"
   ]
  },
  {
   "cell_type": "code",
   "execution_count": 9,
   "metadata": {},
   "outputs": [],
   "source": [
    "backoff = DefaultTagger('NOUN') \n",
    "tagg = backoff_tagger(df_train, taggers, backoff = backoff)\n",
    "\n",
    "info.loc['BackoffTagger', 'accuracy'] = tagg.evaluate(df_test)"
   ]
  },
  {
   "cell_type": "code",
   "execution_count": 10,
   "metadata": {},
   "outputs": [
    {
     "data": {
      "text/html": [
       "<div>\n",
       "<style scoped>\n",
       "    .dataframe tbody tr th:only-of-type {\n",
       "        vertical-align: middle;\n",
       "    }\n",
       "\n",
       "    .dataframe tbody tr th {\n",
       "        vertical-align: top;\n",
       "    }\n",
       "\n",
       "    .dataframe thead th {\n",
       "        text-align: right;\n",
       "    }\n",
       "</style>\n",
       "<table border=\"1\" class=\"dataframe\">\n",
       "  <thead>\n",
       "    <tr style=\"text-align: right;\">\n",
       "      <th></th>\n",
       "      <th>accuracy</th>\n",
       "    </tr>\n",
       "  </thead>\n",
       "  <tbody>\n",
       "    <tr>\n",
       "      <th>UnigramTagger</th>\n",
       "      <td>0.877254</td>\n",
       "    </tr>\n",
       "    <tr>\n",
       "      <th>BigramTagger</th>\n",
       "      <td>0.696306</td>\n",
       "    </tr>\n",
       "    <tr>\n",
       "      <th>TrigramTagger</th>\n",
       "      <td>0.248087</td>\n",
       "    </tr>\n",
       "    <tr>\n",
       "      <th>BackoffTagger</th>\n",
       "      <td>0.911999</td>\n",
       "    </tr>\n",
       "  </tbody>\n",
       "</table>\n",
       "</div>"
      ],
      "text/plain": [
       "               accuracy\n",
       "UnigramTagger  0.877254\n",
       "BigramTagger   0.696306\n",
       "TrigramTagger  0.248087\n",
       "BackoffTagger  0.911999"
      ]
     },
     "execution_count": 10,
     "metadata": {},
     "output_type": "execute_result"
    }
   ],
   "source": [
    "info"
   ]
  },
  {
   "cell_type": "markdown",
   "metadata": {},
   "source": [
    "**Напишем свой теггер, как на занятии, попробуем разные векторайзеры, добавим знание не только букв, но и слов**"
   ]
  },
  {
   "cell_type": "code",
   "execution_count": 13,
   "metadata": {},
   "outputs": [],
   "source": [
    "# Теггер\n",
    "\n",
    "train_token = []\n",
    "train_label = []\n",
    "for sent in df_train[:]:\n",
    "    for token in sent:\n",
    "        train_token.append(token[0])\n",
    "        train_label.append('NO_TAG' if token[1] is None else token[1])\n",
    "        \n",
    "test_token = []\n",
    "test_label = []\n",
    "for sent in df_test[:]:\n",
    "    for token in sent:\n",
    "        test_token.append(token[0])\n",
    "        test_label.append('NO_TAG' if token[1] is None else token[1])"
   ]
  },
  {
   "cell_type": "code",
   "execution_count": 14,
   "metadata": {},
   "outputs": [
    {
     "data": {
      "text/plain": [
       "array(['ADJ', 'ADP', 'ADV', 'AUX', 'CCONJ', 'DET', 'INTJ', 'NOUN',\n",
       "       'NO_TAG', 'NUM', 'PART', 'PRON', 'PROPN', 'PUNCT', 'SCONJ', 'SYM',\n",
       "       'VERB', 'X'], dtype='<U6')"
      ]
     },
     "execution_count": 14,
     "metadata": {},
     "output_type": "execute_result"
    }
   ],
   "source": [
    "encoder = LabelEncoder()\n",
    "train_labels = encoder.fit_transform(train_label)\n",
    "test_labels = encoder.transform(test_label)\n",
    "encoder.classes_"
   ]
  },
  {
   "cell_type": "code",
   "execution_count": 15,
   "metadata": {},
   "outputs": [],
   "source": [
    "# Векторайзеры\n",
    "\n",
    "vectorizers = [CountVectorizer, HashingVectorizer, TfidfVectorizer]\n",
    "\n",
    "for vect in vectorizers:\n",
    "\n",
    "    vectorizer = vect(ngram_range=(1, 5), analyzer='char')\n",
    "    X_train = vectorizer.fit_transform(train_token)\n",
    "    X_test = vectorizer.transform(test_token)\n",
    "\n",
    "    lr = LogisticRegression(random_state=0)\n",
    "    lr.fit(X_train, train_labels)\n",
    "\n",
    "    pred = lr.predict(X_test)\n",
    "    name_vect = ''.join([ch for ch in list(re.split('\\.', str(vect))[-1] ) if ch not in string.punctuation])\n",
    "    info.loc[name_vect, 'accuracy'] = accuracy_score(test_labels, pred)"
   ]
  },
  {
   "cell_type": "markdown",
   "metadata": {},
   "source": [
    "**Сравниваем все полученные результаты**"
   ]
  },
  {
   "cell_type": "code",
   "execution_count": 16,
   "metadata": {},
   "outputs": [
    {
     "data": {
      "text/html": [
       "<div>\n",
       "<style scoped>\n",
       "    .dataframe tbody tr th:only-of-type {\n",
       "        vertical-align: middle;\n",
       "    }\n",
       "\n",
       "    .dataframe tbody tr th {\n",
       "        vertical-align: top;\n",
       "    }\n",
       "\n",
       "    .dataframe thead th {\n",
       "        text-align: right;\n",
       "    }\n",
       "</style>\n",
       "<table border=\"1\" class=\"dataframe\">\n",
       "  <thead>\n",
       "    <tr style=\"text-align: right;\">\n",
       "      <th></th>\n",
       "      <th>accuracy</th>\n",
       "    </tr>\n",
       "  </thead>\n",
       "  <tbody>\n",
       "    <tr>\n",
       "      <th>UnigramTagger</th>\n",
       "      <td>0.877254</td>\n",
       "    </tr>\n",
       "    <tr>\n",
       "      <th>BigramTagger</th>\n",
       "      <td>0.696306</td>\n",
       "    </tr>\n",
       "    <tr>\n",
       "      <th>TrigramTagger</th>\n",
       "      <td>0.248087</td>\n",
       "    </tr>\n",
       "    <tr>\n",
       "      <th>BackoffTagger</th>\n",
       "      <td>0.911999</td>\n",
       "    </tr>\n",
       "    <tr>\n",
       "      <th>CountVectorizer</th>\n",
       "      <td>0.94998</td>\n",
       "    </tr>\n",
       "    <tr>\n",
       "      <th>HashingVectorizer</th>\n",
       "      <td>0.93024</td>\n",
       "    </tr>\n",
       "    <tr>\n",
       "      <th>TfidfVectorizer</th>\n",
       "      <td>0.938227</td>\n",
       "    </tr>\n",
       "  </tbody>\n",
       "</table>\n",
       "</div>"
      ],
      "text/plain": [
       "                   accuracy\n",
       "UnigramTagger      0.877254\n",
       "BigramTagger       0.696306\n",
       "TrigramTagger      0.248087\n",
       "BackoffTagger      0.911999\n",
       "CountVectorizer     0.94998\n",
       "HashingVectorizer   0.93024\n",
       "TfidfVectorizer    0.938227"
      ]
     },
     "execution_count": 16,
     "metadata": {},
     "output_type": "execute_result"
    }
   ],
   "source": [
    "info"
   ]
  },
  {
   "cell_type": "markdown",
   "metadata": {
    "id": "cINqgGpKXURp"
   },
   "source": [
    "# Задание 2"
   ]
  },
  {
   "cell_type": "markdown",
   "metadata": {},
   "source": [
    "С установкой библиотек слишком много сложностей..."
   ]
  },
  {
   "cell_type": "code",
   "execution_count": null,
   "metadata": {
    "id": "XQ1phPKisJMz"
   },
   "outputs": [],
   "source": []
  }
 ],
 "metadata": {
  "colab": {
   "collapsed_sections": [],
   "name": "HW5-colab.ipynb",
   "provenance": []
  },
  "hide_input": false,
  "kernelspec": {
   "display_name": "Python 3",
   "language": "python",
   "name": "python3"
  },
  "language_info": {
   "codemirror_mode": {
    "name": "ipython",
    "version": 3
   },
   "file_extension": ".py",
   "mimetype": "text/x-python",
   "name": "python",
   "nbconvert_exporter": "python",
   "pygments_lexer": "ipython3",
   "version": "3.7.9"
  },
  "toc": {
   "base_numbering": 1,
   "nav_menu": {},
   "number_sections": true,
   "sideBar": true,
   "skip_h1_title": false,
   "title_cell": "Содержание",
   "title_sidebar": "Содержание",
   "toc_cell": false,
   "toc_position": {},
   "toc_section_display": true,
   "toc_window_display": true
  }
 },
 "nbformat": 4,
 "nbformat_minor": 1
}
