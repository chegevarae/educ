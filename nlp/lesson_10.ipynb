{
 "cells": [
  {
   "cell_type": "markdown",
   "metadata": {
    "id": "KpPR-hsO1Yt3"
   },
   "source": [
    "# ДЗ 10. Машинный перевод. Модель seq2seq и механизм внимания"
   ]
  },
  {
   "cell_type": "markdown",
   "metadata": {},
   "source": [
    "Разобраться с моделькой перевода как она устроена (без механизма внимания), запустить для перевода с русского на английский (при желании можно взять другие пары языков)."
   ]
  },
  {
   "cell_type": "markdown",
   "metadata": {
    "id": "J0Qjg6vuaHNt"
   },
   "source": [
    "## Neural machine translation"
   ]
  },
  {
   "cell_type": "code",
   "execution_count": 1,
   "metadata": {
    "id": "tnxXKDjq3jEL"
   },
   "outputs": [],
   "source": [
    "import tensorflow as tf\n",
    "\n",
    "import matplotlib.pyplot as plt\n",
    "import matplotlib.ticker as ticker\n",
    "from sklearn.model_selection import train_test_split\n",
    "\n",
    "import unicodedata\n",
    "import re\n",
    "import numpy as np\n",
    "import os\n",
    "import io\n",
    "import time"
   ]
  },
  {
   "cell_type": "markdown",
   "metadata": {
    "id": "wfodePkj3jEa"
   },
   "source": [
    "## Download and prepare the dataset"
   ]
  },
  {
   "cell_type": "markdown",
   "metadata": {},
   "source": [
    "We'll use a language dataset provided by http://www.manythings.org/anki/"
   ]
  },
  {
   "cell_type": "code",
   "execution_count": 2,
   "metadata": {
    "colab": {
     "base_uri": "https://localhost:8080/"
    },
    "id": "CNvjhDyAKk3U",
    "outputId": "3762452b-c3e7-48e4-818d-a17880544e82"
   },
   "outputs": [
    {
     "name": "stdout",
     "output_type": "stream",
     "text": [
      "--2021-08-15 22:01:51--  http://www.manythings.org/anki/rus-eng.zip\n",
      "Resolving www.manythings.org (www.manythings.org)... 104.21.92.44, 172.67.186.54, 2606:4700:3033::ac43:ba36, ...\n",
      "Connecting to www.manythings.org (www.manythings.org)|104.21.92.44|:80... connected.\n",
      "HTTP request sent, awaiting response... 200 OK\n",
      "Length: 14385451 (14M) [application/zip]\n",
      "Saving to: ‘rus-eng.zip’\n",
      "\n",
      "rus-eng.zip         100%[===================>]  13.72M  5.74MB/s    in 2.4s    \n",
      "\n",
      "2021-08-15 22:01:54 (5.74 MB/s) - ‘rus-eng.zip’ saved [14385451/14385451]\n",
      "\n"
     ]
    }
   ],
   "source": [
    "!wget http://www.manythings.org/anki/rus-eng.zip"
   ]
  },
  {
   "cell_type": "code",
   "execution_count": 3,
   "metadata": {
    "colab": {
     "base_uri": "https://localhost:8080/"
    },
    "id": "83bg17Lr-7XK",
    "outputId": "d36b3b1e-b18d-4bdc-d795-8be4c164c6ba"
   },
   "outputs": [
    {
     "name": "stdout",
     "output_type": "stream",
     "text": [
      "Archive:  rus-eng.zip\n",
      "  inflating: rus-eng/rus.txt         \n",
      "  inflating: rus-eng/_about.txt      \n"
     ]
    }
   ],
   "source": [
    "!mkdir rus-eng\n",
    "!unzip rus-eng.zip -d rus-eng/"
   ]
  },
  {
   "cell_type": "code",
   "execution_count": 4,
   "metadata": {
    "colab": {
     "base_uri": "https://localhost:8080/"
    },
    "id": "7o5L92efMMhf",
    "outputId": "4b2abc80-7117-412d-e46c-b25cdeb0e986"
   },
   "outputs": [
    {
     "name": "stdout",
     "output_type": "stream",
     "text": [
      "total 69M\n",
      "drwxr-xr-x 2 root root 4.0K Aug 15 22:01 .\n",
      "drwxr-xr-x 1 root root 4.0K Aug 15 22:01 ..\n",
      "-rw-r--r-- 1 root root 1.5K Jul 14 10:16 _about.txt\n",
      "-rw-r--r-- 1 root root  69M Jul 14 10:16 rus.txt\n"
     ]
    }
   ],
   "source": [
    "!ls /content/rus-eng/ -lah"
   ]
  },
  {
   "cell_type": "code",
   "execution_count": 5,
   "metadata": {
    "id": "kRVATYOgJs1b"
   },
   "outputs": [],
   "source": [
    "# Download the file\n",
    "path_to_file = \"/content/rus-eng/rus.txt\""
   ]
  },
  {
   "cell_type": "code",
   "execution_count": 6,
   "metadata": {
    "id": "rd0jw-eC3jEh"
   },
   "outputs": [],
   "source": [
    "def preprocess_sentence(w):\n",
    "  w = w.lower().strip()\n",
    "\n",
    "  # creating a space between a word and the punctuation following it\n",
    "  # eg: \"he is a boy.\" => \"he is a boy .\"\n",
    "  # Reference:- https://stackoverflow.com/questions/3645931/python-padding-punctuation-with-white-spaces-keeping-punctuation\n",
    "  w = re.sub(r\"([?.!,])\", r\" \\1 \", w)\n",
    "  w = re.sub(r'[\" \"]+', \" \", w)\n",
    "\n",
    "  # replacing everything with space except (a-z, A-Z, \".\", \"?\", \"!\", \",\")\n",
    "  w = re.sub(r\"[^a-zA-Zа-яА-Я?.!,']+\", \" \", w)\n",
    "\n",
    "  w = w.strip()\n",
    "\n",
    "  # adding a start and an end token to the sentence\n",
    "  # so that the model know when to start and stop predicting.\n",
    "  w = '<start> ' + w + ' <end>'\n",
    "  return w"
   ]
  },
  {
   "cell_type": "code",
   "execution_count": 7,
   "metadata": {
    "colab": {
     "base_uri": "https://localhost:8080/",
     "height": 35
    },
    "id": "yV9lZXQXNbnH",
    "outputId": "94f8db19-a52b-4fdf-ede2-7a7d39eef547"
   },
   "outputs": [
    {
     "data": {
      "application/vnd.google.colaboratory.intrinsic+json": {
       "type": "string"
      },
      "text/plain": [
       "\"<start> i can't go . <end>\""
      ]
     },
     "execution_count": 7,
     "metadata": {
      "tags": []
     },
     "output_type": "execute_result"
    }
   ],
   "source": [
    "preprocess_sentence(\"I can't go.\")"
   ]
  },
  {
   "cell_type": "code",
   "execution_count": 8,
   "metadata": {
    "id": "OHn4Dct23jEm"
   },
   "outputs": [],
   "source": [
    "# 1. Remove the accents\n",
    "# 2. Clean the sentences\n",
    "# 3. Return word pairs in the format: [ENG, RUS]\n",
    "def create_dataset(path, num_examples):\n",
    "  lines = io.open(path, encoding='UTF-8').read().strip().split('\\n')\n",
    "\n",
    "  word_pairs = [[preprocess_sentence(w) for w in l.split('\\t')[:2]]  for l in lines[:num_examples]]\n",
    "\n",
    "  return zip(*word_pairs)"
   ]
  },
  {
   "cell_type": "code",
   "execution_count": 9,
   "metadata": {
    "colab": {
     "base_uri": "https://localhost:8080/"
    },
    "id": "cTbSbBz55QtF",
    "outputId": "8a7c9fd8-b38b-446b-94a8-9f6602713d7b"
   },
   "outputs": [
    {
     "name": "stdout",
     "output_type": "stream",
     "text": [
      "<start> go . <end>\n",
      "<start> марш ! <end>\n"
     ]
    }
   ],
   "source": [
    "en, ru = create_dataset(path_to_file, None)\n",
    "print(en[0])\n",
    "print(ru[0])"
   ]
  },
  {
   "cell_type": "code",
   "execution_count": 10,
   "metadata": {
    "id": "bIOn8RCNDJXG"
   },
   "outputs": [],
   "source": [
    "def tokenize(lang):\n",
    "  lang_tokenizer = tf.keras.preprocessing.text.Tokenizer(\n",
    "      filters='')\n",
    "  lang_tokenizer.fit_on_texts(lang)\n",
    "\n",
    "  tensor = lang_tokenizer.texts_to_sequences(lang)\n",
    "\n",
    "  tensor = tf.keras.preprocessing.sequence.pad_sequences(tensor,\n",
    "                                                         padding='post')\n",
    "\n",
    "  return tensor, lang_tokenizer"
   ]
  },
  {
   "cell_type": "code",
   "execution_count": 11,
   "metadata": {
    "id": "eAY9k49G3jE_"
   },
   "outputs": [],
   "source": [
    "def load_dataset(path, num_examples=None):\n",
    "  # creating cleaned input, output pairs\n",
    "  targ_lang, inp_lang = create_dataset(path, num_examples)\n",
    "\n",
    "  input_tensor, inp_lang_tokenizer = tokenize(inp_lang)\n",
    "  target_tensor, targ_lang_tokenizer = tokenize(targ_lang)\n",
    "\n",
    "  return input_tensor, target_tensor, inp_lang_tokenizer, targ_lang_tokenizer"
   ]
  },
  {
   "cell_type": "markdown",
   "metadata": {
    "id": "GOi42V79Ydlr"
   },
   "source": [
    "### Limit the size of the dataset to experiment faster (optional)"
   ]
  },
  {
   "cell_type": "code",
   "execution_count": 12,
   "metadata": {
    "colab": {
     "base_uri": "https://localhost:8080/"
    },
    "id": "C8j9g9AnIeZV",
    "outputId": "060e795e-77e4-45e7-aa5c-7b5040db22de"
   },
   "outputs": [
    {
     "data": {
      "text/plain": [
       "(431097, 431097)"
      ]
     },
     "execution_count": 12,
     "metadata": {
      "tags": []
     },
     "output_type": "execute_result"
    }
   ],
   "source": [
    "len(en), len(ru)"
   ]
  },
  {
   "cell_type": "code",
   "execution_count": 13,
   "metadata": {
    "id": "cnxC7q-j3jFD"
   },
   "outputs": [],
   "source": [
    "# Try experimenting with the size of that dataset\n",
    "num_examples = 100000\n",
    "input_tensor, target_tensor, inp_lang, targ_lang = load_dataset(path_to_file, num_examples)\n",
    "\n",
    "# Calculate max_length of the target tensors\n",
    "max_length_targ, max_length_inp = target_tensor.shape[1], input_tensor.shape[1]"
   ]
  },
  {
   "cell_type": "code",
   "execution_count": 14,
   "metadata": {
    "colab": {
     "base_uri": "https://localhost:8080/"
    },
    "id": "4QILQkOs3jFG",
    "outputId": "3d95ef43-0139-4b84-99a7-80c6ff92fb39"
   },
   "outputs": [
    {
     "name": "stdout",
     "output_type": "stream",
     "text": [
      "80000 80000 20000 20000\n"
     ]
    }
   ],
   "source": [
    "# Creating training and validation sets using an 80-20 split\n",
    "input_tensor_train, input_tensor_val, target_tensor_train, target_tensor_val = train_test_split(input_tensor, target_tensor, test_size=0.2)\n",
    "\n",
    "# Show length\n",
    "print(len(input_tensor_train), len(target_tensor_train), len(input_tensor_val), len(target_tensor_val))"
   ]
  },
  {
   "cell_type": "code",
   "execution_count": 15,
   "metadata": {
    "id": "lJPmLZGMeD5q"
   },
   "outputs": [],
   "source": [
    "def convert(lang, tensor):\n",
    "  for t in tensor:\n",
    "    if t!=0:\n",
    "      print (\"%d ----> %s\" % (t, lang.index_word[t]))"
   ]
  },
  {
   "cell_type": "code",
   "execution_count": 16,
   "metadata": {
    "colab": {
     "base_uri": "https://localhost:8080/"
    },
    "id": "VXukARTDd7MT",
    "outputId": "fc008bae-e8fa-4f07-a7e8-e9dc83db48bd"
   },
   "outputs": [
    {
     "name": "stdout",
     "output_type": "stream",
     "text": [
      "Input Language; index to word mapping\n",
      "1 ----> <start>\n",
      "502 ----> выглядел\n",
      "6 ----> том\n",
      "337 ----> ужасно\n",
      "3 ----> .\n",
      "2 ----> <end>\n",
      "\n",
      "Target Language; index to word mapping\n",
      "1 ----> <start>\n",
      "5 ----> tom\n",
      "291 ----> looked\n",
      "782 ----> awful\n",
      "3 ----> .\n",
      "2 ----> <end>\n"
     ]
    }
   ],
   "source": [
    "print (\"Input Language; index to word mapping\")\n",
    "convert(inp_lang, input_tensor_train[0])\n",
    "print ()\n",
    "print (\"Target Language; index to word mapping\")\n",
    "convert(targ_lang, target_tensor_train[0])"
   ]
  },
  {
   "cell_type": "markdown",
   "metadata": {
    "id": "rgCLkfv5uO3d"
   },
   "source": [
    "### Create a tf.data dataset"
   ]
  },
  {
   "cell_type": "code",
   "execution_count": 17,
   "metadata": {
    "id": "TqHsArVZ3jFS"
   },
   "outputs": [],
   "source": [
    "BUFFER_SIZE = len(input_tensor_train)\n",
    "BATCH_SIZE = 64\n",
    "steps_per_epoch = len(input_tensor_train)//BATCH_SIZE\n",
    "embedding_dim = 300\n",
    "units = 1024\n",
    "vocab_inp_size = len(inp_lang.word_index)+1\n",
    "vocab_tar_size = len(targ_lang.word_index)+1\n",
    "\n",
    "dataset = tf.data.Dataset.from_tensor_slices((input_tensor_train, target_tensor_train)).shuffle(BUFFER_SIZE)\n",
    "dataset = dataset.batch(BATCH_SIZE, drop_remainder=True)"
   ]
  },
  {
   "cell_type": "code",
   "execution_count": 18,
   "metadata": {
    "colab": {
     "base_uri": "https://localhost:8080/"
    },
    "id": "qc6-NK1GtWQt",
    "outputId": "918979de-d167-4940-d5df-6d906bdb5d3b"
   },
   "outputs": [
    {
     "data": {
      "text/plain": [
       "(TensorShape([64, 15]), TensorShape([64, 11]))"
      ]
     },
     "execution_count": 18,
     "metadata": {
      "tags": []
     },
     "output_type": "execute_result"
    }
   ],
   "source": [
    "example_input_batch, example_target_batch = next(iter(dataset))\n",
    "example_input_batch.shape, example_target_batch.shape"
   ]
  },
  {
   "cell_type": "code",
   "execution_count": 19,
   "metadata": {
    "id": "nZ2rI24i3jFg"
   },
   "outputs": [],
   "source": [
    "class Encoder(tf.keras.Model):\n",
    "  def __init__(self, vocab_size, embedding_dim, enc_units, batch_sz):\n",
    "    super(Encoder, self).__init__()\n",
    "    self.batch_sz = batch_sz\n",
    "    self.enc_units = enc_units\n",
    "    self.embedding = tf.keras.layers.Embedding(vocab_size, embedding_dim)\n",
    "    self.gru = tf.keras.layers.GRU(self.enc_units,\n",
    "                                   return_sequences=False,\n",
    "                                   return_state=True,\n",
    "                                   recurrent_initializer='glorot_uniform')\n",
    "    \n",
    "\n",
    "  def call(self, x, hidden):\n",
    "    x = self.embedding(x)\n",
    "    output, state = self.gru(x, initial_state = hidden)\n",
    "    return state\n",
    "\n",
    "  def initialize_hidden_state(self):\n",
    "    return tf.zeros((self.batch_sz, self.enc_units))"
   ]
  },
  {
   "cell_type": "code",
   "execution_count": 20,
   "metadata": {
    "colab": {
     "base_uri": "https://localhost:8080/"
    },
    "id": "60gSVh05Jl6l",
    "outputId": "94f259c5-4e67-4b86-be67-d55fdc811749"
   },
   "outputs": [
    {
     "name": "stdout",
     "output_type": "stream",
     "text": [
      "Encoder Hidden state shape: (batch size, units) (64, 1024)\n"
     ]
    }
   ],
   "source": [
    "encoder = Encoder(vocab_inp_size, embedding_dim, units, BATCH_SIZE)\n",
    "\n",
    "# sample input\n",
    "sample_hidden = encoder.initialize_hidden_state()\n",
    "sample_hidden = encoder(example_input_batch, sample_hidden)\n",
    "# print ('Encoder output shape: (batch size, sequence length, units) {}'.format(sample_output.shape))\n",
    "print ('Encoder Hidden state shape: (batch size, units) {}'.format(sample_hidden.shape))"
   ]
  },
  {
   "cell_type": "code",
   "execution_count": 21,
   "metadata": {
    "id": "yJ_B3mhW3jFk"
   },
   "outputs": [],
   "source": [
    "class Decoder(tf.keras.Model):\n",
    "  def __init__(self, vocab_size, embedding_dim, dec_units, batch_sz):\n",
    "    super(Decoder, self).__init__()\n",
    "    self.batch_sz = batch_sz\n",
    "    self.dec_units = dec_units\n",
    "    self.embedding = tf.keras.layers.Embedding(vocab_size, embedding_dim)\n",
    "    self.gru = tf.keras.layers.GRU(self.dec_units,\n",
    "                                   return_sequences=True,\n",
    "                                   return_state=True,\n",
    "                                   recurrent_initializer='glorot_uniform')\n",
    "    self.fc = tf.keras.layers.Dense(vocab_size)\n",
    "\n",
    "  def call(self, x, hidden):\n",
    "    # enc_output shape == (batch_size, max_length, hidden_size)\n",
    "\n",
    "    # x shape after passing through embedding == (batch_size, 1, embedding_dim)\n",
    "    x = self.embedding(x)\n",
    "\n",
    "    # x shape after concatenation == (batch_size, 1, embedding_dim + hidden_size)\n",
    "\n",
    "    # passing the concatenated vector to the GRU\n",
    "    output, state = self.gru(x, initial_state=hidden)\n",
    "\n",
    "    # output shape == (batch_size * 1, hidden_size)\n",
    "    output = tf.reshape(output, (-1, output.shape[2]))\n",
    "\n",
    "    # output shape == (batch_size, vocab)\n",
    "    # fc - fully connected слой\n",
    "    x = self.fc(output)\n",
    "\n",
    "    return x, state"
   ]
  },
  {
   "cell_type": "code",
   "execution_count": 22,
   "metadata": {
    "id": "P5UY8wko3jFp"
   },
   "outputs": [],
   "source": [
    "decoder = Decoder(vocab_tar_size, embedding_dim, units, BATCH_SIZE)\n",
    "\n",
    "decoder_sample_x, decoder_sample_h = decoder(tf.random.uniform((BATCH_SIZE, 1)),\n",
    "                                      sample_hidden)"
   ]
  },
  {
   "cell_type": "code",
   "execution_count": 23,
   "metadata": {
    "colab": {
     "base_uri": "https://localhost:8080/"
    },
    "id": "XKcypC0AGeLR",
    "outputId": "f929ae46-75ad-4f57-9d70-7843d55e9feb"
   },
   "outputs": [
    {
     "data": {
      "text/plain": [
       "TensorShape([64, 7260])"
      ]
     },
     "execution_count": 23,
     "metadata": {
      "tags": []
     },
     "output_type": "execute_result"
    }
   ],
   "source": [
    "decoder_sample_x.shape"
   ]
  },
  {
   "cell_type": "code",
   "execution_count": 24,
   "metadata": {
    "colab": {
     "base_uri": "https://localhost:8080/"
    },
    "id": "6y0HF-zMF_vp",
    "outputId": "c8a4d262-f29c-474b-b6ac-ceedec8a2b1c"
   },
   "outputs": [
    {
     "data": {
      "text/plain": [
       "TensorShape([64, 1024])"
      ]
     },
     "execution_count": 24,
     "metadata": {
      "tags": []
     },
     "output_type": "execute_result"
    }
   ],
   "source": [
    "decoder_sample_h.shape"
   ]
  },
  {
   "cell_type": "markdown",
   "metadata": {
    "id": "_ch_71VbIRfK"
   },
   "source": [
    "## Define the optimizer and the loss function"
   ]
  },
  {
   "cell_type": "code",
   "execution_count": 26,
   "metadata": {
    "id": "WmTHr5iV3jFr"
   },
   "outputs": [],
   "source": [
    "optimizer = tf.keras.optimizers.Adam()\n",
    "\n",
    "loss_object = tf.keras.losses.SparseCategoricalCrossentropy(\n",
    "    from_logits=True, reduction='none')\n",
    "\n",
    "# это маскированный лосс. Мы не хотим чтобы паддиноговые нулевые токены учитывались в лоссе\n",
    "# поэтому мы получаем падинговые элементы (0) - маска\n",
    "# и зануляем там лосс\n",
    "def loss_function(real, pred):\n",
    "  mask = tf.math.logical_not(tf.math.equal(real, 0))\n",
    "  loss_ = loss_object(real, pred)\n",
    "\n",
    "  mask = tf.cast(mask, dtype=loss_.dtype)\n",
    "  loss_ *= mask\n",
    "\n",
    "  return tf.reduce_mean(loss_)"
   ]
  },
  {
   "cell_type": "markdown",
   "metadata": {
    "id": "DMVWzzsfNl4e"
   },
   "source": [
    "## Checkpoints (Object-based saving)"
   ]
  },
  {
   "cell_type": "code",
   "execution_count": 27,
   "metadata": {
    "id": "Zj8bXQTgNwrF"
   },
   "outputs": [],
   "source": [
    "checkpoint_dir = './training_nmt_checkpoints'\n",
    "\n",
    "checkpoint_prefix = os.path.join(checkpoint_dir, \"ckpt\")\n",
    "\n",
    "checkpoint = tf.train.Checkpoint(optimizer=optimizer,\n",
    "                                 encoder=encoder,\n",
    "                                 decoder=decoder)"
   ]
  },
  {
   "cell_type": "code",
   "execution_count": 28,
   "metadata": {
    "id": "sC9ArXSsVfqn"
   },
   "outputs": [],
   "source": [
    "# функция для обучения модели\n",
    "@tf.function\n",
    "def train_step(inp, targ, enc_hidden):\n",
    "    # inp - входная последовательность (русский)\n",
    "    # target - английский\n",
    "    # enc_hidden - вектор скрытого состояния энкодера\n",
    "    loss = 0\n",
    "    \n",
    "    # берём градиенты\n",
    "    with tf.GradientTape() as tape:\n",
    "        # передаём в энкодер входную последовательность и скрытое состояние\n",
    "        # получаем выход скрытого состояния\n",
    "        enc_hidden = encoder(inp, enc_hidden)\n",
    "        \n",
    "        # присваиваем для инициализации ветора скрытого состояния в декодере\n",
    "        dec_hidden = enc_hidden\n",
    "        # добавляем тег старта для начала перевода, берём его индекс, переводим в тензор\n",
    "        dec_input = tf.expand_dims([targ_lang.word_index['<start>']] * BATCH_SIZE, 1)\n",
    "\n",
    "        # Teacher forcing - feeding the target as the next input\n",
    "        # идём по таргету, по тому тексту на который хотим натренировать перевод\n",
    "        # начинаем не с нулевого токена, потому что первым стоит тег <start>\n",
    "        for t in range(1, targ.shape[1]):\n",
    "            # passing enc_output to the decoder\n",
    "            # мы не хотим затачиваться на предикт, прокидывая градиент будем улучшать предикт\n",
    "            predictions, dec_hidden = decoder(dec_input, dec_hidden)\n",
    "            # вычисляем лосс-функцию\n",
    "            loss += loss_function(targ[:, t], predictions)\n",
    "\n",
    "            # using teacher forcing\n",
    "            # записываем текущий токен (таргет) на вход декодера - получается смещение\n",
    "            dec_input = tf.expand_dims(targ[:, t], 1)\n",
    "\n",
    "        batch_loss = (loss / int(targ.shape[1]))\n",
    "        # формируем все переменные по которым будет браться градиент\n",
    "        variables = encoder.trainable_variables + decoder.trainable_variables\n",
    "        # берём градиент и применяем его к лосс-функции\n",
    "        gradients = tape.gradient(loss, variables)\n",
    "\n",
    "        optimizer.apply_gradients(zip(gradients, variables))\n",
    "    # возвращаем батч-лосс\n",
    "    return batch_loss"
   ]
  },
  {
   "cell_type": "code",
   "execution_count": 29,
   "metadata": {
    "colab": {
     "base_uri": "https://localhost:8080/",
     "height": 1000
    },
    "id": "ddefjBMa3jF0",
    "outputId": "ddcee8c5-8257-4e9f-d2a6-1ef878a06697"
   },
   "outputs": [
    {
     "name": "stdout",
     "output_type": "stream",
     "text": [
      "Epoch 1 Batch 0 Loss 4.6721\n",
      "Epoch 1 Batch 100 Loss 1.9413\n",
      "Epoch 1 Batch 200 Loss 1.8505\n",
      "Epoch 1 Batch 300 Loss 1.7468\n",
      "Epoch 1 Batch 400 Loss 1.6586\n",
      "Epoch 1 Batch 500 Loss 1.4792\n",
      "Epoch 1 Batch 600 Loss 1.3658\n",
      "Epoch 1 Batch 700 Loss 1.3758\n",
      "Epoch 1 Batch 800 Loss 1.3739\n",
      "Epoch 1 Batch 900 Loss 1.3303\n",
      "Epoch 1 Batch 1000 Loss 1.2530\n",
      "Epoch 1 Batch 1100 Loss 1.2491\n",
      "Epoch 1 Batch 1200 Loss 1.2082\n",
      "Epoch 1 Loss 1.5058\n",
      "Time taken for 1 epoch 122.12818503379822 sec\n",
      "\n",
      "Epoch 2 Batch 0 Loss 1.0328\n",
      "Epoch 2 Batch 100 Loss 0.9535\n",
      "Epoch 2 Batch 200 Loss 1.0248\n",
      "Epoch 2 Batch 300 Loss 0.9183\n",
      "Epoch 2 Batch 400 Loss 1.0469\n",
      "Epoch 2 Batch 500 Loss 0.9510\n",
      "Epoch 2 Batch 600 Loss 1.0096\n",
      "Epoch 2 Batch 700 Loss 0.8587\n",
      "Epoch 2 Batch 800 Loss 0.8656\n",
      "Epoch 2 Batch 900 Loss 0.7614\n",
      "Epoch 2 Batch 1000 Loss 0.6820\n",
      "Epoch 2 Batch 1100 Loss 0.6919\n",
      "Epoch 2 Batch 1200 Loss 0.7711\n",
      "Epoch 2 Loss 0.8714\n",
      "Time taken for 1 epoch 113.19519352912903 sec\n",
      "\n",
      "Epoch 3 Batch 0 Loss 0.5252\n",
      "Epoch 3 Batch 100 Loss 0.5460\n",
      "Epoch 3 Batch 200 Loss 0.5914\n",
      "Epoch 3 Batch 300 Loss 0.5800\n",
      "Epoch 3 Batch 400 Loss 0.5248\n",
      "Epoch 3 Batch 500 Loss 0.5461\n",
      "Epoch 3 Batch 600 Loss 0.5822\n",
      "Epoch 3 Batch 700 Loss 0.5478\n",
      "Epoch 3 Batch 800 Loss 0.4914\n",
      "Epoch 3 Batch 900 Loss 0.4831\n",
      "Epoch 3 Batch 1000 Loss 0.5582\n",
      "Epoch 3 Batch 1100 Loss 0.5591\n",
      "Epoch 3 Batch 1200 Loss 0.3960\n",
      "Epoch 3 Loss 0.5204\n",
      "Time taken for 1 epoch 113.25779485702515 sec\n",
      "\n",
      "Epoch 4 Batch 0 Loss 0.3277\n",
      "Epoch 4 Batch 100 Loss 0.3186\n",
      "Epoch 4 Batch 200 Loss 0.3519\n",
      "Epoch 4 Batch 300 Loss 0.3283\n",
      "Epoch 4 Batch 400 Loss 0.3400\n",
      "Epoch 4 Batch 500 Loss 0.3518\n",
      "Epoch 4 Batch 600 Loss 0.3034\n",
      "Epoch 4 Batch 700 Loss 0.3113\n",
      "Epoch 4 Batch 800 Loss 0.2974\n",
      "Epoch 4 Batch 900 Loss 0.3358\n",
      "Epoch 4 Batch 1000 Loss 0.2936\n",
      "Epoch 4 Batch 1100 Loss 0.3361\n",
      "Epoch 4 Batch 1200 Loss 0.3095\n",
      "Epoch 4 Loss 0.3156\n",
      "Time taken for 1 epoch 113.11736035346985 sec\n",
      "\n",
      "Epoch 5 Batch 0 Loss 0.2135\n",
      "Epoch 5 Batch 100 Loss 0.1799\n",
      "Epoch 5 Batch 200 Loss 0.1864\n",
      "Epoch 5 Batch 300 Loss 0.2412\n",
      "Epoch 5 Batch 400 Loss 0.2187\n",
      "Epoch 5 Batch 500 Loss 0.2335\n",
      "Epoch 5 Batch 600 Loss 0.1649\n",
      "Epoch 5 Batch 700 Loss 0.1808\n",
      "Epoch 5 Batch 800 Loss 0.2002\n",
      "Epoch 5 Batch 900 Loss 0.2243\n",
      "Epoch 5 Batch 1000 Loss 0.2131\n",
      "Epoch 5 Batch 1100 Loss 0.1954\n",
      "Epoch 5 Batch 1200 Loss 0.2312\n",
      "Epoch 5 Loss 0.2070\n",
      "Time taken for 1 epoch 112.29763269424438 sec\n",
      "\n",
      "Epoch 6 Batch 0 Loss 0.1149\n",
      "Epoch 6 Batch 100 Loss 0.1204\n",
      "Epoch 6 Batch 200 Loss 0.1554\n",
      "Epoch 6 Batch 300 Loss 0.1213\n",
      "Epoch 6 Batch 400 Loss 0.1658\n",
      "Epoch 6 Batch 500 Loss 0.1497\n",
      "Epoch 6 Batch 600 Loss 0.1405\n",
      "Epoch 6 Batch 700 Loss 0.1260\n",
      "Epoch 6 Batch 800 Loss 0.1385\n",
      "Epoch 6 Batch 900 Loss 0.1147\n",
      "Epoch 6 Batch 1000 Loss 0.1692\n",
      "Epoch 6 Batch 1100 Loss 0.2002\n",
      "Epoch 6 Batch 1200 Loss 0.1159\n",
      "Epoch 6 Loss 0.1507\n",
      "Time taken for 1 epoch 112.59677052497864 sec\n",
      "\n",
      "Epoch 7 Batch 0 Loss 0.1112\n",
      "Epoch 7 Batch 100 Loss 0.1163\n",
      "Epoch 7 Batch 200 Loss 0.1176\n",
      "Epoch 7 Batch 300 Loss 0.1126\n",
      "Epoch 7 Batch 400 Loss 0.1018\n",
      "Epoch 7 Batch 500 Loss 0.1089\n",
      "Epoch 7 Batch 600 Loss 0.1355\n",
      "Epoch 7 Batch 700 Loss 0.1696\n",
      "Epoch 7 Batch 800 Loss 0.1259\n",
      "Epoch 7 Batch 900 Loss 0.1276\n",
      "Epoch 7 Batch 1000 Loss 0.1235\n",
      "Epoch 7 Batch 1100 Loss 0.1869\n",
      "Epoch 7 Batch 1200 Loss 0.1294\n",
      "Epoch 7 Loss 0.1203\n",
      "Time taken for 1 epoch 111.80655145645142 sec\n",
      "\n",
      "Epoch 8 Batch 0 Loss 0.1252\n",
      "Epoch 8 Batch 100 Loss 0.0963\n",
      "Epoch 8 Batch 200 Loss 0.1008\n",
      "Epoch 8 Batch 300 Loss 0.0979\n",
      "Epoch 8 Batch 400 Loss 0.0804\n",
      "Epoch 8 Batch 500 Loss 0.0976\n",
      "Epoch 8 Batch 600 Loss 0.1215\n",
      "Epoch 8 Batch 700 Loss 0.1213\n",
      "Epoch 8 Batch 800 Loss 0.1083\n",
      "Epoch 8 Batch 900 Loss 0.1208\n",
      "Epoch 8 Batch 1000 Loss 0.1452\n",
      "Epoch 8 Batch 1100 Loss 0.0978\n",
      "Epoch 8 Batch 1200 Loss 0.1196\n",
      "Epoch 8 Loss 0.1035\n",
      "Time taken for 1 epoch 111.95680117607117 sec\n",
      "\n",
      "Epoch 9 Batch 0 Loss 0.0674\n",
      "Epoch 9 Batch 100 Loss 0.1063\n",
      "Epoch 9 Batch 200 Loss 0.0965\n",
      "Epoch 9 Batch 300 Loss 0.0957\n",
      "Epoch 9 Batch 400 Loss 0.0709\n",
      "Epoch 9 Batch 500 Loss 0.0769\n",
      "Epoch 9 Batch 600 Loss 0.1032\n",
      "Epoch 9 Batch 700 Loss 0.0670\n",
      "Epoch 9 Batch 800 Loss 0.0630\n",
      "Epoch 9 Batch 900 Loss 0.1144\n",
      "Epoch 9 Batch 1000 Loss 0.0748\n",
      "Epoch 9 Batch 1100 Loss 0.0796\n",
      "Epoch 9 Batch 1200 Loss 0.1165\n",
      "Epoch 9 Loss 0.0923\n",
      "Time taken for 1 epoch 111.48535943031311 sec\n",
      "\n",
      "Epoch 10 Batch 0 Loss 0.0528\n",
      "Epoch 10 Batch 100 Loss 0.0742\n",
      "Epoch 10 Batch 200 Loss 0.0608\n",
      "Epoch 10 Batch 300 Loss 0.0729\n",
      "Epoch 10 Batch 400 Loss 0.0640\n",
      "Epoch 10 Batch 500 Loss 0.0720\n",
      "Epoch 10 Batch 600 Loss 0.0539\n",
      "Epoch 10 Batch 700 Loss 0.0678\n",
      "Epoch 10 Batch 800 Loss 0.0780\n",
      "Epoch 10 Batch 900 Loss 0.1006\n",
      "Epoch 10 Batch 1000 Loss 0.0891\n",
      "Epoch 10 Batch 1100 Loss 0.0850\n",
      "Epoch 10 Batch 1200 Loss 0.1656\n",
      "Epoch 10 Loss 0.0851\n",
      "Time taken for 1 epoch 112.49504399299622 sec\n",
      "\n",
      "Epoch 11 Batch 0 Loss 0.1243\n",
      "Epoch 11 Batch 100 Loss 0.0831\n",
      "Epoch 11 Batch 200 Loss 0.0488\n",
      "Epoch 11 Batch 300 Loss 0.0506\n",
      "Epoch 11 Batch 400 Loss 0.0735\n",
      "Epoch 11 Batch 500 Loss 0.0475\n",
      "Epoch 11 Batch 600 Loss 0.0704\n",
      "Epoch 11 Batch 700 Loss 0.0762\n",
      "Epoch 11 Batch 800 Loss 0.0825\n",
      "Epoch 11 Batch 900 Loss 0.1201\n",
      "Epoch 11 Batch 1000 Loss 0.0824\n",
      "Epoch 11 Batch 1100 Loss 0.1037\n",
      "Epoch 11 Batch 1200 Loss 0.1161\n",
      "Epoch 11 Loss 0.0799\n",
      "Time taken for 1 epoch 111.83838987350464 sec\n",
      "\n",
      "Epoch 12 Batch 0 Loss 0.0445\n",
      "Epoch 12 Batch 100 Loss 0.0618\n",
      "Epoch 12 Batch 200 Loss 0.0697\n",
      "Epoch 12 Batch 300 Loss 0.0718\n",
      "Epoch 12 Batch 400 Loss 0.0609\n",
      "Epoch 12 Batch 500 Loss 0.0690\n",
      "Epoch 12 Batch 600 Loss 0.0679\n",
      "Epoch 12 Batch 700 Loss 0.0688\n",
      "Epoch 12 Batch 800 Loss 0.0689\n",
      "Epoch 12 Batch 900 Loss 0.0805\n",
      "Epoch 12 Batch 1000 Loss 0.0554\n",
      "Epoch 12 Batch 1100 Loss 0.1158\n",
      "Epoch 12 Batch 1200 Loss 0.0833\n",
      "Epoch 12 Loss 0.0760\n",
      "Time taken for 1 epoch 111.82258248329163 sec\n",
      "\n",
      "Epoch 13 Batch 0 Loss 0.0395\n",
      "Epoch 13 Batch 100 Loss 0.0633\n",
      "Epoch 13 Batch 200 Loss 0.0617\n",
      "Epoch 13 Batch 300 Loss 0.0624\n",
      "Epoch 13 Batch 400 Loss 0.0641\n",
      "Epoch 13 Batch 500 Loss 0.0470\n",
      "Epoch 13 Batch 600 Loss 0.0557\n",
      "Epoch 13 Batch 700 Loss 0.0813\n",
      "Epoch 13 Batch 800 Loss 0.0604\n",
      "Epoch 13 Batch 900 Loss 0.0867\n",
      "Epoch 13 Batch 1000 Loss 0.0922\n",
      "Epoch 13 Batch 1100 Loss 0.0792\n",
      "Epoch 13 Batch 1200 Loss 0.0672\n",
      "Epoch 13 Loss 0.0717\n",
      "Time taken for 1 epoch 111.49555993080139 sec\n",
      "\n",
      "Epoch 14 Batch 0 Loss 0.0848\n",
      "Epoch 14 Batch 100 Loss 0.0546\n",
      "Epoch 14 Batch 200 Loss 0.0900\n",
      "Epoch 14 Batch 300 Loss 0.0809\n",
      "Epoch 14 Batch 400 Loss 0.1218\n",
      "Epoch 14 Batch 500 Loss 0.0489\n",
      "Epoch 14 Batch 600 Loss 0.0591\n",
      "Epoch 14 Batch 700 Loss 0.0891\n",
      "Epoch 14 Batch 800 Loss 0.0566\n",
      "Epoch 14 Batch 900 Loss 0.0590\n",
      "Epoch 14 Batch 1000 Loss 0.0650\n",
      "Epoch 14 Batch 1100 Loss 0.0823\n",
      "Epoch 14 Batch 1200 Loss 0.0995\n",
      "Epoch 14 Loss 0.0701\n",
      "Time taken for 1 epoch 111.77268862724304 sec\n",
      "\n",
      "Epoch 15 Batch 0 Loss 0.0676\n",
      "Epoch 15 Batch 100 Loss 0.0501\n",
      "Epoch 15 Batch 200 Loss 0.0496\n",
      "Epoch 15 Batch 300 Loss 0.0751\n",
      "Epoch 15 Batch 400 Loss 0.0398\n",
      "Epoch 15 Batch 500 Loss 0.0590\n",
      "Epoch 15 Batch 600 Loss 0.0886\n",
      "Epoch 15 Batch 700 Loss 0.1122\n",
      "Epoch 15 Batch 800 Loss 0.0814\n",
      "Epoch 15 Batch 900 Loss 0.0477\n",
      "Epoch 15 Batch 1000 Loss 0.0784\n",
      "Epoch 15 Batch 1100 Loss 0.0704\n",
      "Epoch 15 Batch 1200 Loss 0.1030\n",
      "Epoch 15 Loss 0.0671\n",
      "Time taken for 1 epoch 111.24956631660461 sec\n",
      "\n",
      "Epoch 16 Batch 0 Loss 0.0576\n",
      "Epoch 16 Batch 100 Loss 0.0575\n",
      "Epoch 16 Batch 200 Loss 0.0529\n",
      "Epoch 16 Batch 300 Loss 0.0519\n",
      "Epoch 16 Batch 400 Loss 0.0809\n",
      "Epoch 16 Batch 500 Loss 0.0642\n",
      "Epoch 16 Batch 600 Loss 0.1085\n",
      "Epoch 16 Batch 700 Loss 0.1020\n",
      "Epoch 16 Batch 800 Loss 0.0854\n",
      "Epoch 16 Batch 900 Loss 0.0917\n",
      "Epoch 16 Batch 1000 Loss 0.0978\n",
      "Epoch 16 Batch 1100 Loss 0.0614\n",
      "Epoch 16 Batch 1200 Loss 0.0836\n",
      "Epoch 16 Loss 0.0655\n",
      "Time taken for 1 epoch 112.0600655078888 sec\n",
      "\n",
      "Epoch 17 Batch 0 Loss 0.0874\n",
      "Epoch 17 Batch 100 Loss 0.0336\n",
      "Epoch 17 Batch 200 Loss 0.0644\n",
      "Epoch 17 Batch 300 Loss 0.0576\n",
      "Epoch 17 Batch 400 Loss 0.0827\n",
      "Epoch 17 Batch 500 Loss 0.0649\n",
      "Epoch 17 Batch 600 Loss 0.0958\n",
      "Epoch 17 Batch 700 Loss 0.0695\n",
      "Epoch 17 Batch 800 Loss 0.0575\n",
      "Epoch 17 Batch 900 Loss 0.0638\n",
      "Epoch 17 Batch 1000 Loss 0.0683\n",
      "Epoch 17 Batch 1100 Loss 0.0482\n",
      "Epoch 17 Batch 1200 Loss 0.0837\n",
      "Epoch 17 Loss 0.0636\n",
      "Time taken for 1 epoch 111.1971971988678 sec\n",
      "\n",
      "Epoch 18 Batch 0 Loss 0.0703\n",
      "Epoch 18 Batch 100 Loss 0.0566\n",
      "Epoch 18 Batch 200 Loss 0.0428\n",
      "Epoch 18 Batch 300 Loss 0.0523\n",
      "Epoch 18 Batch 400 Loss 0.0724\n",
      "Epoch 18 Batch 500 Loss 0.0923\n",
      "Epoch 18 Batch 600 Loss 0.1040\n",
      "Epoch 18 Batch 700 Loss 0.0274\n",
      "Epoch 18 Batch 800 Loss 0.0645\n",
      "Epoch 18 Batch 900 Loss 0.0549\n",
      "Epoch 18 Batch 1000 Loss 0.0790\n",
      "Epoch 18 Batch 1100 Loss 0.0432\n",
      "Epoch 18 Batch 1200 Loss 0.0451\n",
      "Epoch 18 Loss 0.0623\n",
      "Time taken for 1 epoch 112.12596535682678 sec\n",
      "\n",
      "Epoch 19 Batch 0 Loss 0.0486\n",
      "Epoch 19 Batch 100 Loss 0.0580\n",
      "Epoch 19 Batch 200 Loss 0.0617\n",
      "Epoch 19 Batch 300 Loss 0.0533\n",
      "Epoch 19 Batch 400 Loss 0.0783\n",
      "Epoch 19 Batch 500 Loss 0.0827\n",
      "Epoch 19 Batch 600 Loss 0.0851\n",
      "Epoch 19 Batch 700 Loss 0.0702\n",
      "Epoch 19 Batch 800 Loss 0.0455\n",
      "Epoch 19 Batch 900 Loss 0.0654\n"
     ]
    },
    {
     "ename": "KeyboardInterrupt",
     "evalue": "ignored",
     "output_type": "error",
     "traceback": [
      "\u001b[0;31m---------------------------------------------------------------------------\u001b[0m",
      "\u001b[0;31mKeyboardInterrupt\u001b[0m                         Traceback (most recent call last)",
      "\u001b[0;32m<ipython-input-29-f884ceb8552b>\u001b[0m in \u001b[0;36m<module>\u001b[0;34m()\u001b[0m\n\u001b[1;32m      8\u001b[0m \u001b[0;34m\u001b[0m\u001b[0m\n\u001b[1;32m      9\u001b[0m   \u001b[0;32mfor\u001b[0m \u001b[0;34m(\u001b[0m\u001b[0mbatch\u001b[0m\u001b[0;34m,\u001b[0m \u001b[0;34m(\u001b[0m\u001b[0minp\u001b[0m\u001b[0;34m,\u001b[0m \u001b[0mtarg\u001b[0m\u001b[0;34m)\u001b[0m\u001b[0;34m)\u001b[0m \u001b[0;32min\u001b[0m \u001b[0menumerate\u001b[0m\u001b[0;34m(\u001b[0m\u001b[0mdataset\u001b[0m\u001b[0;34m.\u001b[0m\u001b[0mtake\u001b[0m\u001b[0;34m(\u001b[0m\u001b[0msteps_per_epoch\u001b[0m\u001b[0;34m)\u001b[0m\u001b[0;34m)\u001b[0m\u001b[0;34m:\u001b[0m\u001b[0;34m\u001b[0m\u001b[0;34m\u001b[0m\u001b[0m\n\u001b[0;32m---> 10\u001b[0;31m     \u001b[0mbatch_loss\u001b[0m \u001b[0;34m=\u001b[0m \u001b[0mtrain_step\u001b[0m\u001b[0;34m(\u001b[0m\u001b[0minp\u001b[0m\u001b[0;34m,\u001b[0m \u001b[0mtarg\u001b[0m\u001b[0;34m,\u001b[0m \u001b[0menc_hidden\u001b[0m\u001b[0;34m)\u001b[0m\u001b[0;34m\u001b[0m\u001b[0;34m\u001b[0m\u001b[0m\n\u001b[0m\u001b[1;32m     11\u001b[0m     \u001b[0mtotal_loss\u001b[0m \u001b[0;34m+=\u001b[0m \u001b[0mbatch_loss\u001b[0m\u001b[0;34m\u001b[0m\u001b[0;34m\u001b[0m\u001b[0m\n\u001b[1;32m     12\u001b[0m \u001b[0;34m\u001b[0m\u001b[0m\n",
      "\u001b[0;32m/usr/local/lib/python3.7/dist-packages/tensorflow/python/eager/def_function.py\u001b[0m in \u001b[0;36m__call__\u001b[0;34m(self, *args, **kwds)\u001b[0m\n\u001b[1;32m    887\u001b[0m \u001b[0;34m\u001b[0m\u001b[0m\n\u001b[1;32m    888\u001b[0m       \u001b[0;32mwith\u001b[0m \u001b[0mOptionalXlaContext\u001b[0m\u001b[0;34m(\u001b[0m\u001b[0mself\u001b[0m\u001b[0;34m.\u001b[0m\u001b[0m_jit_compile\u001b[0m\u001b[0;34m)\u001b[0m\u001b[0;34m:\u001b[0m\u001b[0;34m\u001b[0m\u001b[0;34m\u001b[0m\u001b[0m\n\u001b[0;32m--> 889\u001b[0;31m         \u001b[0mresult\u001b[0m \u001b[0;34m=\u001b[0m \u001b[0mself\u001b[0m\u001b[0;34m.\u001b[0m\u001b[0m_call\u001b[0m\u001b[0;34m(\u001b[0m\u001b[0;34m*\u001b[0m\u001b[0margs\u001b[0m\u001b[0;34m,\u001b[0m \u001b[0;34m**\u001b[0m\u001b[0mkwds\u001b[0m\u001b[0;34m)\u001b[0m\u001b[0;34m\u001b[0m\u001b[0;34m\u001b[0m\u001b[0m\n\u001b[0m\u001b[1;32m    890\u001b[0m \u001b[0;34m\u001b[0m\u001b[0m\n\u001b[1;32m    891\u001b[0m       \u001b[0mnew_tracing_count\u001b[0m \u001b[0;34m=\u001b[0m \u001b[0mself\u001b[0m\u001b[0;34m.\u001b[0m\u001b[0mexperimental_get_tracing_count\u001b[0m\u001b[0;34m(\u001b[0m\u001b[0;34m)\u001b[0m\u001b[0;34m\u001b[0m\u001b[0;34m\u001b[0m\u001b[0m\n",
      "\u001b[0;32m/usr/local/lib/python3.7/dist-packages/tensorflow/python/eager/def_function.py\u001b[0m in \u001b[0;36m_call\u001b[0;34m(self, *args, **kwds)\u001b[0m\n\u001b[1;32m    915\u001b[0m       \u001b[0;31m# In this case we have created variables on the first call, so we run the\u001b[0m\u001b[0;34m\u001b[0m\u001b[0;34m\u001b[0m\u001b[0;34m\u001b[0m\u001b[0m\n\u001b[1;32m    916\u001b[0m       \u001b[0;31m# defunned version which is guaranteed to never create variables.\u001b[0m\u001b[0;34m\u001b[0m\u001b[0;34m\u001b[0m\u001b[0;34m\u001b[0m\u001b[0m\n\u001b[0;32m--> 917\u001b[0;31m       \u001b[0;32mreturn\u001b[0m \u001b[0mself\u001b[0m\u001b[0;34m.\u001b[0m\u001b[0m_stateless_fn\u001b[0m\u001b[0;34m(\u001b[0m\u001b[0;34m*\u001b[0m\u001b[0margs\u001b[0m\u001b[0;34m,\u001b[0m \u001b[0;34m**\u001b[0m\u001b[0mkwds\u001b[0m\u001b[0;34m)\u001b[0m  \u001b[0;31m# pylint: disable=not-callable\u001b[0m\u001b[0;34m\u001b[0m\u001b[0;34m\u001b[0m\u001b[0m\n\u001b[0m\u001b[1;32m    918\u001b[0m     \u001b[0;32melif\u001b[0m \u001b[0mself\u001b[0m\u001b[0;34m.\u001b[0m\u001b[0m_stateful_fn\u001b[0m \u001b[0;32mis\u001b[0m \u001b[0;32mnot\u001b[0m \u001b[0;32mNone\u001b[0m\u001b[0;34m:\u001b[0m\u001b[0;34m\u001b[0m\u001b[0;34m\u001b[0m\u001b[0m\n\u001b[1;32m    919\u001b[0m       \u001b[0;31m# Release the lock early so that multiple threads can perform the call\u001b[0m\u001b[0;34m\u001b[0m\u001b[0;34m\u001b[0m\u001b[0;34m\u001b[0m\u001b[0m\n",
      "\u001b[0;32m/usr/local/lib/python3.7/dist-packages/tensorflow/python/eager/function.py\u001b[0m in \u001b[0;36m__call__\u001b[0;34m(self, *args, **kwargs)\u001b[0m\n\u001b[1;32m   3022\u001b[0m        filtered_flat_args) = self._maybe_define_function(args, kwargs)\n\u001b[1;32m   3023\u001b[0m     return graph_function._call_flat(\n\u001b[0;32m-> 3024\u001b[0;31m         filtered_flat_args, captured_inputs=graph_function.captured_inputs)  # pylint: disable=protected-access\n\u001b[0m\u001b[1;32m   3025\u001b[0m \u001b[0;34m\u001b[0m\u001b[0m\n\u001b[1;32m   3026\u001b[0m   \u001b[0;34m@\u001b[0m\u001b[0mproperty\u001b[0m\u001b[0;34m\u001b[0m\u001b[0;34m\u001b[0m\u001b[0m\n",
      "\u001b[0;32m/usr/local/lib/python3.7/dist-packages/tensorflow/python/eager/function.py\u001b[0m in \u001b[0;36m_call_flat\u001b[0;34m(self, args, captured_inputs, cancellation_manager)\u001b[0m\n\u001b[1;32m   1959\u001b[0m       \u001b[0;31m# No tape is watching; skip to running the function.\u001b[0m\u001b[0;34m\u001b[0m\u001b[0;34m\u001b[0m\u001b[0;34m\u001b[0m\u001b[0m\n\u001b[1;32m   1960\u001b[0m       return self._build_call_outputs(self._inference_function.call(\n\u001b[0;32m-> 1961\u001b[0;31m           ctx, args, cancellation_manager=cancellation_manager))\n\u001b[0m\u001b[1;32m   1962\u001b[0m     forward_backward = self._select_forward_and_backward_functions(\n\u001b[1;32m   1963\u001b[0m         \u001b[0margs\u001b[0m\u001b[0;34m,\u001b[0m\u001b[0;34m\u001b[0m\u001b[0;34m\u001b[0m\u001b[0m\n",
      "\u001b[0;32m/usr/local/lib/python3.7/dist-packages/tensorflow/python/eager/function.py\u001b[0m in \u001b[0;36mcall\u001b[0;34m(self, ctx, args, cancellation_manager)\u001b[0m\n\u001b[1;32m    594\u001b[0m               \u001b[0minputs\u001b[0m\u001b[0;34m=\u001b[0m\u001b[0margs\u001b[0m\u001b[0;34m,\u001b[0m\u001b[0;34m\u001b[0m\u001b[0;34m\u001b[0m\u001b[0m\n\u001b[1;32m    595\u001b[0m               \u001b[0mattrs\u001b[0m\u001b[0;34m=\u001b[0m\u001b[0mattrs\u001b[0m\u001b[0;34m,\u001b[0m\u001b[0;34m\u001b[0m\u001b[0;34m\u001b[0m\u001b[0m\n\u001b[0;32m--> 596\u001b[0;31m               ctx=ctx)\n\u001b[0m\u001b[1;32m    597\u001b[0m         \u001b[0;32melse\u001b[0m\u001b[0;34m:\u001b[0m\u001b[0;34m\u001b[0m\u001b[0;34m\u001b[0m\u001b[0m\n\u001b[1;32m    598\u001b[0m           outputs = execute.execute_with_cancellation(\n",
      "\u001b[0;32m/usr/local/lib/python3.7/dist-packages/tensorflow/python/eager/execute.py\u001b[0m in \u001b[0;36mquick_execute\u001b[0;34m(op_name, num_outputs, inputs, attrs, ctx, name)\u001b[0m\n\u001b[1;32m     58\u001b[0m     \u001b[0mctx\u001b[0m\u001b[0;34m.\u001b[0m\u001b[0mensure_initialized\u001b[0m\u001b[0;34m(\u001b[0m\u001b[0;34m)\u001b[0m\u001b[0;34m\u001b[0m\u001b[0;34m\u001b[0m\u001b[0m\n\u001b[1;32m     59\u001b[0m     tensors = pywrap_tfe.TFE_Py_Execute(ctx._handle, device_name, op_name,\n\u001b[0;32m---> 60\u001b[0;31m                                         inputs, attrs, num_outputs)\n\u001b[0m\u001b[1;32m     61\u001b[0m   \u001b[0;32mexcept\u001b[0m \u001b[0mcore\u001b[0m\u001b[0;34m.\u001b[0m\u001b[0m_NotOkStatusException\u001b[0m \u001b[0;32mas\u001b[0m \u001b[0me\u001b[0m\u001b[0;34m:\u001b[0m\u001b[0;34m\u001b[0m\u001b[0;34m\u001b[0m\u001b[0m\n\u001b[1;32m     62\u001b[0m     \u001b[0;32mif\u001b[0m \u001b[0mname\u001b[0m \u001b[0;32mis\u001b[0m \u001b[0;32mnot\u001b[0m \u001b[0;32mNone\u001b[0m\u001b[0;34m:\u001b[0m\u001b[0;34m\u001b[0m\u001b[0;34m\u001b[0m\u001b[0m\n",
      "\u001b[0;31mKeyboardInterrupt\u001b[0m: "
     ]
    }
   ],
   "source": [
    "EPOCHS = 50\n",
    "\n",
    "for epoch in range(EPOCHS):\n",
    "  start = time.time()\n",
    "\n",
    "  enc_hidden = encoder.initialize_hidden_state()\n",
    "  total_loss = 0\n",
    "\n",
    "  for (batch, (inp, targ)) in enumerate(dataset.take(steps_per_epoch)):\n",
    "    batch_loss = train_step(inp, targ, enc_hidden)\n",
    "    total_loss += batch_loss\n",
    "\n",
    "    if batch % 100 == 0:\n",
    "      print('Epoch {} Batch {} Loss {:.4f}'.format(epoch + 1,\n",
    "                                                   batch,\n",
    "                                                   batch_loss.numpy()))\n",
    "  # saving (checkpoint) the model every 2 epochs\n",
    "  if (epoch + 1) % 2 == 0:\n",
    "    checkpoint.save(file_prefix = checkpoint_prefix)\n",
    "\n",
    "  print('Epoch {} Loss {:.4f}'.format(epoch + 1,\n",
    "                                      total_loss / steps_per_epoch))\n",
    "  print('Time taken for 1 epoch {} sec\\n'.format(time.time() - start))"
   ]
  },
  {
   "cell_type": "markdown",
   "metadata": {
    "id": "mU3Ce8M6I3rz"
   },
   "source": [
    "## Translate\n",
    "\n",
    "* The evaluate function is similar to the training loop, except we don't use *teacher forcing* here. The input to the decoder at each time step is its previous predictions along with the hidden state and the encoder output.\n",
    "* Stop predicting when the model predicts the *end token*.\n",
    "* And store the *attention weights for every time step*.\n",
    "\n",
    "Note: The encoder output is calculated only once for one input."
   ]
  },
  {
   "cell_type": "code",
   "execution_count": 30,
   "metadata": {
    "id": "EbQpyYs13jF_"
   },
   "outputs": [],
   "source": [
    "# функция для оценки перевода\n",
    "def evaluate(sentence):\n",
    "    attention_plot = np.zeros((max_length_targ, max_length_inp))\n",
    "    # препроцессинг предложения\n",
    "    sentence = preprocess_sentence(sentence)\n",
    "    # переводим каждый токен в индекс\n",
    "    inputs = [inp_lang.word_index[i] for i in sentence.split(' ')]\n",
    "    inputs = tf.keras.preprocessing.sequence.pad_sequences([inputs],\n",
    "                                                         maxlen=max_length_inp,\n",
    "                                                         padding='post')\n",
    "    # переводим в тензор\n",
    "    inputs = tf.convert_to_tensor(inputs)\n",
    "\n",
    "    result = ''\n",
    "\n",
    "    hidden = [tf.zeros((1, units))]\n",
    "    # посылаем в энкодер\n",
    "    enc_hidden = encoder(inputs, hidden)\n",
    "\n",
    "    dec_hidden = enc_hidden\n",
    "    dec_input = tf.expand_dims([targ_lang.word_index['<start>']], 0)\n",
    "\n",
    "    for t in range(max_length_targ):\n",
    "        predictions, dec_hidden = decoder(dec_input, dec_hidden)\n",
    "\n",
    "        # storing the attention weights to plot later on\n",
    "        predicted_id = tf.argmax(predictions[0]).numpy()\n",
    "        # т.к. у нас нет таргета - передаём предсказание на следующий шаг\n",
    "        result += targ_lang.index_word[predicted_id] + ' '\n",
    "        # останавливаемся если встречаем токен конца\n",
    "        if targ_lang.index_word[predicted_id] == '<end>':\n",
    "            return result, sentence\n",
    "\n",
    "    # the predicted ID is fed back into the model\n",
    "    dec_input = tf.expand_dims([predicted_id], 0)\n",
    "\n",
    "    return result, sentence"
   ]
  },
  {
   "cell_type": "code",
   "execution_count": 31,
   "metadata": {
    "id": "sl9zUHzg3jGI"
   },
   "outputs": [],
   "source": [
    "def translate(sentence):\n",
    "  result, sentence = evaluate(sentence)\n",
    "\n",
    "  print('Input: %s' % (sentence))\n",
    "  print('Predicted translation: {}'.format(result))"
   ]
  },
  {
   "cell_type": "markdown",
   "metadata": {
    "id": "n250XbnjOaqP"
   },
   "source": [
    "## Restore the latest checkpoint and test\n",
    "\n",
    "Так как нет механизма внимания, при увеличении длины предложения качество падает."
   ]
  },
  {
   "cell_type": "code",
   "execution_count": 32,
   "metadata": {
    "colab": {
     "base_uri": "https://localhost:8080/"
    },
    "id": "UJpT9D5_OgP6",
    "outputId": "3b79c28f-9311-4106-ebd9-426fc60685fb"
   },
   "outputs": [
    {
     "data": {
      "text/plain": [
       "<tensorflow.python.training.tracking.util.CheckpointLoadStatus at 0x7f7066409790>"
      ]
     },
     "execution_count": 32,
     "metadata": {
      "tags": []
     },
     "output_type": "execute_result"
    }
   ],
   "source": [
    "# restoring the latest checkpoint in checkpoint_dir\n",
    "checkpoint.restore(tf.train.latest_checkpoint(checkpoint_dir))"
   ]
  },
  {
   "cell_type": "code",
   "execution_count": 33,
   "metadata": {
    "colab": {
     "base_uri": "https://localhost:8080/"
    },
    "id": "WrAM0FDomq3E",
    "outputId": "bfabb9d2-ff9c-4540-c0dc-dc01b4d1e1fc"
   },
   "outputs": [
    {
     "name": "stdout",
     "output_type": "stream",
     "text": [
      "Input: <start> здесь хорошо . <end>\n",
      "Predicted translation: it's good good . . . . . . . . \n"
     ]
    }
   ],
   "source": [
    "translate('Здесь хорошо.')"
   ]
  },
  {
   "cell_type": "code",
   "execution_count": 34,
   "metadata": {
    "colab": {
     "base_uri": "https://localhost:8080/"
    },
    "id": "5bhFfwcIMX5i",
    "outputId": "a628290f-38cb-4756-8f4c-83cfd7b5d3dc"
   },
   "outputs": [
    {
     "name": "stdout",
     "output_type": "stream",
     "text": [
      "Input: <start> я не смогу поехать . <end>\n",
      "Predicted translation: i can't to . . . . . . . . \n"
     ]
    }
   ],
   "source": [
    "translate('Я не смогу поехать.')"
   ]
  },
  {
   "cell_type": "code",
   "execution_count": 35,
   "metadata": {
    "colab": {
     "base_uri": "https://localhost:8080/"
    },
    "id": "zSx2iM36EZQZ",
    "outputId": "d549fb3e-6730-49d2-aa92-5b0a5b6b37df"
   },
   "outputs": [
    {
     "name": "stdout",
     "output_type": "stream",
     "text": [
      "Input: <start> вы еще дома ? <end>\n",
      "Predicted translation: are you you home home ? ? ? ? ? ? \n"
     ]
    }
   ],
   "source": [
    "translate(u'Вы еще дома?')"
   ]
  },
  {
   "cell_type": "code",
   "execution_count": 36,
   "metadata": {
    "colab": {
     "base_uri": "https://localhost:8080/"
    },
    "id": "A3LLCx3ZE0Ls",
    "outputId": "6178a413-b1d6-4110-992d-9f20a39acea6"
   },
   "outputs": [
    {
     "name": "stdout",
     "output_type": "stream",
     "text": [
      "Input: <start> вы все еще дома ? <end>\n",
      "Predicted translation: can still else home home ? ? ? ? ? ? \n"
     ]
    }
   ],
   "source": [
    "translate(u'Вы все еще дома?')"
   ]
  },
  {
   "cell_type": "code",
   "execution_count": 37,
   "metadata": {
    "colab": {
     "base_uri": "https://localhost:8080/"
    },
    "id": "DUQVLVqUE1YW",
    "outputId": "c90194b5-b499-4fc2-dece-235d75d566e3"
   },
   "outputs": [
    {
     "name": "stdout",
     "output_type": "stream",
     "text": [
      "Input: <start> попробуй сделать это . <end>\n",
      "Predicted translation: try it it . . . . . . . . \n"
     ]
    }
   ],
   "source": [
    "translate(u'Попробуй сделать это.')"
   ]
  },
  {
   "cell_type": "code",
   "execution_count": 38,
   "metadata": {
    "colab": {
     "base_uri": "https://localhost:8080/"
    },
    "id": "f09_hUFx9EJh",
    "outputId": "ce6a0fb1-93a0-4db8-ea21-b3a58b6a0340"
   },
   "outputs": [
    {
     "name": "stdout",
     "output_type": "stream",
     "text": [
      "Input: <start> я люблю , когда идет снег . <end>\n",
      "Predicted translation: i i i he . . . . . . . \n"
     ]
    }
   ],
   "source": [
    "translate(u'Я люблю, когда идет снег.')"
   ]
  },
  {
   "cell_type": "code",
   "execution_count": 39,
   "metadata": {
    "colab": {
     "base_uri": "https://localhost:8080/"
    },
    "id": "e7c5p8rmkHQG",
    "outputId": "df893a8d-6358-4a9f-9ac2-2ba242ec4ee1"
   },
   "outputs": [
    {
     "name": "stdout",
     "output_type": "stream",
     "text": [
      "Input: <start> я никогда такого не делаю . <end>\n",
      "Predicted translation: i never never wrong . . . . . . . \n"
     ]
    }
   ],
   "source": [
    "translate(u'Я никогда такого не делаю.')"
   ]
  },
  {
   "cell_type": "code",
   "execution_count": null,
   "metadata": {
    "id": "jdXES85KkTVS"
   },
   "outputs": [],
   "source": []
  }
 ],
 "metadata": {
  "accelerator": "GPU",
  "colab": {
   "collapsed_sections": [],
   "name": "hw_10.ipynb",
   "provenance": []
  },
  "hide_input": false,
  "kernelspec": {
   "display_name": "Python 3",
   "language": "python",
   "name": "python3"
  },
  "language_info": {
   "codemirror_mode": {
    "name": "ipython",
    "version": 3
   },
   "file_extension": ".py",
   "mimetype": "text/x-python",
   "name": "python",
   "nbconvert_exporter": "python",
   "pygments_lexer": "ipython3",
   "version": "3.7.9"
  },
  "toc": {
   "base_numbering": 1,
   "nav_menu": {},
   "number_sections": false,
   "sideBar": true,
   "skip_h1_title": true,
   "title_cell": "Table of Contents",
   "title_sidebar": "Contents",
   "toc_cell": false,
   "toc_position": {},
   "toc_section_display": true,
   "toc_window_display": true
  },
  "varInspector": {
   "cols": {
    "lenName": 16,
    "lenType": 16,
    "lenVar": 40
   },
   "kernels_config": {
    "python": {
     "delete_cmd_postfix": "",
     "delete_cmd_prefix": "del ",
     "library": "var_list.py",
     "varRefreshCmd": "print(var_dic_list())"
    },
    "r": {
     "delete_cmd_postfix": ") ",
     "delete_cmd_prefix": "rm(",
     "library": "var_list.r",
     "varRefreshCmd": "cat(var_dic_list()) "
    }
   },
   "types_to_exclude": [
    "module",
    "function",
    "builtin_function_or_method",
    "instance",
    "_Feature"
   ],
   "window_display": false
  }
 },
 "nbformat": 4,
 "nbformat_minor": 1
}
