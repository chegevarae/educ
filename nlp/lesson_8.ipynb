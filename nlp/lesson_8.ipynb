{
 "cells": [
  {
   "cell_type": "markdown",
   "metadata": {},
   "source": [
    "# ДЗ 8. Рекуррентные нейронные сети RNN LSTM GRU"
   ]
  },
  {
   "cell_type": "markdown",
   "metadata": {},
   "source": [
    "На вебинаре мы говорили что долгое время CNN и RNN архитектуры были конурируещими выяснить какая архитектура больше подходит для задачи сантимент анализа на данных с вебинара  \n",
    "\n",
    "1. построить свёрточные архитектуры\n",
    "2. построить различные архитектуры с RNN\n",
    "3. построить совместные архитектуры CNN -> RNN и (RNN -> CNN)\n",
    "4. сдлать выводы что получилось лучше"
   ]
  },
  {
   "cell_type": "code",
   "execution_count": 2,
   "metadata": {
    "executionInfo": {
     "elapsed": 860,
     "status": "ok",
     "timestamp": 1624017307076,
     "user": {
      "displayName": "Rush ImanoFF",
      "photoUrl": "https://lh3.googleusercontent.com/a-/AOh14Gj_BzYzJ7lo6FEl7LrCLPlueMm-bko1s_VMLjmBLjo=s64",
      "userId": "10137307716153056766"
     },
     "user_tz": -180
    },
    "id": "VjUr7jbi83lG"
   },
   "outputs": [],
   "source": [
    "import numpy as np\n",
    "import pandas as pd\n",
    "from string import punctuation\n",
    "from stop_words import get_stop_words\n",
    "from pymorphy2 import MorphAnalyzer\n",
    "import re\n",
    "\n",
    "import matplotlib.pyplot as plt\n",
    "import tensorflow as tf\n",
    "\n",
    "import keras\n",
    "from tensorflow.keras.models import Sequential, Model\n",
    "from tensorflow.keras.layers import Dense, Dropout, Activation, Input, Embedding, Conv1D, GlobalMaxPool1D, concatenate, Flatten, add, MaxPool1D\n",
    "from tensorflow.keras.layers import SimpleRNN, LSTM, GRU, Masking, Bidirectional, GlobalAveragePooling1D, GlobalMaxPooling1D, TimeDistributed, AveragePooling1D\n",
    "from tensorflow.keras.preprocessing.text import Tokenizer\n",
    "from tensorflow.keras.preprocessing.sequence import pad_sequences\n",
    "from tensorflow.keras.callbacks import TensorBoard \n",
    "from tensorflow.keras.losses import categorical_crossentropy\n",
    "from tensorflow.keras.callbacks import EarlyStopping"
   ]
  },
  {
   "cell_type": "markdown",
   "metadata": {},
   "source": [
    "### Загрузка и подготовка данных"
   ]
  },
  {
   "cell_type": "code",
   "execution_count": null,
   "metadata": {},
   "outputs": [],
   "source": [
    "df_train = pd.read_csv(\"data/train.csv\")\n",
    "df_test = pd.read_csv(\"data/test.csv\")\n",
    "df_val = pd.read_csv(\"data/val.csv\")"
   ]
  },
  {
   "cell_type": "code",
   "execution_count": 3,
   "metadata": {
    "colab": {
     "base_uri": "https://localhost:8080/",
     "height": 204
    },
    "executionInfo": {
     "elapsed": 257,
     "status": "ok",
     "timestamp": 1624017330132,
     "user": {
      "displayName": "Rush ImanoFF",
      "photoUrl": "https://lh3.googleusercontent.com/a-/AOh14Gj_BzYzJ7lo6FEl7LrCLPlueMm-bko1s_VMLjmBLjo=s64",
      "userId": "10137307716153056766"
     },
     "user_tz": -180
    },
    "id": "YqgfC5Mx-ZSr",
    "outputId": "6e2c36f5-e8f8-4bdb-dd04-6d6b8fa05920"
   },
   "outputs": [
    {
     "data": {
      "text/html": [
       "<div>\n",
       "<style scoped>\n",
       "    .dataframe tbody tr th:only-of-type {\n",
       "        vertical-align: middle;\n",
       "    }\n",
       "\n",
       "    .dataframe tbody tr th {\n",
       "        vertical-align: top;\n",
       "    }\n",
       "\n",
       "    .dataframe thead th {\n",
       "        text-align: right;\n",
       "    }\n",
       "</style>\n",
       "<table border=\"1\" class=\"dataframe\">\n",
       "  <thead>\n",
       "    <tr style=\"text-align: right;\">\n",
       "      <th></th>\n",
       "      <th>id</th>\n",
       "      <th>text</th>\n",
       "      <th>class</th>\n",
       "    </tr>\n",
       "  </thead>\n",
       "  <tbody>\n",
       "    <tr>\n",
       "      <th>0</th>\n",
       "      <td>0</td>\n",
       "      <td>@alisachachka не уезжаааааааай. :(❤ я тоже не ...</td>\n",
       "      <td>0</td>\n",
       "    </tr>\n",
       "    <tr>\n",
       "      <th>1</th>\n",
       "      <td>1</td>\n",
       "      <td>RT @GalyginVadim: Ребята и девчата!\\nВсе в кин...</td>\n",
       "      <td>1</td>\n",
       "    </tr>\n",
       "    <tr>\n",
       "      <th>2</th>\n",
       "      <td>2</td>\n",
       "      <td>RT @ARTEM_KLYUSHIN: Кто ненавидит пробки ретви...</td>\n",
       "      <td>0</td>\n",
       "    </tr>\n",
       "    <tr>\n",
       "      <th>3</th>\n",
       "      <td>3</td>\n",
       "      <td>RT @epupybobv: Хочется котлету по-киевски. Зап...</td>\n",
       "      <td>1</td>\n",
       "    </tr>\n",
       "    <tr>\n",
       "      <th>4</th>\n",
       "      <td>4</td>\n",
       "      <td>@KarineKurganova @Yess__Boss босапопа есбоса н...</td>\n",
       "      <td>1</td>\n",
       "    </tr>\n",
       "  </tbody>\n",
       "</table>\n",
       "</div>"
      ],
      "text/plain": [
       "   id                                               text  class\n",
       "0   0  @alisachachka не уезжаааааааай. :(❤ я тоже не ...      0\n",
       "1   1  RT @GalyginVadim: Ребята и девчата!\\nВсе в кин...      1\n",
       "2   2  RT @ARTEM_KLYUSHIN: Кто ненавидит пробки ретви...      0\n",
       "3   3  RT @epupybobv: Хочется котлету по-киевски. Зап...      1\n",
       "4   4  @KarineKurganova @Yess__Boss босапопа есбоса н...      1"
      ]
     },
     "execution_count": 3,
     "metadata": {
      "tags": []
     },
     "output_type": "execute_result"
    }
   ],
   "source": [
    "df_train.head()"
   ]
  },
  {
   "cell_type": "code",
   "execution_count": 4,
   "metadata": {
    "executionInfo": {
     "elapsed": 320649,
     "status": "ok",
     "timestamp": 1624017694326,
     "user": {
      "displayName": "Rush ImanoFF",
      "photoUrl": "https://lh3.googleusercontent.com/a-/AOh14Gj_BzYzJ7lo6FEl7LrCLPlueMm-bko1s_VMLjmBLjo=s64",
      "userId": "10137307716153056766"
     },
     "user_tz": -180
    },
    "id": "hlZDTews-f86"
   },
   "outputs": [],
   "source": [
    "sw = set(get_stop_words(\"ru\"))\n",
    "exclude = set(punctuation)\n",
    "morpher = MorphAnalyzer()\n",
    "\n",
    "def preprocess_text(txt):\n",
    "    txt = str(txt)\n",
    "    txt = \"\".join(c for c in txt if c not in exclude)\n",
    "    txt = txt.lower()\n",
    "    txt = re.sub(\"\\sне\", \"не\", txt)\n",
    "    txt = [morpher.parse(word)[0].normal_form for word in txt.split() if word not in sw]\n",
    "    return \" \".join(txt)"
   ]
  },
  {
   "cell_type": "code",
   "execution_count": null,
   "metadata": {},
   "outputs": [],
   "source": [
    "df_train['text'] = df_train['text'].apply(preprocess_text)\n",
    "df_val['text'] = df_val['text'].apply(preprocess_text)\n",
    "df_test['text'] = df_test['text'].apply(preprocess_text)"
   ]
  },
  {
   "cell_type": "code",
   "execution_count": 8,
   "metadata": {
    "executionInfo": {
     "elapsed": 230,
     "status": "ok",
     "timestamp": 1624019240050,
     "user": {
      "displayName": "Rush ImanoFF",
      "photoUrl": "https://lh3.googleusercontent.com/a-/AOh14Gj_BzYzJ7lo6FEl7LrCLPlueMm-bko1s_VMLjmBLjo=s64",
      "userId": "10137307716153056766"
     },
     "user_tz": -180
    },
    "id": "OtiEwhzbALVM"
   },
   "outputs": [],
   "source": [
    "text_corpus_train = df_train['text'].values\n",
    "text_corpus_valid = df_val['text'].values\n",
    "text_corpus_test = df_test['text'].values"
   ]
  },
  {
   "cell_type": "code",
   "execution_count": 9,
   "metadata": {
    "executionInfo": {
     "elapsed": 9171,
     "status": "ok",
     "timestamp": 1624019275496,
     "user": {
      "displayName": "Rush ImanoFF",
      "photoUrl": "https://lh3.googleusercontent.com/a-/AOh14Gj_BzYzJ7lo6FEl7LrCLPlueMm-bko1s_VMLjmBLjo=s64",
      "userId": "10137307716153056766"
     },
     "user_tz": -180
    },
    "id": "rvxWOYrLFzXG"
   },
   "outputs": [],
   "source": [
    "tokenizer = Tokenizer(num_words=None, \n",
    "                     filters='#$%&()*+-<=>@[\\\\]^_`{|}~\\t\\n',\n",
    "                     lower = False, split = ' ')\n",
    "tokenizer.fit_on_texts(text_corpus_train)\n",
    "\n",
    "sequences_train = tokenizer.texts_to_sequences(text_corpus_train)\n",
    "sequences_val = tokenizer.texts_to_sequences(text_corpus_valid)\n",
    "sequences_test = tokenizer.texts_to_sequences(text_corpus_test)\n",
    "\n",
    "word_count = len(tokenizer.index_word) + 1\n",
    "training_length = max([len(i.split()) for i in text_corpus_train])\n",
    "\n",
    "X_train = pad_sequences(sequences_train, maxlen=training_length)\n",
    "X_valid = pad_sequences(sequences_val, maxlen=training_length)"
   ]
  },
  {
   "cell_type": "code",
   "execution_count": 10,
   "metadata": {
    "executionInfo": {
     "elapsed": 248,
     "status": "ok",
     "timestamp": 1624019279312,
     "user": {
      "displayName": "Rush ImanoFF",
      "photoUrl": "https://lh3.googleusercontent.com/a-/AOh14Gj_BzYzJ7lo6FEl7LrCLPlueMm-bko1s_VMLjmBLjo=s64",
      "userId": "10137307716153056766"
     },
     "user_tz": -180
    },
    "id": "hb9JexgLF5Pm"
   },
   "outputs": [],
   "source": [
    "y_train = df_train['class'].values\n",
    "y_val = df_val['class'].values"
   ]
  },
  {
   "cell_type": "markdown",
   "metadata": {
    "id": "P_V0dfycJfp1"
   },
   "source": [
    "### LSTM"
   ]
  },
  {
   "cell_type": "code",
   "execution_count": 11,
   "metadata": {
    "colab": {
     "base_uri": "https://localhost:8080/"
    },
    "executionInfo": {
     "elapsed": 81775,
     "status": "ok",
     "timestamp": 1624019371782,
     "user": {
      "displayName": "Rush ImanoFF",
      "photoUrl": "https://lh3.googleusercontent.com/a-/AOh14Gj_BzYzJ7lo6FEl7LrCLPlueMm-bko1s_VMLjmBLjo=s64",
      "userId": "10137307716153056766"
     },
     "user_tz": -180
    },
    "id": "GmYtV24zFXZE",
    "outputId": "2d4014a9-e6f9-4dfa-e3f3-f02e0acc7c44"
   },
   "outputs": [
    {
     "name": "stdout",
     "output_type": "stream",
     "text": [
      "Epoch 1/10\n",
      "319/319 [==============================] - 81s 244ms/step - loss: 0.5519 - accuracy: 0.7090 - val_loss: 0.4918 - val_accuracy: 0.7540\n"
     ]
    }
   ],
   "source": [
    "model = Sequential()\n",
    "\n",
    "model.add(\n",
    "    Embedding(input_dim=word_count,\n",
    "              input_length=training_length,\n",
    "              output_dim=30,\n",
    "              trainable=True,\n",
    "              mask_zero=True))\n",
    "model.add(Masking(mask_value=0.0))\n",
    "model.add(LSTM(64, recurrent_dropout=0.2))\n",
    "model.add(Dense(64, activation='relu'))\n",
    "model.add(Dropout(0.5))\n",
    "model.add(Dense(1, activation='sigmoid'))\n",
    "\n",
    "model.compile(\n",
    "    optimizer='adam', loss='binary_crossentropy', metrics=['accuracy'])\n",
    "\n",
    "early_stopping=EarlyStopping(monitor='val_loss')  \n",
    "\n",
    "\n",
    "history = model.fit(X_train, y_train,\n",
    "                    batch_size=512,\n",
    "                    epochs=10,\n",
    "                    verbose=1,\n",
    "                    validation_split=0.1,\n",
    "                    callbacks=[early_stopping])"
   ]
  },
  {
   "cell_type": "code",
   "execution_count": 13,
   "metadata": {
    "colab": {
     "base_uri": "https://localhost:8080/"
    },
    "executionInfo": {
     "elapsed": 2608,
     "status": "ok",
     "timestamp": 1624019636138,
     "user": {
      "displayName": "Rush ImanoFF",
      "photoUrl": "https://lh3.googleusercontent.com/a-/AOh14Gj_BzYzJ7lo6FEl7LrCLPlueMm-bko1s_VMLjmBLjo=s64",
      "userId": "10137307716153056766"
     },
     "user_tz": -180
    },
    "id": "Ntd8vEV2G1K1",
    "outputId": "77c9cbd1-9e5d-41bd-dd4f-4fee0b134923"
   },
   "outputs": [
    {
     "name": "stdout",
     "output_type": "stream",
     "text": [
      "45/45 [==============================] - 2s 37ms/step - loss: 0.5738 - accuracy: 0.7382\n",
      "\n",
      "\n",
      "Test score: 0.573805570602417\n",
      "Test accuracy: 0.7381739616394043\n"
     ]
    }
   ],
   "source": [
    "score = model.evaluate(X_valid, y_val, batch_size=512, verbose=1)\n",
    "print('\\n')\n",
    "print('Test score:', score[0])\n",
    "print('Test accuracy:', score[1])"
   ]
  },
  {
   "cell_type": "code",
   "execution_count": 15,
   "metadata": {
    "executionInfo": {
     "elapsed": 2070,
     "status": "ok",
     "timestamp": 1624020075334,
     "user": {
      "displayName": "Rush ImanoFF",
      "photoUrl": "https://lh3.googleusercontent.com/a-/AOh14Gj_BzYzJ7lo6FEl7LrCLPlueMm-bko1s_VMLjmBLjo=s64",
      "userId": "10137307716153056766"
     },
     "user_tz": -180
    },
    "id": "pMjj7E5BHeug"
   },
   "outputs": [],
   "source": [
    "inputs = Input(shape=(X_train.shape[1],))\n",
    "\n",
    "x = Embedding(input_dim=word_count,\n",
    "              input_length=training_length,\n",
    "              output_dim=30,\n",
    "              trainable=True,\n",
    "              mask_zero=True)(inputs)\n",
    "\n",
    "xbi = Bidirectional(LSTM(15, return_sequences=True))(x)\n",
    "x = add([x, xbi])\n",
    "\n",
    "x = Flatten()(x)\n",
    "x = Dense(64, activation='relu')(x)\n",
    "x = Dropout(0.5)(x)\n",
    "x = Dense(1, activation='sigmoid')(x)"
   ]
  },
  {
   "cell_type": "code",
   "execution_count": null,
   "metadata": {},
   "outputs": [],
   "source": [
    "model = Model(inputs=inputs, outputs=x)\n",
    "model.compile(optimizer='adam', loss='binary_crossentropy', metrics=['accuracy'])"
   ]
  },
  {
   "cell_type": "code",
   "execution_count": 16,
   "metadata": {
    "colab": {
     "base_uri": "https://localhost:8080/"
    },
    "executionInfo": {
     "elapsed": 60277,
     "status": "ok",
     "timestamp": 1624020146803,
     "user": {
      "displayName": "Rush ImanoFF",
      "photoUrl": "https://lh3.googleusercontent.com/a-/AOh14Gj_BzYzJ7lo6FEl7LrCLPlueMm-bko1s_VMLjmBLjo=s64",
      "userId": "10137307716153056766"
     },
     "user_tz": -180
    },
    "id": "3VmUo0psI80k",
    "outputId": "7071b0e2-80cc-4264-adb1-438fc42d26a1"
   },
   "outputs": [
    {
     "name": "stdout",
     "output_type": "stream",
     "text": [
      "Epoch 1/10\n",
      "319/319 [==============================] - 60s 166ms/step - loss: 0.5551 - accuracy: 0.7042 - val_loss: 0.4873 - val_accuracy: 0.7610\n"
     ]
    }
   ],
   "source": [
    "early_stopping=EarlyStopping(monitor='val_loss')  \n",
    "\n",
    "history_1 = model.fit(X_train, y_train,\n",
    "                    batch_size=512,\n",
    "                    epochs=10,\n",
    "                    verbose=1,\n",
    "                    validation_split=0.1,\n",
    "                    callbacks=[early_stopping])"
   ]
  },
  {
   "cell_type": "code",
   "execution_count": 17,
   "metadata": {
    "colab": {
     "base_uri": "https://localhost:8080/"
    },
    "executionInfo": {
     "elapsed": 19918,
     "status": "ok",
     "timestamp": 1624020176524,
     "user": {
      "displayName": "Rush ImanoFF",
      "photoUrl": "https://lh3.googleusercontent.com/a-/AOh14Gj_BzYzJ7lo6FEl7LrCLPlueMm-bko1s_VMLjmBLjo=s64",
      "userId": "10137307716153056766"
     },
     "user_tz": -180
    },
    "id": "2iB48NspJCSi",
    "outputId": "47005c4a-4fc0-4dfa-dd9c-eade2dda31de"
   },
   "outputs": [
    {
     "name": "stdout",
     "output_type": "stream",
     "text": [
      "45/45 [==============================] - 1s 27ms/step - loss: 0.5083 - accuracy: 0.7415\n",
      "\n",
      "\n",
      "Test score: 0.5083135962486267\n",
      "Test accuracy: 0.7415245175361633\n"
     ]
    }
   ],
   "source": [
    "score = model.evaluate(X_valid, y_val, batch_size=512, verbose=1)\n",
    "print('\\n')\n",
    "print('Test score:', score[0])\n",
    "print('Test accuracy:', score[1])"
   ]
  },
  {
   "cell_type": "markdown",
   "metadata": {
    "id": "4krwOcd-JlO9"
   },
   "source": [
    "### CNN"
   ]
  },
  {
   "cell_type": "code",
   "execution_count": 24,
   "metadata": {
    "executionInfo": {
     "elapsed": 238,
     "status": "ok",
     "timestamp": 1624020498478,
     "user": {
      "displayName": "Rush ImanoFF",
      "photoUrl": "https://lh3.googleusercontent.com/a-/AOh14Gj_BzYzJ7lo6FEl7LrCLPlueMm-bko1s_VMLjmBLjo=s64",
      "userId": "10137307716153056766"
     },
     "user_tz": -180
    },
    "id": "u9XRMiJlJSDW"
   },
   "outputs": [],
   "source": [
    "model = Sequential()\n",
    "\n",
    "model.add(\n",
    "    Embedding(input_dim=word_count,\n",
    "              input_length=training_length,\n",
    "              output_dim=30,\n",
    "              trainable=True,\n",
    "              mask_zero=True))\n",
    "model.add(Conv1D(128, 3))\n",
    "model.add(Activation(\"relu\"))\n",
    "model.add(GlobalMaxPool1D())\n",
    "model.add(Dense(64))\n",
    "model.add(Activation(\"relu\"))\n",
    "model.add(Dense(1))\n",
    "model.add(Activation('softmax'))\n",
    "\n",
    "model.compile(\n",
    "    optimizer='adam', loss='binary_crossentropy', metrics=['accuracy'])"
   ]
  },
  {
   "cell_type": "code",
   "execution_count": 25,
   "metadata": {
    "colab": {
     "base_uri": "https://localhost:8080/"
    },
    "executionInfo": {
     "elapsed": 38958,
     "status": "ok",
     "timestamp": 1624020552769,
     "user": {
      "displayName": "Rush ImanoFF",
      "photoUrl": "https://lh3.googleusercontent.com/a-/AOh14Gj_BzYzJ7lo6FEl7LrCLPlueMm-bko1s_VMLjmBLjo=s64",
      "userId": "10137307716153056766"
     },
     "user_tz": -180
    },
    "id": "TsxKA01BKmmJ",
    "outputId": "db3298ad-2a23-47d8-d42c-2d4563a69d76"
   },
   "outputs": [
    {
     "name": "stdout",
     "output_type": "stream",
     "text": [
      "Epoch 1/10\n",
      "319/319 [==============================] - 39s 119ms/step - loss: 0.5496 - accuracy: 0.5076 - val_loss: 0.4878 - val_accuracy: 0.5049\n"
     ]
    }
   ],
   "source": [
    "early_stopping=EarlyStopping(monitor='val_loss')  \n",
    "\n",
    "\n",
    "history = model.fit(X_train, y_train,\n",
    "                    batch_size=512,\n",
    "                    epochs=10,\n",
    "                    verbose=1,\n",
    "                    validation_split=0.1,\n",
    "                    callbacks=[early_stopping])"
   ]
  },
  {
   "cell_type": "code",
   "execution_count": 26,
   "metadata": {
    "colab": {
     "base_uri": "https://localhost:8080/"
    },
    "executionInfo": {
     "elapsed": 609,
     "status": "ok",
     "timestamp": 1624020617534,
     "user": {
      "displayName": "Rush ImanoFF",
      "photoUrl": "https://lh3.googleusercontent.com/a-/AOh14Gj_BzYzJ7lo6FEl7LrCLPlueMm-bko1s_VMLjmBLjo=s64",
      "userId": "10137307716153056766"
     },
     "user_tz": -180
    },
    "id": "G-8izSQOK_9t",
    "outputId": "d301c2ed-6d61-458e-e710-a7d8038bc31c"
   },
   "outputs": [
    {
     "name": "stdout",
     "output_type": "stream",
     "text": [
      "45/45 [==============================] - 0s 10ms/step - loss: 0.5123 - accuracy: 0.5047\n",
      "\n",
      "\n",
      "Test score: 0.5123090147972107\n",
      "Test accuracy: 0.5047392249107361\n"
     ]
    }
   ],
   "source": [
    "score = model.evaluate(X_valid, y_val, batch_size=512, verbose=1)\n",
    "print('\\n')\n",
    "print('Test score:', score[0])\n",
    "print('Test accuracy:', score[1])"
   ]
  },
  {
   "cell_type": "markdown",
   "metadata": {
    "id": "9TtdkxOTLTaA"
   },
   "source": [
    "### CNN -> LSTM"
   ]
  },
  {
   "cell_type": "code",
   "execution_count": 27,
   "metadata": {
    "colab": {
     "base_uri": "https://localhost:8080/"
    },
    "executionInfo": {
     "elapsed": 108152,
     "status": "ok",
     "timestamp": 1624020899768,
     "user": {
      "displayName": "Rush ImanoFF",
      "photoUrl": "https://lh3.googleusercontent.com/a-/AOh14Gj_BzYzJ7lo6FEl7LrCLPlueMm-bko1s_VMLjmBLjo=s64",
      "userId": "10137307716153056766"
     },
     "user_tz": -180
    },
    "id": "kKGyhK2lLS1R",
    "outputId": "59bd154f-207c-453f-dd20-956c4fe4ea7d"
   },
   "outputs": [
    {
     "name": "stdout",
     "output_type": "stream",
     "text": [
      "Epoch 1/10\n",
      "319/319 [==============================] - 108s 329ms/step - loss: 0.5493 - accuracy: 0.7091 - val_loss: 0.4881 - val_accuracy: 0.7580\n"
     ]
    }
   ],
   "source": [
    "model = Sequential()\n",
    "\n",
    "model.add(\n",
    "    Embedding(input_dim=word_count,\n",
    "              input_length=training_length,\n",
    "              output_dim=30,\n",
    "              trainable=True,\n",
    "              mask_zero=True))\n",
    "model.add(Masking(mask_value=0.0))\n",
    "model.add(Conv1D(128, 3, activation='relu', padding=\"same\"))\n",
    "model.add(LSTM(64, recurrent_dropout=0.2))\n",
    "model.add(Dense(64, activation='relu'))\n",
    "model.add(Dropout(0.5))\n",
    "model.add(Dense(1, activation='sigmoid'))\n",
    "\n",
    "model.compile(\n",
    "    optimizer='adam', loss='binary_crossentropy', metrics=['accuracy'])\n",
    "\n",
    "early_stopping=EarlyStopping(monitor='val_loss')  \n",
    "\n",
    "\n",
    "history = model.fit(X_train, y_train,\n",
    "                    batch_size=512,\n",
    "                    epochs=10,\n",
    "                    verbose=1,\n",
    "                    validation_split=0.1,\n",
    "                    callbacks=[early_stopping])"
   ]
  },
  {
   "cell_type": "code",
   "execution_count": 28,
   "metadata": {
    "colab": {
     "base_uri": "https://localhost:8080/"
    },
    "executionInfo": {
     "elapsed": 3032,
     "status": "ok",
     "timestamp": 1624020916018,
     "user": {
      "displayName": "Rush ImanoFF",
      "photoUrl": "https://lh3.googleusercontent.com/a-/AOh14Gj_BzYzJ7lo6FEl7LrCLPlueMm-bko1s_VMLjmBLjo=s64",
      "userId": "10137307716153056766"
     },
     "user_tz": -180
    },
    "id": "HPABaLOsMG1Y",
    "outputId": "a9401ff8-d0df-41f0-ee31-cc0e555f5de9"
   },
   "outputs": [
    {
     "name": "stdout",
     "output_type": "stream",
     "text": [
      "45/45 [==============================] - 3s 62ms/step - loss: 0.5037 - accuracy: 0.7471\n",
      "\n",
      "\n",
      "Test score: 0.5037432909011841\n",
      "Test accuracy: 0.7471234202384949\n"
     ]
    }
   ],
   "source": [
    "score = model.evaluate(X_valid, y_val, batch_size=512, verbose=1)\n",
    "print('\\n')\n",
    "print('Test score:', score[0])\n",
    "print('Test accuracy:', score[1])"
   ]
  },
  {
   "cell_type": "markdown",
   "metadata": {
    "id": "KvFk-YLPMSOo"
   },
   "source": [
    "### LSTM -> CNN"
   ]
  },
  {
   "cell_type": "code",
   "execution_count": 31,
   "metadata": {
    "colab": {
     "base_uri": "https://localhost:8080/"
    },
    "executionInfo": {
     "elapsed": 94938,
     "status": "ok",
     "timestamp": 1624021188649,
     "user": {
      "displayName": "Rush ImanoFF",
      "photoUrl": "https://lh3.googleusercontent.com/a-/AOh14Gj_BzYzJ7lo6FEl7LrCLPlueMm-bko1s_VMLjmBLjo=s64",
      "userId": "10137307716153056766"
     },
     "user_tz": -180
    },
    "id": "RniGC1wyMaGp",
    "outputId": "3a486a21-cdda-48ca-a5af-f10c45e3e953"
   },
   "outputs": [
    {
     "name": "stdout",
     "output_type": "stream",
     "text": [
      "Epoch 1/10\n",
      "319/319 [==============================] - 94s 281ms/step - loss: 0.6716 - accuracy: 0.5460 - val_loss: 0.6571 - val_accuracy: 0.5632\n"
     ]
    }
   ],
   "source": [
    "model = Sequential()\n",
    "\n",
    "model.add(\n",
    "    Embedding(input_dim=word_count,\n",
    "              input_length=training_length,\n",
    "              output_dim=30,\n",
    "              trainable=True,\n",
    "              mask_zero=True))\n",
    "model.add(Masking(mask_value=0.0))\n",
    "model.add(LSTM(64, return_sequences=True))\n",
    "model.add(Conv1D(64, 3, activation='relu', padding=\"same\"))\n",
    "model.add(Dense(64, activation='relu'))\n",
    "model.add(Dropout(0.5))\n",
    "model.add(Dense(1, activation='sigmoid'))\n",
    "\n",
    "model.compile(\n",
    "    optimizer='adam', loss='binary_crossentropy', metrics=['accuracy'])\n",
    "\n",
    "early_stopping=EarlyStopping(monitor='val_loss')  \n",
    "\n",
    "\n",
    "history = model.fit(X_train, y_train,\n",
    "                    batch_size=512,\n",
    "                    epochs=10,\n",
    "                    verbose=1,\n",
    "                    validation_split=0.1,\n",
    "                    callbacks=[early_stopping])"
   ]
  },
  {
   "cell_type": "code",
   "execution_count": 32,
   "metadata": {
    "colab": {
     "base_uri": "https://localhost:8080/"
    },
    "executionInfo": {
     "elapsed": 35144,
     "status": "ok",
     "timestamp": 1624021243307,
     "user": {
      "displayName": "Rush ImanoFF",
      "photoUrl": "https://lh3.googleusercontent.com/a-/AOh14Gj_BzYzJ7lo6FEl7LrCLPlueMm-bko1s_VMLjmBLjo=s64",
      "userId": "10137307716153056766"
     },
     "user_tz": -180
    },
    "id": "G0W6QX8XNQSm",
    "outputId": "ccf8c152-e5e9-4dad-fd94-94949bb6601e"
   },
   "outputs": [
    {
     "name": "stdout",
     "output_type": "stream",
     "text": [
      "45/45 [==============================] - 3s 63ms/step - loss: 0.6612 - accuracy: 0.5563\n",
      "\n",
      "\n",
      "Test score: 0.6611990928649902\n",
      "Test accuracy: 0.5563099384307861\n"
     ]
    }
   ],
   "source": [
    "score = model.evaluate(X_valid, y_val, batch_size=512, verbose=1)\n",
    "print('\\n')\n",
    "print('Test score:', score[0])\n",
    "print('Test accuracy:', score[1])"
   ]
  },
  {
   "cell_type": "markdown",
   "metadata": {},
   "source": [
    "### Выводы"
   ]
  },
  {
   "cell_type": "markdown",
   "metadata": {
    "id": "MjNamRY2NuQh"
   },
   "source": [
    "- Модель LSTM показала себя лучше всего.\n",
    "- Модель CNN -> LSTM дает приемлемый результат. \n",
    "- Модели CNN и LSTM -> CNN результат выдали посредственный."
   ]
  },
  {
   "cell_type": "code",
   "execution_count": null,
   "metadata": {},
   "outputs": [],
   "source": []
  }
 ],
 "metadata": {
  "colab": {
   "authorship_tag": "ABX9TyNz/s1fBM2OZbfWVTh5cOoo",
   "name": "HW8.ipynb",
   "provenance": []
  },
  "hide_input": false,
  "kernelspec": {
   "display_name": "Python 3",
   "language": "python",
   "name": "python3"
  },
  "language_info": {
   "codemirror_mode": {
    "name": "ipython",
    "version": 3
   },
   "file_extension": ".py",
   "mimetype": "text/x-python",
   "name": "python",
   "nbconvert_exporter": "python",
   "pygments_lexer": "ipython3",
   "version": "3.7.9"
  },
  "toc": {
   "base_numbering": 1,
   "nav_menu": {},
   "number_sections": true,
   "sideBar": true,
   "skip_h1_title": false,
   "title_cell": "Содержание",
   "title_sidebar": "Содержание",
   "toc_cell": false,
   "toc_position": {
    "height": "calc(100% - 180px)",
    "left": "10px",
    "top": "150px",
    "width": "349.091px"
   },
   "toc_section_display": true,
   "toc_window_display": true
  }
 },
 "nbformat": 4,
 "nbformat_minor": 1
}
