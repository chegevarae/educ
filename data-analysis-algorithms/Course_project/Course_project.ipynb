{
 "cells": [
  {
   "cell_type": "markdown",
   "metadata": {},
   "source": [
    "# Курсовой проект \"Regression.Tutors\""
   ]
  },
  {
   "cell_type": "markdown",
   "metadata": {},
   "source": [
    "## Описание проекта"
   ]
  },
  {
   "cell_type": "markdown",
   "metadata": {},
   "source": [
    "**Regression.Tutors** - результаты экзамена по математике  \n",
    "Прогнозирование средних результатов экзаменов по математике для студентов репетиторов\n",
    "\n",
    "_Разрешается использовать только этот импорт:_\n",
    "\n",
    "import numpy as np  \n",
    "import pandas as pd  \n",
    "from sklearn.model_selection import train_test_split  \n",
    "import matplotlib.pyplot as plt  \n",
    "import seaborn as sns\n",
    "\n",
    "Ваша задача этом соревновании - предсказать средний балл на экзамене по математике, который получают ученики репетиторов из датасета test.csv. Вам будут даны два датасета: train.csv (содержит признаки и целевую переменную) и test.csv (только признаки)."
   ]
  },
  {
   "cell_type": "markdown",
   "metadata": {},
   "source": [
    "## Подготовка данных"
   ]
  },
  {
   "cell_type": "markdown",
   "metadata": {},
   "source": [
    "### Импорт библиотек"
   ]
  },
  {
   "cell_type": "code",
   "execution_count": 1,
   "metadata": {},
   "outputs": [],
   "source": [
    "import numpy as np\n",
    "import pandas as pd\n",
    "from sklearn.model_selection import train_test_split\n",
    "import matplotlib.pyplot as plt\n",
    "import seaborn as sns\n",
    "from sklearn.metrics import r2_score\n",
    "from sklearn.preprocessing import StandardScaler\n",
    "scaler = StandardScaler()"
   ]
  },
  {
   "cell_type": "markdown",
   "metadata": {},
   "source": [
    "### Загрузка данных"
   ]
  },
  {
   "cell_type": "code",
   "execution_count": 2,
   "metadata": {},
   "outputs": [],
   "source": [
    "def df_read_csv(df):\n",
    "    # train = df_read_csv('train')\n",
    "    # test = df_read_csv('test')\n",
    "    if df == 'train':\n",
    "        TRAIN_DATASET_PATH = 'dataset/train.csv'\n",
    "        df = pd.read_csv(TRAIN_DATASET_PATH)\n",
    "        print(f\"Train:\\t{df.shape[0]}\\t string and {df.shape[1]} features\")\n",
    "    elif df == 'test':\n",
    "        TEST_DATASET_PATH = 'dataset/test.csv'\n",
    "        df = pd.read_csv(TEST_DATASET_PATH)\n",
    "        print(f'Test:\\t{df.shape[0]}\\t string and {df.shape[1]} features')\n",
    "    else:\n",
    "        print('Invalid parameter: dataset name!')\n",
    "    return df"
   ]
  },
  {
   "cell_type": "code",
   "execution_count": 3,
   "metadata": {},
   "outputs": [
    {
     "name": "stdout",
     "output_type": "stream",
     "text": [
      "Train:\t10000\t string and 12 features\n"
     ]
    }
   ],
   "source": [
    "# Загрузка данных\n",
    "train = df_read_csv('train')"
   ]
  },
  {
   "cell_type": "markdown",
   "metadata": {},
   "source": [
    "### Просмотр данных"
   ]
  },
  {
   "cell_type": "code",
   "execution_count": 4,
   "metadata": {},
   "outputs": [
    {
     "data": {
      "text/html": [
       "<div>\n",
       "<style scoped>\n",
       "    .dataframe tbody tr th:only-of-type {\n",
       "        vertical-align: middle;\n",
       "    }\n",
       "\n",
       "    .dataframe tbody tr th {\n",
       "        vertical-align: top;\n",
       "    }\n",
       "\n",
       "    .dataframe thead th {\n",
       "        text-align: right;\n",
       "    }\n",
       "</style>\n",
       "<table border=\"1\" class=\"dataframe\">\n",
       "  <thead>\n",
       "    <tr style=\"text-align: right;\">\n",
       "      <th></th>\n",
       "      <th>Id</th>\n",
       "      <th>age</th>\n",
       "      <th>years_of_experience</th>\n",
       "      <th>lesson_price</th>\n",
       "      <th>qualification</th>\n",
       "      <th>physics</th>\n",
       "      <th>chemistry</th>\n",
       "      <th>biology</th>\n",
       "      <th>english</th>\n",
       "      <th>geography</th>\n",
       "      <th>history</th>\n",
       "      <th>mean_exam_points</th>\n",
       "    </tr>\n",
       "  </thead>\n",
       "  <tbody>\n",
       "    <tr>\n",
       "      <th>0</th>\n",
       "      <td>0</td>\n",
       "      <td>40.0</td>\n",
       "      <td>0.0</td>\n",
       "      <td>1400.0</td>\n",
       "      <td>1.0</td>\n",
       "      <td>1.0</td>\n",
       "      <td>0.0</td>\n",
       "      <td>0.0</td>\n",
       "      <td>0.0</td>\n",
       "      <td>1.0</td>\n",
       "      <td>0.0</td>\n",
       "      <td>61</td>\n",
       "    </tr>\n",
       "    <tr>\n",
       "      <th>1</th>\n",
       "      <td>1</td>\n",
       "      <td>48.0</td>\n",
       "      <td>4.0</td>\n",
       "      <td>2850.0</td>\n",
       "      <td>3.0</td>\n",
       "      <td>1.0</td>\n",
       "      <td>0.0</td>\n",
       "      <td>0.0</td>\n",
       "      <td>0.0</td>\n",
       "      <td>0.0</td>\n",
       "      <td>0.0</td>\n",
       "      <td>76</td>\n",
       "    </tr>\n",
       "    <tr>\n",
       "      <th>2</th>\n",
       "      <td>2</td>\n",
       "      <td>39.0</td>\n",
       "      <td>0.0</td>\n",
       "      <td>1200.0</td>\n",
       "      <td>1.0</td>\n",
       "      <td>0.0</td>\n",
       "      <td>0.0</td>\n",
       "      <td>0.0</td>\n",
       "      <td>0.0</td>\n",
       "      <td>0.0</td>\n",
       "      <td>0.0</td>\n",
       "      <td>53</td>\n",
       "    </tr>\n",
       "    <tr>\n",
       "      <th>3</th>\n",
       "      <td>3</td>\n",
       "      <td>46.0</td>\n",
       "      <td>5.0</td>\n",
       "      <td>1400.0</td>\n",
       "      <td>1.0</td>\n",
       "      <td>0.0</td>\n",
       "      <td>0.0</td>\n",
       "      <td>0.0</td>\n",
       "      <td>0.0</td>\n",
       "      <td>0.0</td>\n",
       "      <td>0.0</td>\n",
       "      <td>54</td>\n",
       "    </tr>\n",
       "    <tr>\n",
       "      <th>4</th>\n",
       "      <td>4</td>\n",
       "      <td>43.0</td>\n",
       "      <td>1.0</td>\n",
       "      <td>1500.0</td>\n",
       "      <td>1.0</td>\n",
       "      <td>0.0</td>\n",
       "      <td>0.0</td>\n",
       "      <td>0.0</td>\n",
       "      <td>0.0</td>\n",
       "      <td>0.0</td>\n",
       "      <td>0.0</td>\n",
       "      <td>57</td>\n",
       "    </tr>\n",
       "    <tr>\n",
       "      <th>5</th>\n",
       "      <td>5</td>\n",
       "      <td>33.0</td>\n",
       "      <td>4.0</td>\n",
       "      <td>1650.0</td>\n",
       "      <td>1.0</td>\n",
       "      <td>0.0</td>\n",
       "      <td>0.0</td>\n",
       "      <td>0.0</td>\n",
       "      <td>0.0</td>\n",
       "      <td>0.0</td>\n",
       "      <td>0.0</td>\n",
       "      <td>39</td>\n",
       "    </tr>\n",
       "    <tr>\n",
       "      <th>6</th>\n",
       "      <td>6</td>\n",
       "      <td>53.0</td>\n",
       "      <td>1.0</td>\n",
       "      <td>2100.0</td>\n",
       "      <td>1.0</td>\n",
       "      <td>0.0</td>\n",
       "      <td>0.0</td>\n",
       "      <td>0.0</td>\n",
       "      <td>0.0</td>\n",
       "      <td>0.0</td>\n",
       "      <td>0.0</td>\n",
       "      <td>66</td>\n",
       "    </tr>\n",
       "    <tr>\n",
       "      <th>7</th>\n",
       "      <td>7</td>\n",
       "      <td>60.0</td>\n",
       "      <td>3.0</td>\n",
       "      <td>1800.0</td>\n",
       "      <td>2.0</td>\n",
       "      <td>0.0</td>\n",
       "      <td>0.0</td>\n",
       "      <td>0.0</td>\n",
       "      <td>0.0</td>\n",
       "      <td>0.0</td>\n",
       "      <td>0.0</td>\n",
       "      <td>62</td>\n",
       "    </tr>\n",
       "    <tr>\n",
       "      <th>8</th>\n",
       "      <td>8</td>\n",
       "      <td>39.0</td>\n",
       "      <td>1.0</td>\n",
       "      <td>1200.0</td>\n",
       "      <td>1.0</td>\n",
       "      <td>0.0</td>\n",
       "      <td>1.0</td>\n",
       "      <td>0.0</td>\n",
       "      <td>0.0</td>\n",
       "      <td>0.0</td>\n",
       "      <td>0.0</td>\n",
       "      <td>52</td>\n",
       "    </tr>\n",
       "    <tr>\n",
       "      <th>9</th>\n",
       "      <td>9</td>\n",
       "      <td>49.0</td>\n",
       "      <td>5.0</td>\n",
       "      <td>1750.0</td>\n",
       "      <td>1.0</td>\n",
       "      <td>0.0</td>\n",
       "      <td>0.0</td>\n",
       "      <td>0.0</td>\n",
       "      <td>0.0</td>\n",
       "      <td>0.0</td>\n",
       "      <td>0.0</td>\n",
       "      <td>32</td>\n",
       "    </tr>\n",
       "    <tr>\n",
       "      <th>10</th>\n",
       "      <td>10</td>\n",
       "      <td>34.0</td>\n",
       "      <td>3.0</td>\n",
       "      <td>1150.0</td>\n",
       "      <td>1.0</td>\n",
       "      <td>0.0</td>\n",
       "      <td>0.0</td>\n",
       "      <td>0.0</td>\n",
       "      <td>0.0</td>\n",
       "      <td>0.0</td>\n",
       "      <td>0.0</td>\n",
       "      <td>63</td>\n",
       "    </tr>\n",
       "    <tr>\n",
       "      <th>11</th>\n",
       "      <td>11</td>\n",
       "      <td>50.0</td>\n",
       "      <td>2.0</td>\n",
       "      <td>2100.0</td>\n",
       "      <td>2.0</td>\n",
       "      <td>0.0</td>\n",
       "      <td>0.0</td>\n",
       "      <td>0.0</td>\n",
       "      <td>0.0</td>\n",
       "      <td>0.0</td>\n",
       "      <td>0.0</td>\n",
       "      <td>65</td>\n",
       "    </tr>\n",
       "    <tr>\n",
       "      <th>12</th>\n",
       "      <td>12</td>\n",
       "      <td>42.0</td>\n",
       "      <td>3.0</td>\n",
       "      <td>1300.0</td>\n",
       "      <td>2.0</td>\n",
       "      <td>0.0</td>\n",
       "      <td>0.0</td>\n",
       "      <td>0.0</td>\n",
       "      <td>0.0</td>\n",
       "      <td>0.0</td>\n",
       "      <td>0.0</td>\n",
       "      <td>53</td>\n",
       "    </tr>\n",
       "    <tr>\n",
       "      <th>13</th>\n",
       "      <td>13</td>\n",
       "      <td>49.0</td>\n",
       "      <td>2.0</td>\n",
       "      <td>2300.0</td>\n",
       "      <td>2.0</td>\n",
       "      <td>1.0</td>\n",
       "      <td>0.0</td>\n",
       "      <td>1.0</td>\n",
       "      <td>0.0</td>\n",
       "      <td>0.0</td>\n",
       "      <td>0.0</td>\n",
       "      <td>79</td>\n",
       "    </tr>\n",
       "    <tr>\n",
       "      <th>14</th>\n",
       "      <td>14</td>\n",
       "      <td>45.0</td>\n",
       "      <td>4.0</td>\n",
       "      <td>2600.0</td>\n",
       "      <td>3.0</td>\n",
       "      <td>1.0</td>\n",
       "      <td>1.0</td>\n",
       "      <td>0.0</td>\n",
       "      <td>0.0</td>\n",
       "      <td>0.0</td>\n",
       "      <td>0.0</td>\n",
       "      <td>87</td>\n",
       "    </tr>\n",
       "    <tr>\n",
       "      <th>15</th>\n",
       "      <td>15</td>\n",
       "      <td>43.0</td>\n",
       "      <td>4.0</td>\n",
       "      <td>1150.0</td>\n",
       "      <td>1.0</td>\n",
       "      <td>0.0</td>\n",
       "      <td>0.0</td>\n",
       "      <td>0.0</td>\n",
       "      <td>0.0</td>\n",
       "      <td>0.0</td>\n",
       "      <td>0.0</td>\n",
       "      <td>58</td>\n",
       "    </tr>\n",
       "    <tr>\n",
       "      <th>16</th>\n",
       "      <td>16</td>\n",
       "      <td>49.0</td>\n",
       "      <td>0.0</td>\n",
       "      <td>1400.0</td>\n",
       "      <td>1.0</td>\n",
       "      <td>1.0</td>\n",
       "      <td>0.0</td>\n",
       "      <td>0.0</td>\n",
       "      <td>0.0</td>\n",
       "      <td>0.0</td>\n",
       "      <td>0.0</td>\n",
       "      <td>71</td>\n",
       "    </tr>\n",
       "    <tr>\n",
       "      <th>17</th>\n",
       "      <td>17</td>\n",
       "      <td>46.0</td>\n",
       "      <td>3.0</td>\n",
       "      <td>1500.0</td>\n",
       "      <td>1.0</td>\n",
       "      <td>0.0</td>\n",
       "      <td>0.0</td>\n",
       "      <td>0.0</td>\n",
       "      <td>0.0</td>\n",
       "      <td>0.0</td>\n",
       "      <td>0.0</td>\n",
       "      <td>51</td>\n",
       "    </tr>\n",
       "    <tr>\n",
       "      <th>18</th>\n",
       "      <td>18</td>\n",
       "      <td>46.0</td>\n",
       "      <td>3.0</td>\n",
       "      <td>1300.0</td>\n",
       "      <td>1.0</td>\n",
       "      <td>0.0</td>\n",
       "      <td>0.0</td>\n",
       "      <td>0.0</td>\n",
       "      <td>0.0</td>\n",
       "      <td>0.0</td>\n",
       "      <td>0.0</td>\n",
       "      <td>68</td>\n",
       "    </tr>\n",
       "    <tr>\n",
       "      <th>19</th>\n",
       "      <td>19</td>\n",
       "      <td>54.0</td>\n",
       "      <td>0.0</td>\n",
       "      <td>1550.0</td>\n",
       "      <td>1.0</td>\n",
       "      <td>0.0</td>\n",
       "      <td>0.0</td>\n",
       "      <td>0.0</td>\n",
       "      <td>0.0</td>\n",
       "      <td>0.0</td>\n",
       "      <td>0.0</td>\n",
       "      <td>32</td>\n",
       "    </tr>\n",
       "  </tbody>\n",
       "</table>\n",
       "</div>"
      ],
      "text/plain": [
       "    Id   age  years_of_experience  lesson_price  qualification  physics  \\\n",
       "0    0  40.0                  0.0        1400.0            1.0      1.0   \n",
       "1    1  48.0                  4.0        2850.0            3.0      1.0   \n",
       "2    2  39.0                  0.0        1200.0            1.0      0.0   \n",
       "3    3  46.0                  5.0        1400.0            1.0      0.0   \n",
       "4    4  43.0                  1.0        1500.0            1.0      0.0   \n",
       "5    5  33.0                  4.0        1650.0            1.0      0.0   \n",
       "6    6  53.0                  1.0        2100.0            1.0      0.0   \n",
       "7    7  60.0                  3.0        1800.0            2.0      0.0   \n",
       "8    8  39.0                  1.0        1200.0            1.0      0.0   \n",
       "9    9  49.0                  5.0        1750.0            1.0      0.0   \n",
       "10  10  34.0                  3.0        1150.0            1.0      0.0   \n",
       "11  11  50.0                  2.0        2100.0            2.0      0.0   \n",
       "12  12  42.0                  3.0        1300.0            2.0      0.0   \n",
       "13  13  49.0                  2.0        2300.0            2.0      1.0   \n",
       "14  14  45.0                  4.0        2600.0            3.0      1.0   \n",
       "15  15  43.0                  4.0        1150.0            1.0      0.0   \n",
       "16  16  49.0                  0.0        1400.0            1.0      1.0   \n",
       "17  17  46.0                  3.0        1500.0            1.0      0.0   \n",
       "18  18  46.0                  3.0        1300.0            1.0      0.0   \n",
       "19  19  54.0                  0.0        1550.0            1.0      0.0   \n",
       "\n",
       "    chemistry  biology  english  geography  history  mean_exam_points  \n",
       "0         0.0      0.0      0.0        1.0      0.0                61  \n",
       "1         0.0      0.0      0.0        0.0      0.0                76  \n",
       "2         0.0      0.0      0.0        0.0      0.0                53  \n",
       "3         0.0      0.0      0.0        0.0      0.0                54  \n",
       "4         0.0      0.0      0.0        0.0      0.0                57  \n",
       "5         0.0      0.0      0.0        0.0      0.0                39  \n",
       "6         0.0      0.0      0.0        0.0      0.0                66  \n",
       "7         0.0      0.0      0.0        0.0      0.0                62  \n",
       "8         1.0      0.0      0.0        0.0      0.0                52  \n",
       "9         0.0      0.0      0.0        0.0      0.0                32  \n",
       "10        0.0      0.0      0.0        0.0      0.0                63  \n",
       "11        0.0      0.0      0.0        0.0      0.0                65  \n",
       "12        0.0      0.0      0.0        0.0      0.0                53  \n",
       "13        0.0      1.0      0.0        0.0      0.0                79  \n",
       "14        1.0      0.0      0.0        0.0      0.0                87  \n",
       "15        0.0      0.0      0.0        0.0      0.0                58  \n",
       "16        0.0      0.0      0.0        0.0      0.0                71  \n",
       "17        0.0      0.0      0.0        0.0      0.0                51  \n",
       "18        0.0      0.0      0.0        0.0      0.0                68  \n",
       "19        0.0      0.0      0.0        0.0      0.0                32  "
      ]
     },
     "execution_count": 4,
     "metadata": {},
     "output_type": "execute_result"
    }
   ],
   "source": [
    "train.head(20)"
   ]
  },
  {
   "cell_type": "code",
   "execution_count": 5,
   "metadata": {},
   "outputs": [
    {
     "name": "stdout",
     "output_type": "stream",
     "text": [
      "<class 'pandas.core.frame.DataFrame'>\n",
      "RangeIndex: 10000 entries, 0 to 9999\n",
      "Data columns (total 12 columns):\n",
      " #   Column               Non-Null Count  Dtype  \n",
      "---  ------               --------------  -----  \n",
      " 0   Id                   10000 non-null  int64  \n",
      " 1   age                  10000 non-null  float64\n",
      " 2   years_of_experience  10000 non-null  float64\n",
      " 3   lesson_price         10000 non-null  float64\n",
      " 4   qualification        10000 non-null  float64\n",
      " 5   physics              10000 non-null  float64\n",
      " 6   chemistry            10000 non-null  float64\n",
      " 7   biology              10000 non-null  float64\n",
      " 8   english              10000 non-null  float64\n",
      " 9   geography            10000 non-null  float64\n",
      " 10  history              10000 non-null  float64\n",
      " 11  mean_exam_points     10000 non-null  int64  \n",
      "dtypes: float64(10), int64(2)\n",
      "memory usage: 937.6 KB\n"
     ]
    }
   ],
   "source": [
    "train.info(memory_usage='deep')"
   ]
  },
  {
   "cell_type": "markdown",
   "metadata": {},
   "source": [
    "### Описание признаков"
   ]
  },
  {
   "cell_type": "markdown",
   "metadata": {},
   "source": [
    "id - id наблюдения  \n",
    "age - возраст  \n",
    "years_of_experience - стаж преподавания  \n",
    "lesson_price - стоимость урока  \n",
    "qualification - квалификация репетитора  \n",
    "physics - физика  \n",
    "chemistry - химия  \n",
    "biology - биология  \n",
    "english - английский  \n",
    "geography - география  \n",
    "history - история  \n",
    "mean_exam_points - средний бал за экзамен (целевая переменная)"
   ]
  },
  {
   "cell_type": "code",
   "execution_count": 6,
   "metadata": {},
   "outputs": [
    {
     "data": {
      "text/plain": [
       "Index(['age', 'years_of_experience', 'lesson_price', 'qualification',\n",
       "       'physics', 'chemistry', 'biology', 'english', 'geography', 'history',\n",
       "       'mean_exam_points'],\n",
       "      dtype='object')"
      ]
     },
     "execution_count": 6,
     "metadata": {},
     "output_type": "execute_result"
    }
   ],
   "source": [
    "# Сохраним названия признаков\n",
    "# feature_names = list(train.columns)\n",
    "feature_names = train.keys()[1:]\n",
    "feature_names"
   ]
  },
  {
   "cell_type": "markdown",
   "metadata": {},
   "source": [
    "### Оптимизация памяти"
   ]
  },
  {
   "cell_type": "code",
   "execution_count": 7,
   "metadata": {},
   "outputs": [],
   "source": [
    "def optimizing_df(df):\n",
    "    # train = optimizing_df(train)\n",
    "    # test = optimizing_df(test)\n",
    "    for col in df.columns:\n",
    "        if df[col].dtypes.kind == 'i' or df[col].dtypes.kind == 'u':\n",
    "            if df[col].min() >= 0:\n",
    "                df[col] = pd.to_numeric(df[col], downcast='unsigned')\n",
    "            else:\n",
    "                df[col] = pd.to_numeric(df[col], downcast='integer')\n",
    "\n",
    "        elif df[col].dtypes.kind == 'f' or df[col].dtypes.kind == 'c':\n",
    "            df[col] = pd.to_numeric(df[col], downcast='float')\n",
    "\n",
    "        elif df[col].dtypes.kind == 'O':\n",
    "            num_unique_values = len(df[col].unique())\n",
    "            num_total_values = len(df[col])\n",
    "\n",
    "    return df"
   ]
  },
  {
   "cell_type": "code",
   "execution_count": 8,
   "metadata": {},
   "outputs": [],
   "source": [
    "# Оптимизируем использование памяти\n",
    "train = optimizing_df(train)"
   ]
  },
  {
   "cell_type": "code",
   "execution_count": 9,
   "metadata": {},
   "outputs": [
    {
     "name": "stdout",
     "output_type": "stream",
     "text": [
      "<class 'pandas.core.frame.DataFrame'>\n",
      "RangeIndex: 10000 entries, 0 to 9999\n",
      "Data columns (total 12 columns):\n",
      " #   Column               Non-Null Count  Dtype  \n",
      "---  ------               --------------  -----  \n",
      " 0   Id                   10000 non-null  uint16 \n",
      " 1   age                  10000 non-null  float32\n",
      " 2   years_of_experience  10000 non-null  float32\n",
      " 3   lesson_price         10000 non-null  float32\n",
      " 4   qualification        10000 non-null  float32\n",
      " 5   physics              10000 non-null  float32\n",
      " 6   chemistry            10000 non-null  float32\n",
      " 7   biology              10000 non-null  float32\n",
      " 8   english              10000 non-null  float32\n",
      " 9   geography            10000 non-null  float32\n",
      " 10  history              10000 non-null  float32\n",
      " 11  mean_exam_points     10000 non-null  uint8  \n",
      "dtypes: float32(10), uint16(1), uint8(1)\n",
      "memory usage: 420.0 KB\n"
     ]
    }
   ],
   "source": [
    "train.info(memory_usage='deep')"
   ]
  },
  {
   "cell_type": "markdown",
   "metadata": {},
   "source": [
    "## Визуализация данных"
   ]
  },
  {
   "cell_type": "markdown",
   "metadata": {},
   "source": [
    "### Распределение целевой переменной"
   ]
  },
  {
   "cell_type": "code",
   "execution_count": 10,
   "metadata": {},
   "outputs": [
    {
     "data": {
      "text/plain": [
       "Text(0.5, 1.0, 'Distribution of variable mean_exam_points')"
      ]
     },
     "execution_count": 10,
     "metadata": {},
     "output_type": "execute_result"
    },
    {
     "data": {
      "image/png": "[encoded data removed]",
      "text/plain": [
       "<Figure size 1296x432 with 1 Axes>"
      ]
     },
     "metadata": {
      "needs_background": "light"
     },
     "output_type": "display_data"
    }
   ],
   "source": [
    "# Распределение целевой переменной в зависимости от стажа преподавания\n",
    "# Как видим, чем больше стаж, тем выше бал, что неудивительно\n",
    "plt.figure(figsize=(18, 6))\n",
    "sns.barplot(data=train, x=train['mean_exam_points'], y=train['years_of_experience'])\n",
    "plt.xticks(rotation=90)\n",
    "plt.title('Distribution of variable mean_exam_points')"
   ]
  },
  {
   "cell_type": "markdown",
   "metadata": {},
   "source": [
    "### Количественное распределение целевой переменной"
   ]
  },
  {
   "cell_type": "code",
   "execution_count": 11,
   "metadata": {},
   "outputs": [
    {
     "data": {
      "text/plain": [
       "<Figure size 576x576 with 0 Axes>"
      ]
     },
     "metadata": {},
     "output_type": "display_data"
    },
    {
     "data": {
      "image/png": "[encoded data removed]",
      "text/plain": [
       "<Figure size 360x360 with 1 Axes>"
      ]
     },
     "metadata": {
      "needs_background": "light"
     },
     "output_type": "display_data"
    }
   ],
   "source": [
    "# Посмотрим количественное распределение целевой переменной и средний бал\n",
    "target_mean = train['mean_exam_points'].mean()\n",
    "target_median = train['mean_exam_points'].median()\n",
    "\n",
    "plt.figure(figsize = (8, 8))\n",
    "\n",
    "sns.displot(train['mean_exam_points'], bins=30)\n",
    "\n",
    "y = np.linspace(0, 800, 100)\n",
    "plt.plot([target_mean] * 100, y, label='mean', linestyle=':', linewidth=2)\n",
    "plt.plot([target_median] * 100, y, label='median', linestyle='--', linewidth=2)\n",
    "\n",
    "plt.title('Distribution of mean_exam_points')\n",
    "plt.legend()\n",
    "plt.show()"
   ]
  },
  {
   "cell_type": "code",
   "execution_count": 12,
   "metadata": {},
   "outputs": [
    {
     "data": {
      "image/png": "[encoded data removed]",
      "text/plain": [
       "<Figure size 1152x1152 with 12 Axes>"
      ]
     },
     "metadata": {
      "needs_background": "light"
     },
     "output_type": "display_data"
    }
   ],
   "source": [
    "# Изучим остальные данные\n",
    "train.hist(figsize=(16,16), bins=30, grid=False);"
   ]
  },
  {
   "cell_type": "markdown",
   "metadata": {},
   "source": [
    "## Модель данных"
   ]
  },
  {
   "cell_type": "markdown",
   "metadata": {},
   "source": [
    "### Стандартизируем данные"
   ]
  },
  {
   "cell_type": "code",
   "execution_count": 13,
   "metadata": {},
   "outputs": [],
   "source": [
    "# Стандартизация данных\n",
    "def normalize_train(train):\n",
    "    train = scaler.fit_transform(train)\n",
    "    train = pd.DataFrame(train, columns=feature_names)\n",
    "    return train"
   ]
  },
  {
   "cell_type": "code",
   "execution_count": 14,
   "metadata": {
    "scrolled": true
   },
   "outputs": [
    {
     "data": {
      "text/html": [
       "<div>\n",
       "<style scoped>\n",
       "    .dataframe tbody tr th:only-of-type {\n",
       "        vertical-align: middle;\n",
       "    }\n",
       "\n",
       "    .dataframe tbody tr th {\n",
       "        vertical-align: top;\n",
       "    }\n",
       "\n",
       "    .dataframe thead th {\n",
       "        text-align: right;\n",
       "    }\n",
       "</style>\n",
       "<table border=\"1\" class=\"dataframe\">\n",
       "  <thead>\n",
       "    <tr style=\"text-align: right;\">\n",
       "      <th></th>\n",
       "      <th>age</th>\n",
       "      <th>years_of_experience</th>\n",
       "      <th>lesson_price</th>\n",
       "      <th>qualification</th>\n",
       "      <th>physics</th>\n",
       "      <th>chemistry</th>\n",
       "      <th>biology</th>\n",
       "      <th>english</th>\n",
       "      <th>geography</th>\n",
       "      <th>history</th>\n",
       "      <th>mean_exam_points</th>\n",
       "    </tr>\n",
       "  </thead>\n",
       "  <tbody>\n",
       "    <tr>\n",
       "      <th>0</th>\n",
       "      <td>-0.730774</td>\n",
       "      <td>-1.121140</td>\n",
       "      <td>-0.569875</td>\n",
       "      <td>-0.908202</td>\n",
       "      <td>1.290994</td>\n",
       "      <td>-0.391497</td>\n",
       "      <td>-0.350843</td>\n",
       "      <td>-0.238217</td>\n",
       "      <td>5.491143</td>\n",
       "      <td>-0.140655</td>\n",
       "      <td>-0.186150</td>\n",
       "    </tr>\n",
       "    <tr>\n",
       "      <th>1</th>\n",
       "      <td>0.263815</td>\n",
       "      <td>1.136037</td>\n",
       "      <td>2.192764</td>\n",
       "      <td>1.616335</td>\n",
       "      <td>1.290994</td>\n",
       "      <td>-0.391497</td>\n",
       "      <td>-0.350843</td>\n",
       "      <td>-0.238217</td>\n",
       "      <td>-0.182111</td>\n",
       "      <td>-0.140655</td>\n",
       "      <td>0.833923</td>\n",
       "    </tr>\n",
       "    <tr>\n",
       "      <th>2</th>\n",
       "      <td>-0.855098</td>\n",
       "      <td>-1.121140</td>\n",
       "      <td>-0.950929</td>\n",
       "      <td>-0.908202</td>\n",
       "      <td>-0.774597</td>\n",
       "      <td>-0.391497</td>\n",
       "      <td>-0.350843</td>\n",
       "      <td>-0.238217</td>\n",
       "      <td>-0.182111</td>\n",
       "      <td>-0.140655</td>\n",
       "      <td>-0.730188</td>\n",
       "    </tr>\n",
       "    <tr>\n",
       "      <th>3</th>\n",
       "      <td>0.015167</td>\n",
       "      <td>1.700332</td>\n",
       "      <td>-0.569875</td>\n",
       "      <td>-0.908202</td>\n",
       "      <td>-0.774597</td>\n",
       "      <td>-0.391497</td>\n",
       "      <td>-0.350843</td>\n",
       "      <td>-0.238217</td>\n",
       "      <td>-0.182111</td>\n",
       "      <td>-0.140655</td>\n",
       "      <td>-0.662183</td>\n",
       "    </tr>\n",
       "    <tr>\n",
       "      <th>4</th>\n",
       "      <td>-0.357803</td>\n",
       "      <td>-0.556846</td>\n",
       "      <td>-0.379348</td>\n",
       "      <td>-0.908202</td>\n",
       "      <td>-0.774597</td>\n",
       "      <td>-0.391497</td>\n",
       "      <td>-0.350843</td>\n",
       "      <td>-0.238217</td>\n",
       "      <td>-0.182111</td>\n",
       "      <td>-0.140655</td>\n",
       "      <td>-0.458169</td>\n",
       "    </tr>\n",
       "    <tr>\n",
       "      <th>...</th>\n",
       "      <td>...</td>\n",
       "      <td>...</td>\n",
       "      <td>...</td>\n",
       "      <td>...</td>\n",
       "      <td>...</td>\n",
       "      <td>...</td>\n",
       "      <td>...</td>\n",
       "      <td>...</td>\n",
       "      <td>...</td>\n",
       "      <td>...</td>\n",
       "      <td>...</td>\n",
       "    </tr>\n",
       "    <tr>\n",
       "      <th>9995</th>\n",
       "      <td>-0.233480</td>\n",
       "      <td>-1.121140</td>\n",
       "      <td>0.001705</td>\n",
       "      <td>0.354066</td>\n",
       "      <td>1.290994</td>\n",
       "      <td>2.554301</td>\n",
       "      <td>-0.350843</td>\n",
       "      <td>-0.238217</td>\n",
       "      <td>-0.182111</td>\n",
       "      <td>-0.140655</td>\n",
       "      <td>1.309956</td>\n",
       "    </tr>\n",
       "    <tr>\n",
       "      <th>9996</th>\n",
       "      <td>0.636785</td>\n",
       "      <td>-1.121140</td>\n",
       "      <td>0.001705</td>\n",
       "      <td>0.354066</td>\n",
       "      <td>-0.774597</td>\n",
       "      <td>-0.391497</td>\n",
       "      <td>-0.350843</td>\n",
       "      <td>-0.238217</td>\n",
       "      <td>-0.182111</td>\n",
       "      <td>-0.140655</td>\n",
       "      <td>-0.390164</td>\n",
       "    </tr>\n",
       "    <tr>\n",
       "      <th>9997</th>\n",
       "      <td>-1.476716</td>\n",
       "      <td>-0.556846</td>\n",
       "      <td>-0.855666</td>\n",
       "      <td>-0.908202</td>\n",
       "      <td>1.290994</td>\n",
       "      <td>-0.391497</td>\n",
       "      <td>-0.350843</td>\n",
       "      <td>-0.238217</td>\n",
       "      <td>-0.182111</td>\n",
       "      <td>-0.140655</td>\n",
       "      <td>-0.118145</td>\n",
       "    </tr>\n",
       "    <tr>\n",
       "      <th>9998</th>\n",
       "      <td>-1.601039</td>\n",
       "      <td>0.571743</td>\n",
       "      <td>-1.141456</td>\n",
       "      <td>-0.908202</td>\n",
       "      <td>-0.774597</td>\n",
       "      <td>-0.391497</td>\n",
       "      <td>-0.350843</td>\n",
       "      <td>-0.238217</td>\n",
       "      <td>-0.182111</td>\n",
       "      <td>-0.140655</td>\n",
       "      <td>-0.526174</td>\n",
       "    </tr>\n",
       "    <tr>\n",
       "      <th>9999</th>\n",
       "      <td>-1.352392</td>\n",
       "      <td>-1.121140</td>\n",
       "      <td>-0.474612</td>\n",
       "      <td>-0.908202</td>\n",
       "      <td>-0.774597</td>\n",
       "      <td>-0.391497</td>\n",
       "      <td>-0.350843</td>\n",
       "      <td>-0.238217</td>\n",
       "      <td>-0.182111</td>\n",
       "      <td>-0.140655</td>\n",
       "      <td>-0.798193</td>\n",
       "    </tr>\n",
       "  </tbody>\n",
       "</table>\n",
       "<p>10000 rows × 11 columns</p>\n",
       "</div>"
      ],
      "text/plain": [
       "           age  years_of_experience  lesson_price  qualification   physics  \\\n",
       "0    -0.730774            -1.121140     -0.569875      -0.908202  1.290994   \n",
       "1     0.263815             1.136037      2.192764       1.616335  1.290994   \n",
       "2    -0.855098            -1.121140     -0.950929      -0.908202 -0.774597   \n",
       "3     0.015167             1.700332     -0.569875      -0.908202 -0.774597   \n",
       "4    -0.357803            -0.556846     -0.379348      -0.908202 -0.774597   \n",
       "...        ...                  ...           ...            ...       ...   \n",
       "9995 -0.233480            -1.121140      0.001705       0.354066  1.290994   \n",
       "9996  0.636785            -1.121140      0.001705       0.354066 -0.774597   \n",
       "9997 -1.476716            -0.556846     -0.855666      -0.908202  1.290994   \n",
       "9998 -1.601039             0.571743     -1.141456      -0.908202 -0.774597   \n",
       "9999 -1.352392            -1.121140     -0.474612      -0.908202 -0.774597   \n",
       "\n",
       "      chemistry   biology   english  geography   history  mean_exam_points  \n",
       "0     -0.391497 -0.350843 -0.238217   5.491143 -0.140655         -0.186150  \n",
       "1     -0.391497 -0.350843 -0.238217  -0.182111 -0.140655          0.833923  \n",
       "2     -0.391497 -0.350843 -0.238217  -0.182111 -0.140655         -0.730188  \n",
       "3     -0.391497 -0.350843 -0.238217  -0.182111 -0.140655         -0.662183  \n",
       "4     -0.391497 -0.350843 -0.238217  -0.182111 -0.140655         -0.458169  \n",
       "...         ...       ...       ...        ...       ...               ...  \n",
       "9995   2.554301 -0.350843 -0.238217  -0.182111 -0.140655          1.309956  \n",
       "9996  -0.391497 -0.350843 -0.238217  -0.182111 -0.140655         -0.390164  \n",
       "9997  -0.391497 -0.350843 -0.238217  -0.182111 -0.140655         -0.118145  \n",
       "9998  -0.391497 -0.350843 -0.238217  -0.182111 -0.140655         -0.526174  \n",
       "9999  -0.391497 -0.350843 -0.238217  -0.182111 -0.140655         -0.798193  \n",
       "\n",
       "[10000 rows x 11 columns]"
      ]
     },
     "execution_count": 14,
     "metadata": {},
     "output_type": "execute_result"
    }
   ],
   "source": [
    "# Стандартизируем данные\n",
    "normalize_train(train[feature_names])"
   ]
  },
  {
   "cell_type": "markdown",
   "metadata": {},
   "source": [
    "### Разделяем датасет"
   ]
  },
  {
   "cell_type": "code",
   "execution_count": 15,
   "metadata": {},
   "outputs": [],
   "source": [
    "# Убираем лишние столбцы и сохраняем целевую переменную\n",
    "train = np.transpose(train.values)\n",
    "X = train[1:-1]\n",
    "y = train[-1]"
   ]
  },
  {
   "cell_type": "code",
   "execution_count": 16,
   "metadata": {},
   "outputs": [],
   "source": [
    "# Разделяем датасет на тренировочный и валидационный\n",
    "train_data_regr, test_data_regr, train_target_regr, test_target_regr = train_test_split(\n",
    "    np.transpose(X), np.transpose(y), test_size=0.30, random_state=1)"
   ]
  },
  {
   "cell_type": "markdown",
   "metadata": {},
   "source": [
    "### Модель Regression Tree"
   ]
  },
  {
   "cell_type": "code",
   "execution_count": 17,
   "metadata": {},
   "outputs": [],
   "source": [
    "class Node:\n",
    "    \n",
    "    def __init__(self, index, t, true_branch, false_branch):\n",
    "        self.index = index  # индекс признака, по которому ведется сравнение с порогом в этом узле\n",
    "        self.t = t  # значение порога\n",
    "        self.true_branch = true_branch  # поддерево, удовлетворяющее условию в узле\n",
    "        self.false_branch = false_branch  # поддерево, не удовлетворяющее условию в узле"
   ]
  },
  {
   "cell_type": "code",
   "execution_count": 18,
   "metadata": {},
   "outputs": [],
   "source": [
    "class Leaf_clsf:\n",
    "    \n",
    "    def __init__(self, data, labels):\n",
    "        self.data = data\n",
    "        self.labels = labels\n",
    "        self.prediction = self.predict()\n",
    "        \n",
    "    def predict(self):\n",
    "        # подсчет количества объектов разных классов\n",
    "        classes = {}  # сформируем словарь \"класс: количество объектов\"\n",
    "        for label in self.labels:\n",
    "            if label not in classes:\n",
    "                classes[label] = 0\n",
    "            classes[label] += 1\n",
    "            \n",
    "        # найдем класс, количество объектов которого будет максимальным в этом листе и вернем его    \n",
    "        prediction = max(classes, key=classes.get)\n",
    "        return prediction        \n",
    "    \n",
    "\n",
    "class Leaf_regr:\n",
    "    \n",
    "    def __init__(self, data, targets):\n",
    "        self.data = data\n",
    "        self.targets = targets\n",
    "        self.prediction = self.predict()\n",
    "        \n",
    "    def predict(self):\n",
    "        return self.targets.mean()"
   ]
  },
  {
   "cell_type": "code",
   "execution_count": 19,
   "metadata": {},
   "outputs": [],
   "source": [
    "class BaseTree:\n",
    "\n",
    "    def __init__(self,\n",
    "                 max_depth,\n",
    "                 max_leaf_nodes,\n",
    "                 min_leaf_samples,\n",
    "                 leaf_class):\n",
    "        self.max_depth = max_depth\n",
    "        self.nodes = []\n",
    "        self.leaves = []\n",
    "        self.depth = 0\n",
    "        self.max_leaves = max_leaf_nodes\n",
    "        self.min_objects = min_leaf_samples\n",
    "        self.tree = None\n",
    "        self.Leaf = leaf_class\n",
    "        \n",
    "    # Разбиение датасета в узле\n",
    "    def split(self,\n",
    "              data,\n",
    "              labels,\n",
    "              column_index,\n",
    "              t):\n",
    "\n",
    "        left = np.where(data[:, column_index] <= t)\n",
    "        right = np.where(data[:, column_index] > t)\n",
    "\n",
    "        true_data = data[left]\n",
    "        false_data = data[right]\n",
    "\n",
    "        true_labels = labels[left]\n",
    "        false_labels = labels[right]\n",
    "\n",
    "        return true_data, false_data, true_labels, false_labels\n",
    "    \n",
    "    # Расчет прироста\n",
    "    def gain(self,\n",
    "             left_labels,\n",
    "             right_labels,\n",
    "             root):\n",
    "\n",
    "        # доля выборки, ушедшая в левое поддерево\n",
    "        p = float(left_labels.shape[0]) / (left_labels.shape[0] + right_labels.shape[0])\n",
    "\n",
    "        return root - p * self.criterion(left_labels) - (1 - p) * self.criterion(right_labels)   \n",
    "    \n",
    "    # Нахождение наилучшего разбиения\n",
    "    def find_best_split(self,\n",
    "                        data,\n",
    "                        labels):\n",
    "\n",
    "        #  обозначим минимальное количество объектов в узле\n",
    "        min_samples_leaf = 5\n",
    "\n",
    "        root = self.criterion(labels)\n",
    "\n",
    "        best_gain = 0\n",
    "        best_t = None\n",
    "        best_index = None\n",
    "\n",
    "        n_features = data.shape[1]\n",
    "\n",
    "        for index in range(n_features):\n",
    "            # будем проверять только уникальные значения признака, исключая повторения\n",
    "            t_values = np.unique(data[:, index])\n",
    "\n",
    "            for t in t_values:\n",
    "                true_data, false_data, true_labels, false_labels = self.split(data, labels, index, t)\n",
    "                #  пропускаем разбиения, в которых в узле остается менее 5 объектов\n",
    "                if len(true_data) < min_samples_leaf or len(false_data) < min_samples_leaf:\n",
    "                    continue\n",
    "\n",
    "                current_gain = self.gain(true_labels, false_labels, root)\n",
    "\n",
    "                #  выбираем порог, на котором получается максимальный прирост качества\n",
    "                if current_gain > best_gain:\n",
    "                    best_gain, best_t, best_index = current_gain, t, index\n",
    "\n",
    "        return best_gain, best_t, best_index\n",
    "    \n",
    "    # Построение дерева с помощью рекурсивной функции\n",
    "    def build_tree(self,\n",
    "                   data,\n",
    "                   labels):\n",
    "\n",
    "        gain, t, index = self.find_best_split(data, labels)\n",
    "        \n",
    "        # Базовые случаи для остановки построения дерева\n",
    " \n",
    "        #  Базовый случай 2 - прекращаем рекурсию, когда достигли максимальной глубины дерева\n",
    "        if self.depth > self.max_depth:\n",
    "            self.leaves.append(self.Leaf(data, labels))\n",
    "            return self.Leaf(data, labels)\n",
    "        \n",
    "        #  Базовый случай 3 - прекращаем рекурсию, когда достигли максимального количества листьев\n",
    "        if len(self.leaves) >= self.max_leaves - 1 or self.depth >= self.max_leaves - 1:\n",
    "            self.leaves.append(self.Leaf(data, labels))\n",
    "            return self.Leaf(data, labels)\n",
    "        \n",
    "        #  Базовый случай 4 - прекращаем рекурсию, когда достигли минимального количества объектов в листе\n",
    "        if len(data) <= self.min_objects:\n",
    "            self.leaves.append(self.Leaf(data, labels))\n",
    "            return self.Leaf(data, labels)\n",
    "        \n",
    "         #  Базовый случай 1 - прекращаем рекурсию, когда нет прироста в качества\n",
    "        if gain == 0:\n",
    "            self.leaves.append(self.Leaf(data, labels))\n",
    "            return self.Leaf(data, labels)\n",
    "\n",
    "        self.depth += 1\n",
    "        \n",
    "        true_data, false_data, true_labels, false_labels = self.split(data, labels, index, t)\n",
    "\n",
    "        # Рекурсивно строим два поддерева\n",
    "        true_branch = self.build_tree(true_data, true_labels)\n",
    "        false_branch = self.build_tree(false_data, false_labels)\n",
    "\n",
    "        # Возвращаем класс узла со всеми поддеревьями, то есть целого дерева\n",
    "        self.nodes.append(Node(index, t, true_branch, false_branch))\n",
    "        return Node(index, t, true_branch, false_branch)\n",
    "    \n",
    "    def predict_object(self,\n",
    "                       obj,\n",
    "                       node):\n",
    "\n",
    "        #  Останавливаем рекурсию, если достигли листа\n",
    "        if isinstance(node, self.Leaf):\n",
    "            answer = node.prediction\n",
    "            return answer\n",
    "\n",
    "        if obj[node.index] <= node.t:\n",
    "            return self.predict_object(obj, node.true_branch)\n",
    "        else:\n",
    "            return self.predict_object(obj, node.false_branch)\n",
    "    \n",
    "    def fit(self, data, labels):\n",
    "        self.tree = self.build_tree(data, labels)\n",
    "        return self\n",
    "    \n",
    "    def predict(self, data):\n",
    "    \n",
    "        classes = []\n",
    "        for obj in data:\n",
    "            prediction = self.predict_object(obj, self.tree)\n",
    "            classes.append(prediction)\n",
    "        return classes"
   ]
  },
  {
   "cell_type": "code",
   "execution_count": 20,
   "metadata": {},
   "outputs": [],
   "source": [
    "class Classification_Tree(BaseTree):\n",
    "    def __init__(self,\n",
    "                 max_depth=np.inf,\n",
    "                 max_leaf_nodes=np.inf,\n",
    "                 min_leaf_samples=1,\n",
    "                 leaf_class=Leaf_clsf):\n",
    "        super().__init__(max_depth=max_depth,\n",
    "                         max_leaf_nodes=max_leaf_nodes,\n",
    "                         min_leaf_samples=min_leaf_samples,\n",
    "                         leaf_class=Leaf_clsf)\n",
    "\n",
    "    # Расчет критерия Джини\n",
    "    def criterion(self,\n",
    "                  labels):\n",
    "        #  подсчет количества объектов разных классов\n",
    "        classes = {}\n",
    "        for label in labels:\n",
    "            if label not in classes:\n",
    "                classes[label] = 0\n",
    "            classes[label] += 1\n",
    "\n",
    "        #  расчет критерия\n",
    "        impurity = 1\n",
    "        for label in classes:\n",
    "            p = classes[label] / len(labels)\n",
    "            impurity -= p ** 2\n",
    "\n",
    "        return impurity"
   ]
  },
  {
   "cell_type": "code",
   "execution_count": 21,
   "metadata": {},
   "outputs": [],
   "source": [
    "class Regression_Tree(BaseTree):\n",
    "    def __init__(self,\n",
    "                 max_depth=np.inf,\n",
    "                 max_leaf_nodes=np.inf,\n",
    "                 min_leaf_samples=1,\n",
    "                 leaf_class=Leaf_regr):\n",
    "        super().__init__(max_depth=max_depth,\n",
    "                         max_leaf_nodes=max_leaf_nodes,\n",
    "                         min_leaf_samples=min_leaf_samples,\n",
    "                         leaf_class=Leaf_regr)\n",
    "\n",
    "    # Расчет дисперсии\n",
    "    def criterion(self, targets):\n",
    "        return np.mean((targets - targets.mean())**2)"
   ]
  },
  {
   "cell_type": "code",
   "execution_count": 22,
   "metadata": {},
   "outputs": [
    {
     "data": {
      "text/plain": [
       "(0.7591789511735626, 0.5563172402189076)"
      ]
     },
     "execution_count": 22,
     "metadata": {},
     "output_type": "execute_result"
    }
   ],
   "source": [
    "regr = Regression_Tree(max_depth=1000)\n",
    "regr.fit(train_data_regr, train_target_regr)\n",
    "\n",
    "r2_score(train_target_regr, regr.predict(train_data_regr)), r2_score(test_target_regr, regr.predict(test_data_regr))"
   ]
  },
  {
   "cell_type": "markdown",
   "metadata": {},
   "source": [
    "## Прогноз целевой переменной (test)"
   ]
  },
  {
   "cell_type": "code",
   "execution_count": 23,
   "metadata": {},
   "outputs": [
    {
     "name": "stdout",
     "output_type": "stream",
     "text": [
      "Test:\t10000\t string and 11 features\n"
     ]
    }
   ],
   "source": [
    "# Загрузка и предобработка тестовых данных\n",
    "test = df_read_csv('test')\n",
    "df_save = test"
   ]
  },
  {
   "cell_type": "code",
   "execution_count": 24,
   "metadata": {},
   "outputs": [],
   "source": [
    "# Оптимизируем использование памяти\n",
    "test = optimizing_df(test)"
   ]
  },
  {
   "cell_type": "code",
   "execution_count": 25,
   "metadata": {},
   "outputs": [],
   "source": [
    "test = np.transpose(test.values)\n",
    "ids, test = test[0], test[1:]  # id для предсказания нам не нужен\n",
    "test = np.transpose(test)"
   ]
  },
  {
   "cell_type": "code",
   "execution_count": 26,
   "metadata": {},
   "outputs": [
    {
     "data": {
      "text/plain": [
       "0.76034287632327"
      ]
     },
     "execution_count": 26,
     "metadata": {},
     "output_type": "execute_result"
    }
   ],
   "source": [
    "regr = Regression_Tree(max_depth=500)\n",
    "regr.fit(test_data_regr, test_target_regr)\n",
    "\n",
    "r2_score(test_target_regr, regr.predict(test_data_regr))"
   ]
  },
  {
   "cell_type": "code",
   "execution_count": 27,
   "metadata": {},
   "outputs": [],
   "source": [
    "test_pred = regr.predict(test)"
   ]
  },
  {
   "cell_type": "code",
   "execution_count": 28,
   "metadata": {},
   "outputs": [
    {
     "data": {
      "text/html": [
       "<div>\n",
       "<style scoped>\n",
       "    .dataframe tbody tr th:only-of-type {\n",
       "        vertical-align: middle;\n",
       "    }\n",
       "\n",
       "    .dataframe tbody tr th {\n",
       "        vertical-align: top;\n",
       "    }\n",
       "\n",
       "    .dataframe thead th {\n",
       "        text-align: right;\n",
       "    }\n",
       "</style>\n",
       "<table border=\"1\" class=\"dataframe\">\n",
       "  <thead>\n",
       "    <tr style=\"text-align: right;\">\n",
       "      <th></th>\n",
       "      <th>Id</th>\n",
       "      <th>0</th>\n",
       "    </tr>\n",
       "  </thead>\n",
       "  <tbody>\n",
       "    <tr>\n",
       "      <th>0</th>\n",
       "      <td>10000</td>\n",
       "      <td>55.400002</td>\n",
       "    </tr>\n",
       "    <tr>\n",
       "      <th>1</th>\n",
       "      <td>10001</td>\n",
       "      <td>68.199997</td>\n",
       "    </tr>\n",
       "    <tr>\n",
       "      <th>2</th>\n",
       "      <td>10002</td>\n",
       "      <td>45.333332</td>\n",
       "    </tr>\n",
       "    <tr>\n",
       "      <th>3</th>\n",
       "      <td>10003</td>\n",
       "      <td>81.400002</td>\n",
       "    </tr>\n",
       "    <tr>\n",
       "      <th>4</th>\n",
       "      <td>10004</td>\n",
       "      <td>91.285713</td>\n",
       "    </tr>\n",
       "    <tr>\n",
       "      <th>...</th>\n",
       "      <td>...</td>\n",
       "      <td>...</td>\n",
       "    </tr>\n",
       "    <tr>\n",
       "      <th>9995</th>\n",
       "      <td>19995</td>\n",
       "      <td>43.333332</td>\n",
       "    </tr>\n",
       "    <tr>\n",
       "      <th>9996</th>\n",
       "      <td>19996</td>\n",
       "      <td>81.125000</td>\n",
       "    </tr>\n",
       "    <tr>\n",
       "      <th>9997</th>\n",
       "      <td>19997</td>\n",
       "      <td>58.200001</td>\n",
       "    </tr>\n",
       "    <tr>\n",
       "      <th>9998</th>\n",
       "      <td>19998</td>\n",
       "      <td>68.400002</td>\n",
       "    </tr>\n",
       "    <tr>\n",
       "      <th>9999</th>\n",
       "      <td>19999</td>\n",
       "      <td>56.200001</td>\n",
       "    </tr>\n",
       "  </tbody>\n",
       "</table>\n",
       "<p>10000 rows × 2 columns</p>\n",
       "</div>"
      ],
      "text/plain": [
       "         Id          0\n",
       "0     10000  55.400002\n",
       "1     10001  68.199997\n",
       "2     10002  45.333332\n",
       "3     10003  81.400002\n",
       "4     10004  91.285713\n",
       "...     ...        ...\n",
       "9995  19995  43.333332\n",
       "9996  19996  81.125000\n",
       "9997  19997  58.200001\n",
       "9998  19998  68.400002\n",
       "9999  19999  56.200001\n",
       "\n",
       "[10000 rows x 2 columns]"
      ]
     },
     "execution_count": 28,
     "metadata": {},
     "output_type": "execute_result"
    }
   ],
   "source": [
    "pd.concat([df_save['Id'], pd.Series(test_pred)], axis=1)"
   ]
  },
  {
   "cell_type": "code",
   "execution_count": 29,
   "metadata": {},
   "outputs": [],
   "source": [
    "df_final = pd.concat([df_save['Id'], pd.Series(test_pred)], axis=1)\n",
    "df_final = df_final.rename(columns={0: 'mean_exam_points'})"
   ]
  },
  {
   "cell_type": "code",
   "execution_count": 30,
   "metadata": {},
   "outputs": [],
   "source": [
    "df_final.to_csv('VSmirnov_predictions.csv', index=None)"
   ]
  },
  {
   "cell_type": "code",
   "execution_count": null,
   "metadata": {},
   "outputs": [],
   "source": []
  }
 ],
 "metadata": {
  "hide_input": false,
  "kernelspec": {
   "display_name": "Python 3",
   "language": "python",
   "name": "python3"
  },
  "language_info": {
   "codemirror_mode": {
    "name": "ipython",
    "version": 3
   },
   "file_extension": ".py",
   "mimetype": "text/x-python",
   "name": "python",
   "nbconvert_exporter": "python",
   "pygments_lexer": "ipython3",
   "version": "3.8.6"
  },
  "toc": {
   "base_numbering": 1,
   "nav_menu": {},
   "number_sections": true,
   "sideBar": true,
   "skip_h1_title": false,
   "title_cell": "Table of Contents",
   "title_sidebar": "Contents",
   "toc_cell": false,
   "toc_position": {
    "height": "calc(100% - 180px)",
    "left": "10px",
    "top": "150px",
    "width": "349.091px"
   },
   "toc_section_display": true,
   "toc_window_display": true
  }
 },
 "nbformat": 4,
 "nbformat_minor": 4
}
