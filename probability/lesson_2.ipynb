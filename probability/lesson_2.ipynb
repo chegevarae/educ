{
 "cells": [
  {
   "cell_type": "markdown",
   "metadata": {},
   "source": [
    "# ДЗ 2. Дискретные случайные величины. Закон распределения вероятностей. Биномиальный закон распределения. Распределение Пуассона"
   ]
  },
  {
   "cell_type": "markdown",
   "metadata": {},
   "source": [
    "## Вероятность попасть в мишень\n",
    "Вероятность того, что стрелок попадет в мишень, выстрелив один раз, равна 0.8. Стрелок выстрелил 100 раз. Найдите вероятность того, что стрелок попадет в цель ровно 85 раз."
   ]
  },
  {
   "cell_type": "markdown",
   "metadata": {},
   "source": [
    "$P_n =C_n^kp^kq^{n-k}$"
   ]
  },
  {
   "cell_type": "markdown",
   "metadata": {},
   "source": [
    "$P_{100} = \\frac{100!}{85!(100-85)!} * 0.8^{85} * (1- 0.8)^{100-85} = 0.048$"
   ]
  },
  {
   "cell_type": "code",
   "execution_count": 1,
   "metadata": {},
   "outputs": [
    {
     "data": {
      "text/plain": [
       "0.048061793700746355"
      ]
     },
     "execution_count": 1,
     "metadata": {},
     "output_type": "execute_result"
    }
   ],
   "source": [
    "import numpy as np\n",
    "\n",
    "n = 100\n",
    "k = 85\n",
    "p = 0.8\n",
    "q = 1 - p\n",
    "lambda_ = n * p\n",
    "\n",
    "(np.math.factorial(n) / (np.math.factorial(k) * np.math.factorial(n - k))) * p**k * q**(n-k)"
   ]
  },
  {
   "cell_type": "markdown",
   "metadata": {},
   "source": [
    "## Вероятность перегореть лампочкам\n",
    "Вероятность того, что лампочка перегорит в течение первого дня эксплуатации, равна 0.0004. В жилом комплексе после ремонта в один день включили 5000 новых лампочек. Какова вероятность, что ни одна из них не перегорит в первый день? Какова вероятность, что перегорят ровно две?"
   ]
  },
  {
   "cell_type": "markdown",
   "metadata": {},
   "source": [
    "$P_m \\approx \\frac{\\lambda^{m}}{m!}e^{-\\lambda}$"
   ]
  },
  {
   "cell_type": "markdown",
   "metadata": {},
   "source": [
    "$\\lambda = 5000 \\times 0.0004 = 2$"
   ]
  },
  {
   "cell_type": "markdown",
   "metadata": {},
   "source": [
    "$P_m \\approx \\frac{2^{0}}{0!}e^{-2} \\approx 0.135335 $"
   ]
  },
  {
   "cell_type": "code",
   "execution_count": 2,
   "metadata": {},
   "outputs": [
    {
     "data": {
      "text/plain": [
       "0.1353352832366127"
      ]
     },
     "execution_count": 2,
     "metadata": {},
     "output_type": "execute_result"
    }
   ],
   "source": [
    "n = 5000\n",
    "m = 0\n",
    "p = 0.0004\n",
    "lambda_ = n * p\n",
    "\n",
    "(lambda_**m / np.math.factorial(m)) * np.exp(-lambda_)"
   ]
  },
  {
   "cell_type": "markdown",
   "metadata": {},
   "source": [
    "$P_m \\approx \\frac{2^{2}}{2!}e^{-2} \\approx 0.270671 $"
   ]
  },
  {
   "cell_type": "code",
   "execution_count": 3,
   "metadata": {},
   "outputs": [
    {
     "data": {
      "text/plain": [
       "0.2706705664732254"
      ]
     },
     "execution_count": 3,
     "metadata": {},
     "output_type": "execute_result"
    }
   ],
   "source": [
    "n = 5000\n",
    "m = 2\n",
    "p = 0.0004\n",
    "lambda_ = n * p\n",
    "\n",
    "(lambda_**m / np.math.factorial(m)) * np.exp(-lambda_)"
   ]
  },
  {
   "cell_type": "markdown",
   "metadata": {},
   "source": [
    "## Вероятность выпадания орла\n",
    "Монету подбросили 144 раза. Какова вероятность, что орел выпадет ровно 70 раз?"
   ]
  },
  {
   "cell_type": "markdown",
   "metadata": {},
   "source": [
    "$P_n =C_n^kp^kq^{n-k}$"
   ]
  },
  {
   "cell_type": "markdown",
   "metadata": {},
   "source": [
    "$P_{70} = \\frac{144!}{70!(144-70)!} * 0.5^{70} * (1- 0.5)^{144-70} = 0.063$"
   ]
  },
  {
   "cell_type": "code",
   "execution_count": 4,
   "metadata": {},
   "outputs": [
    {
     "data": {
      "text/plain": [
       "0.06281178035144776"
      ]
     },
     "execution_count": 4,
     "metadata": {},
     "output_type": "execute_result"
    }
   ],
   "source": [
    "import numpy as np\n",
    "\n",
    "n = 144\n",
    "k = 70\n",
    "p = 0.5\n",
    "q = 1 - p\n",
    "lambda_ = n * p\n",
    "\n",
    "(np.math.factorial(n) / (np.math.factorial(k) * np.math.factorial(n - k))) * p**k * q**(n-k)"
   ]
  },
  {
   "cell_type": "markdown",
   "metadata": {},
   "source": [
    "## Вероятность вытащить белые мячи\n",
    "В первом ящике находится 10 мячей, из которых 7 - белые. Во втором ящике - 11 мячей, из которых 9 белых. Из каждого ящика вытаскивают случайным образом по два мяча. Какова вероятность того, что все мячи белые? Какова вероятность того, что ровно два мяча белые? Какова вероятность того, что хотя бы один мяч белый?"
   ]
  },
  {
   "cell_type": "markdown",
   "metadata": {},
   "source": [
    "**Вероятность того, что все мячи белые:**\n",
    "\n",
    "$P = \\frac{7}{10} \\cdot \\frac{6}{9} \\cdot \\frac{9}{11} \\cdot \\frac{8}{10} = 0.30545$"
   ]
  },
  {
   "cell_type": "markdown",
   "metadata": {},
   "source": [
    "**Вероятность того, что ровно два мяча белые:**\n",
    "\n",
    "*Вероятность, что из первой корзины вытащили два белых мяча и ни одного из второй:*\n",
    "\n",
    "$P = \\frac{7}{10} \\cdot \\frac{6}{9} \\cdot \\frac{2}{11} \\cdot \\frac{1}{10} = 0.00848$\n",
    "\n",
    "*Вероятность, что из первой корзины вытащили только один белый мяч и только один из второй:*\n",
    "\n",
    "$P = (\\frac{7}{10} \\cdot \\frac{3}{9} + \\frac{3}{10} \\cdot \\frac{7}{9}) \\cdot (\\frac{9}{11} \\cdot \\frac{2}{10} + \\frac{2}{11} \\cdot \\frac{9}{10}) = 0.15273$\n",
    "\n",
    "*Вероятность, что из первой корзины вытащили ни одного белого мяча и два из второй:*\n",
    "\n",
    "$P = \\frac{3}{10} \\cdot \\frac{2}{9} \\cdot \\frac{9}{11} \\cdot \\frac{8}{10} = 0.04364$\n",
    "\n",
    "$P = 0.00848 + 0.15272 + 0.04364 = 0.20484$"
   ]
  },
  {
   "cell_type": "markdown",
   "metadata": {},
   "source": [
    "**Вероятность того, что хотя бы один мяч белый:**\n",
    "\n",
    "*Вероятность не вытащить ни одного белого мяча из первой корзины и второй корзины:*\n",
    "\n",
    "$P = \\frac{3}{10} \\cdot  \\frac{2}{9} \\cdot \\frac{2}{11} \\cdot  \\frac{1}{10}= 0.00121$\n",
    "\n",
    "*Вероятность того, что хотя бы один мяч белый:*\n",
    "\n",
    "$P = 1 - 0.00121 = 0.99879$"
   ]
  },
  {
   "cell_type": "code",
   "execution_count": null,
   "metadata": {},
   "outputs": [],
   "source": []
  }
 ],
 "metadata": {
  "hide_input": false,
  "kernelspec": {
   "display_name": "Python 3",
   "language": "python",
   "name": "python3"
  },
  "language_info": {
   "codemirror_mode": {
    "name": "ipython",
    "version": 3
   },
   "file_extension": ".py",
   "mimetype": "text/x-python",
   "name": "python",
   "nbconvert_exporter": "python",
   "pygments_lexer": "ipython3",
   "version": "3.8.3"
  },
  "toc": {
   "base_numbering": 1,
   "nav_menu": {},
   "number_sections": true,
   "sideBar": true,
   "skip_h1_title": false,
   "title_cell": "Table of Contents",
   "title_sidebar": "Contents",
   "toc_cell": false,
   "toc_position": {},
   "toc_section_display": true,
   "toc_window_display": false
  }
 },
 "nbformat": 4,
 "nbformat_minor": 4
}
