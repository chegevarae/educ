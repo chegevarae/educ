{
 "cells": [
  {
   "cell_type": "markdown",
   "metadata": {},
   "source": [
    "# ДЗ 6. Взаимосвязь величин. Параметрические и непараметрические показатели корреляции. Корреляционный анализ"
   ]
  },
  {
   "cell_type": "code",
   "execution_count": 1,
   "metadata": {},
   "outputs": [],
   "source": [
    "import numpy as np"
   ]
  },
  {
   "cell_type": "markdown",
   "metadata": {},
   "source": [
    "## Ковариация и коэффициент корреляции Пирсона"
   ]
  },
  {
   "cell_type": "markdown",
   "metadata": {},
   "source": [
    "Даны значения величины заработной платы заемщиков банка (zp) и значения их поведенческого кредитного скоринга (ks):  \n",
    "zp = [35, 45, 190, 200, 40, 70, 54, 150, 120, 110],  \n",
    "ks = [401, 574, 874, 919, 459, 739, 653, 902, 746, 832].  \n",
    "Найдите ковариацию этих двух величин с помощью элементарных действий, а затем с помощью функции cov из numpy. Полученные значения должны быть равны. Найдите коэффициент корреляции Пирсона с помощью ковариации и среднеквадратичных отклонений двух признаков, а затем с использованием функций из библиотек numpy и pandas."
   ]
  },
  {
   "cell_type": "code",
   "execution_count": 2,
   "metadata": {},
   "outputs": [],
   "source": [
    "zp = np.array([35, 45, 190, 200, 40, 70, 54, 150, 120, 110])\n",
    "ks = np.array([401, 574, 874, 919, 459, 739, 653, 902, 746, 832])"
   ]
  },
  {
   "cell_type": "markdown",
   "metadata": {},
   "source": [
    "$cov(X, Y) =M(XY) - M(X)M(Y)$"
   ]
  },
  {
   "cell_type": "markdown",
   "metadata": {},
   "source": [
    "$M(zp \\cdot ks) = \\frac{35 \\cdot 401 + 45 \\cdot 574 + 190 \\cdot 874 + 200 \\cdot 919 + 40 \\cdot 459 + 70 \\cdot 739 + 54 \\cdot 653 + 150 \\cdot 902 + 120 \\cdot 746+ 110 \\cdot 832}{10} = 81141.70$"
   ]
  },
  {
   "cell_type": "markdown",
   "metadata": {},
   "source": [
    "$\\overline{zp} = \\frac{35 + 45 + 190 + 200 + 40 + 70 + 54 + 150 + 120 + 110}{10} = 101.40$"
   ]
  },
  {
   "cell_type": "markdown",
   "metadata": {},
   "source": [
    "$\\overline{ks} = \\frac{401 + 574 + 874 + 919 + 459 + 739 + 653 + 902 + 746 + 832}{10} = 709.90$"
   ]
  },
  {
   "cell_type": "markdown",
   "metadata": {},
   "source": [
    "$cov(zp, ks) = 81141.7 - 101.4 \\cdot 709.9 = 9157.84$"
   ]
  },
  {
   "cell_type": "code",
   "execution_count": 12,
   "metadata": {},
   "outputs": [
    {
     "name": "stdout",
     "output_type": "stream",
     "text": [
      "9157.84\n"
     ]
    }
   ],
   "source": [
    "print(np.cov(zp, ks, ddof = 0)[0,1])"
   ]
  },
  {
   "cell_type": "markdown",
   "metadata": {},
   "source": [
    "---\n",
    "$r_{XY} = \\frac{cov(X, Y)}{\\sigma_{X} \\cdot \\sigma_{Y}}$\n",
    "\n",
    "$\\sigma_{zp} = \\sqrt{\\frac{(35 - 101.40)^2 + (45 - 101.40)^2 + (190 - 101.40)^2 + (200 - 101.40)^2 + (40 - 101.40)^2 + (70 - 101.40)^2 + (54 - 101.40)^2 + (150 - 101.40)^2 + (120 - 101.40)^2 + (110 - 101.40)^2}{10}} = 59.12$\n",
    "\n",
    "$\\sigma_{ks} = \\sqrt{\\frac{(401 - 709.90)^2 + (574 - 709.90)^2 + (874 - 709.90)^2 + (919 - 709.90)^2 + (459 - 709.90)^2 + (739 - 709.90)^2 + (653 - 709.90)^2 + (902 - 709.90)^2 + (746 - 709.90)^2 + (832 - 709.90)^2}{10}} = 174.55$\n",
    "\n",
    "$r_{zp,ks} = \\frac{9157.84}{59.12 \\cdot 174.55} = 0.89$"
   ]
  },
  {
   "cell_type": "code",
   "execution_count": 4,
   "metadata": {},
   "outputs": [
    {
     "name": "stdout",
     "output_type": "stream",
     "text": [
      "0.8874900920739162\n"
     ]
    }
   ],
   "source": [
    "print(np.corrcoef(zp, ks)[0, 1])"
   ]
  },
  {
   "cell_type": "markdown",
   "metadata": {},
   "source": [
    "## Доверительный интервал - 1"
   ]
  },
  {
   "cell_type": "markdown",
   "metadata": {},
   "source": [
    "Измерены значения IQ выборки студентов, обучающихся в местных технических вузах: 131, 125, 115, 122, 131, 115, 107, 99, 125, 111. Известно, что в генеральной совокупности IQ распределен нормально. Найдите доверительный интервал для математического ожидания с надежностью 0.95."
   ]
  },
  {
   "cell_type": "markdown",
   "metadata": {},
   "source": [
    "$\\left(\\overline{x} - t_{\\frac{a}{2}} \\cdot \\frac{S}{\\sqrt{n}} , \\overline{x} + t_{\\frac{a}{2}} \\cdot \\frac{S}{\\sqrt{n}}\\right)$"
   ]
  },
  {
   "cell_type": "markdown",
   "metadata": {},
   "source": [
    "$\\overline{X} = \\frac{131 + 125 + 115 + 122 + 131 + 115 + 107 + 99 + 125 + 111}{10} = 118.1$\n",
    "\n",
    "$S = \\sqrt{\\frac{\\displaystyle\\sum_{i=1}^{n} (x_i - \\overline{x})}{n-1}}$"
   ]
  },
  {
   "cell_type": "markdown",
   "metadata": {},
   "source": [
    "$S = \\sqrt{\\frac{(131- 118.1)^2 + (125- 118.1)^2 + (115- 118.1)^2 + (122- 118.1)^2 + (131- 118.1)^2 + (115- 118.1)^2 + (107- 118.1)^2 + (99- 118.1)^2 + (125- 118.1)^2 + (111 - 118.1)^2 }{10 - 1}} = 10.55$"
   ]
  },
  {
   "cell_type": "markdown",
   "metadata": {},
   "source": [
    "$\\left(118.1 - 2.262 \\cdot \\frac{10.55}{\\sqrt{10}}, 118.1 + 2.262 \\cdot \\frac{10.55}{\\sqrt{10}}\\right)$"
   ]
  },
  {
   "cell_type": "markdown",
   "metadata": {},
   "source": [
    "$(110.55, 125.65)$"
   ]
  },
  {
   "cell_type": "code",
   "execution_count": 6,
   "metadata": {},
   "outputs": [],
   "source": [
    "from scipy.stats import t\n",
    "from scipy.stats import sem"
   ]
  },
  {
   "cell_type": "code",
   "execution_count": 8,
   "metadata": {},
   "outputs": [
    {
     "data": {
      "text/plain": [
       "(110.55608365158724, 125.64391634841274)"
      ]
     },
     "execution_count": 8,
     "metadata": {},
     "output_type": "execute_result"
    }
   ],
   "source": [
    "iq = [131, 125, 115, 122, 131, 115, 107, 99, 125, 111]\n",
    "t.interval(0.95, len(iq) - 1, loc=np.mean(iq), scale=sem(iq))"
   ]
  },
  {
   "cell_type": "markdown",
   "metadata": {},
   "source": [
    "## Доверительный интервал - 2"
   ]
  },
  {
   "cell_type": "markdown",
   "metadata": {},
   "source": [
    "Известно, что рост футболистов в сборной распределен нормально с дисперсией генеральной совокупности, равной 25 кв.см. Объем выборки равен 27, среднее выборочное составляет 174.2. Найдите доверительный интервал для математического ожидания с надежностью 0.95."
   ]
  },
  {
   "cell_type": "markdown",
   "metadata": {},
   "source": [
    "$\\left(\\overline{x} - Z_{\\frac{a}{2}} \\cdot \\frac{\\sigma}{\\sqrt{n}} , \\overline{x} + Z_{\\frac{a}{2}} \\cdot \\frac{\\sigma}{\\sqrt{n}}\\right)$"
   ]
  },
  {
   "cell_type": "markdown",
   "metadata": {},
   "source": [
    "$\\left(174.2 - 1.96 \\cdot \\frac{\\sqrt{25}}{\\sqrt{27}} ,174.2 + 1.96 \\cdot \\frac{\\sqrt{25}}{\\sqrt{27}}\\right)$"
   ]
  },
  {
   "cell_type": "markdown",
   "metadata": {},
   "source": [
    "$\\left(172.3, 176.1\\right)$"
   ]
  },
  {
   "cell_type": "code",
   "execution_count": 9,
   "metadata": {},
   "outputs": [],
   "source": [
    "from scipy.stats import norm"
   ]
  },
  {
   "cell_type": "code",
   "execution_count": 10,
   "metadata": {},
   "outputs": [
    {
     "data": {
      "text/plain": [
       "(172.3140237765397, 176.08597622346028)"
      ]
     },
     "execution_count": 10,
     "metadata": {},
     "output_type": "execute_result"
    }
   ],
   "source": [
    "se= 25**0.5 / 27**0.5 \n",
    "norm.interval(0.95, loc=174.2, scale=se)"
   ]
  },
  {
   "cell_type": "code",
   "execution_count": null,
   "metadata": {},
   "outputs": [],
   "source": []
  }
 ],
 "metadata": {
  "hide_input": false,
  "kernelspec": {
   "display_name": "Python 3",
   "language": "python",
   "name": "python3"
  },
  "language_info": {
   "codemirror_mode": {
    "name": "ipython",
    "version": 3
   },
   "file_extension": ".py",
   "mimetype": "text/x-python",
   "name": "python",
   "nbconvert_exporter": "python",
   "pygments_lexer": "ipython3",
   "version": "3.8.3"
  },
  "toc": {
   "base_numbering": 1,
   "nav_menu": {},
   "number_sections": true,
   "sideBar": true,
   "skip_h1_title": false,
   "title_cell": "Table of Contents",
   "title_sidebar": "Contents",
   "toc_cell": false,
   "toc_position": {},
   "toc_section_display": true,
   "toc_window_display": false
  }
 },
 "nbformat": 4,
 "nbformat_minor": 4
}
