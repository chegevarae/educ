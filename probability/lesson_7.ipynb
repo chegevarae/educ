{
 "cells": [
  {
   "cell_type": "markdown",
   "metadata": {},
   "source": [
    "# ДЗ 7. Многомерный статистический анализ. Линейная регрессия"
   ]
  },
  {
   "cell_type": "markdown",
   "metadata": {},
   "source": [
    "## Коэффициенты линейной регрессии"
   ]
  },
  {
   "cell_type": "markdown",
   "metadata": {},
   "source": [
    "Даны значения величины заработной платы заемщиков банка (zp) и значения их поведенческого кредитного скоринга (ks): zp = [35, 45, 190, 200, 40, 70, 54, 150, 120, 110], ks = [401, 574, 874, 919, 459, 739, 653, 902, 746, 832]. Используя математические операции, посчитать коэффициенты линейной регрессии, приняв за X заработную плату (то есть, zp - признак), а за y - значения скорингового балла (то есть, ks - целевая переменная). Произвести расчет как с использованием intercept, так и без."
   ]
  },
  {
   "cell_type": "code",
   "execution_count": 1,
   "metadata": {},
   "outputs": [],
   "source": [
    "import pandas as pd\n",
    "import numpy as np\n",
    "import matplotlib.pyplot as plt\n",
    "%matplotlib inline"
   ]
  },
  {
   "cell_type": "code",
   "execution_count": 2,
   "metadata": {},
   "outputs": [],
   "source": [
    "df = pd.DataFrame({'zp': [35, 45, 190, 200, 40, 70, 54, 150, 120, 110],\\\n",
    "                   'ks': [401, 574, 874, 919, 459, 739, 653, 902, 746, 832]})"
   ]
  },
  {
   "cell_type": "markdown",
   "metadata": {},
   "source": [
    "$b = \\frac{\\overline{yx} - \\overline{y} \\cdot \\overline{x}}{\\overline{x^2} - (\\overline{x})^2}$"
   ]
  },
  {
   "cell_type": "markdown",
   "metadata": {},
   "source": [
    "$a = \\overline{y} - b \\cdot (\\overline{x})^2$"
   ]
  },
  {
   "cell_type": "code",
   "execution_count": 3,
   "metadata": {},
   "outputs": [
    {
     "name": "stdout",
     "output_type": "stream",
     "text": [
      "y = 444.1773573243596 + 2.620538882402765x\n"
     ]
    }
   ],
   "source": [
    "b = (np.mean(df.zp * df.ks) - np.mean(df.zp) * np.mean(df.ks)) / (np.mean(df.zp**2) - np.mean(df.zp) ** 2)\n",
    "a = np.mean(df.ks) - b * np.mean(df.zp)\n",
    "print(f'y = {a} + {b}x')"
   ]
  },
  {
   "cell_type": "code",
   "execution_count": 4,
   "metadata": {},
   "outputs": [
    {
     "data": {
      "text/plain": [
       "[<matplotlib.lines.Line2D at 0x598f100>]"
      ]
     },
     "execution_count": 4,
     "metadata": {},
     "output_type": "execute_result"
    },
    {
     "data": {
      "image/png": "[encoded data removed]",
      "text/plain": [
       "<Figure size 432x288 with 1 Axes>"
      ]
     },
     "metadata": {
      "needs_background": "light"
     },
     "output_type": "display_data"
    }
   ],
   "source": [
    "plt.scatter(df.zp, df.ks)\n",
    "t = np.arange(0, 200, 1)\n",
    "v = a + b * t\n",
    "plt.plot(t, v, color='r')"
   ]
  },
  {
   "cell_type": "markdown",
   "metadata": {},
   "source": [
    "$\\hat{B} = (X^T \\times X)^{-1} \\times X^T \\times Y$"
   ]
  },
  {
   "cell_type": "code",
   "execution_count": 5,
   "metadata": {},
   "outputs": [],
   "source": [
    "X = df.zp.values.reshape((10,1))\n",
    "y = df.ks.values.reshape((10,1))"
   ]
  },
  {
   "cell_type": "code",
   "execution_count": 6,
   "metadata": {},
   "outputs": [
    {
     "data": {
      "text/plain": [
       "array([[5.88982042]])"
      ]
     },
     "execution_count": 6,
     "metadata": {},
     "output_type": "execute_result"
    }
   ],
   "source": [
    "np.linalg.inv(X.T @ X) @ X.T @ y"
   ]
  },
  {
   "cell_type": "code",
   "execution_count": 7,
   "metadata": {},
   "outputs": [],
   "source": [
    "X = df.zp.values.reshape((10,1))\n",
    "X = np.hstack([np.ones((10, 1)), X])\n",
    "y = df.ks.values.reshape((10,1))"
   ]
  },
  {
   "cell_type": "code",
   "execution_count": 8,
   "metadata": {},
   "outputs": [
    {
     "data": {
      "text/plain": [
       "array([[444.17735732],\n",
       "       [  2.62053888]])"
      ]
     },
     "execution_count": 8,
     "metadata": {},
     "output_type": "execute_result"
    }
   ],
   "source": [
    "np.linalg.inv(X.T @ X) @ X.T @ y"
   ]
  },
  {
   "cell_type": "markdown",
   "metadata": {},
   "source": [
    "## Коэффициент линейной регрессии + градиентный спуск"
   ]
  },
  {
   "cell_type": "markdown",
   "metadata": {},
   "source": [
    "Посчитать коэффициент линейной регрессии при заработной плате (zp), используя градиентный спуск (без intercept)."
   ]
  },
  {
   "cell_type": "code",
   "execution_count": 9,
   "metadata": {},
   "outputs": [],
   "source": [
    "X = df.zp.values\n",
    "y = df.ks.values"
   ]
  },
  {
   "cell_type": "code",
   "execution_count": 10,
   "metadata": {},
   "outputs": [
    {
     "name": "stdout",
     "output_type": "stream",
     "text": [
      "y = 5.8897853464590435 * x. Коэффициент найден за 430 итераций, с точностью 1e-06.\n"
     ]
    }
   ],
   "source": [
    "w1 = 0.1\n",
    "alpha = 1e-6\n",
    "epsilon = 1\n",
    "n = X.shape[0]\n",
    "i = 0\n",
    "\n",
    "while abs(epsilon) > alpha:\n",
    "    w_prev = w1\n",
    "    w1 -= alpha * (2/n) * np.sum((w1 * X - y) * X)\n",
    "    epsilon = w_prev - w1\n",
    "    i += 1\n",
    "\n",
    "print(f'y = {w1} * x. Коэффициент найден за {i} итераций, с точностью {alpha}.')"
   ]
  },
  {
   "cell_type": "code",
   "execution_count": 11,
   "metadata": {},
   "outputs": [
    {
     "data": {
      "text/plain": [
       "[<matplotlib.lines.Line2D at 0x5a3d730>]"
      ]
     },
     "execution_count": 11,
     "metadata": {},
     "output_type": "execute_result"
    },
    {
     "data": {
      "image/png": "[encoded data removed]",
      "text/plain": [
       "<Figure size 432x288 with 1 Axes>"
      ]
     },
     "metadata": {
      "needs_background": "light"
     },
     "output_type": "display_data"
    }
   ],
   "source": [
    "plt.scatter(df.zp, df.ks)\n",
    "t = np.arange(0, 200, 1)\n",
    "v = w1 * t\n",
    "plt.plot(t, v, color='r')"
   ]
  },
  {
   "cell_type": "markdown",
   "metadata": {},
   "source": [
    "## Вычисление доверительных интервалов и проверка гипотез"
   ]
  },
  {
   "cell_type": "markdown",
   "metadata": {},
   "source": [
    "В каких случаях для вычисления доверительных интервалов и проверки статистических гипотез используется таблица значений функции Лапласа, а в каких - таблица критических точек распределения Стьюдента?"
   ]
  },
  {
   "cell_type": "markdown",
   "metadata": {},
   "source": [
    "Таблица значений функции Лапласа используется, когда случайная величина распределена нормально и известна дисперсия или среднеквадратичное отклонение генеральной совокупности.\n",
    "\n",
    "Таблица критических точек распределения Стьюдента используется, когда случайная величина распределена нормально и не известна дисперсия или среднеквадратичное отклонение генеральной совокупности"
   ]
  },
  {
   "cell_type": "markdown",
   "metadata": {},
   "source": [
    "## Вычисление intercept"
   ]
  },
  {
   "cell_type": "markdown",
   "metadata": {},
   "source": [
    "\\* Произвести вычисления как в пункте 2, но с вычислением intercept. Учесть, что изменение коэффициентов должно производиться на каждом шаге одновременно (то есть изменение одного коэффициента не должно влиять на изменение другого во время одной итерации)."
   ]
  },
  {
   "cell_type": "code",
   "execution_count": 12,
   "metadata": {},
   "outputs": [
    {
     "name": "stdout",
     "output_type": "stream",
     "text": [
      "y = 442.2061503441162 + 2.635047837298424 * x. Коэффициент найден за 179563 итераций, с точностью 1e-06.\n"
     ]
    }
   ],
   "source": [
    "w0 = 442\n",
    "w1 = 0.1\n",
    "alpha = 1e-6\n",
    "epsilon0 = 1\n",
    "epsilon1 = 1\n",
    "n = X.shape[0]\n",
    "i = 0\n",
    "\n",
    "while abs(epsilon0) > alpha or abs(epsilon1) > alpha:\n",
    "    w0_prev = w0\n",
    "    w1_prev = w1\n",
    "    w1 -= alpha * (2/n) * np.sum((w0 + w1 * X - y) * X)\n",
    "    w0 -= alpha * (2/n) * np.sum((w0 + w1 * X - y))\n",
    "    epsilon0 = w0_prev - w0\n",
    "    epsilon1 = w1_prev - w1\n",
    "    i += 1\n",
    "\n",
    "print(f'y = {w0} + {w1} * x. Коэффициент найден за {i} итераций, с точностью {alpha}.')"
   ]
  },
  {
   "cell_type": "code",
   "execution_count": 13,
   "metadata": {},
   "outputs": [
    {
     "data": {
      "text/plain": [
       "[<matplotlib.lines.Line2D at 0x5a9fee0>]"
      ]
     },
     "execution_count": 13,
     "metadata": {},
     "output_type": "execute_result"
    },
    {
     "data": {
      "image/png": "[encoded data removed]",
      "text/plain": [
       "<Figure size 432x288 with 1 Axes>"
      ]
     },
     "metadata": {
      "needs_background": "light"
     },
     "output_type": "display_data"
    }
   ],
   "source": [
    "plt.scatter(df.zp, df.ks)\n",
    "t = np.arange(0, 200, 1)\n",
    "v = w0 + w1 * t\n",
    "plt.plot(t, v, color='r')"
   ]
  },
  {
   "cell_type": "code",
   "execution_count": null,
   "metadata": {},
   "outputs": [],
   "source": []
  }
 ],
 "metadata": {
  "hide_input": false,
  "kernelspec": {
   "display_name": "Python 3",
   "language": "python",
   "name": "python3"
  },
  "language_info": {
   "codemirror_mode": {
    "name": "ipython",
    "version": 3
   },
   "file_extension": ".py",
   "mimetype": "text/x-python",
   "name": "python",
   "nbconvert_exporter": "python",
   "pygments_lexer": "ipython3",
   "version": "3.8.3"
  },
  "toc": {
   "base_numbering": 1,
   "nav_menu": {},
   "number_sections": true,
   "sideBar": true,
   "skip_h1_title": false,
   "title_cell": "Table of Contents",
   "title_sidebar": "Contents",
   "toc_cell": false,
   "toc_position": {},
   "toc_section_display": true,
   "toc_window_display": false
  }
 },
 "nbformat": 4,
 "nbformat_minor": 4
}
