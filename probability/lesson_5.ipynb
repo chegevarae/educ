{
 "cells": [
  {
   "cell_type": "markdown",
   "metadata": {},
   "source": [
    "# ДЗ 5. Проверка статистических гипотез. P-значения. Доверительные интервалы. A/B-тестирование"
   ]
  },
  {
   "cell_type": "markdown",
   "metadata": {},
   "source": [
    "## Доверительный интервал"
   ]
  },
  {
   "cell_type": "markdown",
   "metadata": {},
   "source": [
    "Известно, что генеральная совокупность распределена нормально со средним квадратическим отклонением, равным 16. Найти доверительный интервал для оценки математического ожидания a с надежностью 0.95, если выборочная средняя M = 80, а объем выборки n = 256."
   ]
  },
  {
   "cell_type": "markdown",
   "metadata": {},
   "source": [
    "$\\left(\\overline{x} - Z_{\\frac{a}{2}} \\cdot \\frac{\\sigma}{\\sqrt{n}} , \\overline{x} + Z_{\\frac{a}{2}} \\cdot \\frac{\\sigma}{\\sqrt{n}}\\right)$\n",
    "\n",
    "$\\left(80 - 1.96 \\cdot \\frac{16}{\\sqrt{256}} ,80 + 1.96 \\cdot \\frac{16}{\\sqrt{256}}\\right)$\n",
    "\n",
    "$\\left(78.04, 81.96\\right)$"
   ]
  },
  {
   "cell_type": "markdown",
   "metadata": {},
   "source": [
    "## Доверительная вероятность"
   ]
  },
  {
   "cell_type": "markdown",
   "metadata": {},
   "source": [
    "В результате 10 независимых измерений некоторой величины X, выполненных с одинаковой точностью, получены опытные данные: 6.9, 6.1, 6.2, 6.8, 7.5, 6.3, 6.4, 6.9, 6.7, 6.1 Предполагая, что результаты измерений подчинены нормальному закону распределения вероятностей, оценить истинное значение величины X при помощи доверительного интервала, покрывающего это значение с доверительной вероятностью 0,95."
   ]
  },
  {
   "cell_type": "markdown",
   "metadata": {},
   "source": [
    "$\\left(\\overline{x} - t_{\\frac{a}{2}} \\cdot \\frac{S}{\\sqrt{n}} , \\overline{x} + t_{\\frac{a}{2}} \\cdot \\frac{S}{\\sqrt{n}}\\right)$\n",
    "\n",
    "$\\overline{X} = \\frac{6.9 + 6.1 + 6.2 + 6.8 + 7.5 + 6.3 + 6.4 + 6.9 + 6.7 + 6.1}{10} = 6.59$\n",
    "\n",
    "$S = \\sqrt{\\frac{\\displaystyle\\sum_{i=1}^{n} (x_i - \\overline{x})}{n-1}}$\n",
    "\n",
    "$S = \\sqrt{\\frac{(6.9 - 6.59)^2 + (6.1 - 6.59)^2 + (6.2 - 6.59)^2 + (6.8 - 6.59)^2 + (7.5 - 6.59)^2 + (6.3 - 6.59)^2 + (6.4 - 6.59)^2 + (6.9 - 6.59)^2 + (6.7 - 6.59)^2 + (6.1 - 6.59)^2}{10 - 1}} = 0.451$\n",
    "\n",
    "$\\left(6.59 - 2.262 \\cdot \\frac{0.451}{\\sqrt{10}}, 6.59 + 2.262 \\cdot \\frac{0.451}{\\sqrt{10}}\\right)$\n",
    "\n",
    "$(6.27, 6.91)$"
   ]
  },
  {
   "cell_type": "markdown",
   "metadata": {},
   "source": [
    "## Тестирование гипотезы (средний диаметр)"
   ]
  },
  {
   "cell_type": "markdown",
   "metadata": {},
   "source": [
    "Утверждается, что шарики для подшипников, изготовленные автоматическим станком, имеют средний диаметр 17 мм.\n",
    "Используя односторонний критерий с α=0,05, проверить эту гипотезу, если в выборке из n=100 шариков средний диаметр\n",
    "оказался равным 17.5 мм, а дисперсия известна и равна 4 кв.мм."
   ]
  },
  {
   "cell_type": "markdown",
   "metadata": {},
   "source": [
    "$H_0 \\quad \\mu = \\mu_0$\n",
    "\n",
    "$H_1 \\quad \\mu > \\mu_0$\n",
    "\n",
    "$Z_H = \\frac{\\overline{X} - \\mu_0}{\\sigma} \\cdot \\sqrt{n}$\n",
    "\n",
    "$\\alpha = 0.05$\n",
    "\n",
    "$Z_H = \\frac{17.5 - 17}{2} \\cdot \\sqrt{100} = 2.5$\n",
    "\n",
    "$Z = 1.654$\n",
    "\n",
    "$Z_H > Z \\quad \\text{верна гипотеза }H_1$"
   ]
  },
  {
   "cell_type": "markdown",
   "metadata": {},
   "source": [
    "## Тестирование гипотезы (средний вес)"
   ]
  },
  {
   "cell_type": "markdown",
   "metadata": {},
   "source": [
    "Продавец утверждает, что средний вес пачки печенья составляет 200 г.  Из партии извлечена выборка из 10 пачек. Вес каждой пачки составляет: 202, 203, 199, 197, 195, 201, 200, 204, 194, 190.  Известно, что их веса распределены нормально.  Верно ли утверждение продавца, если учитывать, что доверительная вероятность равна 99%?"
   ]
  },
  {
   "cell_type": "markdown",
   "metadata": {},
   "source": [
    "$\\mu = \\frac{202 + 203 + 199 + 197 + 195 + 201 + 200 + 204 + 194 + 190}{10} = 198.5$\n",
    "\n",
    "$S = \\sqrt{ \\frac{(202 - 198.5)^2 + (203 - 198.5)^2 + (199 - 198.5)^2 + (197 - 198.5)^2 + (195 - 198.5)^2 + (201 - 198.5)^2 + (200 - 198.5)^2 + (204 - 198.5)^2 + (194 - 198.5)^2 + (190 - 198.5)^2}{10-1} } = 4.45346$\n",
    "\n",
    "$H_0 \\quad \\mu = \\mu_0$\n",
    "\n",
    "$H_1 \\quad \\mu \\neq \\mu_0$\n",
    "\n",
    "$\\alpha = 0.01$\n",
    "\n",
    "$T_H = \\frac{198.5 - 200}{4.45346} \\cdot \\sqrt{10} = −1.065$\n",
    "\n",
    "$T = \\pm 3.250 $\n",
    "\n",
    "$-3.250 < T_H < 3.250 \\quad \\text{верна гипотеза }H_0$"
   ]
  },
  {
   "cell_type": "code",
   "execution_count": null,
   "metadata": {},
   "outputs": [],
   "source": []
  }
 ],
 "metadata": {
  "hide_input": false,
  "kernelspec": {
   "display_name": "Python 3",
   "language": "python",
   "name": "python3"
  },
  "language_info": {
   "codemirror_mode": {
    "name": "ipython",
    "version": 3
   },
   "file_extension": ".py",
   "mimetype": "text/x-python",
   "name": "python",
   "nbconvert_exporter": "python",
   "pygments_lexer": "ipython3",
   "version": "3.8.3"
  },
  "toc": {
   "base_numbering": 1,
   "nav_menu": {},
   "number_sections": true,
   "sideBar": true,
   "skip_h1_title": false,
   "title_cell": "Table of Contents",
   "title_sidebar": "Contents",
   "toc_cell": false,
   "toc_position": {},
   "toc_section_display": true,
   "toc_window_display": false
  }
 },
 "nbformat": 4,
 "nbformat_minor": 4
}
