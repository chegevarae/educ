{
 "cells": [
  {
   "cell_type": "markdown",
   "metadata": {},
   "source": [
    "# ДЗ 4. Непрерывные случайные величины. Функция распределения и плотность распределения вероятностей. Равномерное и нормальное распределение. Центральная предельная теорема"
   ]
  },
  {
   "cell_type": "markdown",
   "metadata": {},
   "source": [
    "## Среднее значение и дисперсия\n",
    "\n",
    "Случайная непрерывная величина A имеет равномерное распределение на промежутке (200, 800]. Найдите ее среднее значение и дисперсию."
   ]
  },
  {
   "cell_type": "markdown",
   "metadata": {},
   "source": [
    "$M(X) = \\frac{a + b}{2} = \\frac{200 + 800}{2} = 500$\n",
    "\n",
    "$D(X) = \\frac{(b - a)^2}{12} = \\frac{(800 - 200)^2}{12} = 30000$"
   ]
  },
  {
   "cell_type": "markdown",
   "metadata": {},
   "source": [
    "## Случайная непрерывная равномерно распределенная величина\n",
    "\n",
    "О случайной непрерывной равномерно распределенной величине B известно, что ее дисперсия равна 0.2.\n",
    "Можно ли найти правую границу величины B и ее среднее значение зная, что левая граница равна 0.5?\n",
    "Если да, найдите ее."
   ]
  },
  {
   "cell_type": "markdown",
   "metadata": {},
   "source": [
    "$D(X) = \\frac{(b - a)^2}{12}$\n",
    "\n",
    "$0.2 = \\frac{(b - 0.5)^2}{12}$\n",
    "\n",
    "$2.4 = b^2 - b + 0.25$\n",
    "\n",
    "$b^2 - b - 2,15 = 0$\n",
    "\n",
    "$b = \\frac{1 \\pm \\sqrt{9.6}}{2}$\n",
    "\n",
    "$b_1 = 2.049 \\quad b_2 = −1.049$\n",
    "\n",
    "$-1.049 < 0.5 \\quad \\text{не подходит по условию}$\n",
    "\n",
    "$M(X) = \\frac{a + b}{2} = \\frac{0.5 + 2.049}{2} = 1.275$"
   ]
  },
  {
   "cell_type": "markdown",
   "metadata": {},
   "source": [
    "## Непрерывная случайная величина\n",
    "\n",
    "Непрерывная случайная величина X распределена нормально и задана плотностью распределения\n",
    "f(x) = (1 / (4 * sqrt(2*pi))) * (exp(-(x+2)**2) / 32).\n",
    "\n",
    "Найдите:\n",
    "\n",
    "а) M(X)\n",
    "\n",
    "б) D(X)\n",
    "\n",
    "в) std(X) (среднее квадратичное отклонение)"
   ]
  },
  {
   "cell_type": "markdown",
   "metadata": {},
   "source": [
    "---\n",
    "\n",
    "$f(x) = \\frac{1}{\\sigma \\cdot \\sqrt{2 \\cdot \\mu}} \\cdot e^{-\\frac{(x - \\mu)^2}{2 \\sigma^2}}$\n",
    "\n",
    "\n",
    "а) $M(X) = -2$\n",
    "\n",
    "б) $D(X) = 16$\n",
    "\n",
    "в) $\\sigma = 4$"
   ]
  },
  {
   "cell_type": "markdown",
   "metadata": {},
   "source": [
    "## Нормальное распределение\n",
    "\n",
    "Рост взрослого населения города X имеет нормальное распределение. Причем, средний рост равен 174 см, а среднее квадратичное отклонение равно 8 см. Какова вероятность того, что случайным образом выбранный взрослый человек имеет рост:\n",
    "\n",
    "а) больше 182 см\n",
    "\n",
    "б) больше 190 см\n",
    "\n",
    "в) от 166 см до 190 см\n",
    "\n",
    "г) от 166 см до 182 см\n",
    "\n",
    "д) от 158 см до 190 см\n",
    "\n",
    "е) не выше 150 см или не ниже 190 см\n",
    "\n",
    "ё) не выше 150 см или не ниже 198 см\n",
    "\n",
    "ж) ниже 166 см."
   ]
  },
  {
   "cell_type": "markdown",
   "metadata": {},
   "source": [
    "---\n",
    "\n",
    "$P(\\alpha < X < \\beta) = \\Phi \\left(\\frac{\\beta - a}{\\sigma}\\right) - \\Phi \\left(\\frac{\\alpha - a}{\\sigma} \\right)$\n",
    "\n",
    "a) $P(X > 182) = \\Phi \\left(\\frac{+\\infty - 174}{8}\\right) - \\Phi  \\left(\\frac{182 - 174}{8} \\right) = 0.5000 - 0.3413 = 0.1587$\n",
    "\n",
    "б) $P(X > 190) = \\Phi \\left(\\frac{+\\infty - 174}{8}\\right) - \\Phi  \\left(\\frac{190 - 174}{8} \\right) = 0.5000 - 0.4772 = 0.0228$\n",
    "\n",
    "в) $P(166 < X < 190) = \\Phi \\left(\\frac{190 - 174}{8}\\right) - \\Phi  \\left(\\frac{166 - 174}{8} \\right) = 0.4772 - (-0.3413) = 0.8185$\n",
    "\n",
    "г) $P(166 < X < 182) = \\Phi \\left(\\frac{182 - 174}{8}\\right) - \\Phi  \\left(\\frac{166 - 174}{8} \\right) = 0.3413 - (-0.3413) = 0.6826$\n",
    "\n",
    "д) $P(158 < X < 190) = \\Phi \\left(\\frac{190 - 174}{8}\\right) - \\Phi  \\left(\\frac{158 - 174}{8} \\right) = 0.4772 - (-0.4772) = 0.9544$\n",
    "\n",
    "е) $p(x < 150, x > 190) = \\Phi \\left(\\frac{150 - 174}{8}\\right) - \\Phi  \\left(\\frac{-\\infty - 174}{8} \\right) + \\Phi \\left(\\frac{+\\infty - 174}{8}\\right) - \\Phi  \\left(\\frac{190 - 174}{8} \\right) = (-0.4987 - (-0.5000)) + (0.5000 - 0.4772) = 0.0241$\n",
    "\n",
    "ё) $p(x < 150, x > 198) = \\Phi \\left(\\frac{150 - 174}{8}\\right) - \\Phi  \\left(\\frac{-\\infty - 174}{8} \\right) + \\Phi \\left(\\frac{+\\infty - 174}{8}\\right) - \\Phi  \\left(\\frac{198 - 174}{8} \\right) = (-0.4987 - (-0.5000)) + (0.5000 - 0.4987) = 0.0026$\n",
    "\n",
    "ж) $p(x < 166) = \\Phi \\left(\\frac{166 - 174}{8}\\right) - \\Phi  \\left(\\frac{-\\infty - 174}{8} \\right) = -0.3413 - (-0.5000) = 0.1587$"
   ]
  },
  {
   "cell_type": "markdown",
   "metadata": {},
   "source": [
    "## Cредне квадратичное отклонение и матожидание\n",
    "\n",
    "На сколько сигм (средних квадратичных отклонений) отклоняется рост человека, равный 190 см, от математического ожидания роста в популяции, в которой M(X) = 178 см и D(X) = 25 кв.см?"
   ]
  },
  {
   "cell_type": "markdown",
   "metadata": {},
   "source": [
    "$ \\frac{X - M(X)}{\\sqrt{D(X)}} = \\frac{190 - 178}{\\sqrt{25}} = 2.4$"
   ]
  },
  {
   "cell_type": "code",
   "execution_count": null,
   "metadata": {},
   "outputs": [],
   "source": []
  }
 ],
 "metadata": {
  "hide_input": false,
  "kernelspec": {
   "display_name": "Python 3",
   "language": "python",
   "name": "python3"
  },
  "language_info": {
   "codemirror_mode": {
    "name": "ipython",
    "version": 3
   },
   "file_extension": ".py",
   "mimetype": "text/x-python",
   "name": "python",
   "nbconvert_exporter": "python",
   "pygments_lexer": "ipython3",
   "version": "3.8.3"
  },
  "toc": {
   "base_numbering": 1,
   "nav_menu": {},
   "number_sections": true,
   "sideBar": true,
   "skip_h1_title": false,
   "title_cell": "Table of Contents",
   "title_sidebar": "Contents",
   "toc_cell": false,
   "toc_position": {},
   "toc_section_display": true,
   "toc_window_display": false
  }
 },
 "nbformat": 4,
 "nbformat_minor": 4
}
