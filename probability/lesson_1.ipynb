{
 "cells": [
  {
   "cell_type": "markdown",
   "metadata": {},
   "source": [
    "# ДЗ 1. Случайные события. Условная вероятность. Формула Байеса. Независимые испытания"
   ]
  },
  {
   "cell_type": "code",
   "execution_count": 2,
   "metadata": {},
   "outputs": [],
   "source": [
    "# Подключаем библиотеку math\n",
    "from math import factorial\n",
    "\n",
    "# Функция для вычисления количества сочетаний\n",
    "def сombination (n, k):\n",
    "    return int(factorial(n) / (factorial(k) * factorial(n - k)))"
   ]
  },
  {
   "cell_type": "markdown",
   "metadata": {},
   "source": [
    "## Из колоды в 52 карты извлекаются случайным образом 4 карты. \n",
    "a) Найти вероятность того, что все карты – крести. \n",
    "б) Найти вероятность, что среди 4-х карт окажется ХОТЯ БЫ один туз."
   ]
  },
  {
   "cell_type": "markdown",
   "metadata": {},
   "source": [
    "Общее число исходов:\n",
    "\n",
    "$C_n^k = \\frac{n!}{k!(n - k)!}$ \n",
    "\n",
    "$C_{52}^4 = \\frac{52!}{4!(52 - 4)!} = 270725$"
   ]
  },
  {
   "cell_type": "code",
   "execution_count": 3,
   "metadata": {},
   "outputs": [
    {
     "name": "stdout",
     "output_type": "stream",
     "text": [
      "Общее число исходов: 270725\n"
     ]
    }
   ],
   "source": [
    "n = сombination(52, 4)\n",
    "print(f'Общее число исходов: {n}')"
   ]
  },
  {
   "cell_type": "markdown",
   "metadata": {},
   "source": [
    "-----\n",
    "\n",
    "a. Найти вероятность того, что все карты – крести. \n",
    "\n",
    "$C_{13}^4 = \\frac{13!}{4!(13 - 4)!} = 715$"
   ]
  },
  {
   "cell_type": "code",
   "execution_count": 4,
   "metadata": {},
   "outputs": [
    {
     "name": "stdout",
     "output_type": "stream",
     "text": [
      "Общее число исходов, когда все из 4-х карт крести: 715\n"
     ]
    }
   ],
   "source": [
    "m = сombination(13, 4)\n",
    "print(f'Общее число исходов, когда все из 4-х карт крести: {m}')"
   ]
  },
  {
   "cell_type": "markdown",
   "metadata": {},
   "source": [
    "Вероятность, что все карты крести:\n",
    "\n",
    "$P = \\frac{m}{n} = \\frac{715}{270725} = 0.00264$"
   ]
  },
  {
   "cell_type": "code",
   "execution_count": 5,
   "metadata": {},
   "outputs": [
    {
     "name": "stdout",
     "output_type": "stream",
     "text": [
      "Вероятность вытащить из колоды 4 карты масти крести: 0.0026410564225690276\n"
     ]
    }
   ],
   "source": [
    "p = m/n\n",
    "print(f'Вероятность вытащить из колоды 4 карты масти крести: {p}')"
   ]
  },
  {
   "cell_type": "markdown",
   "metadata": {},
   "source": [
    "Вероятность вытащить из колоды 4 карты масти крести: 0.00264 или 0.264%.\n",
    "\n",
    "-------"
   ]
  },
  {
   "cell_type": "markdown",
   "metadata": {},
   "source": [
    "б. Найти вероятность, что среди 4-х карт окажется хотя бы один туз."
   ]
  },
  {
   "cell_type": "code",
   "execution_count": 6,
   "metadata": {},
   "outputs": [
    {
     "name": "stdout",
     "output_type": "stream",
     "text": [
      "Количество сочетаний из 4-х карт хотя бы с одним тузом: 83300\n"
     ]
    }
   ],
   "source": [
    "m = сombination(4, 1) * сombination(51, 3)\n",
    "print(f'Количество сочетаний из 4-х карт хотя бы с одним тузом: {m}')"
   ]
  },
  {
   "cell_type": "code",
   "execution_count": 7,
   "metadata": {},
   "outputs": [
    {
     "name": "stdout",
     "output_type": "stream",
     "text": [
      "Вероятность вытащить четыре карты хотя бы с одним тузом: 0.3076923076923077\n"
     ]
    }
   ],
   "source": [
    "p = m/n\n",
    "print(f'Вероятность вытащить четыре карты хотя бы с одним тузом: {p}')"
   ]
  },
  {
   "cell_type": "markdown",
   "metadata": {},
   "source": [
    "Вероятность вытащить из колоды 4 карты хотя бы с одним тузом: 0.30769 или 30.769%."
   ]
  },
  {
   "cell_type": "markdown",
   "metadata": {},
   "source": [
    "## На входной двери подъезда установлен кодовый замок\n",
    "На входной двери подъезда установлен кодовый замок, содержащий десять кнопок с цифрами от 0 до 9. Код содержит три цифры, которые нужно нажать одновременно. Какова вероятность того, что человек, не знающий код, откроет дверь с первой попытки?"
   ]
  },
  {
   "cell_type": "code",
   "execution_count": 8,
   "metadata": {},
   "outputs": [
    {
     "name": "stdout",
     "output_type": "stream",
     "text": [
      "Количество сочетаний из 3-х цифр от 0 до 9: 120\n"
     ]
    }
   ],
   "source": [
    "n = сombination(10, 3)\n",
    "print(f'Количество сочетаний из 3-х цифр от 0 до 9: {n}')"
   ]
  },
  {
   "cell_type": "code",
   "execution_count": 9,
   "metadata": {},
   "outputs": [
    {
     "name": "stdout",
     "output_type": "stream",
     "text": [
      "Вероятность угадать код с первой попытки: 0.008333333333333333\n"
     ]
    }
   ],
   "source": [
    "p = 1/n\n",
    "print(f'Вероятность угадать код с первой попытки: {p}')"
   ]
  },
  {
   "cell_type": "markdown",
   "metadata": {},
   "source": [
    "Вероятность угадать код с первой попытки: 0.00833 или 0.833%"
   ]
  },
  {
   "cell_type": "markdown",
   "metadata": {},
   "source": [
    "## В ящике имеется 15 деталей, из которых 9 окрашены\n",
    "В ящике имеется 15 деталей, из которых 9 окрашены. Рабочий случайным образом извлекает 3 детали. Какова вероятность того, что все извлеченные детали окрашены?"
   ]
  },
  {
   "cell_type": "code",
   "execution_count": 10,
   "metadata": {},
   "outputs": [
    {
     "name": "stdout",
     "output_type": "stream",
     "text": [
      "Общее число исходов: 455\n"
     ]
    }
   ],
   "source": [
    "n = сombination(15, 3)\n",
    "print(f'Общее число исходов: {n}')"
   ]
  },
  {
   "cell_type": "code",
   "execution_count": 11,
   "metadata": {},
   "outputs": [
    {
     "name": "stdout",
     "output_type": "stream",
     "text": [
      "Количество сочетаний из 3-х окрашенных деталей: 84\n"
     ]
    }
   ],
   "source": [
    "m = сombination(9, 3)\n",
    "print(f'Количество сочетаний из 3-х окрашенных деталей: {m}')"
   ]
  },
  {
   "cell_type": "code",
   "execution_count": 12,
   "metadata": {},
   "outputs": [
    {
     "name": "stdout",
     "output_type": "stream",
     "text": [
      "Вероятность вытащить три окрашенные детали: 0.18461538461538463\n"
     ]
    }
   ],
   "source": [
    "p = m/n\n",
    "print(f'Вероятность вытащить три окрашенные детали: {p}')"
   ]
  },
  {
   "cell_type": "markdown",
   "metadata": {},
   "source": [
    "Вероятность вытащить три окрашенные детали: 0.18462 или 18.461%"
   ]
  },
  {
   "cell_type": "markdown",
   "metadata": {},
   "source": [
    "## В лотерее 100 билетов. Из них 2 выигрышных\n",
    "В лотерее 100 билетов. Из них 2 выигрышных. Какова вероятность того, что 2 приобретенных билета окажутся выигрышными?"
   ]
  },
  {
   "cell_type": "code",
   "execution_count": 13,
   "metadata": {},
   "outputs": [
    {
     "name": "stdout",
     "output_type": "stream",
     "text": [
      "Общее число исходов, из 2-х билетов: 4950\n"
     ]
    }
   ],
   "source": [
    "n = сombination(100, 2)\n",
    "print(f'Общее число исходов, из 2-х билетов: {n}')"
   ]
  },
  {
   "cell_type": "code",
   "execution_count": 14,
   "metadata": {},
   "outputs": [
    {
     "name": "stdout",
     "output_type": "stream",
     "text": [
      "Количество положительных исходов: 1\n"
     ]
    }
   ],
   "source": [
    "m = сombination(2, 2)\n",
    "print(f'Количество положительных исходов: {m}')"
   ]
  },
  {
   "cell_type": "code",
   "execution_count": 15,
   "metadata": {},
   "outputs": [
    {
     "name": "stdout",
     "output_type": "stream",
     "text": [
      "Вероятность вытащить два выигрышных билета: 0.00020202020202020202\n"
     ]
    }
   ],
   "source": [
    "p = m/n\n",
    "print(f'Вероятность вытащить два выигрышных билета: {p}')"
   ]
  },
  {
   "cell_type": "markdown",
   "metadata": {},
   "source": [
    "Вероятность угадать код с первой попытки: 0.00020 или 0.020%"
   ]
  },
  {
   "cell_type": "code",
   "execution_count": null,
   "metadata": {},
   "outputs": [],
   "source": []
  }
 ],
 "metadata": {
  "hide_input": false,
  "kernelspec": {
   "display_name": "Python 3",
   "language": "python",
   "name": "python3"
  },
  "language_info": {
   "codemirror_mode": {
    "name": "ipython",
    "version": 3
   },
   "file_extension": ".py",
   "mimetype": "text/x-python",
   "name": "python",
   "nbconvert_exporter": "python",
   "pygments_lexer": "ipython3",
   "version": "3.8.3"
  },
  "toc": {
   "base_numbering": 1,
   "nav_menu": {},
   "number_sections": true,
   "sideBar": true,
   "skip_h1_title": false,
   "title_cell": "Table of Contents",
   "title_sidebar": "Contents",
   "toc_cell": false,
   "toc_position": {},
   "toc_section_display": true,
   "toc_window_display": false
  }
 },
 "nbformat": 4,
 "nbformat_minor": 4
}
