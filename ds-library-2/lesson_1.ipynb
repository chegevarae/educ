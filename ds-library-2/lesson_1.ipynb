{
 "cells": [
  {
   "cell_type": "markdown",
   "metadata": {},
   "source": [
    "# ДЗ 1. Введение в задачу классификации. Постановка задачи и подготовка данных"
   ]
  },
  {
   "cell_type": "markdown",
   "metadata": {},
   "source": [
    "## Precision и Recall"
   ]
  },
  {
   "cell_type": "markdown",
   "metadata": {},
   "source": [
    "Приведите по 2 примера, когда лучше максимизировать Precision, а когда Recall.\n",
    "\n",
    "-----"
   ]
  },
  {
   "cell_type": "markdown",
   "metadata": {},
   "source": [
    "**Точность (precision)**  \n",
    "Пример 1. Точность необходима, чтобы в списке результатов поиска получать только релевантные документы. Например, если точность равна 50%, то это значит, что среди найденных документов половина релевантных и половина – нерелевантных.  \n",
    "Пример 2. Точность важна для выявления фактов мошенничества и представляет собой процент правильно классифицированных мошеннических операций от общего количества операций, классифицированных, как мошеннические."
   ]
  },
  {
   "cell_type": "markdown",
   "metadata": {},
   "source": [
    "**Полнота (recall)**  \n",
    "Пример 1. Полнота характеризует способность поисковй системы находить нужные пользователю документы, но не учитывает количество нерелевантных документов, выдаваемых пользователю. Например, если полнота равна 50%, то это значит, что половина релевантных документов системой не найдена.  \n",
    "Пример 2. Полнота необходима для выявления мошенничества и представляет собой процент правильно классифицированных мошеннических операций от общего фактического количества мошеннических операций."
   ]
  },
  {
   "cell_type": "markdown",
   "metadata": {},
   "source": [
    "## F-мера"
   ]
  },
  {
   "cell_type": "markdown",
   "metadata": {},
   "source": [
    "Почему мы используем F-меру, почему, например, нельзя просто взять среднее от Precision и Recall?\n",
    "\n",
    "-----"
   ]
  },
  {
   "cell_type": "markdown",
   "metadata": {},
   "source": [
    "Потому что F-мера часто используется как единая метрика, объединяющая метрики полноты и точности в одну метрику, позволяет получить более сбалансированную характеристику модели.  \n",
    "\n",
    "Одно из основных свойств метрики F: 0 <= F <= 1  \n",
    "а средне арифметическое от Precision и Recall выходит за рамки данного интервала."
   ]
  }
 ],
 "metadata": {
  "hide_input": false,
  "kernelspec": {
   "display_name": "Python 3",
   "language": "python",
   "name": "python3"
  },
  "language_info": {
   "codemirror_mode": {
    "name": "ipython",
    "version": 3
   },
   "file_extension": ".py",
   "mimetype": "text/x-python",
   "name": "python",
   "nbconvert_exporter": "python",
   "pygments_lexer": "ipython3",
   "version": "3.8.6"
  },
  "toc": {
   "base_numbering": 1,
   "nav_menu": {},
   "number_sections": true,
   "sideBar": true,
   "skip_h1_title": false,
   "title_cell": "Table of Contents",
   "title_sidebar": "Contents",
   "toc_cell": false,
   "toc_position": {},
   "toc_section_display": true,
   "toc_window_display": false
  }
 },
 "nbformat": 4,
 "nbformat_minor": 4
}
