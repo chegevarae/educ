{
 "cells": [
  {
   "cell_type": "code",
   "execution_count": 43,
   "metadata": {
    "colab": {},
    "colab_type": "code",
    "id": "Fua95t3FpHHS"
   },
   "outputs": [],
   "source": [
    "%matplotlib inline\n",
    "import numpy as np\n",
    "import matplotlib.pyplot as plt\n",
    "import matplotlib.mlab as mlab\n",
    "import itertools"
   ]
  },
  {
   "cell_type": "code",
   "execution_count": 5,
   "metadata": {
    "colab": {},
    "colab_type": "code",
    "id": "6SIaQxfYpHHe",
    "outputId": "15e98e4a-be29-41b6-fb67-944b7d222fdd"
   },
   "outputs": [
    {
     "name": "stdout",
     "output_type": "stream",
     "text": [
      "решка\n",
      "орел\n",
      "орел\n",
      "решка\n",
      "-- zero\n",
      "орел\n",
      "орел\n",
      "орел\n",
      "решка\n",
      "-- zero\n"
     ]
    }
   ],
   "source": [
    "# 1. Напишите код, моделирующий выпадение поля в рулетке (с учетом поля зеро)\n",
    "for i in range(0, 10):\n",
    "    x = np.random.uniform(0, 10)\n",
    "    if x >= 1 and x < 5:\n",
    "        print(\"орел\")\n",
    "    elif x < 1:\n",
    "        print(\"-- zero\")\n",
    "    else:\n",
    "        print(\"решка\")"
   ]
  },
  {
   "cell_type": "code",
   "execution_count": 52,
   "metadata": {},
   "outputs": [
    {
     "name": "stdout",
     "output_type": "stream",
     "text": [
      "0.0010\n"
     ]
    }
   ],
   "source": [
    "# 2.1. Напишите код, проверяющий любую из теорем сложения или умножения вероятности \n",
    "# на примере рулетки или подбрасывания монетки\n",
    "# Теорема умножения P(A*B)=P(A)*P(B) или 1/2*1/2=1/4\n",
    "# Генерируем 2 случайных числа от 0 до 5 и от 5 до 10\n",
    "a = np.random.randint(0, 6)\n",
    "b = np.random.randint(6, 11)\n",
    "c = (a/10) * (b/10) / 100\n",
    "print(\"%.4f\" % c)"
   ]
  },
  {
   "cell_type": "code",
   "execution_count": 42,
   "metadata": {},
   "outputs": [
    {
     "name": "stdout",
     "output_type": "stream",
     "text": [
      "3.957894854411653\n"
     ]
    },
    {
     "data": {
      "text/plain": [
       "Text(0.5, 1.0, 'Histogram')"
      ]
     },
     "execution_count": 42,
     "metadata": {},
     "output_type": "execute_result"
    },
    {
     "data": {
      "image/png": "[encoded data removed]",
      "text/plain": [
       "<Figure size 432x288 with 1 Axes>"
      ]
     },
     "metadata": {
      "needs_background": "light"
     },
     "output_type": "display_data"
    }
   ],
   "source": [
    "# 2.2. Сгенерируйте десять выборок случайных чисел х0, …, х9.\n",
    "# и постройте гистограмму распределения случайной суммы х0+х1+…+х9.\n",
    "x = sum(np.random.rand(10))\n",
    "print(x)\n",
    "num_bins = 1\n",
    "n, bins, patches = plt.hist(x, num_bins)\n",
    "plt.xlabel('x')\n",
    "plt.ylabel('Probability')\n",
    "plt.title('Histogram')"
   ]
  },
  {
   "cell_type": "code",
   "execution_count": 58,
   "metadata": {},
   "outputs": [
    {
     "name": "stdout",
     "output_type": "stream",
     "text": [
      "3 5 0.6\n"
     ]
    }
   ],
   "source": [
    "# 3.1. Дополните код Монте-Карло последовательности независимых испытаний \n",
    "# расчетом соответствующих вероятностей (через биномиальное распределение) и сравните результаты.\n",
    "# :(\n",
    "\n",
    "# 3.2. Повторите расчеты биномиальных коэффициентов и вероятностей k успехов \n",
    "# в последовательности из n независимых испытаний, взяв другие значения n и k.\n",
    "k, n = 1, 5\n",
    "a = np.random.randint(0, 2, n)\n",
    "b = np.random.randint(0, 2, n)\n",
    "c = np.random.randint(0, 2, n)\n",
    "d = np.random.randint(0, 2, n)\n",
    "x = a + b + c + d\n",
    "for i in range(0, n):\n",
    "    if x[i] == 2:\n",
    "        k = k + 1\n",
    "#print(a, b, c, d)\n",
    "#print(x)\n",
    "print(k, n, k/n)"
   ]
  },
  {
   "cell_type": "code",
   "execution_count": 61,
   "metadata": {},
   "outputs": [
    {
     "name": "stdout",
     "output_type": "stream",
     "text": [
      "2222\n",
      "2221\n",
      "2212\n",
      "2211\n",
      "2122\n",
      "2121\n",
      "2112\n",
      "2111\n",
      "1222\n",
      "1221\n",
      "1212\n",
      "1211\n",
      "1122\n",
      "1121\n",
      "1112\n",
      "1111\n"
     ]
    }
   ],
   "source": [
    "# 4. Из урока по комбинаторике повторите расчеты, \n",
    "# сгенерировав возможные варианты перестановок для других значений n и k\n",
    "for p in itertools.product(\"21\",repeat=4):\n",
    "    print(''.join(p))"
   ]
  },
  {
   "cell_type": "code",
   "execution_count": 62,
   "metadata": {},
   "outputs": [
    {
     "name": "stdout",
     "output_type": "stream",
     "text": [
      "012\n",
      "021\n",
      "102\n",
      "120\n",
      "201\n",
      "210\n"
     ]
    }
   ],
   "source": [
    "for p in itertools.permutations(\"012\",3):\n",
    "    print(''.join(str(x) for x in p))    "
   ]
  },
  {
   "cell_type": "code",
   "execution_count": 63,
   "metadata": {},
   "outputs": [
    {
     "name": "stdout",
     "output_type": "stream",
     "text": [
      "012\n",
      "013\n",
      "014\n",
      "015\n",
      "023\n",
      "024\n",
      "025\n",
      "034\n",
      "035\n",
      "045\n",
      "123\n",
      "124\n",
      "125\n",
      "134\n",
      "135\n",
      "145\n",
      "234\n",
      "235\n",
      "245\n",
      "345\n"
     ]
    }
   ],
   "source": [
    "for p in itertools.combinations(\"012345\",3):\n",
    "    print(''.join(p))"
   ]
  },
  {
   "cell_type": "code",
   "execution_count": null,
   "metadata": {},
   "outputs": [],
   "source": [
    "# 5. Дополните код расчетом коэффициента корреляции x и y\n",
    "# :("
   ]
  }
 ],
 "metadata": {
  "colab": {
   "name": "Копия 4.1.ipynb",
   "provenance": []
  },
  "kernelspec": {
   "display_name": "Python 3",
   "language": "python",
   "name": "python3"
  },
  "language_info": {
   "codemirror_mode": {
    "name": "ipython",
    "version": 3
   },
   "file_extension": ".py",
   "mimetype": "text/x-python",
   "name": "python",
   "nbconvert_exporter": "python",
   "pygments_lexer": "ipython3",
   "version": "3.8.1"
  }
 },
 "nbformat": 4,
 "nbformat_minor": 1
}
